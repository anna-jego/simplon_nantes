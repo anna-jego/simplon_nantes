{
 "cells": [
  {
   "cell_type": "markdown",
   "metadata": {},
   "source": [
    "# Génération de groupes\n",
    "Le but est de générer des groupes de taille déterminée\n",
    "\n",
    "## Etapes de la compréhension du problème"
   ]
  },
  {
   "cell_type": "code",
   "execution_count": 10,
   "metadata": {},
   "outputs": [
    {
     "name": "stdout",
     "output_type": "stream",
     "text": [
      "['tata', 'tete', 'titi', 'toto']\n"
     ]
    }
   ],
   "source": [
    "# Définition d'une liste de chaînes de caractères\n",
    "liste = ['tata', 'tete', 'titi', 'toto']\n",
    "\n",
    "# Affichage de la liste\n",
    "print(liste)"
   ]
  },
  {
   "cell_type": "code",
   "execution_count": 11,
   "metadata": {},
   "outputs": [
    {
     "name": "stdout",
     "output_type": "stream",
     "text": [
      "tata\n",
      "tete\n",
      "titi\n",
      "toto\n"
     ]
    }
   ],
   "source": [
    "# Affichage des éléments de la liste\n",
    "for element in liste:\n",
    "    print(element)"
   ]
  },
  {
   "cell_type": "code",
   "execution_count": 12,
   "metadata": {},
   "outputs": [
    {
     "name": "stdout",
     "output_type": "stream",
     "text": [
      "4\n"
     ]
    }
   ],
   "source": [
    "# Nombre d'élément dans une liste\n",
    "longueur_liste = len(liste)\n",
    "print(longueur_liste)"
   ]
  },
  {
   "cell_type": "markdown",
   "metadata": {},
   "source": [
    "Documentation sur la fonction random : https://docs.python.org/fr/3.7/library/random.html"
   ]
  },
  {
   "cell_type": "code",
   "execution_count": 13,
   "metadata": {},
   "outputs": [
    {
     "name": "stdout",
     "output_type": "stream",
     "text": [
      "['titi', 'tete']\n",
      "['tata', 'tete']\n",
      "['tete', 'tete']\n",
      "['toto', 'tata']\n",
      "['titi', 'tete']\n"
     ]
    }
   ],
   "source": [
    "# Recherche sur la documentation de random()\n",
    "# random.choices(population, weights=None, *, cum_weights=None, k=1)\n",
    "from random import choices\n",
    "# premier test pour voir le fonctionnement\n",
    "for i in range(5):\n",
    "    print(choices(liste, k=2))"
   ]
  },
  {
   "cell_type": "markdown",
   "metadata": {},
   "source": [
    "On voit que de temps en temps la même personne est choisie 2 fois: `['toto', 'toto']`"
   ]
  },
  {
   "cell_type": "markdown",
   "metadata": {},
   "source": [
    "Test d'une autre méthode qui semble plus adaptée"
   ]
  },
  {
   "cell_type": "code",
   "execution_count": 14,
   "metadata": {},
   "outputs": [
    {
     "name": "stdout",
     "output_type": "stream",
     "text": [
      "['tete', 'toto']\n",
      "['tete', 'toto']\n",
      "['tete', 'tata']\n",
      "['toto', 'tata']\n",
      "['titi', 'tete']\n"
     ]
    }
   ],
   "source": [
    "from random import sample\n",
    "for i in range(5):\n",
    "    print(sample(liste,2))"
   ]
  },
  {
   "cell_type": "markdown",
   "metadata": {},
   "source": [
    "L'idée est de faire une première sélection au hasard, puis de retirer les éléments de la liste et de refaire une nouvelle selection au hasard sur les éléments restants. Comme on suppose que les éléments de la liste sont uniques (ce qui semble logique pour des personnes) on va devoir chercher les indices des éléments sélectionnés."
   ]
  },
  {
   "cell_type": "code",
   "execution_count": 18,
   "metadata": {},
   "outputs": [
    {
     "data": {
      "text/plain": [
       "0"
      ]
     },
     "execution_count": 18,
     "metadata": {},
     "output_type": "execute_result"
    }
   ],
   "source": [
    "liste.index('tata')"
   ]
  },
  {
   "cell_type": "markdown",
   "metadata": {},
   "source": [
    "Suppression d'un élément d'une liste:"
   ]
  },
  {
   "cell_type": "code",
   "execution_count": 19,
   "metadata": {},
   "outputs": [
    {
     "data": {
      "text/plain": [
       "['tete', 'titi', 'toto']"
      ]
     },
     "execution_count": 19,
     "metadata": {},
     "output_type": "execute_result"
    }
   ],
   "source": [
    "liste.remove('tata')\n",
    "liste # sous jupyter on peut afficher une variable en spécifiant seulement son nom"
   ]
  },
  {
   "cell_type": "markdown",
   "metadata": {},
   "source": [
    "Quelques boucles bien placées devraient vous permettre de résoudre le problème de la création de groupe (sans prendre en compte le genre dans un premier temps). Il est possible que la taille du groupe initial ne soit pas divisible par le nombre de groupes souhaités. Il y aura dans ce cas un groupe avec moins d'éléments."
   ]
  },
  {
   "cell_type": "code",
   "execution_count": null,
   "metadata": {},
   "outputs": [],
   "source": []
  }
 ],
 "metadata": {
  "kernelspec": {
   "display_name": "Python 3",
   "language": "python",
   "name": "python3"
  },
  "language_info": {
   "codemirror_mode": {
    "name": "ipython",
    "version": 3
   },
   "file_extension": ".py",
   "mimetype": "text/x-python",
   "name": "python",
   "nbconvert_exporter": "python",
   "pygments_lexer": "ipython3",
   "version": "3.7.4"
  }
 },
 "nbformat": 4,
 "nbformat_minor": 4
}
