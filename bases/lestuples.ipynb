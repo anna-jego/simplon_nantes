{
 "cells": [
  {
   "cell_type": "code",
   "execution_count": null,
   "metadata": {},
   "outputs": [],
   "source": [
    "LES TUPLES"
   ]
  },
  {
   "cell_type": "markdown",
   "metadata": {},
   "source": [
    "Les tuples sont des listes, mais celles-ci sont NON MODIFIABLES, ce sont des collections d’éléments, \n",
    "mais leurs éléments sont fixés; càd, qu'une fois le tuple est créé, \n",
    "vous ne pouvez pas ajouter de nouveaux éléments, supprimer des éléments, remplacer des éléments, \n",
    "ou réorganiser les éléments du tuple.\n",
    "\n",
    "Si le contenu d’une liste dans votre programme/fonction ne devrait pas changer, vous pouvez utiliser \n",
    "un tuple pour éviter que des éléments soient ajoutés, supprimés ou remplacés accidentellement.\n",
    "\n",
    "#La vocation de ce type de liste est d'être utilisé à titre de constante dans l'application.\n",
    "\n",
    "Créer un tuple :\n",
    "\n",
    "Pour créer un tuple , on peut utiliser la syntaxe suivante: \n",
    "\n",
    "exemple : "
   ]
  },
  {
   "cell_type": "code",
   "execution_count": null,
   "metadata": {},
   "outputs": [],
   "source": [
    ">>> mon_tuple = ()"
   ]
  },
  {
   "cell_type": "markdown",
   "metadata": {},
   "source": [
    "Si l'on souhaite ajouter une valeur à un tuple ça sera de cette façon: \n",
    "\n",
    "exemple : "
   ]
  },
  {
   "cell_type": "code",
   "execution_count": null,
   "metadata": {},
   "outputs": [],
   "source": [
    ">>> mon_tuple = (1, \"ok\", \"salut\")"
   ]
  },
  {
   "cell_type": "markdown",
   "metadata": {},
   "source": [
    "#Les parenthèses ne sont pas obligatoires mais facilite la lisibilité du code : \n",
    "\n",
    "\n",
    "exemple : "
   ]
  },
  {
   "cell_type": "code",
   "execution_count": null,
   "metadata": {},
   "outputs": [],
   "source": [
    ">>> mon_tuple = 1, 2, 3\n",
    ">>> type(mon_tuple)\n",
    "<type 'tuple'>"
   ]
  },
  {
   "cell_type": "markdown",
   "metadata": {},
   "source": [
    "Attention, lorsqu'on veut créer un tuple avec 1 seule valeur, il est impératif d'y ajouter une virgule (sinon ce n'est pas un tuple). \n",
    "\n",
    "exemple :"
   ]
  },
  {
   "cell_type": "code",
   "execution_count": null,
   "metadata": {},
   "outputs": [],
   "source": [
    ">>> mon_tuple = (\"ok\")\n",
    ">>> type(mon_tuple)\n",
    "<type 'str'>\n",
    ">>> mon_tuple = (\"ok\",)\n",
    ">>> type(mon_tuple)\n",
    "<type 'tuple'>"
   ]
  },
  {
   "cell_type": "markdown",
   "metadata": {},
   "source": [
    "Comme le tuple est une liste, on utilisera la même syntaxe pour lire les données du tuple. \n",
    "\n",
    "exemple : "
   ]
  },
  {
   "cell_type": "code",
   "execution_count": null,
   "metadata": {},
   "outputs": [],
   "source": [
    ">>> mon_tuple[0]\n",
    "1"
   ]
  },
  {
   "cell_type": "markdown",
   "metadata": {},
   "source": [
    "A quoi sert un tuple alors? \n",
    "\n",
    "Le tuple permet une affectation multiple: "
   ]
  },
  {
   "cell_type": "code",
   "execution_count": null,
   "metadata": {},
   "outputs": [],
   "source": [
    ">>> v1, v2 = 11, 22\n",
    ">>> v1\n",
    "11\n",
    ">>> v2\n",
    "22"
   ]
  },
  {
   "cell_type": "markdown",
   "metadata": {},
   "source": [
    "Il permet également de renvoyer plusieurs valeurs lors d'un appel d'une fonction: "
   ]
  },
  {
   "cell_type": "code",
   "execution_count": null,
   "metadata": {},
   "outputs": [],
   "source": [
    ">>> def donne_moi_ton_nom():\n",
    "...     return \"anna\", \"jégo\"\n",
    "... \n",
    ">>> donne_moi_ton_nom()\n",
    "('anna', 'jégo')"
   ]
  },
  {
   "cell_type": "markdown",
   "metadata": {},
   "source": [
    "On utilisera un tuple pour définir des sortes de constantes qui n'ont donc pas vocation à changer. \n",
    "\n",
    "Pour résumer : "
   ]
  },
  {
   "cell_type": "code",
   "execution_count": null,
   "metadata": {},
   "outputs": [],
   "source": [
    "t1 = () # Crée un tuple vide\n",
    "t2 = (1, 3, 5) # Crée un tuple constitué de trois éléments\n",
    "t3 = (2,) # Crée un tuple constitué d’un seul élément\n",
    "# Crée un tuple à partir d’une liste\n",
    "t3 = tuple([2 * x for x in range(1, 5)])\n",
    "# Créer un tuple à partir d'une chaîne de caractères\n",
    "t4 = tuple(\"abac\") \n",
    "t4 est ('a', 'b', 'a', 'c')"
   ]
  },
  {
   "cell_type": "code",
   "execution_count": null,
   "metadata": {},
   "outputs": [],
   "source": []
  }
 ],
 "metadata": {
  "kernelspec": {
   "display_name": "Python 3",
   "language": "python",
   "name": "python3"
  },
  "language_info": {
   "codemirror_mode": {
    "name": "ipython",
    "version": 3
   },
   "file_extension": ".py",
   "mimetype": "text/x-python",
   "name": "python",
   "nbconvert_exporter": "python",
   "pygments_lexer": "ipython3",
   "version": "3.7.4"
  }
 },
 "nbformat": 4,
 "nbformat_minor": 4
}
