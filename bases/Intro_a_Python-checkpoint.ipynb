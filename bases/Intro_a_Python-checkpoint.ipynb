{
  "nbformat": 4,
  "nbformat_minor": 0,
  "metadata": {
    "kernelspec": {
      "display_name": "Python 3",
      "language": "python",
      "name": "python3"
    },
    "language_info": {
      "codemirror_mode": {
        "name": "ipython",
        "version": 3
      },
      "file_extension": ".py",
      "mimetype": "text/x-python",
      "name": "python",
      "nbconvert_exporter": "python",
      "pygments_lexer": "ipython3",
      "version": "3.6.1"
    },
    "colab": {
      "name": "session_19_11_Intro_a_Python",
      "provenance": [],
      "collapsed_sections": [],
      "toc_visible": true
    }
  },
  "cells": [
    {
      "cell_type": "markdown",
      "metadata": {
        "id": "6539NlWV4X_L",
        "colab_type": "text"
      },
      "source": [
        "# 1A.0 - Premiers pas en Python\n",
        "\n",
        "Questions très simples pour ceux qui savent coder, quelques éléments principaux du langage Python pour les autres."
      ]
    },
    {
      "cell_type": "markdown",
      "metadata": {
        "id": "w65VHMwj4X_Q",
        "colab_type": "text"
      },
      "source": [
        "### Partie 1"
      ]
    },
    {
      "cell_type": "markdown",
      "metadata": {
        "id": "AMFGq8Dc4X_R",
        "colab_type": "text"
      },
      "source": [
        "Un langage de programmation permet de décrire avec précision des opérations très simples sur des données. Comme tout langage, il a une grammaire et des **mot-clés**. La complexité d'un programme vient de ce qu'il faut beaucoup d'opérations simples pour arriver à ses fins. Voyons cela quelques usages simples. Il vous suffit d'exécuter chaque petit extrait en appuyant sur le triangle pointant vers la droite ci-dessus. N'hésitez pas à modifier les extraits pour mieux comprendre ce que le programme fait.\n",
        "\n",
        "**La calculatrice**"
      ]
    },
    {
      "cell_type": "code",
      "metadata": {
        "id": "UTWPPlUF4X_R",
        "colab_type": "code",
        "outputId": "5e8d07d6-1408-4457-a19b-4fad9040bca4",
        "colab": {
          "base_uri": "https://localhost:8080/",
          "height": 34
        }
      },
      "source": [
        "x = 5\n",
        "y = 10\n",
        "z = x + y\n",
        "print(z)    # affiche z"
      ],
      "execution_count": 3,
      "outputs": [
        {
          "output_type": "stream",
          "text": [
            "15\n"
          ],
          "name": "stdout"
        }
      ]
    },
    {
      "cell_type": "markdown",
      "metadata": {
        "id": "MpdeLcqa4X_U",
        "colab_type": "text"
      },
      "source": [
        "On programme sert souvent à automatiser un calcul comme le calcul mensuel du taux de chômage, le taux d'inflation, le temps qu'il fera demain... Pour pouvoir répéter ce même calcul sur des valeurs différentes, il faut pouvoir décrire ce calcul sans savoir ce que sont ces valeurs. Un moyen simple est de les nommer : on utilise des variables. Une variable désigne des données. ``x=5`` signifie que la variable ``x``contient 5. ``x+3`` signifie qu'on ajoute 3 à ``x`` sans avoir besoin de savoir ce que ``x`` désigne.\n",
        "\n",
        "**L'addition, l'incrémentation**"
      ]
    },
    {
      "cell_type": "code",
      "metadata": {
        "id": "9MicL9wv4X_U",
        "colab_type": "code",
        "outputId": "54ef458d-f63b-4eba-f258-9d2dd80ccb91",
        "colab": {
          "base_uri": "https://localhost:8080/",
          "height": 52
        }
      },
      "source": [
        "x = 2\n",
        "y = x + 1\n",
        "print(y)\n",
        "x += 5\n",
        "print(x)"
      ],
      "execution_count": 19,
      "outputs": [
        {
          "output_type": "stream",
          "text": [
            "3\n",
            "7\n"
          ],
          "name": "stdout"
        }
      ]
    },
    {
      "cell_type": "markdown",
      "metadata": {
        "id": "u5yAF7mTPY4C",
        "colab_type": "text"
      },
      "source": [
        "#### Question 1: quelle est la valeur de y ? Pourquoi ? "
      ]
    },
    {
      "cell_type": "code",
      "metadata": {
        "id": "WA67TfU0PjNV",
        "colab_type": "code",
        "colab": {}
      },
      "source": [
        "#Afficher la valeur de y "
      ],
      "execution_count": 0,
      "outputs": []
    },
    {
      "cell_type": "markdown",
      "metadata": {
        "id": "8xkx_ueE4X_Y",
        "colab_type": "text"
      },
      "source": [
        "Lorsqu'on programme, on passe son temps à écrire des calculs à partir de variables pour les stocker dans d'autres variables voire dans les mêmes variables. Lorsqu'on écrit ``y=x+5``, cela veut dire qu'on doit ajouter 5 à ``x`` et qu'on stocke le résultat dans ``y``. Lorsqu'on écrit ``x += 5``, cela veut dire qu'on doit ajouter 5 à ``x`` et qu'on n'a plus besoin de la valeur que ``x`` contenait avant l'opération.\n",
        "\n",
        "**La répétition ou les boucles**"
      ]
    },
    {
      "cell_type": "code",
      "metadata": {
        "id": "p_y0699y4X_Z",
        "colab_type": "code",
        "outputId": "c7e29d68-775e-4312-92ff-6993453a05ed",
        "colab": {
          "base_uri": "https://localhost:8080/",
          "height": 34
        }
      },
      "source": [
        "a = 0\n",
        "for i in range (0, 10) :\n",
        "    a = a + i             # répète dix fois cette ligne\n",
        "print (a)   "
      ],
      "execution_count": 5,
      "outputs": [
        {
          "output_type": "stream",
          "text": [
            "45\n"
          ],
          "name": "stdout"
        }
      ]
    },
    {
      "cell_type": "markdown",
      "metadata": {
        "id": "pbH80Dqk8Dcc",
        "colab_type": "text"
      },
      "source": [
        "Le mot-clé ``print`` n'a pas d'incidence sur le programme. En revanche, il permet d'afficher l'état d'une variable au moment où on exécute l'instruction ``print``."
      ]
    },
    {
      "cell_type": "markdown",
      "metadata": {
        "id": "WpoNdYTS65do",
        "colab_type": "text"
      },
      "source": [
        "\n",
        "#### Question 2: quelle est la somme des 10 premiers entiers pair ?"
      ]
    },
    {
      "cell_type": "code",
      "metadata": {
        "id": "Vq0JhDnh7VBb",
        "colab_type": "code",
        "colab": {}
      },
      "source": [
        "### Afficher ici le résultat"
      ],
      "execution_count": 0,
      "outputs": []
    },
    {
      "cell_type": "markdown",
      "metadata": {
        "id": "FXRBNnIx4X_b",
        "colab_type": "text"
      },
      "source": [
        "\n",
        "\n",
        "**L'aiguillage ou les tests**"
      ]
    },
    {
      "cell_type": "code",
      "metadata": {
        "id": "5DavzIdh4X_c",
        "colab_type": "code",
        "outputId": "cdf4effc-c56d-4a8a-d3ff-49e38f562ff6",
        "colab": {
          "base_uri": "https://localhost:8080/",
          "height": 34
        }
      },
      "source": [
        "#Modifier la valeur de a pour voir ce qu'il se passe\n",
        "a = 10\n",
        "if a > 0 :\n",
        "    print(a)     # un seul des deux blocs est pris en considération\n",
        "else:\n",
        "    a -=  1\n",
        "    print(a)"
      ],
      "execution_count": 7,
      "outputs": [
        {
          "output_type": "stream",
          "text": [
            "10\n"
          ],
          "name": "stdout"
        }
      ]
    },
    {
      "cell_type": "markdown",
      "metadata": {
        "id": "Z39Mj-X84X_g",
        "colab_type": "text"
      },
      "source": [
        "**Les chaînes de caractères**"
      ]
    },
    {
      "cell_type": "code",
      "metadata": {
        "id": "Nmi-4Cow4X_g",
        "colab_type": "code",
        "outputId": "d94d2d93-b96b-4755-ed24-50e398be33ec",
        "colab": {
          "base_uri": "https://localhost:8080/",
          "height": 69
        }
      },
      "source": [
        "a = 10\n",
        "print(a)     # quelle est la différence\n",
        "print('a')   # entre les deux lignes\n",
        "s = 'texte'\n",
        "s += 'c'\n",
        "print(s)   "
      ],
      "execution_count": 8,
      "outputs": [
        {
          "output_type": "stream",
          "text": [
            "10\n",
            "a\n",
            "textec\n"
          ],
          "name": "stdout"
        }
      ]
    },
    {
      "cell_type": "markdown",
      "metadata": {
        "id": "o46yakEpP5VM",
        "colab_type": "text"
      },
      "source": [
        "#### Question 3: Quelle est la différence entre les deux valeurs de a ?"
      ]
    },
    {
      "cell_type": "markdown",
      "metadata": {
        "id": "CB9RxzJSQKsm",
        "colab_type": "text"
      },
      "source": [
        "Ecrire la réponse ici:"
      ]
    },
    {
      "cell_type": "code",
      "metadata": {
        "id": "Vu_yn9Ut8T40",
        "colab_type": "code",
        "outputId": "b4183ca0-9345-4b9f-8566-fbb270431885",
        "colab": {
          "base_uri": "https://localhost:8080/",
          "height": 130
        }
      },
      "source": [
        "print('bob's socks')"
      ],
      "execution_count": 9,
      "outputs": [
        {
          "output_type": "error",
          "ename": "SyntaxError",
          "evalue": "ignored",
          "traceback": [
            "\u001b[0;36m  File \u001b[0;32m\"<ipython-input-9-796926eb3189>\"\u001b[0;36m, line \u001b[0;32m1\u001b[0m\n\u001b[0;31m    print('bob's socks')\u001b[0m\n\u001b[0m               ^\u001b[0m\n\u001b[0;31mSyntaxError\u001b[0m\u001b[0;31m:\u001b[0m invalid syntax\n"
          ]
        }
      ]
    },
    {
      "cell_type": "markdown",
      "metadata": {
        "id": "vjTKXzzv8iSc",
        "colab_type": "text"
      },
      "source": [
        "#### Question 4: de quelle type d'erreur s'agit-il ? Comment modifier le code pour avoir ce que l'on cherche ? "
      ]
    },
    {
      "cell_type": "code",
      "metadata": {
        "id": "I8EN4FnDMHh5",
        "colab_type": "code",
        "colab": {}
      },
      "source": [
        ""
      ],
      "execution_count": 0,
      "outputs": []
    },
    {
      "cell_type": "markdown",
      "metadata": {
        "id": "UmYvMDI34X_i",
        "colab_type": "text"
      },
      "source": [
        "Toute valeur a un type et cela détermine les opérations qu'on peut faire dessus. ``2 + 2`` fait ``4`` pour tout le monde. ``2 + \"2\"`` fait quatre pour un humain, mais est incompréhensible pour l'ordinateur car on ajoute deux choses différentes (``torchon + serviette``)."
      ]
    },
    {
      "cell_type": "code",
      "metadata": {
        "id": "NVlEV85B4X_j",
        "colab_type": "code",
        "outputId": "6907776c-509e-40d2-8d5d-0c1475b3da67",
        "colab": {
          "base_uri": "https://localhost:8080/",
          "height": 52
        }
      },
      "source": [
        "print(\"2\" + \"3\")\n",
        "print(2+3)"
      ],
      "execution_count": 0,
      "outputs": [
        {
          "output_type": "stream",
          "text": [
            "23\n",
            "5\n"
          ],
          "name": "stdout"
        }
      ]
    },
    {
      "cell_type": "markdown",
      "metadata": {
        "id": "ZUFcg6-Z4X_k",
        "colab_type": "text"
      },
      "source": [
        "### Partie 2"
      ]
    },
    {
      "cell_type": "markdown",
      "metadata": {
        "id": "42Kyj1_F4X_l",
        "colab_type": "text"
      },
      "source": [
        "Dans cette seconde série, partie, il s'agit d'interpréter pourquoi un programme ne fait pas ce qu'il est censé faire ou pourquoi il provoque une erreur, et si possible, de corriger cette erreur."
      ]
    },
    {
      "cell_type": "markdown",
      "metadata": {
        "id": "GuW0AtDTUPIs",
        "colab_type": "text"
      },
      "source": [
        "#### Consigne générale: modifier lees codes pour avoir le résultat voulu"
      ]
    },
    {
      "cell_type": "markdown",
      "metadata": {
        "id": "4UWSP_n2UJuT",
        "colab_type": "text"
      },
      "source": [
        "**Un oubli**"
      ]
    },
    {
      "cell_type": "code",
      "metadata": {
        "id": "oePxLKUt4X_m",
        "colab_type": "code",
        "outputId": "7a21d5d6-031f-436f-e1d8-f2aec952f275",
        "colab": {
          "base_uri": "https://localhost:8080/",
          "height": 34
        }
      },
      "source": [
        "a = 5\n",
        "a + 4\n",
        "print(a)   # on voudrait voir 9 mais c'est 5 qui apparaît"
      ],
      "execution_count": 21,
      "outputs": [
        {
          "output_type": "stream",
          "text": [
            "5\n"
          ],
          "name": "stdout"
        }
      ]
    },
    {
      "cell_type": "markdown",
      "metadata": {
        "id": "c5wqJvrx4X_o",
        "colab_type": "text"
      },
      "source": [
        "**Une erreur de syntaxe**"
      ]
    },
    {
      "cell_type": "code",
      "metadata": {
        "id": "T-Exw1r14X_p",
        "colab_type": "code",
        "outputId": "d16f3b2d-fb73-4557-871b-fc3564ee3b41",
        "colab": {
          "base_uri": "https://localhost:8080/",
          "height": 130
        }
      },
      "source": [
        "a = 0\n",
        "for i in range (0, 10)   # il manque quelque chose sur cette ligne\n",
        "    a = a + i\n",
        "print(a)"
      ],
      "execution_count": 10,
      "outputs": [
        {
          "output_type": "error",
          "ename": "SyntaxError",
          "evalue": "ignored",
          "traceback": [
            "\u001b[0;36m  File \u001b[0;32m\"<ipython-input-10-c3d187918e71>\"\u001b[0;36m, line \u001b[0;32m2\u001b[0m\n\u001b[0;31m    for i in range (0, 10)   # il manque quelque chose sur cette ligne\u001b[0m\n\u001b[0m                                                                      ^\u001b[0m\n\u001b[0;31mSyntaxError\u001b[0m\u001b[0;31m:\u001b[0m invalid syntax\n"
          ]
        }
      ]
    },
    {
      "cell_type": "markdown",
      "metadata": {
        "id": "lK6IERC_4X_r",
        "colab_type": "text"
      },
      "source": [
        "**Une autre erreur de syntaxe**"
      ]
    },
    {
      "cell_type": "code",
      "metadata": {
        "id": "z1oltomb4X_r",
        "colab_type": "code",
        "outputId": "073f9503-23c1-414f-b286-154b366ec031",
        "colab": {
          "base_uri": "https://localhost:8080/",
          "height": 34
        }
      },
      "source": [
        "a = 0\n",
        "for i in range (0, 10):\n",
        "    a + i                # regardez bien\n",
        "print(a)   "
      ],
      "execution_count": 12,
      "outputs": [
        {
          "output_type": "stream",
          "text": [
            "0\n"
          ],
          "name": "stdout"
        }
      ]
    },
    {
      "cell_type": "markdown",
      "metadata": {
        "id": "IeDokERF4X_t",
        "colab_type": "text"
      },
      "source": [
        "**Une opération interdite**"
      ]
    },
    {
      "cell_type": "markdown",
      "metadata": {
        "id": "1f75dnyQTgKQ",
        "colab_type": "text"
      },
      "source": [
        "#### Consigne spécifique: modifier le code pour afficher 0e"
      ]
    },
    {
      "cell_type": "code",
      "metadata": {
        "id": "bbnUTv924X_u",
        "colab_type": "code",
        "outputId": "bd359e31-667e-4cdf-e4f0-dc472f741b19",
        "colab": {}
      },
      "source": [
        "a = 0\n",
        "s = \"e\"\n",
        "print(a + s)    # petit problème de type"
      ],
      "execution_count": 0,
      "outputs": [
        {
          "output_type": "error",
          "ename": "TypeError",
          "evalue": "unsupported operand type(s) for +: 'int' and 'str'",
          "traceback": [
            "\u001b[1;31m---------------------------------------------------------------------------\u001b[0m\n\u001b[1;31mTypeError\u001b[0m                                 Traceback (most recent call last)",
            "\u001b[1;32m<ipython-input-11-6600ae759b48>\u001b[0m in \u001b[0;36m<module>\u001b[1;34m()\u001b[0m\n\u001b[0;32m      1\u001b[0m \u001b[0ma\u001b[0m \u001b[1;33m=\u001b[0m \u001b[1;36m0\u001b[0m\u001b[1;33m\u001b[0m\u001b[0m\n\u001b[0;32m      2\u001b[0m \u001b[0ms\u001b[0m \u001b[1;33m=\u001b[0m \u001b[1;34m\"e\"\u001b[0m\u001b[1;33m\u001b[0m\u001b[0m\n\u001b[1;32m----> 3\u001b[1;33m \u001b[0mprint\u001b[0m \u001b[1;33m(\u001b[0m\u001b[0ma\u001b[0m \u001b[1;33m+\u001b[0m \u001b[0ms\u001b[0m\u001b[1;33m)\u001b[0m\u001b[1;33m\u001b[0m\u001b[0m\n\u001b[0m",
            "\u001b[1;31mTypeError\u001b[0m: unsupported operand type(s) for +: 'int' and 'str'"
          ]
        }
      ]
    },
    {
      "cell_type": "markdown",
      "metadata": {
        "id": "L7vEM9pH4X_x",
        "colab_type": "text"
      },
      "source": [
        "**Un nombre impair de...**"
      ]
    },
    {
      "cell_type": "code",
      "metadata": {
        "id": "xM7GYq0G4X_y",
        "colab_type": "code",
        "outputId": "372f2cf8-f813-4a3e-bfc1-35499931eef2",
        "colab": {}
      },
      "source": [
        "a = 0\n",
        "for i in range (0, 10) :\n",
        "      a = (a + (i+2)*3  )       # comptez bien\n",
        "print(a)   "
      ],
      "execution_count": 0,
      "outputs": [
        {
          "output_type": "stream",
          "text": [
            "195\n"
          ],
          "name": "stdout"
        }
      ]
    },
    {
      "cell_type": "markdown",
      "metadata": {
        "id": "WOsVCaLa4X_0",
        "colab_type": "text"
      },
      "source": [
        "### Partie 3"
      ]
    },
    {
      "cell_type": "markdown",
      "metadata": {
        "id": "R1n-MUW64X_1",
        "colab_type": "text"
      },
      "source": [
        "Il faut maintenant écrire trois programmes qui :\n",
        "\n",
        "+   Ecrire un programme qui calcule la somme des 10 premiers entiers au carré.\n",
        "+   Ecrire un programme qui calcule la somme des 5 premiers entiers impairs au carré.\n",
        "+   Ecrire un programme qui calcule la somme des qui 10 premières factorielles : $\\sum_{i=1}^{10} i!$.\n",
        "\n",
        "A propos de la parité :"
      ]
    },
    {
      "cell_type": "code",
      "metadata": {
        "id": "uwii5L6s4X_2",
        "colab_type": "code",
        "outputId": "24f5cb83-e432-4979-b330-2442e1afcce4",
        "colab": {}
      },
      "source": [
        "14%2, 233%2"
      ],
      "execution_count": 0,
      "outputs": [
        {
          "output_type": "execute_result",
          "data": {
            "text/plain": [
              "(0, 1)"
            ]
          },
          "metadata": {
            "tags": []
          },
          "execution_count": 14
        }
      ]
    },
    {
      "cell_type": "markdown",
      "metadata": {
        "id": "AYB6_ocK4X_9",
        "colab_type": "text"
      },
      "source": [
        "Arriverez-vous à résoudre le première exercice du site [CodinGame](https://www.codingame.com/) ?"
      ]
    },
    {
      "cell_type": "code",
      "metadata": {
        "id": "TIYgRNK14X__",
        "colab_type": "code",
        "colab": {}
      },
      "source": [
        ""
      ],
      "execution_count": 0,
      "outputs": []
    }
  ]
}