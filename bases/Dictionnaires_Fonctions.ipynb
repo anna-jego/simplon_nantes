{
 "cells": [
  {
   "cell_type": "markdown",
   "metadata": {
    "colab_type": "text",
    "id": "h0Mh6IySKKAQ"
   },
   "source": [
    "# Dictionnaires et fonctions\n",
    "\n",
    "Le dictionnaire est une structure de données très utilisée. Elle est illustrée pour un problème de décryptage."
   ]
  },
  {
   "cell_type": "markdown",
   "metadata": {
    "colab_type": "text",
    "id": "N5QKOSwWKKAW"
   },
   "source": [
    "### Fonctions"
   ]
  },
  {
   "cell_type": "markdown",
   "metadata": {
    "colab_type": "text",
    "id": "E1ff4TUzKKAX"
   },
   "source": [
    "Les fonctions sont des portions de programmes qui reproduisent les mêmes instructions. La fonction suivante calcule un polynôme de second degré $x^2+x-5$. A chaque fois qu'on appellera la fonction ``polynome``, elle fera le même calcul sur des ``x`` différents. Cela évite principalement d'avoir à recopier les mêmes lignes à chaque fois qu'on en a besoin."
   ]
  },
  {
   "cell_type": "code",
   "execution_count": null,
   "metadata": {
    "colab": {},
    "colab_type": "code",
    "id": "m2OeJLlpKKAX"
   },
   "outputs": [],
   "source": [
    "def polynome ( x ) :\n",
    "    x2 = x*x\n",
    "    return x2 + x - 5"
   ]
  },
  {
   "cell_type": "markdown",
   "metadata": {
    "colab_type": "text",
    "id": "xqLuDu6mKKAa"
   },
   "source": [
    "Une fonction commence toujours par ``def``. Entre parenthèses, ce sont les paramètres (ou entrées de la fonction). Ce qui suit le mot-clé ``return`` est le résultat de la fonction (ou sa sortie). "
   ]
  },
  {
   "cell_type": "markdown",
   "metadata": {
    "colab_type": "text",
    "id": "_NpGUhwBKKAc"
   },
   "source": [
    "De son utilisation ou appel :"
   ]
  },
  {
   "cell_type": "code",
   "execution_count": null,
   "metadata": {
    "colab": {
     "base_uri": "https://localhost:8080/",
     "height": 34
    },
    "colab_type": "code",
    "id": "OTM0hRnMKKAd",
    "outputId": "2c96ae58-ab03-416e-96f5-cfbadc4d3d7c"
   },
   "outputs": [
    {
     "data": {
      "text/plain": [
       "-2.3600000000000003"
      ]
     },
     "execution_count": 8,
     "metadata": {
      "tags": []
     },
     "output_type": "execute_result"
    }
   ],
   "source": [
    "y = polynome ( 1.2 )  # calcul de -x^2 + 2x + 1 pour x = 1.2\n",
    "y"
   ]
  },
  {
   "cell_type": "markdown",
   "metadata": {
    "colab_type": "text",
    "id": "v3OSvhekKKAf"
   },
   "source": [
    "On peut appeler une fonction depuis une autre fonction. Une fonction peut prendre autant de paramètres que l'on veut à condition qu'ils aient des noms différents. On peut aussi leur associer une **valeur par défaut** :"
   ]
  },
  {
   "cell_type": "markdown",
   "metadata": {
    "colab_type": "text",
    "id": "5vTbffJrKKAh"
   },
   "source": [
    "Les fonctions doivent porter des noms différents. Dans le cas contraire, seule la dernière existe."
   ]
  },
  {
   "cell_type": "code",
   "execution_count": null,
   "metadata": {
    "colab": {},
    "colab_type": "code",
    "id": "owtg6L13KKAi"
   },
   "outputs": [],
   "source": [
    "def polynome ( x ) :       # remplacée par la seconde fonction\n",
    "    return x*x + x - 5\n",
    "\n",
    "y = polynome(4) # déclenche une exception"
   ]
  },
  {
   "cell_type": "markdown",
   "metadata": {
    "colab_type": "text",
    "id": "OP7WjZ4TKKAk"
   },
   "source": [
    "### Exercice 1\n",
    "\n",
    "Les fonctions [chr](https://docs.python.org/3.4/library/functions.html#chr) et [ord](https://docs.python.org/3.4/library/functions.html#ord) sont symétriques l'une de l'autre : elles convertissent un nombre en lettre et réciproquement."
   ]
  },
  {
   "cell_type": "code",
   "execution_count": null,
   "metadata": {
    "colab": {
     "base_uri": "https://localhost:8080/",
     "height": 52
    },
    "colab_type": "code",
    "id": "fn0wRI62KKAk",
    "outputId": "5bec323b-ef96-4ca8-b735-d6218a9b88df"
   },
   "outputs": [],
   "source": [
    "print ( chr( 90 ), chr (97) )\n",
    "print ( ord(\"Z\"), ord (\"a\") )\n"
   ]
  },
  {
   "cell_type": "markdown",
   "metadata": {
    "colab_type": "text",
    "id": "wCyyml2HKKAm"
   },
   "source": [
    "Le symbol ``%`` permet d'obtenir le reste d'une division entière. L'exercice consiste à écrire une fonction qui retourne la lettre suivante dans l'ordre alphabétique. La lettre qui suit ``z`` est ``a``."
   ]
  },
  {
   "cell_type": "code",
   "execution_count": 8,
   "metadata": {
    "colab": {},
    "colab_type": "code",
    "id": "XqClAqxlKKAn"
   },
   "outputs": [
    {
     "data": {
      "text/plain": [
       "'A'"
      ]
     },
     "execution_count": 8,
     "metadata": {},
     "output_type": "execute_result"
    }
   ],
   "source": [
    "def lettre_suivante(lettre) :\n",
    "    if lettre == \"z\":\n",
    "        return(\"a\")\n",
    "    elif lettre == \"Z\":\n",
    "        return(\"A\")\n",
    "    else:\n",
    "        x = ord(lettre)\n",
    "        y = x + 1\n",
    "        z = chr(y)\n",
    "        return(z)\n",
    "\n",
    "lettre_suivante(\"Z\")"
   ]
  },
  {
   "cell_type": "code",
   "execution_count": 36,
   "metadata": {},
   "outputs": [
    {
     "name": "stdout",
     "output_type": "stream",
     "text": [
      "a\n"
     ]
    }
   ],
   "source": [
    "def lettre_suivante(lettre) :\n",
    "    if lettre != 'z':\n",
    "        return(chr(ord(lettre) +1))\n",
    "    else:        \n",
    "        return 'a'\n",
    "\n",
    "print(lettre_suivante(\"z\"))"
   ]
  },
  {
   "cell_type": "markdown",
   "metadata": {
    "colab_type": "text",
    "id": "sKd9tZ6EKKAp"
   },
   "source": [
    "### Fonctions dans le détail"
   ]
  },
  {
   "cell_type": "markdown",
   "metadata": {
    "colab_type": "text",
    "id": "bD5YGqtTKKAp"
   },
   "source": [
    "#### Variable locale\n",
    "\n",
    "**Une variable créée à l'intérieur d'une fonction n'existe pas à l'extérieur : c'est une variable locale.** C'est pourquoi le code suivant provoque une erreur car la variable ``z`` n'existe pas en dehors de la fonction ``calcul``. Les variables ``y`` ou ``z`` ne servent que d'intermédiaire de calcul. Le seul résultat qui sort de la fonction suit le mot-clé ``return``."
   ]
  },
  {
   "cell_type": "code",
   "execution_count": 11,
   "metadata": {
    "colab": {
     "base_uri": "https://localhost:8080/",
     "height": 200
    },
    "colab_type": "code",
    "id": "9r0wRL6oKKAq",
    "outputId": "da4d6ad4-9514-4318-c9a7-cd73570b28a6"
   },
   "outputs": [
    {
     "name": "stdout",
     "output_type": "stream",
     "text": [
      "6\n"
     ]
    }
   ],
   "source": [
    "def calcul(x) :\n",
    "    y = x**2\n",
    "    z = x + y\n",
    "    return z\n",
    "\n",
    "z = calcul(2)\n",
    "print(z)    # déclenche une exception\n",
    "\n"
   ]
  },
  {
   "cell_type": "markdown",
   "metadata": {
    "colab_type": "text",
    "id": "9eN1pXifKKAs"
   },
   "source": [
    "#### Mot-clé ``return``\n",
    "\n",
    "**Sans mot-clé ``return``, le résultat est ``None``.**"
   ]
  },
  {
   "cell_type": "code",
   "execution_count": 13,
   "metadata": {
    "colab": {
     "base_uri": "https://localhost:8080/",
     "height": 34
    },
    "colab_type": "code",
    "id": "PbuJ_UNnKKAs",
    "outputId": "eb185901-829b-413e-fb17-668ba7d33e16"
   },
   "outputs": [
    {
     "name": "stdout",
     "output_type": "stream",
     "text": [
      "3\n"
     ]
    }
   ],
   "source": [
    "def calcul(x) :\n",
    "    y = x**2\n",
    "    z = x + y\n",
    "    return x\n",
    "\n",
    "a = calcul(3)\n",
    "print(a)"
   ]
  },
  {
   "cell_type": "markdown",
   "metadata": {
    "colab_type": "text",
    "id": "fOzG3YwEKKAu"
   },
   "source": [
    "La fonction se termine après le premier ``return`` rencontré lors de l'exécution."
   ]
  },
  {
   "cell_type": "code",
   "execution_count": null,
   "metadata": {
    "colab": {
     "base_uri": "https://localhost:8080/",
     "height": 52
    },
    "colab_type": "code",
    "id": "efyBwBniKKAu",
    "outputId": "ca5c2113-43c8-4407-a5f4-335dd37ee38b"
   },
   "outputs": [
    {
     "name": "stdout",
     "output_type": "stream",
     "text": [
      "je passe par ici\n"
     ]
    },
    {
     "data": {
      "text/plain": [
       "5"
      ]
     },
     "execution_count": 49,
     "metadata": {
      "tags": []
     },
     "output_type": "execute_result"
    }
   ],
   "source": [
    "def valeur_absolue(x) :\n",
    "    print(\"je passe par ici\")\n",
    "    if x < 0 : \n",
    "        y = -x\n",
    "        return y\n",
    "    else :\n",
    "        y = x\n",
    "        return y\n",
    "    print(\"je ne passe jamais par ici\")\n",
    "    \n",
    "valeur_absolue(-5)"
   ]
  },
  {
   "cell_type": "markdown",
   "metadata": {
    "colab_type": "text",
    "id": "IcpjYjtGKKAw"
   },
   "source": [
    "### Fonction récursive\n",
    "\n",
    "**Une fonction peut être récursive : elle s'appelle elle-même.** Mais il est important de savoir qu'il existe un cas dans lequel elle ne s'appelle pas pour arrêter la récursion."
   ]
  },
  {
   "cell_type": "code",
   "execution_count": 15,
   "metadata": {
    "colab": {
     "base_uri": "https://localhost:8080/",
     "height": 104
    },
    "colab_type": "code",
    "id": "TMEwEkeQKKAx",
    "outputId": "6694e011-857b-4fee-a6c5-42cc45e2cd60"
   },
   "outputs": [
    {
     "name": "stdout",
     "output_type": "stream",
     "text": [
      "je m'appelle pour x= 10\n",
      "je m'appelle pour x= 5.0\n",
      "je m'appelle pour x= 2.5\n",
      "je ne m'appelle pas pour x= 1.25\n"
     ]
    },
    {
     "data": {
      "text/plain": [
       "4"
      ]
     },
     "execution_count": 15,
     "metadata": {},
     "output_type": "execute_result"
    }
   ],
   "source": [
    "def recursive(x) :\n",
    "    if x / 2 < 1 :\n",
    "        print(\"je ne m'appelle pas pour x=\",x)\n",
    "        return 1\n",
    "    else :\n",
    "        print(\"je m'appelle pour x=\",x)\n",
    "        return recursive (x/2) + 1\n",
    "\n",
    "recursive( 10 )"
   ]
  },
  {
   "cell_type": "markdown",
   "metadata": {
    "colab_type": "text",
    "id": "TEnUPvMJKKAz"
   },
   "source": [
    "### Dictionnaires"
   ]
  },
  {
   "cell_type": "markdown",
   "metadata": {
    "colab_type": "text",
    "id": "TmTSzM8jKKA0"
   },
   "source": [
    "#### clé - valeur"
   ]
  },
  {
   "cell_type": "markdown",
   "metadata": {
    "colab_type": "text",
    "id": "MktgpRYEKKA0"
   },
   "source": [
    "Une **liste** est un ensemble d'autres objets indexés par des entiers. Un **dictionnaire** est un ensemble d'autres objets indexés par presque n'importe quoi."
   ]
  },
  {
   "cell_type": "code",
   "execution_count": null,
   "metadata": {
    "colab": {},
    "colab_type": "code",
    "id": "-tvlYd8gKKA1"
   },
   "outputs": [],
   "source": [
    "d = { }   # un dictionnaire vide\n",
    "d = { 'a' : 'acronym', 'b': 'bizarre' }  # un dictionnaire qui associe 'acroym' à 'a' et 'bizarre' à 'b'.\n",
    "z = d ['a']   # z reçoit la valeur associée à 'a' et stockée dans le dictionnaire d"
   ]
  },
  {
   "cell_type": "markdown",
   "metadata": {
    "colab_type": "text",
    "id": "jfDG9mPJKKA3"
   },
   "source": [
    "Quelques fonctions utiles :"
   ]
  },
  {
   "cell_type": "code",
   "execution_count": null,
   "metadata": {
    "colab": {},
    "colab_type": "code",
    "id": "4ylSjtWjKKA3",
    "outputId": "383eb821-1604-45e5-b70d-3e80c2583e0f"
   },
   "outputs": [
    {
     "data": {
      "text/plain": [
       "('d=', {'a': 'acronym', 'b': 'bizarre'}, 'l=', 2, 'b=', True, 'x=', 'acronym')"
      ]
     },
     "execution_count": 15,
     "metadata": {
      "tags": []
     },
     "output_type": "execute_result"
    }
   ],
   "source": [
    "d = { 'a' : 'acronym', 'b': 'bizarre' }  \n",
    "l = len(d)    # retourne le nombre d'élément de d\n",
    "b = 'a' in d  # b vaut True si une valeur est associée à 'a', on dit aussi que la clé 'a' est présente \n",
    "x = d.get ('a', '')  # x vaut d['a'] si la clé 'a' existe, il vaut '' sinon \n",
    "\n",
    "\"d=\",d,\"l=\",l,\"b=\",b,\"x=\",x"
   ]
  },
  {
   "cell_type": "markdown",
   "metadata": {
    "colab_type": "text",
    "id": "T0q708FNKKA6"
   },
   "source": [
    "On utilise souvent un dictionnaire pour compter les lettres d'un texte :"
   ]
  },
  {
   "cell_type": "code",
   "execution_count": null,
   "metadata": {
    "colab": {},
    "colab_type": "code",
    "id": "oYjjJrLmKKA7",
    "outputId": "ea0b60c2-b5ac-4d41-f605-7c912e7d145c"
   },
   "outputs": [
    {
     "data": {
      "text/plain": [
       "{'t': 2, 'l': 1, 'e': 6, ' ': 2, 'x': 2, 'm': 1, 'd': 1, 'p': 1}"
      ]
     },
     "execution_count": 16,
     "metadata": {
      "tags": []
     },
     "output_type": "execute_result"
    }
   ],
   "source": [
    "texte = \"exemple de texte\"\n",
    "d = { }\n",
    "for c in texte :\n",
    "    d[c] = d.get(c,0) + 1\n",
    "\n",
    "d"
   ]
  },
  {
   "cell_type": "markdown",
   "metadata": {
    "colab_type": "text",
    "id": "A4qYILDrKKA_"
   },
   "source": [
    "Les valeurs peuvent être n'importe quoi, y compris des listes ou des dictionnaires. Les clés doivent être des types [immuables](http://www.xavierdupre.fr/app/ensae_teaching_cs/helpsphinx/all_FAQ.html#tabulations-ou-espace) (nombre, chaînes de caractères, ``tuple`` incluant des types immuables). Si vous utilisez un autre type, cela déclenche une erreur : "
   ]
  },
  {
   "cell_type": "code",
   "execution_count": null,
   "metadata": {
    "colab": {},
    "colab_type": "code",
    "id": "RKw4I3nzKKBB",
    "outputId": "45bdfd5b-1c39-4395-e366-35efc448b077"
   },
   "outputs": [
    {
     "ename": "TypeError",
     "evalue": "unhashable type: 'list'",
     "output_type": "error",
     "traceback": [
      "\u001b[1;31m---------------------------------------------------------------------------\u001b[0m\n\u001b[1;31mTypeError\u001b[0m                                 Traceback (most recent call last)",
      "\u001b[1;32m<ipython-input-14-8f63223408da>\u001b[0m in \u001b[0;36m<module>\u001b[1;34m()\u001b[0m\n\u001b[0;32m      1\u001b[0m \u001b[0mf\u001b[0m \u001b[1;33m=\u001b[0m \u001b[1;33m[\u001b[0m\u001b[1;36m3\u001b[0m\u001b[1;33m,\u001b[0m\u001b[1;36m4\u001b[0m\u001b[1;33m]\u001b[0m\u001b[1;33m\u001b[0m\u001b[0m\n\u001b[1;32m----> 2\u001b[1;33m \u001b[0md\u001b[0m\u001b[1;33m[\u001b[0m\u001b[0mf\u001b[0m\u001b[1;33m]\u001b[0m \u001b[1;33m=\u001b[0m \u001b[1;36m0\u001b[0m\u001b[1;33m\u001b[0m\u001b[0m\n\u001b[0m",
      "\u001b[1;31mTypeError\u001b[0m: unhashable type: 'list'"
     ]
    }
   ],
   "source": [
    "f = [3,4]\n",
    "d[f] = 0        # déclenche une exception"
   ]
  },
  {
   "cell_type": "markdown",
   "metadata": {
    "colab_type": "text",
    "id": "LG9BVxuhKKBD"
   },
   "source": [
    "Lorsqu'on affecte une valeur à une clé, le dictionnaire crée la clé ou remplace la valeur précédente par la nouvelle :"
   ]
  },
  {
   "cell_type": "code",
   "execution_count": null,
   "metadata": {
    "colab": {},
    "colab_type": "code",
    "id": "e1AWkwPHKKBE",
    "outputId": "2ef50b6e-2ff7-403d-a56a-5aff9ebc7117"
   },
   "outputs": [
    {
     "data": {
      "text/plain": [
       "{'a': 1}"
      ]
     },
     "execution_count": 18,
     "metadata": {
      "tags": []
     },
     "output_type": "execute_result"
    }
   ],
   "source": [
    "d = { }\n",
    "d['a'] = 0   # création d'une clé\n",
    "d['a'] = 1   # remplacement d'une valeur\n",
    "\n",
    "d"
   ]
  },
  {
   "cell_type": "markdown",
   "metadata": {
    "colab_type": "text",
    "id": "Kw-cMmESKKBJ"
   },
   "source": [
    "#### ordonner les éléments d'un dictionnaire\n",
    "\n",
    "Les éléments d'un dictionnaire ne sont pas ordonnées ou tout du moins ne le sont pas d'une façon prédictible. Pour les parcourir dans un ordre précis, il faut utiliser une liste puis les ordonner. L'exemple suivant montre comment ordonner les éléments par ordre croissant de valeur, puis par ordre alphabétique en cas d'ex aeco."
   ]
  },
  {
   "cell_type": "code",
   "execution_count": 20,
   "metadata": {
    "colab": {},
    "colab_type": "code",
    "id": "C0fibC9eKKBL",
    "outputId": "3f6b6305-0236-48a8-e0f7-54375892fad2"
   },
   "outputs": [
    {
     "data": {
      "text/plain": [
       "{'un': 2, 'deux': 4, 'trois': 5, 'quatre': 6, 'cinq': 4}"
      ]
     },
     "execution_count": 20,
     "metadata": {},
     "output_type": "execute_result"
    }
   ],
   "source": [
    "d = { s:len(s) for s in ['un', 'deux', 'trois', 'quatre', 'cinq'] }\n",
    "d"
   ]
  },
  {
   "cell_type": "code",
   "execution_count": 21,
   "metadata": {
    "colab": {},
    "colab_type": "code",
    "id": "Qj0_O0ZVKKBN",
    "outputId": "f6b1ef13-09f6-48fa-d2a6-959c9545ab4e"
   },
   "outputs": [
    {
     "data": {
      "text/plain": [
       "[(2, 'un'), (4, 'deux'), (5, 'trois'), (6, 'quatre'), (4, 'cinq')]"
      ]
     },
     "execution_count": 21,
     "metadata": {},
     "output_type": "execute_result"
    }
   ],
   "source": [
    "ordonne = [ (v,k) for k,v in d.items()]\n",
    "ordonne"
   ]
  },
  {
   "cell_type": "code",
   "execution_count": 22,
   "metadata": {
    "colab": {},
    "colab_type": "code",
    "id": "HzSTajXsKKBP",
    "outputId": "60549d2e-de87-4e26-f814-e28cf8e21141"
   },
   "outputs": [
    {
     "data": {
      "text/plain": [
       "[(2, 'un'), (4, 'cinq'), (4, 'deux'), (5, 'trois'), (6, 'quatre')]"
      ]
     },
     "execution_count": 22,
     "metadata": {},
     "output_type": "execute_result"
    }
   ],
   "source": [
    "ordonne.sort()\n",
    "ordonne"
   ]
  },
  {
   "cell_type": "markdown",
   "metadata": {
    "colab_type": "text",
    "id": "0JdifrMcKKBR"
   },
   "source": [
    "**A quoi ça sert ?** on se sert beaucoup des dictionnaires pour compter la fréquences des caractères, des mots ou de couples de mots dans un texte. On les ordonne ensuite par fréquences décroissantes pour obtenir les mots ou caractères les plus fréquents."
   ]
  },
  {
   "cell_type": "markdown",
   "metadata": {
    "colab_type": "text",
    "id": "isMbqWIpKKBR"
   },
   "source": [
    "### Exercice 2 : recherche dans une liste\n",
    "\n",
    "On considère une liste de mots :"
   ]
  },
  {
   "cell_type": "code",
   "execution_count": 27,
   "metadata": {
    "colab": {},
    "colab_type": "code",
    "id": "nwIxsa-eKKBS"
   },
   "outputs": [],
   "source": [
    "mots = ['eddard', 'catelyn', 'robb', 'sansa', 'arya', 'brandon',\n",
    "        'rickon', 'theon', 'rorbert', 'cersei', 'tywin', 'jaime',\n",
    "        'tyrion', 'shae', 'bronn', 'lancel', 'joffrey', 'sandor',\n",
    "        'varys', 'renly', 'a' ]"
   ]
  },
  {
   "cell_type": "markdown",
   "metadata": {
    "colab_type": "text",
    "id": "SY4quhI7KKBU"
   },
   "source": [
    "Il faut écrire une fonction qui retourne tous les mots de la liste qui ont un 'y' en seconde position."
   ]
  },
  {
   "cell_type": "code",
   "execution_count": 40,
   "metadata": {
    "colab": {},
    "colab_type": "code",
    "id": "wDoCl7BDKKBV"
   },
   "outputs": [],
   "source": [
    "def mots_lettre_position (liste, lettre, position) :\n",
    "    ldt_result = []\n",
    "    for i in liste :\n",
    "        if len(i) >= 2 and i[position -1] == lettre :\n",
    "            lst_result.append(i)\n",
    "        return lst_result\n",
    "    print(mots_lettre_position (mots, \"t\", 1))\n",
    "    \n"
   ]
  },
  {
   "cell_type": "code",
   "execution_count": null,
   "metadata": {},
   "outputs": [],
   "source": [
    "def lettre_suivante(lettre) :\n",
    "    if lettre == \"z\":\n",
    "        return(\"a\")\n",
    "    elif lettre == \"Z\":\n",
    "        return(\"A\")\n",
    "    else:\n",
    "        x = ord(lettre)\n",
    "        y = x + 1\n",
    "        z = chr(y)\n",
    "        return(z)\n",
    "\n",
    "lettre_suivante(\"Z\")"
   ]
  },
  {
   "cell_type": "markdown",
   "metadata": {
    "colab_type": "text",
    "id": "jYk9t6OhKKBX"
   },
   "source": [
    "### Exercice 3 : utilisation d'un dictionnaire\n",
    "\n",
    "On modifie la fonction précédente ``mots_lettre_position`` de telle sorte qu'elle s'écrive comme suit :"
   ]
  },
  {
   "cell_type": "code",
   "execution_count": null,
   "metadata": {
    "colab": {},
    "colab_type": "code",
    "id": "JvTd6AlVKKBX"
   },
   "outputs": [],
   "source": [
    "def mots_lettre_position (dictionnaire_bien_choisi, lettre, position) :\n",
    "    return dictionnaire_bien_choisi. get ( (position, lettre) , [] )"
   ]
  },
  {
   "cell_type": "markdown",
   "metadata": {
    "colab_type": "text",
    "id": "_CcQkI92KKBZ"
   },
   "source": [
    "Construisez le dictionnaire ``dictionnaire_bien_choisi`` pour que cela fonctionne.\n",
    "Combien de mots sont stockés dans ``dictionnaire_bien_choisi`` ?"
   ]
  },
  {
   "cell_type": "markdown",
   "metadata": {
    "colab_type": "text",
    "id": "W3jYMI_gKKBZ"
   },
   "source": [
    "**Reformulation** Lorsqu'on cherche un mot dans un dictionnaire (un vrai), on tourne peu de pages pour le trouver puisqu'ils sont triés par ordre alphabétique. Maintenant, si on souhaite trouver tous les mots dans la seconde lettre est ``e``, c'est impossible à moins de trier les mots par leur seconde lettre : il faudrait un dictionnaire différent pour chaque position de lettre. L'objectif de cet exercice est de concevoir une sorte de dictionnaire qui permette de retrouver tous les mots ayant telle lettre à telle position."
   ]
  },
  {
   "cell_type": "markdown",
   "metadata": {
    "colab_type": "text",
    "id": "n2soqB_UKKBa"
   },
   "source": [
    "### Exercice 4 : crypter de décrypter selon Vigenère\n",
    "\n",
    "Le [code de César](http://fr.wikipedia.org/wiki/Chiffrement_par_d%C3%A9calage) est une permutation de lettre ou un décalage. Toutes les lettres du message sont décalées d'un nombre fixe :\n",
    "\n",
    "- ``JENESUISPASCODE``\n",
    "- ``MHQHVXLVSDVFRGH``\n",
    "\n",
    "Le [code de Vigenère](http://fr.wikipedia.org/wiki/Chiffre_de_Vigen%C3%A8re) introduit un décalage qui dépend de la position de la lettre dans le message à coder. On choisit d'abord un mot qui servira de code (par exemple ``DOP``) puis on le traduit en décalages : ``[3, 14, 15]`` en servant de la position des lettres dans l'alphabet. \n",
    "\n",
    "Pour coder, on décale la première lettre de 3, la seconde de 14, la troisième 15, la quatrième de 3 à nouveau... L'objectif de cette partie est d'écrire une fonction qui crypte le message précédent et une autre qui décrypte."
   ]
  },
  {
   "cell_type": "code",
   "execution_count": null,
   "metadata": {
    "colab": {},
    "colab_type": "code",
    "id": "C0p0Wr2FKKBb"
   },
   "outputs": [],
   "source": [
    "def code_vigenere ( message, cle) :\n",
    "    # ...... à remplir\n",
    "    return message_code"
   ]
  },
  {
   "cell_type": "markdown",
   "metadata": {
    "colab_type": "text",
    "id": "FmXSJWE8KKBc"
   },
   "source": [
    "A quelle condition le code de Vigenère est un simple code de César ?\n",
    "\n",
    "Pensez-vous qu'il soit possible de casser le code de Vigenère (de le décrypter sans la clé) ?"
   ]
  },
  {
   "cell_type": "code",
   "execution_count": null,
   "metadata": {
    "colab": {},
    "colab_type": "code",
    "id": "eNopC4yXKKBd"
   },
   "outputs": [],
   "source": []
  }
 ],
 "metadata": {
  "colab": {
   "name": "Session_27_11_Dictionnaires_Fonctions.ipynb",
   "provenance": [],
   "toc_visible": true
  },
  "kernelspec": {
   "display_name": "Python 3",
   "language": "python",
   "name": "python3"
  },
  "language_info": {
   "codemirror_mode": {
    "name": "ipython",
    "version": 3
   },
   "file_extension": ".py",
   "mimetype": "text/x-python",
   "name": "python",
   "nbconvert_exporter": "python",
   "pygments_lexer": "ipython3",
   "version": "3.7.4"
  }
 },
 "nbformat": 4,
 "nbformat_minor": 4
}
