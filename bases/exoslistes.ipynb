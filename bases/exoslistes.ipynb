{
 "cells": [
  {
   "cell_type": "markdown",
   "metadata": {},
   "source": [
    "Écrire un programme qui créé une liste `liste` d’au moins 5 entiers puis successivement :\n",
    "\n",
    "affiche la valeur de liste[4]\n",
    "\n"
   ]
  },
  {
   "cell_type": "code",
   "execution_count": 2,
   "metadata": {},
   "outputs": [
    {
     "name": "stdout",
     "output_type": "stream",
     "text": [
      "12\n"
     ]
    }
   ],
   "source": [
    "L = [9, 5, 6, 3, 12]\n",
    "print (L[4])"
   ]
  },
  {
   "cell_type": "markdown",
   "metadata": {},
   "source": [
    "modifie la liste en remplaçant liste[1] par 17 et liste[3] par la somme des cases voisines liste[2] et liste[4]\n"
   ]
  },
  {
   "cell_type": "code",
   "execution_count": 3,
   "metadata": {},
   "outputs": [
    {
     "name": "stdout",
     "output_type": "stream",
     "text": [
      "[9, 17, 6, 18, 12]\n"
     ]
    }
   ],
   "source": [
    "L[1] = 17\n",
    "L[3] = L[2] + L[4]\n",
    "print (L)"
   ]
  },
  {
   "cell_type": "markdown",
   "metadata": {},
   "source": [
    "affiche l'ensemble des valeurs de la liste"
   ]
  },
  {
   "cell_type": "markdown",
   "metadata": {},
   "source": [
    "Exercice 2 : Échange de valeurs\n",
    "\n",
    "Écrire un programme qui échange les valeurs de la première et de la dernière case d’une liste non vide quelconque de chaînes de caractères. \n",
    "Afficher le résultat.\n"
   ]
  },
  {
   "cell_type": "code",
   "execution_count": 4,
   "metadata": {},
   "outputs": [
    {
     "name": "stdout",
     "output_type": "stream",
     "text": [
      "[12, 5, 6, 3, 9]\n"
     ]
    }
   ],
   "source": [
    "L = [9, 5, 6, 3, 12]\n",
    "premier = L[0]\n",
    "dernier = L[len(L)-1]\n",
    "L[0] = dernier\n",
    "L[len(L)-1] = premier\n",
    "\n",
    "print (L)\n"
   ]
  },
  {
   "cell_type": "markdown",
   "metadata": {},
   "source": [
    "Exercice 3 : Parcours de liste\n",
    "\n",
    "Écrire un programme qui crée une liste d’entiers, puis à l’aide de parcours successifs de la liste effectue les actions suivantes :\n"
   ]
  },
  {
   "cell_type": "markdown",
   "metadata": {},
   "source": [
    "Affiche la liste en colonne sous la forme: liste[i] = valeur\n"
   ]
  },
  {
   "cell_type": "code",
   "execution_count": 7,
   "metadata": {},
   "outputs": [
    {
     "name": "stdout",
     "output_type": "stream",
     "text": [
      "0 = 9\n",
      "1 = 5\n",
      "2 = 6\n",
      "3 = 3\n",
      "4 = 12\n"
     ]
    }
   ],
   "source": [
    "L = [9, 5, 6, 3, 12]\n",
    "long = len(L)\n",
    "\n",
    "for i in range (long) :\n",
    "     print (i, \"=\" , L[i])"
   ]
  },
  {
   "cell_type": "markdown",
   "metadata": {},
   "source": [
    "Compte le nombre de multiples de 3 présents dans la liste"
   ]
  },
  {
   "cell_type": "code",
   "execution_count": 23,
   "metadata": {},
   "outputs": [
    {
     "name": "stdout",
     "output_type": "stream",
     "text": [
      "2\n"
     ]
    }
   ],
   "source": [
    "L = [4, 6 , 9, 7, 5]\n",
    "long = len(L)\n",
    "\n",
    "m3 = 0\n",
    "for i in range (long) :\n",
    "     if L[i] %3 == 0 :\n",
    "            \n",
    "     \n",
    "        m3 = m3 + 1\n",
    "        \n",
    "print (m3)"
   ]
  },
  {
   "cell_type": "markdown",
   "metadata": {},
   "source": [
    "Calcule la somme de toutes les valeurs paires de la liste\n"
   ]
  },
  {
   "cell_type": "code",
   "execution_count": 28,
   "metadata": {},
   "outputs": [
    {
     "name": "stdout",
     "output_type": "stream",
     "text": [
      "10\n"
     ]
    }
   ],
   "source": [
    "L = [4, 6 , 9, 7, 5]\n",
    "long = len(L)\n",
    "\n",
    "sommepaires = 0\n",
    "for i in range (long) :\n",
    "     if L[i] %2 == 0 :\n",
    "            \n",
    "        sommepaires = sommepaires + L[i]\n",
    "\n",
    "print (sommepaires)"
   ]
  },
  {
   "cell_type": "markdown",
   "metadata": {},
   "source": [
    "Calcule le maximum et le minimum des éléments de la liste"
   ]
  },
  {
   "cell_type": "code",
   "execution_count": 31,
   "metadata": {},
   "outputs": [
    {
     "name": "stdout",
     "output_type": "stream",
     "text": [
      "maximum : 9 minimun : 4\n"
     ]
    }
   ],
   "source": [
    "L = [4, 6 , 9, 7, 5]\n",
    "long = len(L)\n",
    "\n",
    "max = L[0]\n",
    "min = L[0]\n",
    "\n",
    "for i in range (long) :\n",
    "     if L[i] > max :\n",
    "          max = L[i]\n",
    "        \n",
    "     else :\n",
    "          if L[i] < min :\n",
    "               min = L[i]\n",
    "            \n",
    "print (\"maximum :\" , max, \"minimun :\", min)\n"
   ]
  },
  {
   "cell_type": "markdown",
   "metadata": {},
   "source": [
    "Crée un booléen vrai si la moyenne arithmétique des valeurs de la liste est supérieure ou égale à 10\n"
   ]
  },
  {
   "cell_type": "code",
   "execution_count": 38,
   "metadata": {},
   "outputs": [
    {
     "name": "stdout",
     "output_type": "stream",
     "text": [
      "La moyenne est de : 16.2 La moyenne est supérieure ou égale à 10. True\n"
     ]
    }
   ],
   "source": [
    "L = [4, 16 , 9, 47, 5]\n",
    "long = len(L)\n",
    "\n",
    "supeg = 0\n",
    "\n",
    "for i in range (0, long) :\n",
    "     supeg +=  L[i]        \n",
    "        \n",
    "moyenne = supeg/long\n",
    "\n",
    "if moyenne >= 10. :\n",
    "    \n",
    "     print (\"La moyenne est de :\", moyenne, \"La moyenne est supérieure ou égale à 10.\", moyenne>=10)\n",
    "else :\n",
    "     print (\"La moyenne est de :\", moyenne, \"La moyenne est inférieure à 10.\", moyenne>=10)\n"
   ]
  },
  {
   "cell_type": "markdown",
   "metadata": {},
   "source": [
    "Crée le produit de toutes les valeurs de la liste comprise dans l’intervalle [50,     70]\n"
   ]
  },
  {
   "cell_type": "code",
   "execution_count": 48,
   "metadata": {},
   "outputs": [
    {
     "name": "stdout",
     "output_type": "stream",
     "text": [
      "186992\n"
     ]
    }
   ],
   "source": [
    "L = [52, 6, 62, 7, 58]\n",
    "long = len(L)\n",
    "\n",
    "p = 1\n",
    "\n",
    "for i in range (0, long) :\n",
    "    \n",
    "     if 50 <= L[i] <= 70 :\n",
    "            \n",
    "        p = p*L[i]\n",
    "        \n",
    "print (p)"
   ]
  },
  {
   "cell_type": "markdown",
   "metadata": {},
   "source": [
    "Affiche la liste à l’envers (sans créer de nouvelle liste)"
   ]
  },
  {
   "cell_type": "code",
   "execution_count": 49,
   "metadata": {},
   "outputs": [
    {
     "name": "stdout",
     "output_type": "stream",
     "text": [
      "Affichage à l'envers :\n",
      "5 , 7 , 9 , 6 , 4 , "
     ]
    }
   ],
   "source": [
    "L = [4, 6 , 9, 7, 5]\n",
    "long = len(L)\n",
    "\n",
    "p = 1\n",
    "\n",
    "print (\"Affichage à l'envers :\")\n",
    "\n",
    "for i in range (long) :\n",
    "    \n",
    "     print (L[long-1-i], ',', end=\" \")\n"
   ]
  },
  {
   "cell_type": "code",
   "execution_count": 50,
   "metadata": {},
   "outputs": [
    {
     "name": "stdout",
     "output_type": "stream",
     "text": [
      "[5, 7, 9, 6, 4]\n"
     ]
    }
   ],
   "source": [
    "L = [4, 6 , 9, 7, 5]\n",
    "L.reverse ()\n",
    "\n",
    "print (L)"
   ]
  },
  {
   "cell_type": "markdown",
   "metadata": {},
   "source": [
    "Exercice 4 : Modifications de listes\n",
    "\n",
    "Écrire un programme qui crée la liste d’entiers qui effectue successivement les actions suivantes :\n"
   ]
  },
  {
   "cell_type": "markdown",
   "metadata": {},
   "source": [
    " Modifie la liste en augmentant de 1 la valeur de chaque élément de la liste\n"
   ]
  },
  {
   "cell_type": "code",
   "execution_count": 52,
   "metadata": {},
   "outputs": [
    {
     "name": "stdout",
     "output_type": "stream",
     "text": [
      "[5, 7, 10, 8, 6]\n"
     ]
    }
   ],
   "source": [
    "L = [4, 6 , 9, 7, 5]\n",
    "long = len(L)\n",
    "\n",
    "for i in range (0, long) :\n",
    "     L[i] = L[i] + 1\n",
    "        \n",
    "print (L)"
   ]
  },
  {
   "cell_type": "markdown",
   "metadata": {},
   "source": [
    "Modifie la liste par permutation circulaire (chaque élément prend la valeur du précédent)\n"
   ]
  },
  {
   "cell_type": "code",
   "execution_count": 53,
   "metadata": {},
   "outputs": [
    {
     "name": "stdout",
     "output_type": "stream",
     "text": [
      "[6, 9, 7, 5, 4]\n"
     ]
    }
   ],
   "source": [
    "L = [4, 6 , 9, 7, 5]\n",
    "long = len(L)\n",
    "\n",
    "pc = L[0]\n",
    "for i in range (1, long) :\n",
    "     L[i-1] = L[i]\n",
    "L[long-1] = pc\n",
    "print (L)"
   ]
  },
  {
   "cell_type": "markdown",
   "metadata": {},
   "source": [
    "Modifie la liste par miroir\n"
   ]
  },
  {
   "cell_type": "code",
   "execution_count": 56,
   "metadata": {},
   "outputs": [
    {
     "name": "stdout",
     "output_type": "stream",
     "text": [
      "[11, 7, 9, 6, 4]\n"
     ]
    }
   ],
   "source": [
    "L = [4, 6 , 9, 7, 11]\n",
    "long = len(L)\n",
    "\n",
    "miroir = L[0]\n",
    "\n",
    "for i in range (0, (long)//2) :\n",
    "    \n",
    "     miroir = L[i]\n",
    "     L[i] = L[long-i-1]\n",
    "     L[long-i-1] = miroir\n",
    "        \n",
    "print (L)"
   ]
  },
  {
   "cell_type": "markdown",
   "metadata": {},
   "source": [
    "Exercice 5 : Création de listes\n",
    "\n",
    "On dispose d’une liste L non vide de nombres. Créer une liste LC contenant les carrés des nombres de L.\n",
    "\n"
   ]
  },
  {
   "cell_type": "code",
   "execution_count": 71,
   "metadata": {},
   "outputs": [
    {
     "name": "stdout",
     "output_type": "stream",
     "text": [
      "[16, 36, 81, 49, 121]\n"
     ]
    }
   ],
   "source": [
    "L = [4, 6 , 9, 7, 11]\n",
    "long = len(L)\n",
    "LC = []\n",
    "\n",
    "for i in range (long) :\n",
    "     LC.append(L[i]**2)\n",
    "print (LC)"
   ]
  },
  {
   "cell_type": "markdown",
   "metadata": {},
   "source": [
    "On dispose maintenant de deux listes L1 et L2. Il s’agit de créer une liste :\n",
    "\n",
    "L3 identiques à L1 dans laquelle on a supprimé la première valeur\n"
   ]
  },
  {
   "cell_type": "code",
   "execution_count": 74,
   "metadata": {},
   "outputs": [
    {
     "name": "stdout",
     "output_type": "stream",
     "text": [
      "L1 =  [4, 6, 9, 7, 11] L2 =  [16, 36, 81, 49, 121]\n",
      "L3 =  [6, 9, 7, 11]\n"
     ]
    }
   ],
   "source": [
    "L1 = [4, 6 , 9, 7, 11]\n",
    "L2 = [16, 36, 81, 49, 121]\n",
    "\n",
    "print (\"L1 = \", L1, \"L2 = \", L2)\n",
    "\n",
    "L3 = []\n",
    "\n",
    "for i in range (1, len(L1)) :\n",
    "     L3.append(L[i])\n",
    "        \n",
    "print (\"L3 = \", L3)"
   ]
  },
  {
   "cell_type": "markdown",
   "metadata": {},
   "source": [
    "L4 contenant les valeurs L1 puis celles de L2"
   ]
  },
  {
   "cell_type": "code",
   "execution_count": 75,
   "metadata": {},
   "outputs": [
    {
     "name": "stdout",
     "output_type": "stream",
     "text": [
      "L4 =  [4, 6, 9, 7, 11, 16, 36, 81, 49, 121]\n"
     ]
    }
   ],
   "source": [
    "L4 = []\n",
    "\n",
    "for i in range (0, len(L1)) :\n",
    "     L4.append(L1[i])\n",
    "        \n",
    "for i in range (0, len(L2)) :\n",
    "     L4.append(L2[i])\n",
    "        \n",
    "print (\"L4 = \", L4)"
   ]
  },
  {
   "cell_type": "markdown",
   "metadata": {},
   "source": [
    "Exercice 6 : Symétrie de la liste\n",
    "\n",
    "Écrire un programme qui affiche si une liste est symétrique (liste identique à la liste à l’envers)."
   ]
  },
  {
   "cell_type": "code",
   "execution_count": 94,
   "metadata": {},
   "outputs": [
    {
     "name": "stdout",
     "output_type": "stream",
     "text": [
      "Notre liste est-elle symétrique ? False\n"
     ]
    }
   ],
   "source": [
    "L = [1, 3, 7, 5, 4, 3, 1]\n",
    "long = len(L)\n",
    "symetrie = True\n",
    "\n",
    "for i in range (0, long//2) :\n",
    "     if L[i] != L[len(L)-1-i] :\n",
    "        symetrie = False\n",
    "\n",
    "print (\"Notre liste est-elle symétrique ?\", symetrie)\n"
   ]
  },
  {
   "cell_type": "code",
   "execution_count": null,
   "metadata": {},
   "outputs": [],
   "source": []
  }
 ],
 "metadata": {
  "kernelspec": {
   "display_name": "Python 3",
   "language": "python",
   "name": "python3"
  },
  "language_info": {
   "codemirror_mode": {
    "name": "ipython",
    "version": 3
   },
   "file_extension": ".py",
   "mimetype": "text/x-python",
   "name": "python",
   "nbconvert_exporter": "python",
   "pygments_lexer": "ipython3",
   "version": "3.7.4"
  }
 },
 "nbformat": 4,
 "nbformat_minor": 4
}
