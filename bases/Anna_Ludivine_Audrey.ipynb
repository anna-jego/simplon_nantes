{
 "cells": [
  {
   "cell_type": "markdown",
   "metadata": {},
   "source": [
    "LES DICTIONNAIRES"
   ]
  },
  {
   "cell_type": "markdown",
   "metadata": {},
   "source": [
    "Définition dictionnaire : objet conteneur pouvant en contenir d'autres à l'instar des listes. Cependant, au lieu d'héberger des infos dans un ordre précis, ils associent chaque objet contenu à une clé; le dictionnaire est un type de donnée puisant et pratique; exemple : il peut contenir un carnet d'adresse et on accède à chaque contact en précisant son nom. Il faut une clé et des indices pour accéder au contenu\n",
    "Le dictionnaire peut servir à stocker des fonctions (si on va un peu plus loin)"
   ]
  },
  {
   "cell_type": "markdown",
   "metadata": {},
   "source": [
    "#Créer un dictionnaire"
   ]
  },
  {
   "cell_type": "code",
   "execution_count": 4,
   "metadata": {},
   "outputs": [
    {
     "data": {
      "text/plain": [
       "{}"
      ]
     },
     "execution_count": 4,
     "metadata": {},
     "output_type": "execute_result"
    }
   ],
   "source": [
    "mon_dictionnaire = dict()\n",
    "type(mon_dictionnaire)\n",
    "    \n",
    "mon_dictionnaire"
   ]
  },
  {
   "cell_type": "markdown",
   "metadata": {},
   "source": [
    "#deuxième manière de créer un dictionnaire vide"
   ]
  },
  {
   "cell_type": "code",
   "execution_count": 7,
   "metadata": {},
   "outputs": [
    {
     "data": {
      "text/plain": [
       "{}"
      ]
     },
     "execution_count": 7,
     "metadata": {},
     "output_type": "execute_result"
    }
   ],
   "source": [
    "mon_dictionnaire = {}\n",
    "mon_dictionnaire\n"
   ]
  },
  {
   "cell_type": "markdown",
   "metadata": {},
   "source": [
    "#Les parenthèses délimitent les tuples, les crochets délimitent les listes et les accolades{}délimitent les dictionnaires.\n",
    "\n",
    "Voyons comment ajouter des clés et valeurs dans notre dictionnaire vide"
   ]
  },
  {
   "cell_type": "code",
   "execution_count": 8,
   "metadata": {},
   "outputs": [
    {
     "data": {
      "text/plain": [
       "{'pseudo': 'Prolixe', 'mot de passe': '*'}"
      ]
     },
     "execution_count": 8,
     "metadata": {},
     "output_type": "execute_result"
    }
   ],
   "source": [
    "mon_dictionnaire = {}\n",
    "mon_dictionnaire[\"pseudo\"] = \"Prolixe\"\n",
    "mon_dictionnaire[\"mot de passe\"] = \"*\"\n",
    "mon_dictionnaire\n",
    "\n"
   ]
  },
  {
   "cell_type": "markdown",
   "metadata": {},
   "source": [
    "Nous indiquons entre crochets la clé à laquelle nous souhaitons accéder. Si la clé n'existe pas, elle est ajoutée au dictionnaire avec la valeur spécifiée après le signe=. Sinon, l'ancienne valeur à l'emplacement indiqué est remplacée par la nouvelle :"
   ]
  },
  {
   "cell_type": "code",
   "execution_count": 10,
   "metadata": {},
   "outputs": [
    {
     "data": {
      "text/plain": [
       "{'pseudo': '6pri1', 'mot de passe': '*'}"
      ]
     },
     "execution_count": 10,
     "metadata": {},
     "output_type": "execute_result"
    }
   ],
   "source": [
    "mon_dictionnaire = {}\n",
    "mon_dictionnaire[\"pseudo\"] = \"Prolixe\"\n",
    "mon_dictionnaire[\"mot de passe\"] = \"*\"\n",
    "mon_dictionnaire[\"pseudo\"] = \"6pri1\"\n",
    "mon_dictionnaire\n"
   ]
  },
  {
   "cell_type": "markdown",
   "metadata": {},
   "source": [
    "La valeur'Prolixe'pointée par la clé'pseudo'a été remplacée, à la ligne 4, par la valeur'6pri1'. Cela devrait vous rappeler la création de variables : si la variable n'existe pas, elle est créée, sinon elle est remplacée par la nouvelle valeur.\n",
    "\n",
    "Pour accéder à la valeur d'une clé précise, c'est très simple :"
   ]
  },
  {
   "cell_type": "code",
   "execution_count": 11,
   "metadata": {},
   "outputs": [
    {
     "data": {
      "text/plain": [
       "'*'"
      ]
     },
     "execution_count": 11,
     "metadata": {},
     "output_type": "execute_result"
    }
   ],
   "source": [
    "mon_dictionnaire[\"mot de passe\"]"
   ]
  },
  {
   "cell_type": "markdown",
   "metadata": {},
   "source": [
    "Si la clé n'existe pas dans le dictionnaire, une exception de typeKeyErrorsera levée.\n",
    "\n",
    "Généralisons un peu tout cela : nous avons des dictionnaires, qui peuvent contenir d'autres objets. On place ces objets et on y accède grâce à des clés. Un dictionnaire ne peut naturellement pas contenir deux clés identiques (comme on l'a vu, la seconde valeur écrase la première). En revanche, rien n'empêche d'avoir deux valeurs identiques dans le dictionnaire.\n",
    "\n",
    "Nous avons utilisé ici, pour nos clés et nos valeurs, des chaînes de caractères. Ce n'est absolument pas obligatoire. Comme avec les listes, vous pouvez utiliser des entiers comme clés :"
   ]
  },
  {
   "cell_type": "code",
   "execution_count": 23,
   "metadata": {},
   "outputs": [
    {
     "data": {
      "text/plain": [
       "{0: 'a', 1: 'e', 2: 'i', 3: 'o', 4: 'u', 5: 'y'}"
      ]
     },
     "execution_count": 23,
     "metadata": {},
     "output_type": "execute_result"
    }
   ],
   "source": [
    "mon_dictionnaire = {}\n",
    "mon_dictionnaire[0] = \"a\"\n",
    "mon_dictionnaire[1] = \"e\"\n",
    "mon_dictionnaire[2] = \"i\"\n",
    "mon_dictionnaire[3] = \"o\"\n",
    "mon_dictionnaire[4] = \"u\"\n",
    "mon_dictionnaire[5] = \"y\"\n",
    "mon_dictionnaire"
   ]
  },
  {
   "cell_type": "markdown",
   "metadata": {},
   "source": [
    "On a l'impression de recréer le fonctionnement d'une liste mais ce n'est pas le cas : rappelez-vous qu'un dictionnaire n'a pas de structure ordonnée. Si vous supprimez par exemple l'indice2, le dictionnaire, contrairement aux listes, ne va pas décaler toutes les clés d'indice supérieur à l'indice supprimé. Il n'a pas été conçu pour.\n",
    "\n",
    "On peut utiliser quasiment tous les types comme clés et on peut utiliser absolument tous les types comme valeurs.\n",
    "\n",
    "On peut aussi créer des dictionnaires déjà remplis :"
   ]
  },
  {
   "cell_type": "code",
   "execution_count": 15,
   "metadata": {},
   "outputs": [],
   "source": [
    "placard = {\"chemise\":3, \"pantalon\":6, \"tee-shirt\":7}"
   ]
  },
  {
   "cell_type": "markdown",
   "metadata": {},
   "source": [
    "On précise entre guillemets la clé, le signe deux points « : » et la valeur correspondante. On sépare les différents couples clé : valeur par une virgule. C'est d'ailleurs comme cela que Python vous affiche un dictionnaire quand vous le lui demandez.\n",
    "\n",
    "Certains ont peut-être essayé de créer des dictionnaires déjà remplis avant que je ne montre comment faire. Une petite précision, si vous avez tapé une instruction similaire à :"
   ]
  },
  {
   "cell_type": "code",
   "execution_count": null,
   "metadata": {},
   "outputs": [],
   "source": [
    "mon_dictionnaire = {'pseudo', 'mot de passe'}"
   ]
  },
  {
   "cell_type": "markdown",
   "metadata": {},
   "source": [
    "Avec une telle instruction, ce n'est pas un dictionnaire que vous créez, mais un set.\n",
    "\n",
    "Un set(ensemble) est un objet conteneur (lui aussi), très semblable aux listes sauf qu'il ne peut contenir deux objets identiques. Vous ne pouvez pas trouver deux fois dans un set l'entier 3 par exemple. Je vous laisse vous renseigner sur les sets si vous le désirez.\n",
    "\n",
    "Supprimer des clés d'un dictionnaire\n",
    "Comme pour les listes, vous avez deux possibilités mais elles reviennent sensiblement au même :\n",
    "\n",
    "le mot-clé del;\n",
    "\n",
    "la méthode de dictionnaire pop.\n",
    "\n",
    "Je ne vais pas m'attarder sur le mot-clé del, il fonctionne de la même façon que pour les listes :"
   ]
  },
  {
   "cell_type": "code",
   "execution_count": 24,
   "metadata": {},
   "outputs": [
    {
     "data": {
      "text/plain": [
       "{'pantalon': 6, 'tee shirt': 7}"
      ]
     },
     "execution_count": 24,
     "metadata": {},
     "output_type": "execute_result"
    }
   ],
   "source": [
    "placard = {\"chemise\":3, \"pantalon\":6, \"tee shirt\":7}\n",
    "del placard[\"chemise\"]\n",
    "placard"
   ]
  },
  {
   "cell_type": "markdown",
   "metadata": {},
   "source": [
    "La méthode pop supprime également la clé précisée mais elle renvoie la valeur supprimée :"
   ]
  },
  {
   "cell_type": "code",
   "execution_count": 25,
   "metadata": {},
   "outputs": [
    {
     "data": {
      "text/plain": [
       "{'pantalon': 6, 'tee shirt': 7}"
      ]
     },
     "execution_count": 25,
     "metadata": {},
     "output_type": "execute_result"
    }
   ],
   "source": [
    "placard = {\"chemise\":3, \"pantalon\":6, \"tee shirt\":7}\n",
    "placard.pop(\"chemise\")\n",
    "placard\n"
   ]
  },
  {
   "cell_type": "markdown",
   "metadata": {},
   "source": [
    "En plus de supprimer la clé et la valeur associée, la méthode pop renvoie cette valeur. Cela peut être utile parfois.\n",
    "\n",
    "Voilà pour le tour d'horizon. Ce fut bref et vous n'avez pas vu toutes les méthodes, bien entendu. Je vous laisse consulter l'aide pour une liste détaillée."
   ]
  },
  {
   "cell_type": "markdown",
   "metadata": {},
   "source": [
    "# En résumé\n",
    "Un dictionnaire est un objet conteneur associant des clés à des valeurs.\n",
    "\n",
    "Pour créer un dictionnaire, on utilise la syntaxe dictionnaire = {cle1:valeur1, cle2:valeur2, cleN:valeurN}.\n",
    "\n",
    "On peut ajouter ou remplacer un élément dans un dictionnaire :dictionnaire[cle] = valeur.\n",
    "\n",
    "On peut supprimer une clé (et sa valeur correspondante) d'un dictionnaire en utilisant, au choix, le mot-clé del ou la méthode pop.\n",
    "\n",
    "On peut parcourir un dictionnaire grâce aux méthodes keys(parcourt les clés),values(parcourt les valeurs) ou items(parcourt les couples clé-valeur).\n",
    "\n",
    "On peut capturer les paramètres nommés passés à une fonction en utilisant cette syntaxe :def fonction_inconnue(**parametres_nommes): (les paramètres nommés se retrouvent dans le dictionnaire parametres_nommes)."
   ]
  },
  {
   "cell_type": "markdown",
   "metadata": {},
   "source": [
    "PARTIE 2\n",
    "\n",
    "Expliquer les listes, les dictionnaires et les tuples\n",
    "\n",
    "21. Expliquer les liste\n",
    "\n",
    "Pour créer une liste vide:"
   ]
  },
  {
   "cell_type": "code",
   "execution_count": 39,
   "metadata": {},
   "outputs": [
    {
     "name": "stdout",
     "output_type": "stream",
     "text": [
      "[]\n"
     ]
    }
   ],
   "source": [
    "ma_liste = [] #Crée une liste vide\n",
    "print (ma_liste)"
   ]
  },
  {
   "cell_type": "code",
   "execution_count": 40,
   "metadata": {},
   "outputs": [
    {
     "name": "stdout",
     "output_type": "stream",
     "text": [
      "[1, 2, 3, 4, 5, 6]\n"
     ]
    }
   ],
   "source": [
    "ma_liste = [1,2,3,4,5,6]    # remplit la liste avec les éléments\n",
    "print (ma_liste)"
   ]
  },
  {
   "cell_type": "code",
   "execution_count": 41,
   "metadata": {},
   "outputs": [
    {
     "name": "stdout",
     "output_type": "stream",
     "text": [
      "[1, 2, 3, 4, 5, 6, 10]\n",
      "[1, 2, 3, 4, 5, 6, 10, 7]\n"
     ]
    }
   ],
   "source": [
    "ma_liste +=[10]  #Ajoute l'élément 10 en fin de liste\n",
    "print (ma_liste)\n",
    "\n",
    "ma_liste.append(7) #Ajoute l'élément 7 en fin de liste\n",
    "print(ma_liste)"
   ]
  },
  {
   "cell_type": "code",
   "execution_count": 42,
   "metadata": {},
   "outputs": [
    {
     "name": "stdout",
     "output_type": "stream",
     "text": [
      "[1, 8, 2, 3, 4, 5, 6, 10, 7]\n"
     ]
    }
   ],
   "source": [
    "ma_liste.insert(1,8)\n",
    "print (ma_liste)"
   ]
  },
  {
   "cell_type": "code",
   "execution_count": 43,
   "metadata": {},
   "outputs": [
    {
     "data": {
      "text/plain": [
       "2"
      ]
     },
     "execution_count": 43,
     "metadata": {},
     "output_type": "execute_result"
    }
   ],
   "source": [
    "ma_liste[0]  # Donne l'élément en position 0\n",
    "ma_liste[2]  # Donne l'élément en position 2"
   ]
  },
  {
   "cell_type": "code",
   "execution_count": 44,
   "metadata": {},
   "outputs": [
    {
     "name": "stdout",
     "output_type": "stream",
     "text": [
      "[3, 8, 2, 3, 4, 5, 6, 10, 7]\n"
     ]
    }
   ],
   "source": [
    "ma_liste[0] = 3 # Remplace l'élément en position 0 par 3\n",
    "print(ma_liste)"
   ]
  },
  {
   "cell_type": "code",
   "execution_count": 45,
   "metadata": {},
   "outputs": [
    {
     "name": "stdout",
     "output_type": "stream",
     "text": [
      "[3, 8, 2, 3, 4, 5, 6, 10, 7, 'nouvelle_donnee']\n"
     ]
    }
   ],
   "source": [
    "ma_liste.append(\"nouvelle_donnee\")   # les éléments de la liste ne sont pas forcément du meme type. Ex: on ajoute une chaine de caractère\n",
    "print(ma_liste)"
   ]
  },
  {
   "cell_type": "code",
   "execution_count": 46,
   "metadata": {},
   "outputs": [
    {
     "name": "stdout",
     "output_type": "stream",
     "text": [
      "[3, 8, 2, 3, 4, 5, 6, 10, 7]\n"
     ]
    }
   ],
   "source": [
    "del ma_liste[9]   # Supprimer l'élément situé en position 9\n",
    "print(ma_liste)"
   ]
  },
  {
   "cell_type": "code",
   "execution_count": 47,
   "metadata": {},
   "outputs": [
    {
     "name": "stdout",
     "output_type": "stream",
     "text": [
      "[3, 3, 4, 5, 6, 10, 7]\n"
     ]
    }
   ],
   "source": [
    "del ma_liste[1:3]   # Supprime les éléments de la position 1 à 3 exclu.\n",
    "print(ma_liste)"
   ]
  },
  {
   "cell_type": "code",
   "execution_count": 48,
   "metadata": {},
   "outputs": [
    {
     "name": "stdout",
     "output_type": "stream",
     "text": [
      "7\n"
     ]
    }
   ],
   "source": [
    "print(len(ma_liste))   # Affiche le nombre d'éléments de la liste"
   ]
  },
  {
   "cell_type": "code",
   "execution_count": 49,
   "metadata": {},
   "outputs": [
    {
     "name": "stdout",
     "output_type": "stream",
     "text": [
      "10\n"
     ]
    }
   ],
   "source": [
    "print(max(ma_liste))  # Affiche l'élément le plus élevé de la liste"
   ]
  },
  {
   "cell_type": "code",
   "execution_count": 50,
   "metadata": {},
   "outputs": [
    {
     "name": "stdout",
     "output_type": "stream",
     "text": [
      "[3, 3, 4, 5, 6, 10, 7, 3, 3, 4, 5, 6, 10, 7, 3, 3, 4, 5, 6, 10, 7]\n"
     ]
    }
   ],
   "source": [
    "new_list = ma_liste * 3   # Duplique la liste\n",
    "print(new_list)"
   ]
  },
  {
   "cell_type": "code",
   "execution_count": 51,
   "metadata": {},
   "outputs": [
    {
     "name": "stdout",
     "output_type": "stream",
     "text": [
      "[6, 10, 7]\n"
     ]
    }
   ],
   "source": [
    "very_new_list = new_list[4:7]  # Extrait un bout de la liste et le met dans une nouvelle liste\n",
    "print(very_new_list)"
   ]
  },
  {
   "cell_type": "code",
   "execution_count": 53,
   "metadata": {},
   "outputs": [
    {
     "name": "stdout",
     "output_type": "stream",
     "text": [
      "[0, 3, 3, 4, 5, 6, 10, 7, 3, 3, 4, 5, 6, 10, 7]\n"
     ]
    }
   ],
   "source": [
    "new_list[0:4] = [0]   # Remplace les éléments de la position 0 à 4 exclu par la valeur 0\n",
    "print(new_list)"
   ]
  },
  {
   "cell_type": "markdown",
   "metadata": {},
   "source": [
    "#Les tuples"
   ]
  },
  {
   "cell_type": "markdown",
   "metadata": {},
   "source": [
    "Les tuples sont des listes, mais celles-ci sont NON MODIFIABLES, ce sont des collections d’éléments, \n",
    "mais leurs éléments sont fixés; càd, qu'une fois le tuple est créé, \n",
    "vous ne pouvez pas ajouter de nouveaux éléments, supprimer des éléments, remplacer des éléments, \n",
    "ou réorganiser les éléments du tuple.\n",
    "\n",
    "Si le contenu d’une liste dans votre programme/fonction ne devrait pas changer, vous pouvez utiliser \n",
    "un tuple pour éviter que des éléments soient ajoutés, supprimés ou remplacés accidentellement.\n",
    "\n",
    "#La vocation de ce type de liste est d'être utilisé à titre de constante dans l'application.\n",
    "\n",
    "Créer un tuple :\n",
    "\n",
    "Pour créer un tuple , on peut utiliser la syntaxe suivante: \n",
    "\n",
    "exemple : "
   ]
  },
  {
   "cell_type": "code",
   "execution_count": null,
   "metadata": {},
   "outputs": [],
   "source": [
    ">>> mon_tuple = ()"
   ]
  },
  {
   "cell_type": "markdown",
   "metadata": {},
   "source": [
    "Si l'on souhaite ajouter une valeur à un tuple ça sera de cette façon: \n",
    "\n",
    "exemple : "
   ]
  },
  {
   "cell_type": "code",
   "execution_count": null,
   "metadata": {},
   "outputs": [],
   "source": [
    ">>> mon_tuple = (1, \"ok\", \"salut\")"
   ]
  },
  {
   "cell_type": "markdown",
   "metadata": {},
   "source": [
    "#Les parenthèses ne sont pas obligatoires mais facilite la lisibilité du code : \n",
    "\n",
    "\n",
    "exemple : "
   ]
  },
  {
   "cell_type": "code",
   "execution_count": null,
   "metadata": {},
   "outputs": [],
   "source": [
    ">>> mon_tuple = 1, 2, 3\n",
    ">>> type(mon_tuple)\n",
    "<type 'tuple'>"
   ]
  },
  {
   "cell_type": "markdown",
   "metadata": {},
   "source": [
    "Attention, lorsqu'on veut créer un tuple avec 1 seule valeur, il est impératif d'y ajouter une virgule (sinon ce n'est pas un tuple). \n",
    "\n",
    "exemple :"
   ]
  },
  {
   "cell_type": "code",
   "execution_count": null,
   "metadata": {},
   "outputs": [],
   "source": [
    ">>> mon_tuple = (\"ok\")\n",
    ">>> type(mon_tuple)\n",
    "<type 'str'>\n",
    ">>> mon_tuple = (\"ok\",)\n",
    ">>> type(mon_tuple)\n",
    "<type 'tuple'>"
   ]
  },
  {
   "cell_type": "markdown",
   "metadata": {},
   "source": [
    "Comme le tuple est une liste, on utilisera la même syntaxe pour lire les données du tuple. \n",
    "\n",
    "exemple : "
   ]
  },
  {
   "cell_type": "code",
   "execution_count": null,
   "metadata": {},
   "outputs": [],
   "source": [
    ">>> mon_tuple[0]\n",
    "1"
   ]
  },
  {
   "cell_type": "markdown",
   "metadata": {},
   "source": [
    "A quoi sert un tuple alors? \n",
    "\n",
    "Le tuple permet une affectation multiple: "
   ]
  },
  {
   "cell_type": "code",
   "execution_count": null,
   "metadata": {},
   "outputs": [],
   "source": [
    ">>> v1, v2 = 11, 22\n",
    ">>> v1\n",
    "11\n",
    ">>> v2\n",
    "22"
   ]
  },
  {
   "cell_type": "markdown",
   "metadata": {},
   "source": [
    "Il permet également de renvoyer plusieurs valeurs lors d'un appel d'une fonction: "
   ]
  },
  {
   "cell_type": "code",
   "execution_count": null,
   "metadata": {},
   "outputs": [],
   "source": [
    ">>> def donne_moi_ton_nom():\n",
    "...     return \"anna\", \"jégo\"\n",
    "... \n",
    ">>> donne_moi_ton_nom()\n",
    "('anna', 'jégo')"
   ]
  },
  {
   "cell_type": "markdown",
   "metadata": {},
   "source": [
    "On utilisera un tuple pour définir des sortes de constantes qui n'ont donc pas vocation à changer. \n",
    "\n",
    "Pour résumer : "
   ]
  },
  {
   "cell_type": "code",
   "execution_count": null,
   "metadata": {},
   "outputs": [],
   "source": [
    "t1 = () # Crée un tuple vide\n",
    "t2 = (1, 3, 5) # Crée un tuple constitué de trois éléments\n",
    "t3 = (2,) # Crée un tuple constitué d’un seul élément\n",
    "# Crée un tuple à partir d’une liste\n",
    "t3 = tuple([2 * x for x in range(1, 5)])\n",
    "# Créer un tuple à partir d'une chaîne de caractères\n",
    "t4 = tuple(\"abac\") \n",
    "t4 est ('a', 'b', 'a', 'c')"
   ]
  }
 ],
 "metadata": {
  "kernelspec": {
   "display_name": "Python 3",
   "language": "python",
   "name": "python3"
  },
  "language_info": {
   "codemirror_mode": {
    "name": "ipython",
    "version": 3
   },
   "file_extension": ".py",
   "mimetype": "text/x-python",
   "name": "python",
   "nbconvert_exporter": "python",
   "pygments_lexer": "ipython3",
   "version": "3.7.4"
  }
 },
 "nbformat": 4,
 "nbformat_minor": 4
}
