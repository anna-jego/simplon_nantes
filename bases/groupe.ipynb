{
 "cells": [
  {
   "cell_type": "code",
   "execution_count": 35,
   "metadata": {},
   "outputs": [
    {
     "name": "stdout",
     "output_type": "stream",
     "text": [
      "['Rijarivo', 'Jean-Marie', 'Edwyn', 'Ousmane', 'Jacques', 'Daouda', 'Kévan', 'Olivier', 'Thomas', 'Yoann', 'Romain']\n"
     ]
    }
   ],
   "source": [
    "liste_homme = [ \"Rijarivo\" , \"Jean-Marie\" , \"Edwyn\" , \"Ousmane\" , \"Jacques\" ,  \"Daouda\" , \"Kévan\" ,  \"Olivier\" ,  \"Thomas\" , \"Yoann\" , \"Romain\" ]\n",
    "print (liste_homme)"
   ]
  },
  {
   "cell_type": "code",
   "execution_count": 39,
   "metadata": {},
   "outputs": [
    {
     "name": "stdout",
     "output_type": "stream",
     "text": [
      "['Rijarivo', 'Jean-Marie', 'Edwyn', 'Ousmane', 'Jacques', 'Daouda', 'Kévan', 'Olivier', 'Thomas', 'Yoann', 'Romain']\n",
      "['Manon', 'Minwei', 'Audrey', 'Anna', 'Ludivine', 'Sakina']\n"
     ]
    }
   ],
   "source": [
    "liste_homme = [ \"Rijarivo\" , \"Jean-Marie\" , \"Edwyn\" , \"Ousmane\" , \"Jacques\" ,  \"Daouda\" , \"Kévan\" ,  \"Olivier\" ,  \"Thomas\" , \"Yoann\" , \"Romain\" ]\n",
    "print (liste_homme)\n",
    "\n",
    "liste_femme = [ \"Manon\" , \"Minwei\" , \"Audrey\" , \"Anna\" , \"Ludivine\" , \"Sakina\" ]\n",
    "print (liste_femme)"
   ]
  },
  {
   "cell_type": "code",
   "execution_count": 1,
   "metadata": {},
   "outputs": [
    {
     "name": "stdout",
     "output_type": "stream",
     "text": [
      "['Edwyn', 'Daouda', 'Manon']\n",
      "['Rijarivo', 'Jean-Marie', 'Ousmane', 'Jacques', 'Daouda', 'Olivier', 'Thomas', 'Yoann', 'Romain'] ['Minwei', 'Audrey', 'Anna', 'Ludivine', 'Sakina']\n",
      "['Ousmane', 'Olivier', 'Minwei']\n",
      "['Rijarivo', 'Jean-Marie', 'Jacques', 'Daouda', 'Olivier', 'Yoann', 'Romain'] ['Audrey', 'Anna', 'Ludivine', 'Sakina']\n"
     ]
    }
   ],
   "source": [
    "from random import *\n",
    "\n",
    "liste_homme = [ \"Rijarivo\" , \"Jean-Marie\" , \"Edwyn\" , \"Ousmane\" , \"Jacques\" ,  \"Daouda\" , \"Kévan\" ,  \"Olivier\" ,  \"Thomas\" , \"Yoann\" , \"Romain\" ]\n",
    "\n",
    "\n",
    "liste_femme = [ \"Manon\" , \"Minwei\" , \"Audrey\" , \"Anna\" , \"Ludivine\" , \"Sakina\" ]\n",
    "\n",
    "    \n",
    "n = randint (0, 10)\n",
    "n1 = randint (0, 10)\n",
    "n2 = randint (0, 5)\n",
    "    \n",
    "if n1 != n: \n",
    "    \n",
    "    x = liste_homme [n]\n",
    "    x1 = liste_homme [n1]\n",
    "    y = liste_femme [n2]\n",
    "    \n",
    "\n",
    "i=1\n",
    "\n",
    "l1 = []\n",
    "l2 = []\n",
    "l3 = []\n",
    "l4 = []\n",
    "\n",
    "l1 += [x , x1 , y]\n",
    "del ( liste_homme [n] , liste_homme [n1] ,  liste_femme [n2] )\n",
    "\n",
    "print (l1)\n",
    "print (liste_homme , liste_femme )\n",
    "\n",
    "if n1 != n: \n",
    "    \n",
    "    x2 = liste_homme [n]\n",
    "    x3 = liste_homme [n1]\n",
    "    y1 = liste_femme [n2]\n",
    "    \n",
    "l2 += [x2 , x3 , y1]\n",
    "del ( liste_homme [n] , liste_homme [n1] ,  liste_femme [n2] )\n",
    "\n",
    "print (l2)\n",
    "print (liste_homme , liste_femme )\n",
    "\n",
    "\n",
    "\n",
    "\n"
   ]
  },
  {
   "cell_type": "code",
   "execution_count": null,
   "metadata": {},
   "outputs": [],
   "source": []
  }
 ],
 "metadata": {
  "kernelspec": {
   "display_name": "Python 3",
   "language": "python",
   "name": "python3"
  },
  "language_info": {
   "codemirror_mode": {
    "name": "ipython",
    "version": 3
   },
   "file_extension": ".py",
   "mimetype": "text/x-python",
   "name": "python",
   "nbconvert_exporter": "python",
   "pygments_lexer": "ipython3",
   "version": "3.7.4"
  }
 },
 "nbformat": 4,
 "nbformat_minor": 4
}
