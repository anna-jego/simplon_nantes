{
 "cells": [
  {
   "cell_type": "markdown",
   "metadata": {},
   "source": [
    "# Ensembles et dictionnaires"
   ]
  },
  {
   "cell_type": "markdown",
   "metadata": {},
   "source": [
    "## Exercice 1: Magasin en ligne"
   ]
  },
  {
   "cell_type": "markdown",
   "metadata": {},
   "source": [
    "Dans cet exercice, nous nous familiarisons avec les manipulations de dictionnaires sur une thématique de magasin en ligne.\n",
    "«Chez Geek and sons tout ce qui est inutile peut s’acheter, et tout ce qui peut s’acheter est un peu trop cher.»\n",
    "La base de prix des produits de Geek and sons est représentée en Python par un dictionnaire de type dict[str:float] avec :\n",
    "\n",
    "¤ les noms de produits, de type str, comme clés.\n",
    "\n",
    "¤ les prix des produits, de type float, comme valeurs associées."
   ]
  },
  {
   "cell_type": "markdown",
   "metadata": {},
   "source": [
    "### Question 1"
   ]
  },
  {
   "cell_type": "markdown",
   "metadata": {},
   "source": [
    "Donner une expression Python pour construire la base des prix des produits correspondant à la table suivante :"
   ]
  },
  {
   "cell_type": "raw",
   "metadata": {},
   "source": [
    "Nom du produit      Prix TTC\n",
    "____________________________\n",
    "Sabre laser         229.0\n",
    "Mitendo DX          127.30\n",
    "Coussin Linux       74.50\n",
    "Slip Goldorak       29.90\n",
    "Station Nextpresso  184.60"
   ]
  },
  {
   "cell_type": "code",
   "execution_count": 4,
   "metadata": {},
   "outputs": [],
   "source": [
    "dictionnaire_de_produits = ({'Sabre laser':229.00,\n",
    "                            'Mitendo DX':127.30,\n",
    "                            'Coussin Linux':74.50,\n",
    "                            'Slip Goldorak':29.90,\n",
    "                            'Station Nextpresso':184.60})"
   ]
  },
  {
   "cell_type": "markdown",
   "metadata": {},
   "source": [
    "### Question 2"
   ]
  },
  {
   "cell_type": "markdown",
   "metadata": {},
   "source": [
    "Donner une définition de la fonction disponibilite qui étant donné un nom de produit prod et une base de prix Prix, retourne True si le produit est présent dans la base, ou False sinon"
   ]
  },
  {
   "cell_type": "code",
   "execution_count": 5,
   "metadata": {},
   "outputs": [
    {
     "name": "stdout",
     "output_type": "stream",
     "text": [
      "True\n",
      "True\n",
      "False\n"
     ]
    }
   ],
   "source": [
    "def disponibilite(prod,base_de_donnees):\n",
    "    if prod in base_de_donnees.keys():        \n",
    "        return True\n",
    "    return False\n",
    "\n",
    "print(disponibilite('Mitendo DX',dictionnaire_de_produits))\n",
    "print(disponibilite('Slip Goldorak',dictionnaire_de_produits))\n",
    "print(disponibilite('JJ CABA',dictionnaire_de_produits))"
   ]
  },
  {
   "cell_type": "markdown",
   "metadata": {},
   "source": [
    "### Question 3"
   ]
  },
  {
   "cell_type": "markdown",
   "metadata": {},
   "source": [
    "Donner une définition de la fonction prix_moyen qui, étant donné une base de prix (contenant au moins un produit), retourne le prix moyen des produits disponibles.\n",
    "\n",
    "Par exemple :"
   ]
  },
  {
   "cell_type": "raw",
   "metadata": {},
   "source": [
    ">>> prix_moyen({'Sabre Laser': 229.0,\n",
    "                'Mitendo DX': 127.30,\n",
    "                'Coussin Linux' : 74.50,\n",
    "                'Slip Goldorak' : 29.90,\n",
    "                'Station Nextpresso' : 184.60})\n",
    "            \n",
    "129.06"
   ]
  },
  {
   "cell_type": "code",
   "execution_count": 6,
   "metadata": {},
   "outputs": [
    {
     "name": "stdout",
     "output_type": "stream",
     "text": [
      "129.06\n"
     ]
    }
   ],
   "source": [
    "def prix_moyen(base_de_donnees):\n",
    "    return sum(base_de_donnees.values())/len(base_de_donnees)\n",
    "\n",
    "print(prix_moyen(dictionnaire_de_produits))"
   ]
  },
  {
   "cell_type": "markdown",
   "metadata": {},
   "source": [
    "### Question 4"
   ]
  },
  {
   "cell_type": "markdown",
   "metadata": {},
   "source": [
    "Donner une définition de la fonction fourchette_prix qui, étant donné un prix minimum mini, un prix maximum maxi et une base de Prix, retourne l’ensemble des noms de produits disponibles dans cette fourchette de prix.\n",
    "\n",
    "Par exemple :"
   ]
  },
  {
   "cell_type": "raw",
   "metadata": {},
   "source": [
    ">>> fourchette_prix(50.0, 200.0, {'Sabre Laser': 229.0,\n",
    "                                  'Mitendo DX': 127.30,\n",
    "                                  'Coussin Linux' : 74.50,\n",
    "                                  'Slip Goldorak' : 29.90,\n",
    "                                  'Station Nextpresso' : 184.60})\n",
    "\n",
    "{'Coussin Linux', 'Mitendo DX', 'Station Nextpresso'}"
   ]
  },
  {
   "cell_type": "code",
   "execution_count": 7,
   "metadata": {},
   "outputs": [
    {
     "name": "stdout",
     "output_type": "stream",
     "text": [
      "{'Coussin Linux', 'Mitendo DX', 'Station Nextpresso'}\n"
     ]
    }
   ],
   "source": [
    "def fourchette_de_prix(prix_minimum,prix_maximum,base_de_donnees):\n",
    "    return set(x for x,y in base_de_donnees.items() if prix_minimum<y<prix_maximum)\n",
    "\n",
    "#st = set()\n",
    "#for key,value in base_de_donnees.items()\n",
    "    #if prix_minimum<value<prix_maximum:\n",
    "        #st.add(key)\n",
    "\n",
    "print(fourchette_de_prix(50,200,dictionnaire_de_produits))"
   ]
  },
  {
   "cell_type": "markdown",
   "metadata": {},
   "source": [
    "### Question 5"
   ]
  },
  {
   "cell_type": "markdown",
   "metadata": {},
   "source": [
    "Le panier est un concept omniprésent dans les sites marchands, Geeks and sons n’échappe pas à la règle. En Python, le panier du client sera représenté par un dictionnaire de type dict[str:int] avec :\n",
    "\n",
    "¤ les noms de produits comme clés\n",
    "\n",
    "¤ une quantité d’achat comme valeurs associées.\n",
    "\n",
    "Donner une expression Python correspondant à l’achat de 3 sabres lasers, de 2 coussins Linux et de 1 slip Goldorak."
   ]
  },
  {
   "cell_type": "code",
   "execution_count": 8,
   "metadata": {},
   "outputs": [],
   "source": [
    "panier = {'Sabre laser':3,\n",
    "          'Coussin Linux':2,\n",
    "          'Slip Goldorak':1\n",
    "          }"
   ]
  },
  {
   "cell_type": "markdown",
   "metadata": {},
   "source": [
    "### Question 6"
   ]
  },
  {
   "cell_type": "markdown",
   "metadata": {},
   "source": [
    "Donner une définition de la fonction tous_disponibles qui, étant donné un panier d’achat Panier et une base de Prix, retourne True si tous les produits demandés sont disponibles, ou False sinon."
   ]
  },
  {
   "cell_type": "code",
   "execution_count": 9,
   "metadata": {},
   "outputs": [
    {
     "name": "stdout",
     "output_type": "stream",
     "text": [
      "Sabre laser est disponible\n",
      "Coussin Linux est disponible\n",
      "Slip Goldorax n'est pas disponible\n"
     ]
    }
   ],
   "source": [
    "prices = {'Sabre laser': 229.0, 'Mitendo DX': 127.30, 'Coussin Linux': 74.50, 'Slip Goldorak': 29.90, 'Station Nextpresso' : 184.60}\n",
    "basket = {'Sabre laser': 3, 'Coussin Linux': 2, 'Slip Goldorax' : 1}\n",
    "\n",
    "def tous_disponibles(base_prix, panier):\n",
    "    for objet in panier.keys():\n",
    "        if objet in base_prix:\n",
    "            print(f\"{objet} est disponible\")\n",
    "        else :\n",
    "            print(f\"{objet} n'est pas disponible\")\n",
    "        \n",
    "tous_disponibles(prices, basket)"
   ]
  },
  {
   "cell_type": "markdown",
   "metadata": {},
   "source": [
    "### Question 7"
   ]
  },
  {
   "cell_type": "markdown",
   "metadata": {},
   "source": [
    "Donner une définition de la fonction prix_achats qui, étant donné un panier d’achat Panier et une base de Prix, retourne le prix total correspondant.\n",
    "\n",
    "Par exemple :"
   ]
  },
  {
   "cell_type": "raw",
   "metadata": {},
   "source": [
    ">>> prix_achats({'Sabre Laser': 3, 'Coussin Linux': 2, 'Slip Goldorak': 1},\n",
    "                {'Sabre Laser': 229.0,\n",
    "                 'Mitendo DX' : 127.30,\n",
    "                 'Coussin Linux' : 74.50,\n",
    "                 'Slip Goldorak' : 29.90,\n",
    "                 'Station Nextpresso' : 184.60})\n",
    "\n",
    "865.9"
   ]
  },
  {
   "cell_type": "markdown",
   "metadata": {},
   "source": [
    "Remarque : on supposera que tous les articles du paniers sont disponibles dans la base de\n",
    "produits."
   ]
  },
  {
   "cell_type": "code",
   "execution_count": 10,
   "metadata": {},
   "outputs": [
    {
     "name": "stdout",
     "output_type": "stream",
     "text": [
      "865.9\n"
     ]
    }
   ],
   "source": [
    "def prix_achats(panier_d_achat,base_de_donnees):\n",
    "    return sum(base_de_donnees[x]*y for x,y in panier.items())\n",
    "\n",
    "print(prix_achats(panier,dictionnaire_de_produits))"
   ]
  },
  {
   "cell_type": "markdown",
   "metadata": {},
   "source": [
    "## Exercice 2 : Recettes de cuisine"
   ]
  },
  {
   "cell_type": "markdown",
   "metadata": {},
   "source": [
    "Dans cet exercice, on s’intéresse à la définition de fonctions permettant de manipuler un livre\n",
    "de recettes de cuisine. Comme tout bon livre de recettes qui se respecte, chaque recette décrit\n",
    "notamment l’ensemble des ingrédients qui la composent. À titre d’exemple, un livre de recettes\n",
    "de desserts pourrait contenir les informations suivantes :\n"
   ]
  },
  {
   "cell_type": "raw",
   "metadata": {},
   "source": [
    "Recette                            Ingrédients\n",
    "___________________________________________________________\n",
    "Gâteau au chocolat    chocolat, oeuf, farine, sucre, beurre\n",
    "Gâteau au yaourt          yaourt, oeuf, farine, sucre\n",
    "Crêpes                        oeuf, farine, lait\n",
    "Quatre-quarts             oeuf, farine, beurre, sucre\n",
    "Kouign amann                 farine, beurre, sucre"
   ]
  },
  {
   "cell_type": "markdown",
   "metadata": {},
   "source": [
    "Un livre de recettes est donc représenté en Python par un dictionnaire de type dict[str :\n",
    "set[str]]\n",
    "\n",
    "¤ les noms des recettes, de type str, comme clés\n",
    "\n",
    "¤ l’ensemble des ingrédients, de type set[str], comme valeurs associées.\n",
    "\n",
    "Ainsi, l’exemple précédent donnerait le dictionnaire Dessert suivant :"
   ]
  },
  {
   "cell_type": "code",
   "execution_count": 11,
   "metadata": {},
   "outputs": [],
   "source": [
    "recettes = {\n",
    "'gateau chocolat' : {'chocolat', 'oeuf', 'farine', 'sucre', 'beurre'},\n",
    "'gateau yaourt' : {'yaourt', 'oeuf', 'farine', 'sucre'},\n",
    "'crepes' : {'oeuf', 'farine', 'lait'},\n",
    "'quatre-quarts' : {'oeuf', 'farine', 'beurre', 'sucre'},\n",
    "'kouign amann' : {'farine', 'beurre', 'sucre'}\n",
    "}"
   ]
  },
  {
   "cell_type": "markdown",
   "metadata": {},
   "source": [
    "Dans la suite de cet exercice, on pourra utiliser l’alias de type Recette pour dict[str :\n",
    "set[str]]"
   ]
  },
  {
   "cell_type": "markdown",
   "metadata": {},
   "source": [
    "### Question 1"
   ]
  },
  {
   "cell_type": "markdown",
   "metadata": {},
   "source": [
    "Donner une définition de la fonction nb_ingredients qui, étant donnés un livre de recettes D\n",
    "et le nom d’une recette r contenue dans D, renvoie le nombre d’ingrédients nécessaires à la\n",
    "recette r.\n",
    "\n",
    "Par exemple:"
   ]
  },
  {
   "cell_type": "raw",
   "metadata": {},
   "source": [
    ">>> nb_ingredients(Dessert, 'crepes')\n",
    "3"
   ]
  },
  {
   "cell_type": "raw",
   "metadata": {},
   "source": [
    ">>> nb_ingredients(Dessert, 'gateau chocolat')\n",
    "5"
   ]
  },
  {
   "cell_type": "code",
   "execution_count": 12,
   "metadata": {},
   "outputs": [
    {
     "name": "stdout",
     "output_type": "stream",
     "text": [
      "3\n",
      "5\n"
     ]
    }
   ],
   "source": [
    "def nombre_ingredients(livre_de_recettes,recettes):\n",
    "    return len(livre_de_recettes[recettes])\n",
    "\n",
    "print(nombre_ingredients(recettes,'crepes'))\n",
    "print(nombre_ingredients(recettes,'gateau chocolat'))"
   ]
  },
  {
   "cell_type": "markdown",
   "metadata": {},
   "source": [
    "### Question 2"
   ]
  },
  {
   "cell_type": "markdown",
   "metadata": {},
   "source": [
    "Donner une définition de la fonction recette_avec qui, étant donnés un livre de recettes D et\n",
    "le nom d’un ingrédient i, renvoie l’ensemble des recettes qui utilisent cet ingrédient.\n",
    "\n",
    "Par exemple :"
   ]
  },
  {
   "cell_type": "raw",
   "metadata": {},
   "source": [
    ">>> recette_avec(Dessert, 'beurre')\n",
    "{'gateau chocolat', 'kouign amann', 'quatre-quarts'}"
   ]
  },
  {
   "cell_type": "raw",
   "metadata": {},
   "source": [
    ">>> recette_avec(Dessert, 'lait')\n",
    "{'crepes'}"
   ]
  },
  {
   "cell_type": "raw",
   "metadata": {},
   "source": [
    ">>> recette_avec(Dessert, 'fraise')\n",
    "set()"
   ]
  },
  {
   "cell_type": "code",
   "execution_count": 13,
   "metadata": {},
   "outputs": [
    {
     "name": "stdout",
     "output_type": "stream",
     "text": [
      "{'kouign amann', 'quatre-quarts', 'gateau chocolat'}\n",
      "{'crepes'}\n",
      "{'gateau yaourt', 'kouign amann', 'gateau chocolat', 'quatre-quarts', 'crepes'}\n"
     ]
    }
   ],
   "source": [
    "def recette_avec(livre_de_recettes,ingredient):\n",
    "    return set(x for x,y in livre_de_recettes.items() if ingredient in y)\n",
    "\n",
    "print(recette_avec(recettes, 'beurre'))\n",
    "print(recette_avec(recettes, 'lait'))\n",
    "print(recette_avec(recettes, 'farine'))"
   ]
  },
  {
   "cell_type": "markdown",
   "metadata": {},
   "source": [
    "### Question 3"
   ]
  },
  {
   "cell_type": "markdown",
   "metadata": {},
   "source": [
    "Donner une définition de la fonction tous_ingredients qui, étant donné un livre de recettes D,\n",
    "renvoie l’ensemble de tous les ingrédients apparaissant au moins une fois dans une recette de D.\n",
    "\n",
    "Par exemple :"
   ]
  },
  {
   "cell_type": "raw",
   "metadata": {},
   "source": [
    ">>> tous_ingredients(Dessert)\n",
    "{'beurre', 'chocolat', 'farine', 'lait', 'oeuf', 'sucre', 'yaourt'}"
   ]
  },
  {
   "cell_type": "code",
   "execution_count": 14,
   "metadata": {},
   "outputs": [
    {
     "name": "stdout",
     "output_type": "stream",
     "text": [
      "{'sucre', 'oeuf', 'lait', 'chocolat', 'yaourt', 'farine', 'beurre'}\n"
     ]
    }
   ],
   "source": [
    "def tous_ingredients(livre_de_recettes):\n",
    "    liste_ingredients = set()\n",
    "    for i in livre_de_recettes.values():\n",
    "        for j in i:\n",
    "            liste_ingredients.add(j)\n",
    "    return liste_ingredients\n",
    "\n",
    "print(tous_ingredients(recettes))"
   ]
  },
  {
   "cell_type": "markdown",
   "metadata": {},
   "source": [
    "### Question 4"
   ]
  },
  {
   "cell_type": "markdown",
   "metadata": {},
   "source": [
    "Tout livre de recettes contient une table des ingrédients permettant d’associer à chaque ingrédient l’ensemble des recettes qui l’utilisent. Une telle table est représentée en Python par le\n",
    "type dict[str : set[str]] dans lequel une clé est un ingrédient dont la valeur associée est\n",
    "l’ensemble des recettes qui l’utilisent.\n",
    "\n",
    "Donner une définition de la fonction table_ingredients qui, étant donné un livre de recettes\n",
    "D, renvoie la table des ingrédients associée.\n",
    "\n",
    "Par exemple :"
   ]
  },
  {
   "cell_type": "raw",
   "metadata": {},
   "source": [
    ">>> table_ingredients(Dessert)\n",
    "{'chocolat': {'gateau chocolat'},\n",
    "'oeuf' : {'crepes',\n",
    "          'gateau chocolat',\n",
    "          'gateau yaourt',\n",
    "          'quatre-quarts'},\n",
    "'lait' : {'crepes'},\n",
    "'yaourt' : {'gateau yaourt'},\n",
    "'farine' : {'crepes',\n",
    "            'gateau chocolat' ,\n",
    "            'gateau yaourt' ,\n",
    "            'kouign amann' ,\n",
    "            'quatre-quarts' },\n",
    "'beurre' : {'gateau chocolat', \n",
    "            'kouign amann',\n",
    "            'quatre-quarts'},\n",
    "'sucre' : {'gateau chocolat',\n",
    "           'gateau yaourt' ,\n",
    "           'kouign amann' ,\n",
    "           'quatre-quarts' }}"
   ]
  },
  {
   "cell_type": "code",
   "execution_count": 15,
   "metadata": {},
   "outputs": [
    {
     "name": "stdout",
     "output_type": "stream",
     "text": [
      "{'sucre': {'gateau yaourt', 'kouign amann', 'quatre-quarts', 'gateau chocolat'}, 'oeuf': {'gateau yaourt', 'crepes', 'quatre-quarts', 'gateau chocolat'}, 'chocolat': {'gateau chocolat'}, 'farine': {'gateau yaourt', 'kouign amann', 'gateau chocolat', 'quatre-quarts', 'crepes'}, 'beurre': {'kouign amann', 'quatre-quarts', 'gateau chocolat'}, 'yaourt': {'gateau yaourt'}, 'lait': {'crepes'}}\n"
     ]
    }
   ],
   "source": [
    "def table_ingredients(livre_de_recettes):\n",
    "    index_ingredients = {}\n",
    "    for x,y in livre_de_recettes.items(): #récup les clés et les valeurs en même temps, la méthode items retourne un tuple .\n",
    "        for i in y:\n",
    "            index_ingredients[i] = index_ingredients.get(i,{x})\n",
    "            index_ingredients[i].add(x)\n",
    "    return index_ingredients\n",
    "\n",
    "print(table_ingredients(recettes))"
   ]
  },
  {
   "cell_type": "markdown",
   "metadata": {},
   "source": [
    "### Question 5"
   ]
  },
  {
   "cell_type": "markdown",
   "metadata": {},
   "source": [
    "Donner une définition de la fonction ingredient_principal qui, étant donné un livre de\n",
    "recettes D, renvoie le nom de l’ingrédient utilisé par le plus grand nombre de recettes. On\n",
    "supposera ici que D contient au moins une recette.\n",
    "\n",
    "Par exemple :"
   ]
  },
  {
   "cell_type": "raw",
   "metadata": {},
   "source": [
    ">>> ingredient_principal(Dessert)\n",
    "'farine'"
   ]
  },
  {
   "cell_type": "code",
   "execution_count": 16,
   "metadata": {},
   "outputs": [
    {
     "name": "stdout",
     "output_type": "stream",
     "text": [
      "farine\n"
     ]
    }
   ],
   "source": [
    "def ingredient_principal(livre_de_recettes):\n",
    "    return max(table_ingredients(recettes),key=table_ingredients(recettes).get)\n",
    "\n",
    "print(ingredient_principal(recettes))"
   ]
  },
  {
   "cell_type": "markdown",
   "metadata": {},
   "source": [
    "### Question 6"
   ]
  },
  {
   "cell_type": "markdown",
   "metadata": {},
   "source": [
    "Certaines personnes sont allergiques à certains ingrédients. On aimerait donc pouvoir ne conserver\n",
    "d’un livre de recettes que celles qui n’utilisent pas un ingrédient donné.\n",
    "Donner une définition de la fonction recettes_sans qui, étant donnés un livre de recettes D\n",
    "et un ingrédient i, renvoie un nouveau livre de recettes ne contenant que des recettes de D\n",
    "n’utilisant pas l’ingrédient i.\n",
    "\n",
    "Par exemple :"
   ]
  },
  {
   "cell_type": "raw",
   "metadata": {},
   "source": [
    ">>> recettes_sans(Dessert, 'farine')\n",
    "{}"
   ]
  },
  {
   "cell_type": "raw",
   "metadata": {},
   "source": [
    ">>> recettes_sans(Dessert, 'oeuf')\n",
    "{'kouign amann': {'beurre', 'farine', 'sucre'}}"
   ]
  },
  {
   "cell_type": "raw",
   "metadata": {},
   "source": [
    ">>> recettes_sans(Dessert, 'beurre')\n",
    "{'gateau yaourt': {'farine', 'oeuf', 'sucre', 'yaourt'},\n",
    "'crepes' : {'farine', 'lait', 'oeuf'}}"
   ]
  },
  {
   "cell_type": "code",
   "execution_count": 17,
   "metadata": {},
   "outputs": [
    {
     "name": "stdout",
     "output_type": "stream",
     "text": [
      "{'crepes': {'farine', 'oeuf', 'lait'}}\n",
      "{'gateau chocolat': {'sucre', 'oeuf', 'chocolat', 'farine', 'beurre'}, 'gateau yaourt': {'yaourt', 'farine', 'sucre', 'oeuf'}, 'quatre-quarts': {'farine', 'beurre', 'sucre', 'oeuf'}, 'kouign amann': {'farine', 'beurre', 'sucre'}}\n"
     ]
    }
   ],
   "source": [
    "def recette_sans(livre_de_recettes,ingredient):\n",
    "    livre_avec_exclusion = livre_de_recettes.copy()\n",
    "    for x,y in livre_de_recettes.items():\n",
    "        if ingredient in y:\n",
    "            livre_avec_exclusion.pop(x)\n",
    "    return livre_avec_exclusion\n",
    "    \n",
    "\n",
    "print(recette_sans(recettes,'sucre'))\n",
    "print(recette_sans(recettes,'lait'))"
   ]
  },
  {
   "cell_type": "markdown",
   "metadata": {},
   "source": [
    "## Exercice 3 : Statistiques sur les lettres"
   ]
  },
  {
   "cell_type": "markdown",
   "metadata": {},
   "source": [
    "Dans cet exercice, on effectue quelques calculs statistiques sur les fréquences de lettres dans des\n",
    "textes (chaînes de caractères).\n",
    "\n",
    "Les fréquences (ou nombre d’occurrences) des lettres sont représentées sous la forme d’un\n",
    "dictionnaire de type dict[str:int] avec :\n",
    "\n",
    "¤ des lettres (caractères) comme clés\n",
    "\n",
    "¤ des entiers naturels (fréquence du caractère) pour les valeurs associées\n",
    "\n",
    "Pour séparer les lettres de la langue française des autres caractères possibles dans les chaînes,\n",
    "on utilise la fonction suivante :"
   ]
  },
  {
   "cell_type": "code",
   "execution_count": 18,
   "metadata": {},
   "outputs": [],
   "source": [
    "def est_lettre(c):\n",
    "    \"\"\" str -> bool\n",
    "    Hypothèse : len(c) == 1 (caractère)\n",
    "    Retourne True si le caractère c est une lettre, ou False sinon.\"\"\"\n",
    "    return ((c >= 'a') and (c <= 'z')) or ((c >= 'A') and (c <= 'Z')) or (c in {'é', 'è', 'à', 'ù', 'œ'})"
   ]
  },
  {
   "cell_type": "markdown",
   "metadata": {},
   "source": [
    "### Question 1"
   ]
  },
  {
   "cell_type": "markdown",
   "metadata": {},
   "source": [
    "Définir la fonction frequences_lettres qui étant donnée un chaîne de caractère s retourne les\n",
    "fréquences des lettres de s sous la forme d’un dictionnaire de type dict[str:int].\n",
    "\n",
    "Par exemple :"
   ]
  },
  {
   "cell_type": "raw",
   "metadata": {},
   "source": [
    ">>> frequences_lettres('alea jacta est')\n",
    "{'j': 1, 'e': 2, 't': 2, 'c': 1, 'a': 4, 's': 1, 'l': 1}"
   ]
  },
  {
   "cell_type": "raw",
   "metadata": {},
   "source": [
    ">>> frequences_lettres(\"l'élève\")\n",
    "{'é': 1, 'e': 1, 'v': 1, 'l': 2, 'è': 1}"
   ]
  },
  {
   "cell_type": "code",
   "execution_count": 19,
   "metadata": {},
   "outputs": [
    {
     "name": "stdout",
     "output_type": "stream",
     "text": [
      "{'c': 3, 'o': 3, 'u': 2, 'e': 1, 's': 1, 't': 1, 'm': 1, 'i': 1}\n",
      "{'j': 2, 'o': 2, 'b': 1, 'a': 1}\n"
     ]
    }
   ],
   "source": [
    "def frequences_lettres(chaine_de_caractere):\n",
    "    dictionnaire = {}\n",
    "    for i in chaine_de_caractere:\n",
    "        if est_lettre(i):\n",
    "            dictionnaire[i]=dictionnaire.get(i,0)+1\n",
    "    return dictionnaire\n",
    "\n",
    "print(frequences_lettres(\"coucou c'est moi\"))\n",
    "print(frequences_lettres(\"jojoba\"))"
   ]
  },
  {
   "cell_type": "markdown",
   "metadata": {},
   "source": [
    "### Question 2"
   ]
  },
  {
   "cell_type": "markdown",
   "metadata": {},
   "source": [
    "Définir une fonction lettre_freq_max qui retourne la lettre de fréquence maximale dans un\n",
    "dictionnaire Freqs de fréquences.\n",
    "\n",
    "Par exemple :"
   ]
  },
  {
   "cell_type": "raw",
   "metadata": {},
   "source": [
    ">>> lettre_freq_max(frequences_lettres('alea jacta est'))\n",
    "'a'"
   ]
  },
  {
   "cell_type": "raw",
   "metadata": {},
   "source": [
    ">>> lettre_freq_max(frequences_lettres(\"l'élève\"))\n",
    "'l'"
   ]
  },
  {
   "cell_type": "markdown",
   "metadata": {},
   "source": [
    "Remarque : s’il y a plusieurs lettres de fréquence maximale, alors on n’en retourne qu’une\n",
    "choisie arbitrairement."
   ]
  },
  {
   "cell_type": "code",
   "execution_count": 20,
   "metadata": {},
   "outputs": [
    {
     "name": "stdout",
     "output_type": "stream",
     "text": [
      "c\n",
      "j\n"
     ]
    }
   ],
   "source": [
    "def lettre_freq_max(dictionnaire_bien_range):\n",
    "    return max(dictionnaire_bien_range,key=dictionnaire_bien_range.get)\n",
    "\n",
    "print(lettre_freq_max(frequences_lettres(\"coucou c'est moi\")))\n",
    "print(lettre_freq_max(frequences_lettres(\"jojoba\")))"
   ]
  },
  {
   "cell_type": "markdown",
   "metadata": {},
   "source": [
    "### Question 3"
   ]
  },
  {
   "cell_type": "markdown",
   "metadata": {},
   "source": [
    "Dans cette question, nous aimerions effectuer notre petit test statistique sur un véritable texte.\n",
    "Pour cela, nous allons tout d’abord définir une fonction chargement_texte permettant de lire\n",
    "un fichier texte et de placer le résultat dans une chaîne de caractères.\n",
    "\n",
    "Remarque : nous n’étudions pas le chargment et la sauvegarde des fichiers dans ce cours, donc\n",
    "on utilisera cette fonction en suivant simplement sa spécification."
   ]
  },
  {
   "cell_type": "code",
   "execution_count": 21,
   "metadata": {},
   "outputs": [
    {
     "ename": "NameError",
     "evalue": "name 'fichier' is not defined",
     "output_type": "error",
     "traceback": [
      "\u001b[1;31m---------------------------------------------------------------------------\u001b[0m",
      "\u001b[1;31mNameError\u001b[0m                                 Traceback (most recent call last)",
      "\u001b[1;32m<ipython-input-21-27f367bad0a7>\u001b[0m in \u001b[0;36m<module>\u001b[1;34m\u001b[0m\n\u001b[0;32m     10\u001b[0m     \u001b[1;32mreturn\u001b[0m \u001b[0mcontenu\u001b[0m\u001b[1;33m\u001b[0m\u001b[1;33m\u001b[0m\u001b[0m\n\u001b[0;32m     11\u001b[0m \u001b[1;33m\u001b[0m\u001b[0m\n\u001b[1;32m---> 12\u001b[1;33m \u001b[0mprint\u001b[0m\u001b[1;33m(\u001b[0m\u001b[0mfrequences_lettres\u001b[0m\u001b[1;33m(\u001b[0m\u001b[0mchargement_texte\u001b[0m\u001b[1;33m(\u001b[0m\u001b[0mfichier\u001b[0m\u001b[1;33m)\u001b[0m\u001b[1;33m)\u001b[0m\u001b[1;33m)\u001b[0m\u001b[1;33m\u001b[0m\u001b[1;33m\u001b[0m\u001b[0m\n\u001b[0m\u001b[0;32m     13\u001b[0m \u001b[0mprint\u001b[0m\u001b[1;33m(\u001b[0m\u001b[0mlettre_freq_max\u001b[0m\u001b[1;33m(\u001b[0m\u001b[0mfrequences_lettres\u001b[0m\u001b[1;33m(\u001b[0m\u001b[0mchargement_texte\u001b[0m\u001b[1;33m(\u001b[0m\u001b[0mfichier\u001b[0m\u001b[1;33m)\u001b[0m\u001b[1;33m)\u001b[0m\u001b[1;33m)\u001b[0m\u001b[1;33m)\u001b[0m\u001b[1;33m\u001b[0m\u001b[1;33m\u001b[0m\u001b[0m\n",
      "\u001b[1;31mNameError\u001b[0m: name 'fichier' is not defined"
     ]
    }
   ],
   "source": [
    "def chargement_texte(fichier):\n",
    "    \"\"\" str -> str\n",
    "    Hypothèse : le fichier est présent sur le disque\n",
    "    Retourne la chaîne de caractères correspondant au contenu\n",
    "    du fichier.\"\"\"\n",
    "    # contenu : str\n",
    "    contenu = '' # contenu du fichier\n",
    "    with open(fichier, 'r') as f:\n",
    "        contenu = f.read()\n",
    "    return contenu\n",
    "\n",
    "print(frequences_lettres(chargement_texte(fichier)))\n",
    "print(lettre_freq_max(frequences_lettres(chargement_texte(fichier))))"
   ]
  },
  {
   "cell_type": "markdown",
   "metadata": {},
   "source": [
    "On récupérera alors un fichier texte (encodage UTF-8) de langue française pour en étudier le\n",
    "contenu."
   ]
  },
  {
   "cell_type": "markdown",
   "metadata": {},
   "source": [
    "On peut par exemple récupérer un texte intégral via le Projet Gutemberg, à l’adresse suivante :\n",
    "http://www.gutenberg.org\n",
    "Pour le TME, on peut choisir son propre texte mais attention à ce qu’il ne soit pas trop\n",
    "volumineux. Pour les exemples on a choisi Quatrevingt treize de Victor Hugo que l’on trouvera\n",
    "dans :\n",
    "http://www.gutenberg.org/cache/epub/9645/pg9645.txt"
   ]
  },
  {
   "cell_type": "markdown",
   "metadata": {},
   "source": [
    "Donner deux expressions Python permettant de :\n",
    "1. récupérer le dictionnaire des fréquences des lettres présentes dans votre texte d’exemple.\n",
    "2. trouver la lettre dont la fréquence est la plus grande."
   ]
  },
  {
   "cell_type": "markdown",
   "metadata": {},
   "source": [
    "### Question 4"
   ]
  },
  {
   "cell_type": "markdown",
   "metadata": {},
   "source": [
    "On souhaite maintenant connaître les lettres qui ne dépassent pas une fréquence donnée dans un\n",
    "texte. Donner une définition de la fonction lettres_freq_inf qui étant donné un dictionnaire\n",
    "de fréquences Freqs et une fréquence fseuil retourne l’ensemble des lettres de fréquence\n",
    "inférieure ou égale à fseuil.\n",
    "\n",
    "Par exemple :"
   ]
  },
  {
   "cell_type": "raw",
   "metadata": {},
   "source": [
    ">>> lettres_freq_inf(frequences_lettres('alea jacta est'), 1)\n",
    "{'c', 'j', 'l', 's'}"
   ]
  },
  {
   "cell_type": "raw",
   "metadata": {},
   "source": [
    ">>> lettres_freq_inf(frequences_lettres(\"l'élève\"), 2)\n",
    "{'e', 'l', 'v', 'è', 'é'}"
   ]
  },
  {
   "cell_type": "markdown",
   "metadata": {},
   "source": [
    "Remarque : on fera l’hypothèse que la fréquence de seuil est strictement positive. En effet,\n",
    "nous n’étudions pas l’absence d’une lettre dans le texte."
   ]
  },
  {
   "cell_type": "code",
   "execution_count": 22,
   "metadata": {},
   "outputs": [
    {
     "name": "stdout",
     "output_type": "stream",
     "text": [
      "{'c', 's', 'l', 'j'}\n",
      "{'é', 'l', 'e', 'v', 'è'}\n"
     ]
    }
   ],
   "source": [
    "def lettres_freq_inf(dictionnaire_bien_range,seuil):\n",
    "    return set(x for x,y in dictionnaire_bien_range.items() if y<=seuil)\n",
    "\n",
    "print(lettres_freq_inf(frequences_lettres('alea jacta est'),1))\n",
    "print(lettres_freq_inf(frequences_lettres(\"l élève\"),2))"
   ]
  },
  {
   "cell_type": "markdown",
   "metadata": {},
   "source": [
    "### Question 5"
   ]
  },
  {
   "cell_type": "markdown",
   "metadata": {},
   "source": [
    "Donner une expression Python permettant d’obtenir l’ensemble des lettres utilisées moins de\n",
    "100 fois dans votre texte."
   ]
  },
  {
   "cell_type": "code",
   "execution_count": 26,
   "metadata": {},
   "outputs": [],
   "source": []
  },
  {
   "cell_type": "markdown",
   "metadata": {},
   "source": [
    "# Exercices avancés sur les ensembles et dictionnaires"
   ]
  },
  {
   "cell_type": "markdown",
   "metadata": {},
   "source": [
    "## Exercice 4 : Gestion de bibliothèque"
   ]
  },
  {
   "cell_type": "markdown",
   "metadata": {},
   "source": [
    "Dans cet exercice, nous illustrons les compréhensions sur les dictionnaires en travaillant sur une\n",
    "base de données de livres empruntables dans une bibliothèque.\n",
    "\n",
    "La base de données que nous allons utiliser en exemple est la suivante :"
   ]
  },
  {
   "cell_type": "code",
   "execution_count": 31,
   "metadata": {},
   "outputs": [],
   "source": [
    "# LivresBD : dict[str:tuple[str,int]]\n",
    "livres_bd = {'Les misérables':('Victor Hugo', 5),\n",
    "            'Le dernier des Mohicans' :('James F. Cooper', 0),\n",
    "            'Un animal doué de raison' : ('Robert Merle', 6),\n",
    "            'Le grand Meaulnes' :('Alain Fournier', 1),\n",
    "            'Notre-dame de Paris' :('Victor Hugo', 4),\n",
    "            'Les comtemplations' :('Victor Hugo', 0) }"
   ]
  },
  {
   "cell_type": "markdown",
   "metadata": {},
   "source": [
    "La base permet de rechercher rapidement un livre à partir de son titre (clé du dictionnaire). On\n",
    "obtient alors l’auteur du livre ainsi que le nombre d’exemplaire(s) empruntable(s) en stock.\n",
    "\n",
    "Par exemple :"
   ]
  },
  {
   "cell_type": "raw",
   "metadata": {},
   "source": [
    ">>> LivresBD['Notre-dame de Paris']\n",
    "('Victor Hugo', 4)"
   ]
  },
  {
   "cell_type": "markdown",
   "metadata": {},
   "source": [
    "### Question 1"
   ]
  },
  {
   "cell_type": "markdown",
   "metadata": {},
   "source": [
    "Proposer une définition de la fonction auteurs qui, étant donné une base de Livres, retourne\n",
    "l’ensemble des noms d’auteurs de cette base"
   ]
  },
  {
   "cell_type": "code",
   "execution_count": 32,
   "metadata": {},
   "outputs": [
    {
     "name": "stdout",
     "output_type": "stream",
     "text": [
      "{'James F. Cooper', 'Robert Merle', 'Victor Hugo', 'Alain Fournier'}\n"
     ]
    }
   ],
   "source": [
    "def auteurs(bibliotheque):\n",
    "    return set(x[0] for x in bibliotheque.values())\n",
    "\n",
    "print(auteurs(livres_bd))"
   ]
  },
  {
   "cell_type": "markdown",
   "metadata": {},
   "source": [
    "### Question 2"
   ]
  },
  {
   "cell_type": "markdown",
   "metadata": {},
   "source": [
    "Donner une définition de la fonction titres_empruntables qui, étant donné une base de Livres,\n",
    "retourne l’ensemble des livres empruntables.\n",
    "\n",
    "Par exemple :"
   ]
  },
  {
   "cell_type": "raw",
   "metadata": {},
   "source": [
    ">>> titres_empruntables(LivresBD)\n",
    "{'Le grand Meaulnes',\n",
    "'Les misérables' ,\n",
    "'Notre-dame de Paris' ,\n",
    "'Un animal doué de raison' }"
   ]
  },
  {
   "cell_type": "code",
   "execution_count": 33,
   "metadata": {},
   "outputs": [
    {
     "name": "stdout",
     "output_type": "stream",
     "text": [
      "{'Notre-dame de Paris', 'Un animal doué de raison', 'Les misérables', 'Le grand Meaulnes'}\n"
     ]
    }
   ],
   "source": [
    "def titres_empruntables(bibliotheque):\n",
    "    return set(x for x,y in bibliotheque.items() if y[1]>0)\n",
    "\n",
    "print(titres_empruntables(livres_bd))"
   ]
  },
  {
   "cell_type": "markdown",
   "metadata": {},
   "source": [
    "### Question 3"
   ]
  },
  {
   "cell_type": "markdown",
   "metadata": {},
   "source": [
    "Donner une définition de la fonction titres_auteur qui, étant donné un nom d’auteur et une\n",
    "base de Livres, retourne l’ensemble des titres de livres écrits par cet auteur.\n",
    "\n",
    "Par exemple :"
   ]
  },
  {
   "cell_type": "raw",
   "metadata": {},
   "source": [
    ">>> titres_auteur('Victor Hugo', LivresBD)\n",
    "{'Les comtemplations', 'Les misérables', 'Notre-dame de Paris'}"
   ]
  },
  {
   "cell_type": "raw",
   "metadata": {},
   "source": [
    ">>> titres_auteur('Robert Merle', LivresBD)\n",
    "{'Un animal doué de raison'}"
   ]
  },
  {
   "cell_type": "raw",
   "metadata": {},
   "source": [
    ">>> titres_auteur('Gaston Leroux', LivresBD)\n",
    "set()"
   ]
  },
  {
   "cell_type": "code",
   "execution_count": null,
   "metadata": {},
   "outputs": [],
   "source": []
  },
  {
   "cell_type": "markdown",
   "metadata": {},
   "source": [
    "## Exercice 5 : Calcul de trajets"
   ]
  },
  {
   "cell_type": "markdown",
   "metadata": {},
   "source": [
    "Cet exercice utilise un dictionnaire pour représenter une carte de transport ferroviaire. Il s’agit\n",
    "d’un exercice avancé sur les dictionnaires et les ensembles.\n",
    "\n",
    "On représente une carte de transport par un dictionnaire de type dict[str: set[str]]. Les\n",
    "clés sont des chaînes de caractères représentant des stations. A chaque clé-station est associée\n",
    "comme valeur une correspondance : l’ensemble des noms des stations accessibles directement –\n",
    "c’est-à-dire sans changement de train – depuis la clé-station. On suppose que toutes les stations\n",
    "apparaissant comme étant accessibles sont des clefs de la base.\n",
    "\n",
    "Dans cet exercice, nous allons travailler sur un dictionnaire correspondant à une toute petite\n",
    "partie de la carte de transport du réseau ferré français :"
   ]
  },
  {
   "cell_type": "code",
   "execution_count": 3,
   "metadata": {},
   "outputs": [],
   "source": [
    "# Grandes_Lignes : dict[str:set[str]]\n",
    "Grandes_Lignes = {'Paris': {'Strasbourg', 'Dijon', 'Toulouse',\n",
    "                  'Lille' , 'Lyon', 'Bordeaux'},\n",
    "                  'Strasbourg' :{'Paris', 'Dijon', 'München'},\n",
    "                  'München' : {'Strasbourg'},\n",
    "                  'Dijon' : {'Paris', 'Strasbourg', 'Lyon', 'Toulouse'},\n",
    "                  'Lyon' :{'Paris', 'Dijon', 'Toulouse'},\n",
    "                  'Toulouse' : {'Paris', 'Lyon', 'Dijon', 'Bordeaux'},\n",
    "                  'Bordeaux' : {'Nantes', 'Paris'},\n",
    "                  'Nantes' : {'Paris', 'Bordeaux','Quimper'},\n",
    "                  'Quimper' :{'Nantes'}, 'Ajaccio': {'Bastia'},\n",
    "                  'Bastia' : {'Ajaccio'}, 'Lille': {'Paris'}}"
   ]
  },
  {
   "cell_type": "markdown",
   "metadata": {},
   "source": [
    "### Question 1 - Trajet direct"
   ]
  },
  {
   "cell_type": "markdown",
   "metadata": {},
   "source": [
    "Donner une définition du prédicat trajet_direct(carte, st1, st2) qui renvoie True quand\n",
    "il existe un trajet direct de la station st1 à la station st2 dans carte et False sinon.\n",
    "\n",
    "Par exemple :"
   ]
  },
  {
   "cell_type": "raw",
   "metadata": {},
   "source": [
    ">>> trajet_direct(Grandes_Lignes, 'Paris', 'Bordeaux')\n",
    "True"
   ]
  },
  {
   "cell_type": "raw",
   "metadata": {},
   "source": [
    ">>> trajet_direct(Grandes_Lignes, 'Paris', 'Ajaccio')\n",
    "False"
   ]
  },
  {
   "cell_type": "code",
   "execution_count": 4,
   "metadata": {},
   "outputs": [
    {
     "name": "stdout",
     "output_type": "stream",
     "text": [
      "True\n",
      "False\n"
     ]
    }
   ],
   "source": [
    "def trajet_direct(carte,station1,station2):\n",
    "    if carte.get(station1) and (station2 in carte[station1]):\n",
    "            return True\n",
    "    return False\n",
    "\n",
    "print(trajet_direct(Grandes_Lignes,'Paris','Bordeaux'))\n",
    "print(trajet_direct(Grandes_Lignes,'Paris','Ajaccio'))"
   ]
  },
  {
   "cell_type": "markdown",
   "metadata": {},
   "source": [
    "### Question 2 - Ajouter une station"
   ]
  },
  {
   "cell_type": "markdown",
   "metadata": {},
   "source": [
    "Donner une définition de la fonction ajout_station qui prend en paramètre une station\n",
    "station, un ensemble de stations correspondances et une carte de transport carte et qui\n",
    "renvoie une carte de transport correspondant à carte dans laquelle la station station est\n",
    "ajoutée, ainsi que ses connexions directes à toutes les stations de correspondances.\n",
    "\n",
    "Remarques :\n",
    "\n",
    "¤ On supposera que la connexion est symétrique (si station1 est directement connectée à\n",
    "station2, alors station2 est directement connectée à station1).\n",
    "\n",
    "¤ On supposera également que toutes les stations de correspondances existent déjà dans\n",
    "la carte.\n",
    "\n",
    "Par exemple :"
   ]
  },
  {
   "cell_type": "raw",
   "metadata": {},
   "source": [
    ">>> # Nouvelles_Lignes : dict[str:set[str]]\n",
    ">>> Nouvelles_Lignes = ajout_station('Limoges', {'Paris', 'Toulouse', 'Bordeaux'},\n",
    "Grandes_Lignes)"
   ]
  },
  {
   "cell_type": "raw",
   "metadata": {},
   "source": [
    ">>> trajet_direct(Nouvelles_Lignes, 'Limoges', 'Paris')\n",
    "True"
   ]
  },
  {
   "cell_type": "raw",
   "metadata": {},
   "source": [
    ">>> trajet_direct(Nouvelles_Lignes, 'Bordeaux', 'Limoges')\n",
    "True"
   ]
  },
  {
   "cell_type": "raw",
   "metadata": {},
   "source": [
    ">>> trajet_direct(Nouvelles_Lignes, 'Limoges', 'Dijon')\n",
    "False"
   ]
  },
  {
   "cell_type": "code",
   "execution_count": null,
   "metadata": {},
   "outputs": [],
   "source": [
    "123"
   ]
  },
  {
   "cell_type": "markdown",
   "metadata": {},
   "source": [
    "### Question 3 - stations atteignables en k correspondances"
   ]
  },
  {
   "cell_type": "markdown",
   "metadata": {},
   "source": [
    "Dans cette question un peu plus difficile, on souhaite récuperer l’ensemble des stations qui sont\n",
    "atteignables depuis une station de depart en exactement k correspondances.\n",
    "\n",
    "Par exemple :"
   ]
  },
  {
   "cell_type": "raw",
   "metadata": {},
   "source": [
    ">>> stations_atteignables(Grandes_Lignes, 'Paris', 0)\n",
    "{'Paris'}"
   ]
  },
  {
   "cell_type": "raw",
   "metadata": {},
   "source": [
    ">>> stations_atteignables(Grandes_Lignes, 'Paris', 1)\n",
    "{'Bordeaux', 'Dijon', 'Lille', 'Lyon', 'Strasbourg', 'Toulouse'}"
   ]
  },
  {
   "cell_type": "raw",
   "metadata": {},
   "source": [
    ">>> stations_atteignables(Grandes_Lignes, 'Paris', 2)\n",
    "{'Bordeaux',\n",
    " 'Dijon' ,\n",
    " 'Lyon' ,\n",
    " 'München' ,\n",
    " 'Nantes' ,\n",
    " 'Paris' ,\n",
    " 'Strasbourg' ,\n",
    " 'Toulouse' }"
   ]
  },
  {
   "cell_type": "markdown",
   "metadata": {},
   "source": [
    "Remarque: Paris est bien sûr atteignable depuis Paris en 2 étapes (trajet direct aller/retour)"
   ]
  },
  {
   "cell_type": "code",
   "execution_count": null,
   "metadata": {},
   "outputs": [],
   "source": []
  },
  {
   "cell_type": "markdown",
   "metadata": {},
   "source": [
    "### Question 4 - Compteur de changements"
   ]
  },
  {
   "cell_type": "markdown",
   "metadata": {},
   "source": [
    "Déduire de la question précédente une définition de la fonction compteur_changements qui\n",
    "retourne le nombre de correspondances à effectuer pour rejoindre une station arrivee depuis\n",
    "une station depart pour une carte donnée.\n",
    "\n",
    "Remarque : on fera l’hypothèse qu’un trajet avec correspondance(s) existe dans la carte entre\n",
    "les deux stations.\n",
    "\n",
    "Par exemple :"
   ]
  },
  {
   "cell_type": "raw",
   "metadata": {},
   "source": [
    ">>> compteur_changements(Grandes_Lignes, 'Paris', 'Paris')\n",
    "0"
   ]
  },
  {
   "cell_type": "raw",
   "metadata": {},
   "source": [
    ">>> compteur_changements(Grandes_Lignes, 'Paris', 'Dijon')\n",
    "1"
   ]
  },
  {
   "cell_type": "raw",
   "metadata": {},
   "source": [
    ">>> compteur_changements(Grandes_Lignes, 'Paris', 'Quimper')\n",
    "3"
   ]
  },
  {
   "cell_type": "code",
   "execution_count": null,
   "metadata": {},
   "outputs": [],
   "source": []
  },
  {
   "cell_type": "markdown",
   "metadata": {},
   "source": [
    "### Question 5 - Existence d'un trajet"
   ]
  },
  {
   "cell_type": "markdown",
   "metadata": {},
   "source": [
    "On souhaite maintenant vérifier si dans une carte donnée il exsite un trajet entre une station\n",
    "de depart et une station arrivee.\n",
    "\n",
    "La fonction à définir se nommme existence_trajet, voici quelques exemples d’utilisation :"
   ]
  },
  {
   "cell_type": "raw",
   "metadata": {},
   "source": [
    ">>> existence_trajet(Grandes_Lignes, 'Paris', 'München')\n",
    "True"
   ]
  },
  {
   "cell_type": "raw",
   "metadata": {},
   "source": [
    ">>> existence_trajet(Grandes_Lignes, 'Ajaccio', 'Bordeaux')\n",
    "False"
   ]
  },
  {
   "cell_type": "markdown",
   "metadata": {},
   "source": [
    "Remarque: la fonction est proche de stations_atteignables (cf. Question 3) mais il faudra\n",
    "penser à ne pas visiter deux fois la même station. Que se passe-t-il d’après vous s’il on ne\n",
    "garantit pas cette propriété ?"
   ]
  },
  {
   "cell_type": "code",
   "execution_count": null,
   "metadata": {},
   "outputs": [],
   "source": []
  }
 ],
 "metadata": {
  "kernelspec": {
   "display_name": "Python 3",
   "language": "python",
   "name": "python3"
  },
  "language_info": {
   "codemirror_mode": {
    "name": "ipython",
    "version": 3
   },
   "file_extension": ".py",
   "mimetype": "text/x-python",
   "name": "python",
   "nbconvert_exporter": "python",
   "pygments_lexer": "ipython3",
   "version": "3.7.4"
  }
 },
 "nbformat": 4,
 "nbformat_minor": 4
}
