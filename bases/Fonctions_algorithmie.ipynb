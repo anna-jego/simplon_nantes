{
 "cells": [
  {
   "cell_type": "markdown",
   "metadata": {
    "colab_type": "text",
    "id": "eyhYxydiWvrV"
   },
   "source": [
    "Contrairement a une simple instruction telle qu'une boucle, une fonction a pour but d'être réutilisée dans la suite d'un code.  \n",
    "\n",
    "*   Une fonction prend en entrée un ou plusieurs arguments, qui servent d'inputs à la fonction (ce qu'on lui donne à manger en gros)\n",
    "\n",
    "*   Elle est composée d'une liste d'instructions qui incluent souvent des manipulations des arguments\n",
    "*   Enfin elle retourne un élément (via l'indication Return) qui est la sortie de la fonction (la transformation de l'input avec le résultat final)\n",
    "*   L'indication Return est primordiale puisqu'elle permet de stocker le résultat de la fonction\n",
    "\n",
    "\n",
    "\n"
   ]
  },
  {
   "cell_type": "markdown",
   "metadata": {
    "colab_type": "text",
    "id": "ZcVCNAbtY9o_"
   },
   "source": [
    "L'objectif de ces exercices est de répondre aux différentes questions en créant à chaque fois une fonction"
   ]
  },
  {
   "cell_type": "markdown",
   "metadata": {
    "colab_type": "text",
    "id": "lX0qlBAAZR67"
   },
   "source": [
    "### Exercice 1: multiple de 3 et de 5\n",
    "\n",
    "Si on liste tous les entiers naturels en dessous de 10 qui sont multiples de 3 ou 5, on obtient 3, 5, 6 et 9. La somme de ces entiers donne 23."
   ]
  },
  {
   "cell_type": "markdown",
   "metadata": {
    "colab_type": "text",
    "id": "19gEPn1CZPLN"
   },
   "source": [
    "#### Question 1: Quelle est la somme de tous les multiples de 3 ou 5 qui sont en dessous de 100 ?"
   ]
  },
  {
   "cell_type": "code",
   "execution_count": 4,
   "metadata": {
    "colab": {},
    "colab_type": "code",
    "id": "AvxPLD29Y5gN"
   },
   "outputs": [
    {
     "name": "stdout",
     "output_type": "stream",
     "text": [
      "2318\n"
     ]
    }
   ],
   "source": [
    "resultat = 0\n",
    "for i in range(1, 100):\n",
    "    if i%3 == 0 or i%5 == 0:\n",
    "        resultat += i\n",
    "print(resultat)"
   ]
  },
  {
   "cell_type": "markdown",
   "metadata": {
    "colab_type": "text",
    "id": "HkQmCCsdaPxu"
   },
   "source": [
    "### Exercice 2: la suite de Fibonacci"
   ]
  },
  {
   "cell_type": "markdown",
   "metadata": {
    "colab_type": "text",
    "id": "lS-HhjYObB6M"
   },
   "source": [
    "La suite de Fibonacci est une suite d'entiers dans laquelle chaque terme est la somme des deux termes précédents. Cette liste est initialisée par les deux premiers termes qui sont souvent 0 et 1. \n",
    "\n",
    "Les 10 premiers nombres de la suite de Fibonacci sont alors: \n",
    "\n",
    "\n",
    "*   0, 1, 2, 3, 5, 8, 13, 21, 34, 55"
   ]
  },
  {
   "cell_type": "markdown",
   "metadata": {
    "colab_type": "text",
    "id": "WUPOZjiBa6LU"
   },
   "source": [
    "#### Question 2: Quelle est la liste des nombres de la suite de Fibonacci inférieur à 1 000 000 ? "
   ]
  },
  {
   "cell_type": "code",
   "execution_count": 24,
   "metadata": {
    "colab": {},
    "colab_type": "code",
    "id": "qMwqz0ShaUrh"
   },
   "outputs": [
    {
     "name": "stdout",
     "output_type": "stream",
     "text": [
      "0\n",
      "1\n",
      "1\n",
      "2\n",
      "3\n",
      "5\n",
      "8\n"
     ]
    }
   ],
   "source": [
    "#Les deux premiers termes sont 0 et 1. Tous les autres termes sont obtenus en ajoutant les deux termes précédents.\n",
    "\n",
    "a, b = 0, 1\n",
    "while a < 10:\n",
    "    print(a)\n",
    "    a, b = b, a+b"
   ]
  },
  {
   "cell_type": "markdown",
   "metadata": {
    "colab_type": "text",
    "id": "l0Sbwbt2c-_x"
   },
   "source": [
    "#### Question 3: Quelle est la somme de tous les entiers pairs de la suite de Fibonacci inférieur à 4 000 000 ? "
   ]
  },
  {
   "cell_type": "code",
   "execution_count": 7,
   "metadata": {
    "colab": {},
    "colab_type": "code",
    "id": "sRY2Tgjfd1ro"
   },
   "outputs": [
    {
     "name": "stdout",
     "output_type": "stream",
     "text": [
      "0\n",
      "2\n",
      "8\n",
      "34\n",
      "144\n",
      "610\n",
      "2584\n",
      "10946\n",
      "46368\n",
      "196418\n",
      "832040\n",
      "3524578\n"
     ]
    }
   ],
   "source": [
    "#Conseil: utiliser la fonction précédente\n",
    "\n",
    "a, b = 0, 1\n",
    "while a < 4000000:\n",
    "    if a%2 == 0:\n",
    "        print(a)\n",
    "    a, b = b, a+b\n"
   ]
  },
  {
   "cell_type": "markdown",
   "metadata": {
    "colab_type": "text",
    "id": "cswYxrvge1tk"
   },
   "source": [
    "### Exercice 3: Le mutiple le plus petit"
   ]
  },
  {
   "cell_type": "markdown",
   "metadata": {
    "colab_type": "text",
    "id": "TYZj4B9tfZtB"
   },
   "source": [
    "2520 est le plus petit nombre entier divisible par tous les entiers de 1 à 10. "
   ]
  },
  {
   "cell_type": "markdown",
   "metadata": {
    "colab_type": "text",
    "id": "rN8nZuthfqTx"
   },
   "source": [
    "#### Question 4: Quel est le nombre entier le plus petit possible divisible par l'ensemble des entiers de 1 à 20 ? "
   ]
  },
  {
   "cell_type": "code",
   "execution_count": 26,
   "metadata": {},
   "outputs": [
    {
     "name": "stdout",
     "output_type": "stream",
     "text": [
      "232792560\n"
     ]
    }
   ],
   "source": [
    "def ppcm(p,n):\n",
    "    for k in range(1,n+1):\n",
    "        z = k*p\n",
    "        if z % n == 0:\n",
    "            return z\n",
    "\n",
    "p=1\n",
    "n=20\n",
    "for i in range(1,n+1):\n",
    "    p=ppcm(p,i)\n",
    "print(p)"
   ]
  },
  {
   "cell_type": "markdown",
   "metadata": {
    "colab_type": "text",
    "id": "LZzVUNrGcaEV"
   },
   "source": [
    "### Exercice 4: Différence des carrés"
   ]
  },
  {
   "cell_type": "markdown",
   "metadata": {
    "colab_type": "text",
    "id": "D2dp8NWscjmi"
   },
   "source": [
    "La somme des dix premiers entiers carrés est: \n",
    "\n",
    "```\n",
    "1**2 + 2**2 ... + 10**2 = 385\n",
    "```\n",
    "\n"
   ]
  },
  {
   "cell_type": "markdown",
   "metadata": {
    "colab_type": "text",
    "id": "D_CrBbiWc9lg"
   },
   "source": [
    "La somme des dix premiers entiers, le tout au carré, est égal à \n",
    "\n",
    "```\n",
    "(1 + 2 + ... + 10)**2 = 55**2 = 3025\n",
    "```\n",
    "\n"
   ]
  },
  {
   "cell_type": "markdown",
   "metadata": {
    "colab_type": "text",
    "id": "BLm8tbNpdMqV"
   },
   "source": [
    "La différence entre le carré de la somme des 10 premiers entiers et la somme des 10 premiers entiers au carré est donc: \n",
    "\n",
    "```\n",
    "3025 - 385 = 2640\n",
    "```\n",
    "\n",
    "\n",
    "\n"
   ]
  },
  {
   "cell_type": "markdown",
   "metadata": {
    "colab_type": "text",
    "id": "GhUUK5DlecEn"
   },
   "source": [
    "#### Question 5: quelle est la différence entre le carré de la somme des 100 premiers entiers et la somme des 100 premiers entiers au carré ? "
   ]
  },
  {
   "cell_type": "code",
   "execution_count": 16,
   "metadata": {
    "colab": {},
    "colab_type": "code",
    "id": "oE8rHz_ichJi"
   },
   "outputs": [
    {
     "data": {
      "text/plain": [
       "50005000"
      ]
     },
     "execution_count": 16,
     "metadata": {},
     "output_type": "execute_result"
    }
   ],
   "source": [
    "#le carré de la somme des 100 premiers entiers\n",
    "\n",
    "def entier(n):\n",
    "    s = 0\n",
    "    for i in range(1, n + 1):\n",
    "        s = s + i\n",
    "    return(s)\n",
    "entier(100**2)"
   ]
  },
  {
   "cell_type": "code",
   "execution_count": 20,
   "metadata": {},
   "outputs": [
    {
     "name": "stdout",
     "output_type": "stream",
     "text": [
      "338350\n"
     ]
    }
   ],
   "source": [
    "#la somme des 100 premiers entiers au carré\n",
    "#je mets tout les entier au carré et je les ++\n",
    "\n",
    "total=[]\n",
    "for n in range(1, 101):\n",
    "    total.append(n**2)\n",
    "print(sum(total))\n",
    "    "
   ]
  },
  {
   "cell_type": "markdown",
   "metadata": {
    "colab_type": "text",
    "id": "6HeVcmEmpZRj"
   },
   "source": [
    "### Exercice 5: produit de palindrome"
   ]
  },
  {
   "cell_type": "markdown",
   "metadata": {
    "colab_type": "text",
    "id": "fxJpQTGYpryF"
   },
   "source": [
    "Un palindrome est un nombre qui peut se lire dans les deux sens. \n",
    "\n",
    "Le palindrome le plus grand composé du produit de deux nombres en dessous de 100 est \n",
    "\n",
    "```\n",
    "9009 = 91*99\n",
    "```\n",
    "\n"
   ]
  },
  {
   "cell_type": "markdown",
   "metadata": {
    "colab_type": "text",
    "id": "Oh25MZGTqG-a"
   },
   "source": [
    "#### Question 6: quel est le palindrome le plus grand composé du produit de deux nombres inférieurs à 1000 ?"
   ]
  },
  {
   "cell_type": "code",
   "execution_count": 27,
   "metadata": {},
   "outputs": [
    {
     "name": "stdout",
     "output_type": "stream",
     "text": [
      "906609\n"
     ]
    }
   ],
   "source": [
    "#a[0] représente le premier caractère de “a” et que a[-1] représente son dernier caractère\n",
    "'''def is_palindrome(a):\n",
    "    for i in range(len(a)//2):\n",
    "        if a[i] != a[-i-1]:\n",
    "            return False\n",
    "    return True'''\n",
    "\n",
    "resultat = 0\n",
    "for i in range(1, 1000):\n",
    "    for pal in range(i, 1000):\n",
    "        produit = i*pal\n",
    "        #Test si le produit est un palindrome\n",
    "        if is_palindrome(produit):\n",
    "            if produit > resultat:\n",
    "                resultat = produit\n",
    "print(resultat)"
   ]
  },
  {
   "cell_type": "code",
   "execution_count": null,
   "metadata": {},
   "outputs": [],
   "source": []
  }
 ],
 "metadata": {
  "colab": {
   "name": "Session_10_12_Fonctions_algorithmie",
   "provenance": []
  },
  "kernelspec": {
   "display_name": "Python 3",
   "language": "python",
   "name": "python3"
  },
  "language_info": {
   "codemirror_mode": {
    "name": "ipython",
    "version": 3
   },
   "file_extension": ".py",
   "mimetype": "text/x-python",
   "name": "python",
   "nbconvert_exporter": "python",
   "pygments_lexer": "ipython3",
   "version": "3.7.4"
  }
 },
 "nbformat": 4,
 "nbformat_minor": 4
}
