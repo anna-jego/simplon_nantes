{
 "cells": [
  {
   "cell_type": "markdown",
   "metadata": {},
   "source": [
    "# Génération de groupes\n",
    "Le but est de générer des groupes de taille déterminée\n",
    "\n",
    "## Etapes de la compréhension du problème"
   ]
  },
  {
   "cell_type": "code",
   "execution_count": 10,
   "metadata": {},
   "outputs": [
    {
     "name": "stdout",
     "output_type": "stream",
     "text": [
      "['tata', 'tete', 'titi', 'toto']\n"
     ]
    }
   ],
   "source": [
    "# Définition d'une liste de chaînes de caractères\n",
    "liste = ['tata', 'tete', 'titi', 'toto']\n",
    "\n",
    "# Affichage de la liste\n",
    "print(liste)"
   ]
  },
  {
   "cell_type": "code",
   "execution_count": 11,
   "metadata": {},
   "outputs": [
    {
     "name": "stdout",
     "output_type": "stream",
     "text": [
      "tata\n",
      "tete\n",
      "titi\n",
      "toto\n"
     ]
    }
   ],
   "source": [
    "# Affichage des éléments de la liste\n",
    "for element in liste:\n",
    "    print(element)"
   ]
  },
  {
   "cell_type": "code",
   "execution_count": 12,
   "metadata": {},
   "outputs": [
    {
     "name": "stdout",
     "output_type": "stream",
     "text": [
      "4\n"
     ]
    }
   ],
   "source": [
    "# Nombre d'élément dans une liste\n",
    "longueur_liste = len(liste)\n",
    "print(longueur_liste)"
   ]
  },
  {
   "cell_type": "markdown",
   "metadata": {},
   "source": [
    "Documentation sur la fonction random : https://docs.python.org/fr/3.7/library/random.html"
   ]
  },
  {
   "cell_type": "code",
   "execution_count": 13,
   "metadata": {},
   "outputs": [
    {
     "name": "stdout",
     "output_type": "stream",
     "text": [
      "['titi', 'tete']\n",
      "['tata', 'tete']\n",
      "['tete', 'tete']\n",
      "['toto', 'tata']\n",
      "['titi', 'tete']\n"
     ]
    }
   ],
   "source": [
    "# Recherche sur la documentation de random()\n",
    "# random.choices(population, weights=None, *, cum_weights=None, k=1)\n",
    "from random import choices\n",
    "# premier test pour voir le fonctionnement\n",
    "for i in range(5):\n",
    "    print(choices(liste, k=2))"
   ]
  },
  {
   "cell_type": "markdown",
   "metadata": {},
   "source": [
    "On voit que de temps en temps la même personne est choisie 2 fois: `['toto', 'toto']`"
   ]
  },
  {
   "cell_type": "markdown",
   "metadata": {},
   "source": [
    "Test d'une autre méthode qui semble plus adaptée"
   ]
  },
  {
   "cell_type": "code",
   "execution_count": 14,
   "metadata": {},
   "outputs": [
    {
     "name": "stdout",
     "output_type": "stream",
     "text": [
      "['tete', 'toto']\n",
      "['tete', 'toto']\n",
      "['tete', 'tata']\n",
      "['toto', 'tata']\n",
      "['titi', 'tete']\n"
     ]
    }
   ],
   "source": [
    "from random import sample\n",
    "for i in range(5):\n",
    "    print(sample(liste,2))"
   ]
  },
  {
   "cell_type": "markdown",
   "metadata": {},
   "source": [
    "L'idée est de faire une première sélection au hasard, puis de retirer les éléments de la liste et de refaire une nouvelle selection au hasard sur les éléments restants. Comme on suppose que les éléments de la liste sont uniques (ce qui semble logique pour des personnes) on va devoir chercher les indices des éléments sélectionnés."
   ]
  },
  {
   "cell_type": "code",
   "execution_count": 18,
   "metadata": {},
   "outputs": [
    {
     "data": {
      "text/plain": [
       "0"
      ]
     },
     "execution_count": 18,
     "metadata": {},
     "output_type": "execute_result"
    }
   ],
   "source": [
    "liste.index('tata')"
   ]
  },
  {
   "cell_type": "markdown",
   "metadata": {},
   "source": [
    "Suppression d'un élément d'une liste:"
   ]
  },
  {
   "cell_type": "code",
   "execution_count": 19,
   "metadata": {},
   "outputs": [
    {
     "data": {
      "text/plain": [
       "['tete', 'titi', 'toto']"
      ]
     },
     "execution_count": 19,
     "metadata": {},
     "output_type": "execute_result"
    }
   ],
   "source": [
    "liste.remove('tata')\n",
    "liste # sous jupyter on peut afficher une variable en spécifiant seulement son nom"
   ]
  },
  {
   "cell_type": "markdown",
   "metadata": {},
   "source": [
    "Quelques boucles bien placées devraient vous permettre de résoudre le problème de la création de groupe (sans prendre en compte le genre dans un premier temps). Il est possible que la taille du groupe initial ne soit pas divisible par le nombre de groupes souhaités. Il y aura dans ce cas un groupe avec moins d'éléments."
   ]
  },
  {
   "cell_type": "markdown",
   "metadata": {},
   "source": [
    "## Résolution"
   ]
  },
  {
   "cell_type": "markdown",
   "metadata": {},
   "source": [
    "Utilisation de la méthode random.shuffle"
   ]
  },
  {
   "cell_type": "code",
   "execution_count": 54,
   "metadata": {},
   "outputs": [
    {
     "name": "stdout",
     "output_type": "stream",
     "text": [
      "['titi', 'tutu', 'tete', 'toto', 'tata']\n",
      "['titi', 'tutu']\n",
      "['tete', 'toto']\n",
      "Element non associé à un groupe:  tata\n",
      "groupe 0\n"
     ]
    }
   ],
   "source": [
    "import random\n",
    "n_groupes = 2\n",
    "liste = ['tata', 'tete', 'titi', 'toto', 'tutu']\n",
    "#liste = ['tata', 'tete', 'titi]\n",
    "# On suppose que le nombre de groupes est inférieur au nombre d'appenants\n",
    "\n",
    "\n",
    "# Nombre d'éléments dans la liste des apprenants\n",
    "n_apprenants = len(liste)\n",
    "\n",
    "# Mélange de la liste\n",
    "random.shuffle(liste)\n",
    "print(liste)\n",
    "\n",
    "\n",
    "# Taille minimale des groupes\n",
    "taille_min = n_apprenants // n_groupes\n",
    "\n",
    "# Création des groupes de taille_min\n",
    "# Utilisation d'une liste de listes groupes = [goupe] avec groupe = [X, Y, Z]\n",
    "for i in range(n_groupes):\n",
    "    print(liste[taille_min*i:(taille_min*(i+1))])\n",
    "\n",
    "# Répartition des apprenants restants dans les premiers groupes\n",
    "for j in range(taille_min*n_groupes, n_apprenants):\n",
    "    print(\"Element non associé à un groupe: \", liste[j])\n",
    "    # l'élément j va dans le groupe (j - taille_min*n_groupes)\n",
    "    print(\"groupe\", j - taille_min*n_groupes)\n"
   ]
  },
  {
   "cell_type": "markdown",
   "metadata": {},
   "source": [
    "## Code de la solution de répartition aléatoire en groupes sans prendre en compte l'équirépartition H/F"
   ]
  },
  {
   "cell_type": "code",
   "execution_count": 56,
   "metadata": {},
   "outputs": [
    {
     "data": {
      "text/plain": [
       "[['Edwyn', 'Olivier', 'Minwei', 'Audrey'],\n",
       " ['Manon', 'Ludivine', 'Yoann', 'Thomas'],\n",
       " ['Jean-Marie', 'Rijarivo', 'Sakina'],\n",
       " ['Ousmane', 'Romain', 'Daouda'],\n",
       " ['Anna', 'Jacques', 'Kévan']]"
      ]
     },
     "execution_count": 56,
     "metadata": {},
     "output_type": "execute_result"
    }
   ],
   "source": [
    "import random\n",
    "n_groupes = 5\n",
    "liste = [\n",
    "        'Anna',\n",
    "        'Audrey',\n",
    "        'Daouda',\n",
    "        'Edwyn',\n",
    "        'Jacques',\n",
    "        'Jean-Marie',\n",
    "        'Kévan',\n",
    "        'Ludivine',\n",
    "        'Manon',\n",
    "        'Minwei',\n",
    "        'Olivier',\n",
    "        'Ousmane',\n",
    "        'Rijarivo',\n",
    "        'Romain',\n",
    "        'Sakina',\n",
    "        'Thomas',\n",
    "        'Yoann']\n",
    "\n",
    "# Nombre d'éléments dans la liste des apprenants\n",
    "n_apprenants = len(liste)\n",
    "\n",
    "# Mélange de la liste\n",
    "random.shuffle(liste)\n",
    "\n",
    "# Taille minimale des groupes\n",
    "taille_min = n_apprenants // n_groupes\n",
    "\n",
    "# Création des groupes de taille_min\n",
    "# Utilisation d'une liste de listes groupe = [element] avec element = [X, Y, Z]\n",
    "groupe = []\n",
    "\n",
    "for i in range(n_groupes):\n",
    "    groupe.append(liste[taille_min*i:(taille_min*(i+1))])\n",
    "\n",
    "# Répartition des apprenants restants dans les premiers groupes\n",
    "for j in range(taille_min*n_groupes, n_apprenants):\n",
    "    # l'élément j liste[j] non associé à un groupe\n",
    "    # va dans le groupe (j - taille_min*n_groupes)\n",
    "    groupe[j - taille_min*n_groupes].append(liste[j])\n",
    "\n",
    "groupe\n",
    "\n"
   ]
  },
  {
   "cell_type": "markdown",
   "metadata": {},
   "source": [
    "## Prise en compte de l'équirépartition"
   ]
  },
  {
   "cell_type": "code",
   "execution_count": 61,
   "metadata": {},
   "outputs": [],
   "source": [
    "import random\n",
    "n_groupes = 2\n",
    "liste_hommes = ['H1', 'H2']\n",
    "liste_femmes = ['F1', 'F2', 'F3']\n",
    "\n",
    "n_hommes = len(liste_hommes)\n",
    "n_femmes = len(liste_femmes)\n",
    "\n",
    "# On mélange les deux listes\n",
    "random.shuffle(liste_hommes)\n",
    "random.shuffle(liste_femmes)\n",
    "\n",
    "\n",
    "# Initialisation de la liste des groupes\n",
    "list_groupes = []\n",
    "for i in range(n_groupes):\n",
    "    list_groupes.append([])\n",
    "\n",
    "# Autre méthode que la précédente\n",
    "# On va remplir les groupes au fur et à mesure\n",
    "# Cas aux limites pris en compte?\n",
    "groupe_considere = 0\n",
    "\n",
    "for indice_homme in range(n_hommes):\n",
    "    list_groupes[groupe_considere].append(liste_hommes[indice_homme])\n",
    "    groupe_considere = (groupe_considere + 1) % n_groupes\n",
    "\n",
    "for indice_femme in range(n_femmes):\n",
    "    list_groupes[groupe_considere].append(liste_femmes[indice_femme])\n",
    "    groupe_considere = (groupe_considere + 1) % n_groupes"
   ]
  },
  {
   "cell_type": "code",
   "execution_count": 62,
   "metadata": {},
   "outputs": [
    {
     "data": {
      "text/plain": [
       "[['H1', 'F1', 'F2'], ['H2', 'F3']]"
      ]
     },
     "execution_count": 62,
     "metadata": {},
     "output_type": "execute_result"
    }
   ],
   "source": [
    "list_groupes"
   ]
  },
  {
   "cell_type": "markdown",
   "metadata": {},
   "source": [
    "Avec les apprenants de la formation IA, ça nous donne:"
   ]
  },
  {
   "cell_type": "code",
   "execution_count": 64,
   "metadata": {},
   "outputs": [
    {
     "data": {
      "text/plain": [
       "[['Yoann', 'Daouda', 'Olivier', 'Minwei', 'Anna'],\n",
       " ['Jean-Marie', 'Romain', 'Rijarivo', 'Audrey'],\n",
       " ['Edwyn', 'Kévan', 'Ousmane', 'Ludivine'],\n",
       " ['Thomas', 'Jacques', 'Sakina', 'Manon']]"
      ]
     },
     "execution_count": 64,
     "metadata": {},
     "output_type": "execute_result"
    }
   ],
   "source": [
    "import random\n",
    "n_groupes = 4\n",
    "liste_hommes = [\n",
    "        'Daouda',\n",
    "        'Edwyn',\n",
    "        'Jacques',\n",
    "        'Jean-Marie',\n",
    "        'Kévan',\n",
    "        'Olivier',\n",
    "        'Ousmane',\n",
    "        'Rijarivo',\n",
    "        'Romain',\n",
    "        'Thomas',\n",
    "        'Yoann'\n",
    "        ]\n",
    "liste_femmes = [\n",
    "        'Anna',\n",
    "        'Audrey',\n",
    "        'Ludivine',\n",
    "        'Manon',\n",
    "        'Minwei',\n",
    "        'Sakina'\n",
    "        ]\n",
    "\n",
    "\n",
    "n_hommes = len(liste_hommes)\n",
    "n_femmes = len(liste_femmes)\n",
    "\n",
    "# On mélange les deux listes\n",
    "random.shuffle(liste_hommes)\n",
    "random.shuffle(liste_femmes)\n",
    "\n",
    "# Initialisation de la liste des groupes\n",
    "list_groupes = []\n",
    "for i in range(n_groupes):\n",
    "    list_groupes.append([])\n",
    "\n",
    "# Autre méthode que la précédente\n",
    "# On va remplir les groupes au fur et à mesure\n",
    "groupe_considere = 0\n",
    "\n",
    "for indice_homme in range(n_hommes):\n",
    "    list_groupes[groupe_considere].append(liste_hommes[indice_homme])\n",
    "    groupe_considere = (groupe_considere + 1) % n_groupes\n",
    "\n",
    "for indice_femme in range(n_femmes):\n",
    "    list_groupes[groupe_considere].append(liste_femmes[indice_femme])\n",
    "    groupe_considere = (groupe_considere + 1) % n_groupes\n",
    "    \n",
    "list_groupes"
   ]
  },
  {
   "cell_type": "code",
   "execution_count": null,
   "metadata": {},
   "outputs": [],
   "source": []
  }
 ],
 "metadata": {
  "kernelspec": {
   "display_name": "Python 3",
   "language": "python",
   "name": "python3"
  },
  "language_info": {
   "codemirror_mode": {
    "name": "ipython",
    "version": 3
   },
   "file_extension": ".py",
   "mimetype": "text/x-python",
   "name": "python",
   "nbconvert_exporter": "python",
   "pygments_lexer": "ipython3",
   "version": "3.7.4"
  }
 },
 "nbformat": 4,
 "nbformat_minor": 4
}
