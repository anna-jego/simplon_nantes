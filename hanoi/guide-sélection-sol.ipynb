{
 "cells": [
  {
   "cell_type": "markdown",
   "metadata": {},
   "source": [
    "# Sélection d’apprenant\n",
    "\n",
    "Quelques éléments pour vous guider dans une approche du problème"
   ]
  },
  {
   "cell_type": "code",
   "execution_count": 1,
   "metadata": {},
   "outputs": [
    {
     "name": "stdout",
     "output_type": "stream",
     "text": [
      "['tata', 'tete', 'titi', 'toto']\n"
     ]
    }
   ],
   "source": [
    "# Définition d'une liste de chaînes de caractères\n",
    "liste = ['tata', 'tete', 'titi', 'toto']\n",
    "\n",
    "# Affichage de la liste\n",
    "print(liste)"
   ]
  },
  {
   "cell_type": "markdown",
   "metadata": {},
   "source": [
    "Sélection au hasard d'un élément dans une liste"
   ]
  },
  {
   "cell_type": "code",
   "execution_count": 2,
   "metadata": {},
   "outputs": [
    {
     "data": {
      "text/plain": [
       "'tete'"
      ]
     },
     "execution_count": 2,
     "metadata": {},
     "output_type": "execute_result"
    }
   ],
   "source": [
    "import random  # On importe la totalité de la bibliothèque\n",
    "random.choice(liste)  # chaque méthode de la bibliothèque doit être préfixée par le nom de la bibliothèque"
   ]
  },
  {
   "cell_type": "markdown",
   "metadata": {},
   "source": [
    "En utilisant `random.choices` on peut assigner des poids aux valeurs, celles de poids plus élevés doivent apparaître plus souvent. Testons le fonctionnement."
   ]
  },
  {
   "cell_type": "code",
   "execution_count": 3,
   "metadata": {},
   "outputs": [
    {
     "name": "stdout",
     "output_type": "stream",
     "text": [
      "['toto']\n",
      "toto\n",
      "toto\n",
      "toto\n",
      "tete\n",
      "titi\n",
      "toto\n",
      "toto\n",
      "toto\n",
      "toto\n",
      "tete\n"
     ]
    }
   ],
   "source": [
    "poids = [1, 1, 1, 10]\n",
    "print(random.choices(liste, weights=poids, k=1))  # La fonction renvoie une liste d'un élément (k)\n",
    "for i in range(10):\n",
    "    print(random.choices(liste, weights=poids, k=1)[0])"
   ]
  },
  {
   "cell_type": "markdown",
   "metadata": {},
   "source": [
    "En effet \"toto\" auquel on a mis un poids beaucoup plus fort apparaît bien plus souvent."
   ]
  },
  {
   "cell_type": "markdown",
   "metadata": {},
   "source": [
    "Uh des options pour aborder le problème serait de mettre des poids à une valeur donnée pour tout le monde au début, puis de les faire décroître selon le nombre de fois où l'élément a été sélectionné."
   ]
  },
  {
   "cell_type": "code",
   "execution_count": 4,
   "metadata": {},
   "outputs": [
    {
     "data": {
      "text/plain": [
       "'titi'"
      ]
     },
     "execution_count": 4,
     "metadata": {},
     "output_type": "execute_result"
    }
   ],
   "source": [
    "liste = ['titi', 'toto']\n",
    "poids = [1, 1]\n",
    "choix = random.choices(liste, weights=poids, k=1)[0]\n",
    "choix"
   ]
  },
  {
   "cell_type": "markdown",
   "metadata": {},
   "source": [
    "On met à jour les poids de l'élément sélectionné:"
   ]
  },
  {
   "cell_type": "code",
   "execution_count": 5,
   "metadata": {},
   "outputs": [
    {
     "data": {
      "text/plain": [
       "0"
      ]
     },
     "execution_count": 5,
     "metadata": {},
     "output_type": "execute_result"
    }
   ],
   "source": [
    "indice_selection = liste.index(choix)\n",
    "indice_selection"
   ]
  },
  {
   "cell_type": "code",
   "execution_count": 6,
   "metadata": {},
   "outputs": [
    {
     "data": {
      "text/plain": [
       "[0, 1]"
      ]
     },
     "execution_count": 6,
     "metadata": {},
     "output_type": "execute_result"
    }
   ],
   "source": [
    "poids[indice_selection] = poids[indice_selection] - 1\n",
    "poids"
   ]
  },
  {
   "cell_type": "markdown",
   "metadata": {},
   "source": [
    "Maintenant en faisant de nouveau une selection au hasard, en prenant en compte la nouvelle liste des poids, on va obligatoirement obtenir l'autre élément:"
   ]
  },
  {
   "cell_type": "code",
   "execution_count": 7,
   "metadata": {},
   "outputs": [
    {
     "data": {
      "text/plain": [
       "'toto'"
      ]
     },
     "execution_count": 7,
     "metadata": {},
     "output_type": "execute_result"
    }
   ],
   "source": [
    "random.choices(liste, weights=poids, k=1)[0]"
   ]
  },
  {
   "cell_type": "markdown",
   "metadata": {},
   "source": [
    "## Une solution du problème sur un cas simple"
   ]
  },
  {
   "cell_type": "code",
   "execution_count": 13,
   "metadata": {},
   "outputs": [
    {
     "name": "stdout",
     "output_type": "stream",
     "text": [
      "tata\n",
      "[1, 2, 2]\n",
      "tata\n",
      "[0, 2, 2]\n",
      "tete\n",
      "[0, 1, 2]\n",
      "tete\n",
      "[0, 0, 2]\n",
      "titi\n",
      "[0, 0, 1]\n",
      "titi\n",
      "[0, 0, 0]\n",
      "tete\n",
      "[2, 1, 2]\n",
      "titi\n",
      "[2, 1, 1]\n",
      "titi\n",
      "[2, 1, 0]\n",
      "tata\n",
      "[1, 1, 0]\n",
      "tete\n",
      "[1, 0, 0]\n",
      "tata\n",
      "[0, 0, 0]\n"
     ]
    }
   ],
   "source": [
    "liste = ['tata', 'tete', 'titi']\n",
    "poids = [2, 2, 2]\n",
    "\n",
    "\n",
    "# On choisit un élément\n",
    "for i in range(12):\n",
    "    \n",
    "    # Si la somme des poids est égale à 0\n",
    "    # Tout le monde est passé au tableau et on réinitialise les poids\n",
    "    if sum(poids) == 0 :\n",
    "            poids = [2, 2, 2]\n",
    "    \n",
    "    personne_choisie = random.choices(liste, weights=poids, k=1)[0]\n",
    "    \n",
    "    # indice de la personne choisie\n",
    "    i_choix = liste.index(personne_choisie)\n",
    "    \n",
    "    # On décrément le poids associé à cette personne\n",
    "    poids[i_choix] = poids[i_choix] - 1\n",
    "    \n",
    "    print(personne_choisie)\n",
    "    print(poids)"
   ]
  },
  {
   "cell_type": "markdown",
   "metadata": {},
   "source": [
    "## A vous\n",
    "A vous de coder le cas avec les apprenants de la formation dans un fichier exécutable `selection.py`"
   ]
  },
  {
   "cell_type": "markdown",
   "metadata": {},
   "source": [
    "Comment feriez vous pour garder en mémoire les informations d'une journée à l'autre? (la mise en application est optionnelle)"
   ]
  },
  {
   "cell_type": "code",
   "execution_count": null,
   "metadata": {},
   "outputs": [],
   "source": []
  }
 ],
 "metadata": {
  "kernelspec": {
   "display_name": "Python 3",
   "language": "python",
   "name": "python3"
  },
  "language_info": {
   "codemirror_mode": {
    "name": "ipython",
    "version": 3
   },
   "file_extension": ".py",
   "mimetype": "text/x-python",
   "name": "python",
   "nbconvert_exporter": "python",
   "pygments_lexer": "ipython3",
   "version": "3.7.4"
  }
 },
 "nbformat": 4,
 "nbformat_minor": 4
}
