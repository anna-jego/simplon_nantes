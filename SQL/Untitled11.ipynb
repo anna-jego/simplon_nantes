{
 "cells": [
  {
   "cell_type": "markdown",
   "metadata": {},
   "source": [
    "On cherche à créer un jeu du pendu ! \n",
    "\n",
    "On va construire des fonctions intermédiaires pour le réaliser.\n",
    "\n",
    "Fonction d’espacement: \n",
    "\n",
    "Tout d'abord, nous aurons besoin d'afficher correctement nos mots et pour cela, nous allons devoir espacer chaque lettre.\n",
    "Créer ci-dessous une fonction espacer(mot) qui prend en entrée un chaine de caractère mot et qui renvoie en sortie les mêmes lettres espacées toutes d'un espace.\n",
    "\n",
    "\n",
    "Exemple : espacer(\"PYTHON\") doit renvoyer \"P Y T H O N\".\n"
   ]
  },
  {
   "cell_type": "code",
   "execution_count": 3,
   "metadata": {},
   "outputs": [
    {
     "data": {
      "text/plain": [
       "'P Y T H O N'"
      ]
     },
     "execution_count": 3,
     "metadata": {},
     "output_type": "execute_result"
    }
   ],
   "source": [
    "def espacer(mot):\n",
    "    reponse = \"\"\n",
    "    for lettre in mot:\n",
    "        reponse+=lettre+\" \"\n",
    "    return reponse[:-1]\n",
    "espacer (\"PYTHON\")"
   ]
  },
  {
   "cell_type": "markdown",
   "metadata": {},
   "source": [
    "Ajouter une lettre\n",
    "\n",
    "Passons maintenant au coeur du jeu. Durant la partie il y a d'un côté le mot_choisi au hasard dans le dictionnaire qui ne change pas et de l'autre le mot_partiel où certaines lettres non encore trouvées seront représentées par des tirets bas ***_***. \n",
    "\n",
    "Par exemple si le mot_choisi est \"MAISON\", au début le mot_partiel sera \" _ _ _ _ _ _ \" (Les espaces n'y sont normalement pas, c'est juste pour visualiser mieux). Si on choisit la lettre S, le mot_partiel deviendra \" _ _ _ S _ _ \". Si on choisit le A, le mot_partiel deviendra \" _ A _ S _ _ \" etc.\n",
    "\n",
    "Créer une fonction ajouter_lettre(lettre,mot_partiel,mot_choisi) qui prend en entrée une lettre, le mot_partiel partiellement trouvé et mot_choisi au départ et renvoie en sortie le mot_partiel complété en rajoutant la lettre partout où elle apparait dans le mot_choisi (donc si elle n'apparait pas, on renvoie mot_partiel inchangé).\n"
   ]
  },
  {
   "cell_type": "code",
   "execution_count": null,
   "metadata": {},
   "outputs": [
    {
     "name": "stdin",
     "output_type": "stream",
     "text": [
      "inserer une lettre o\n"
     ]
    },
    {
     "name": "stdout",
     "output_type": "stream",
     "text": [
      "o\n"
     ]
    }
   ],
   "source": [
    "mot_choisi = \"maison\"\n",
    "mot_partiel = \" \"\n",
    "lettre = \"\"\n",
    "lettre = input(\"inserer une lettre\")\n",
    "print (lettre)\n",
    "\n",
    "def ajouter_lettre (lettre, mot_choisi, mot_partiel):\n",
    "    mot_partiel = \"_\"*len(mot_choisi)\n",
    "    new_mot_partiel = str()\n",
    "    ajouter_lettre = input()\n",
    "    for i,l in enumerate(mot_choisi):\n",
    "        #print (i)\n",
    "        if l == lettre:\n",
    "            mot_partiel = mot_partiel[:i]+lettre+mot_partiel[i+1:]\n",
    "    return mot_partiel\n",
    "  \n",
    "\n",
    "ajouter_lettre(lettre, \"maison\", mot_partiel)"
   ]
  },
  {
   "cell_type": "markdown",
   "metadata": {},
   "source": [
    "\n",
    "On peut même indiquer une variable qui indique le nombre d’erreurs maximales possible avant de perdre. Il est donc possible de jouer tant que le nombre d’erreur est inférieur au nombre d’erreurs maximales\n"
   ]
  },
  {
   "cell_type": "code",
   "execution_count": null,
   "metadata": {},
   "outputs": [],
   "source": []
  }
 ],
 "metadata": {
  "kernelspec": {
   "display_name": "Python 3",
   "language": "python",
   "name": "python3"
  },
  "language_info": {
   "codemirror_mode": {
    "name": "ipython",
    "version": 3
   },
   "file_extension": ".py",
   "mimetype": "text/x-python",
   "name": "python",
   "nbconvert_exporter": "python",
   "pygments_lexer": "ipython3",
   "version": "3.7.4"
  }
 },
 "nbformat": 4,
 "nbformat_minor": 4
}
