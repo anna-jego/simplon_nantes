{
 "cells": [
  {
   "cell_type": "code",
   "execution_count": null,
   "metadata": {},
   "outputs": [
    {
     "name": "stdin",
     "output_type": "stream",
     "text": [
      "donnez moi un chiffre entre 1 et 10 5\n"
     ]
    },
    {
     "name": "stdout",
     "output_type": "stream",
     "text": [
      "Le chiffre cherché est plus petit\n"
     ]
    }
   ],
   "source": [
    "from random import *\n",
    "compteur=0\n",
    "n=randint(1,10)\n",
    "i=None\n",
    "\n",
    "while i!=n:\n",
    "    i=int(input(\"donnez moi un chiffre entre 1 et 10\"))\n",
    "\n",
    "    if i  < 0 or i > 10:\n",
    "        print (\"le chiffre doit être compris entre 0 et 10\")\n",
    "\n",
    "    elif i<n:\n",
    "        print(\"Le chiffre cherché est plus grand\")\n",
    "        compteur=compteur+1\n",
    "  \n",
    "    elif i>n: \n",
    "        print(\"Le chiffre cherché est plus petit\")\n",
    "        compteur=compteur+1\n",
    "    \n",
    "    else :\n",
    "        print(\"Bravo ! Tu as reussi au bout de\",compteur,\"coups\")"
   ]
  },
  {
   "cell_type": "code",
   "execution_count": null,
   "metadata": {},
   "outputs": [],
   "source": []
  },
  {
   "cell_type": "code",
   "execution_count": null,
   "metadata": {},
   "outputs": [],
   "source": []
  }
 ],
 "metadata": {
  "kernelspec": {
   "display_name": "Python 3",
   "language": "python",
   "name": "python3"
  },
  "language_info": {
   "codemirror_mode": {
    "name": "ipython",
    "version": 3
   },
   "file_extension": ".py",
   "mimetype": "text/x-python",
   "name": "python",
   "nbconvert_exporter": "python",
   "pygments_lexer": "ipython3",
   "version": "3.7.4"
  }
 },
 "nbformat": 4,
 "nbformat_minor": 4
}
