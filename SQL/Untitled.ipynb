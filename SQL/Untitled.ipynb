{
 "cells": [
  {
   "cell_type": "code",
   "execution_count": 3,
   "metadata": {},
   "outputs": [
    {
     "name": "stdout",
     "output_type": "stream",
     "text": [
      "0\t2\t4\t6\t8\t10\t12\t14\t16\t18\t"
     ]
    }
   ],
   "source": [
    "for i in range(0,19,2) : \n",
    "    print(i,end=\"\\t\")"
   ]
  },
  {
   "cell_type": "code",
   "execution_count": null,
   "metadata": {},
   "outputs": [],
   "source": [
    "somme=0\n",
    "p=input(\"Entrez un entier p:\")\n",
    "for i in range(0,19,2) : \n",
    "   \n",
    "    somme=somme+i\n",
    "print(\"La somme des\"),p,(\"premier entiers pair est égale à\"),somme"
   ]
  },
  {
   "cell_type": "code",
   "execution_count": null,
   "metadata": {},
   "outputs": [],
   "source": [
    "somme=0\n",
    "p=input(\"Entrez un entier p:\")\n",
    "for i in range(0,19,2) : \n",
    "   \n",
    "    somme=somme+i\n",
    "print(\"La somme des\"),p,(\"premier entiers pair est égale à\"),somme"
   ]
  },
  {
   "cell_type": "code",
   "execution_count": null,
   "metadata": {},
   "outputs": [],
   "source": []
  }
 ],
 "metadata": {
  "kernelspec": {
   "display_name": "Python 3",
   "language": "python",
   "name": "python3"
  },
  "language_info": {
   "codemirror_mode": {
    "name": "ipython",
    "version": 3
   },
   "file_extension": ".py",
   "mimetype": "text/x-python",
   "name": "python",
   "nbconvert_exporter": "python",
   "pygments_lexer": "ipython3",
   "version": "3.7.4"
  }
 },
 "nbformat": 4,
 "nbformat_minor": 4
}
