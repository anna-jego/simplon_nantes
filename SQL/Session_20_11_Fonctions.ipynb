{
 "cells": [
  {
   "cell_type": "code",
   "execution_count": null,
   "metadata": {
    "colab": {},
    "colab_type": "code",
    "id": "DA7VtjrBJFuL"
   },
   "outputs": [],
   "source": [
    "#session du 20/11"
   ]
  },
  {
   "cell_type": "markdown",
   "metadata": {
    "colab_type": "text",
    "id": "--Og0UVOKGu9"
   },
   "source": [
    "## Définition d'une fonction"
   ]
  },
  {
   "cell_type": "markdown",
   "metadata": {
    "colab_type": "text",
    "id": "Fy-CkVYyKVKt"
   },
   "source": [
    "Il devient assez vite répétitif de d'ecrire ou de faire plusieurs fois la même chose. Heureusement, on a la possibilité de regrouper dans une fonction des opérations que l'on fait régulièrement pour les nommer plus vite exactement comme en maths lorsqu'on appelle f la fonction plutôt qu'écrire à chaque fois tous les calculs qu'il faudrait faire à partir de x."
   ]
  },
  {
   "cell_type": "markdown",
   "metadata": {
    "colab_type": "text",
    "id": "Sljjemr_KhFF"
   },
   "source": [
    "Pour créer une fonction, rien de plus simple, on utilise la synthaxe suivante :"
   ]
  },
  {
   "cell_type": "code",
   "execution_count": null,
   "metadata": {
    "colab": {},
    "colab_type": "code",
    "id": "2FdfuPtmKSN_"
   },
   "outputs": [],
   "source": [
    "def nom_de_la_fonction (parametres):\n",
    "    #ce que doit faire la fonction"
   ]
  },
  {
   "cell_type": "markdown",
   "metadata": {
    "colab_type": "text",
    "id": "FBKF3Jd5W3QT"
   },
   "source": [
    "### Exemple 1"
   ]
  },
  {
   "cell_type": "code",
   "execution_count": null,
   "metadata": {
    "colab": {},
    "colab_type": "code",
    "id": "_CYSVLmOWIMh"
   },
   "outputs": [],
   "source": [
    "def addition(a,b):\n",
    "    print(a+b)"
   ]
  },
  {
   "cell_type": "code",
   "execution_count": 3,
   "metadata": {
    "colab": {
     "base_uri": "https://localhost:8080/",
     "height": 34
    },
    "colab_type": "code",
    "id": "YntLQkOSWJil",
    "outputId": "b3382412-6612-412c-a0c1-b3cb63dfc002"
   },
   "outputs": [
    {
     "name": "stdout",
     "output_type": "stream",
     "text": [
      "12\n"
     ]
    }
   ],
   "source": [
    "addition(4, 8)"
   ]
  },
  {
   "cell_type": "code",
   "execution_count": 4,
   "metadata": {
    "colab": {
     "base_uri": "https://localhost:8080/",
     "height": 52
    },
    "colab_type": "code",
    "id": "DveMrCL9WU50",
    "outputId": "70972e72-e26f-4ec9-fd1f-8d9815cfe622"
   },
   "outputs": [
    {
     "name": "stdout",
     "output_type": "stream",
     "text": [
      "ababc\n",
      "[1, 2, 3, 1, 2]\n"
     ]
    }
   ],
   "source": [
    "addition(\"ab\",\"abc\")\n",
    "addition([1, 2, 3] , [1, 2] )"
   ]
  },
  {
   "cell_type": "markdown",
   "metadata": {
    "colab_type": "text",
    "id": "8BDkPP87W6tE"
   },
   "source": [
    "### Exemple 2"
   ]
  },
  {
   "cell_type": "markdown",
   "metadata": {
    "colab_type": "text",
    "id": "4PnFW3FMKLcs"
   },
   "source": [
    "Un fonction qu'il suffit d'appeler en écrivant dire_chut() car il n'y a pas de paramètre."
   ]
  },
  {
   "cell_type": "code",
   "execution_count": 5,
   "metadata": {
    "colab": {
     "base_uri": "https://localhost:8080/",
     "height": 34
    },
    "colab_type": "code",
    "id": "V2J1iN0yKJd5",
    "outputId": "f62afe99-8b0c-4300-be29-598a5a519e0c"
   },
   "outputs": [
    {
     "name": "stdout",
     "output_type": "stream",
     "text": [
      "Chhhhhhhhhuuuuuuuut!\n"
     ]
    }
   ],
   "source": [
    "def dire_chut() :\n",
    "    print(\"Chhhhhhhhhuuuuuuuut!\")\n",
    "\n",
    "dire_chut()"
   ]
  },
  {
   "cell_type": "markdown",
   "metadata": {
    "colab_type": "text",
    "id": "QbQKwGJUXLh7"
   },
   "source": [
    "### Exemple 3"
   ]
  },
  {
   "cell_type": "code",
   "execution_count": 6,
   "metadata": {
    "colab": {
     "base_uri": "https://localhost:8080/",
     "height": 52
    },
    "colab_type": "code",
    "id": "MO7AU50WWqn4",
    "outputId": "ed5ac362-3765-4ea4-8fac-518908acabb3"
   },
   "outputs": [
    {
     "name": "stdout",
     "output_type": "stream",
     "text": [
      "7\n",
      "Chhhhhhhhhuuuuuuuut!\n"
     ]
    }
   ],
   "source": [
    "def ma_fonction(a) :\n",
    "    addition(a,3)\n",
    "    dire_chut()\n",
    "\n",
    "ma_fonction(4)"
   ]
  },
  {
   "cell_type": "markdown",
   "metadata": {
    "colab_type": "text",
    "id": "kURXlgFCXWOL"
   },
   "source": [
    "## La commande Return"
   ]
  },
  {
   "cell_type": "markdown",
   "metadata": {
    "colab_type": "text",
    "id": "zt0jvioyXeo7"
   },
   "source": [
    "La commande return permet de renvoyer un résultat obtenu par la fonction pour pouvoir l'utiliser dans la suite du programme. Elle est fondamentalement différente de print qui ne fait que l'afficher à l'écran (et donc plus utilisable dans notre programme).\n",
    "Reprenons notre fonction addition ci-dessus et essayons de la mettre dans une variable puis d'afficher cette variable."
   ]
  },
  {
   "cell_type": "code",
   "execution_count": 7,
   "metadata": {
    "colab": {
     "base_uri": "https://localhost:8080/",
     "height": 52
    },
    "colab_type": "code",
    "id": "H_lOWywCXI_n",
    "outputId": "08040f1c-8001-4027-fbaf-22bdc47c1a02"
   },
   "outputs": [
    {
     "ename": "IndentationError",
     "evalue": "unexpected indent (<ipython-input-7-2661ff53958e>, line 4)",
     "output_type": "error",
     "traceback": [
      "\u001b[1;36m  File \u001b[1;32m\"<ipython-input-7-2661ff53958e>\"\u001b[1;36m, line \u001b[1;32m4\u001b[0m\n\u001b[1;33m    resultat = addition(2,3)\u001b[0m\n\u001b[1;37m    ^\u001b[0m\n\u001b[1;31mIndentationError\u001b[0m\u001b[1;31m:\u001b[0m unexpected indent\n"
     ]
    }
   ],
   "source": [
    "def addition(a,b):\n",
    "     resultat = addition(2,3)\n",
    "    return (a+b)\n",
    "      \n",
    "        \n",
    "print(resultat)"
   ]
  },
  {
   "cell_type": "markdown",
   "metadata": {
    "colab_type": "text",
    "id": "T-tN_D4dXw9G"
   },
   "source": [
    "### Question 1: Comment ça se fait que resultat ne renvoie rien ? "
   ]
  },
  {
   "cell_type": "markdown",
   "metadata": {
    "colab_type": "text",
    "id": "OQmv0PVHYYgQ"
   },
   "source": []
  },
  {
   "cell_type": "markdown",
   "metadata": {
    "colab_type": "text",
    "id": "6cuX7kA6-RCH"
   },
   "source": [
    "### Consigne 1: Modifier la fonction pour que le résultat soit un couple de valeur: double, carré"
   ]
  },
  {
   "cell_type": "code",
   "execution_count": 8,
   "metadata": {
    "colab": {
     "base_uri": "https://localhost:8080/",
     "height": 34
    },
    "colab_type": "code",
    "id": "-uRYxnkyYY4r",
    "outputId": "96b02f25-d697-4775-cc34-1e13f3f535ae"
   },
   "outputs": [
    {
     "name": "stdout",
     "output_type": "stream",
     "text": [
      "10\n"
     ]
    }
   ],
   "source": [
    "def  f(x):\n",
    "    double = 2*x\n",
    "    return double\n",
    "    carré = x*x\n",
    "    return carré\n",
    "    \n",
    "print(f(5))"
   ]
  },
  {
   "cell_type": "markdown",
   "metadata": {
    "colab_type": "text",
    "id": "dVTjG21b-ZLg"
   },
   "source": [
    "### Consigne 2: Modifier les deux fonctions suivantes pour qu'elles fonctionnent"
   ]
  },
  {
   "cell_type": "code",
   "execution_count": 2,
   "metadata": {
    "colab": {
     "base_uri": "https://localhost:8080/",
     "height": 130
    },
    "colab_type": "code",
    "id": "DOP_XCyx-lXS",
    "outputId": "eccff31a-3e73-46c7-bb36-74af1112db99"
   },
   "outputs": [
    {
     "ename": "IndentationError",
     "evalue": "ignored",
     "output_type": "error",
     "traceback": [
      "\u001b[0;36m  File \u001b[0;32m\"<ipython-input-2-87f8a2325959>\"\u001b[0;36m, line \u001b[0;32m2\u001b[0m\n\u001b[0;31m    return x**2\u001b[0m\n\u001b[0m         ^\u001b[0m\n\u001b[0;31mIndentationError\u001b[0m\u001b[0;31m:\u001b[0m expected an indented block\n"
     ]
    }
   ],
   "source": [
    "#Calcul d'un carré\n",
    "def carré(x):\n",
    "return x**2 \n",
    "    \n",
    "print(carré(1.7))"
   ]
  },
  {
   "cell_type": "markdown",
   "metadata": {
    "colab_type": "text",
    "id": "6t4pjNaO9-ru"
   },
   "source": []
  },
  {
   "cell_type": "code",
   "execution_count": 3,
   "metadata": {
    "colab": {
     "base_uri": "https://localhost:8080/",
     "height": 130
    },
    "colab_type": "code",
    "id": "otvsqyZ4XuIU",
    "outputId": "1d4996fb-e25a-44e8-9179-13c26dd849de"
   },
   "outputs": [
    {
     "ename": "SyntaxError",
     "evalue": "ignored",
     "output_type": "error",
     "traceback": [
      "\u001b[0;36m  File \u001b[0;32m\"<ipython-input-3-b025b58bc671>\"\u001b[0;36m, line \u001b[0;32m1\u001b[0m\n\u001b[0;31m    def quotient(x,y)\u001b[0m\n\u001b[0m                     ^\u001b[0m\n\u001b[0;31mSyntaxError\u001b[0m\u001b[0;31m:\u001b[0m invalid syntax\n"
     ]
    }
   ],
   "source": [
    "def quotient(x,y)\n",
    "    return x/y \n",
    "    \n",
    "print(quotient(1.7,2.5))"
   ]
  },
  {
   "cell_type": "markdown",
   "metadata": {
    "colab_type": "text",
    "id": "Cx57hAPL-4vH"
   },
   "source": [
    "### Consigne 3: Ecrire une fonction qu'on nommera f qui prend en entrée un nombre x et qui renvoie le résultat de 3x²+4x-5"
   ]
  },
  {
   "cell_type": "code",
   "execution_count": null,
   "metadata": {
    "colab": {},
    "colab_type": "code",
    "id": "8V4rJ__W91dE"
   },
   "outputs": [],
   "source": []
  },
  {
   "cell_type": "markdown",
   "metadata": {
    "colab_type": "text",
    "id": "BlgjJC83D2Wl"
   },
   "source": [
    "### Consigne 4: écrire un programme qui teste si une année est bissextile ou non"
   ]
  },
  {
   "cell_type": "markdown",
   "metadata": {
    "colab_type": "text",
    "id": "jhX0UdlrEGQm"
   },
   "source": [
    "La fonction doit renvoyer \"l'année est bissextile\" si l'année l'est et \"l'année n'est pas bissextile\" si elle ne l'est pas"
   ]
  },
  {
   "cell_type": "code",
   "execution_count": null,
   "metadata": {
    "colab": {},
    "colab_type": "code",
    "id": "xoNGi30Z91yn"
   },
   "outputs": [],
   "source": [
    "#Reponse"
   ]
  },
  {
   "cell_type": "markdown",
   "metadata": {
    "colab_type": "text",
    "id": "-dAS7MhkkiVY"
   },
   "source": []
  },
  {
   "cell_type": "markdown",
   "metadata": {
    "colab_type": "text",
    "id": "6gxSrnAwlmdN"
   },
   "source": [
    "## Affectation de variables "
   ]
  },
  {
   "cell_type": "markdown",
   "metadata": {
    "colab_type": "text",
    "id": "kyz3u0b_lyPG"
   },
   "source": [
    "Nous avons déjà vu comment affecter à des variables des valeurs. Il y a plusieurs façons d'améliorer ces affectations selon la situation.\n",
    "\n",
    "Commençons par la technique la plus utile : l'incrémentation. Il va nous arriver très souvent de vouloir augmenter une variable d'une certaine valeur. Une façon de faire pour ajouter 3 à une variable x est :"
   ]
  },
  {
   "cell_type": "code",
   "execution_count": null,
   "metadata": {
    "colab": {},
    "colab_type": "code",
    "id": "LSFS-cYLlodA"
   },
   "outputs": [],
   "source": [
    "x = 5\n",
    "x = x + 3"
   ]
  },
  {
   "cell_type": "markdown",
   "metadata": {
    "colab_type": "text",
    "id": "jMHrtKdsl3je"
   },
   "source": [
    "Mais on peut synthétiser cette écriture sous la forme :"
   ]
  },
  {
   "cell_type": "code",
   "execution_count": null,
   "metadata": {
    "colab": {},
    "colab_type": "code",
    "id": "puhfgc2Kl2WV"
   },
   "outputs": [],
   "source": [
    "x += 3"
   ]
  },
  {
   "cell_type": "markdown",
   "metadata": {
    "colab_type": "text",
    "id": "F9TqO8TlmPf0"
   },
   "source": [
    "Cela peut sembler anecdotique mais quand on a beaucoup de variables avec des noms longs et peu agréables à écrire, on savoure le plaisir de n'avoir à les écrire qu'une fois grâce à cette notation.\n",
    "Cette notation existe pour beaucoup d'opérations classiques. On peut soustraire une valeur à une variable (avec -=), multiplier (*=), diviser (/=), mettre à la puissance (**=), effectuer la division euclidienne (//=) ou le reste (%=) ...\n",
    "Exemple (Vous pouvez modifier les exemples pour tester par vous même):"
   ]
  },
  {
   "cell_type": "code",
   "execution_count": 5,
   "metadata": {
    "colab": {
     "base_uri": "https://localhost:8080/",
     "height": 104
    },
    "colab_type": "code",
    "id": "JTV6J08ml8xu",
    "outputId": "984ff283-e7c9-4cdc-a4ba-2c7a6f298d37"
   },
   "outputs": [
    {
     "name": "stdout",
     "output_type": "stream",
     "text": [
      "7\n",
      "6\n",
      "12\n",
      "4\n",
      "16\n"
     ]
    }
   ],
   "source": [
    "x = 3\n",
    "x += 4\n",
    "print(x)\n",
    "x -= 1\n",
    "print(x)\n",
    "x *= 2\n",
    "print(x)\n",
    "x //= 3\n",
    "print(x)\n",
    "x **= 2\n",
    "print(x)"
   ]
  },
  {
   "cell_type": "markdown",
   "metadata": {
    "colab_type": "text",
    "id": "mx9c8KF3pm-H"
   },
   "source": [
    "On a en Python la possibilité de regrouper ces affectations en une seule en écrivant :\n",
    "\n"
   ]
  },
  {
   "cell_type": "code",
   "execution_count": null,
   "metadata": {
    "colab": {},
    "colab_type": "code",
    "id": "p-RDVcVamT_-"
   },
   "outputs": [],
   "source": [
    "a, b, c = 3, 7, 1"
   ]
  },
  {
   "cell_type": "markdown",
   "metadata": {
    "colab_type": "text",
    "id": "HjxqCMtepv-Q"
   },
   "source": [
    "Python affecte à la première variable la première valeur, à la deuxième variable la deuxième valeur etc."
   ]
  },
  {
   "cell_type": "markdown",
   "metadata": {
    "colab_type": "text",
    "id": "TYNcpoFvpyuT"
   },
   "source": [
    "On peut améliorer encore cette dernière technique en stockant dans des variables des calculs utilisant ces mêmes variables. Par exemple : supposons que x=1 et y=4 et qu'on veuille maintenant stocker dans x le résultat de x+y et dans y le résultat de x-y. Pour cela, on écrirait simplement :"
   ]
  },
  {
   "cell_type": "code",
   "execution_count": null,
   "metadata": {
    "colab": {},
    "colab_type": "code",
    "id": "XK8FIVlqpqS1"
   },
   "outputs": [],
   "source": [
    "x, y = 1, 4\n",
    "x, y = x + y, x - y"
   ]
  },
  {
   "cell_type": "markdown",
   "metadata": {
    "colab_type": "text",
    "id": "uisn5BhEqH14"
   },
   "source": [
    "### Question 2: Est-ce la même chose que le code suivant ? Si ce n'est pas le cas, expliquer la différence"
   ]
  },
  {
   "cell_type": "code",
   "execution_count": null,
   "metadata": {
    "colab": {},
    "colab_type": "code",
    "id": "61sr5nFjp84u"
   },
   "outputs": [],
   "source": [
    "x, y = 1, 4\n",
    "x = x + y\n",
    "y = x - y"
   ]
  },
  {
   "cell_type": "code",
   "execution_count": null,
   "metadata": {
    "colab": {},
    "colab_type": "code",
    "id": "inOv-gZ3qj3N"
   },
   "outputs": [],
   "source": []
  },
  {
   "cell_type": "markdown",
   "metadata": {
    "colab_type": "text",
    "id": "eE5wdPH-rJV9"
   },
   "source": [
    "## Les conditions: if, elif, else"
   ]
  },
  {
   "cell_type": "markdown",
   "metadata": {
    "colab_type": "text",
    "id": "nRBVfBTZrTbn"
   },
   "source": [
    "Quand on programme, il est indispensable de pouvoir expliquer à notre cher ordinateur quoi faire selon les cas qu'il va rencontrer. C'est là qu'entre en jeu la structure if... else....\n",
    "\n",
    "\"if\" veut dire \"si\" et \"else\" veut dire \"sinon\". Une fois qu'on sait ça, la structure devient assez intuitive mais il reste à respecter une certaine syntaxe."
   ]
  },
  {
   "cell_type": "code",
   "execution_count": 9,
   "metadata": {
    "colab": {
     "base_uri": "https://localhost:8080/",
     "height": 182
    },
    "colab_type": "code",
    "id": "8IafekqMrPHd",
    "outputId": "527e071b-2460-441d-b2a3-e76e66ed8630"
   },
   "outputs": [
    {
     "ename": "NameError",
     "evalue": "ignored",
     "output_type": "error",
     "traceback": [
      "\u001b[0;31m---------------------------------------------------------------------------\u001b[0m",
      "\u001b[0;31mNameError\u001b[0m                                 Traceback (most recent call last)",
      "\u001b[0;32m<ipython-input-9-3da13a9f50aa>\u001b[0m in \u001b[0;36m<module>\u001b[0;34m()\u001b[0m\n\u001b[0;32m----> 1\u001b[0;31m \u001b[0;32mif\u001b[0m \u001b[0mnote\u001b[0m\u001b[0;34m>\u001b[0m\u001b[0;36m15\u001b[0m \u001b[0;34m:\u001b[0m\u001b[0;34m\u001b[0m\u001b[0;34m\u001b[0m\u001b[0m\n\u001b[0m\u001b[1;32m      2\u001b[0m   \u001b[0mprint\u001b[0m\u001b[0;34m(\u001b[0m\u001b[0;34m\"Très Bien !\"\u001b[0m\u001b[0;34m)\u001b[0m\u001b[0;34m\u001b[0m\u001b[0;34m\u001b[0m\u001b[0m\n",
      "\u001b[0;31mNameError\u001b[0m: name 'note' is not defined"
     ]
    }
   ],
   "source": [
    "note = \n",
    "if note>15 : \n",
    "  print(\"Très Bien !\")"
   ]
  },
  {
   "cell_type": "markdown",
   "metadata": {
    "colab_type": "text",
    "id": "aoYkw8BWsJR-"
   },
   "source": [
    "Dans la première ligne on pourrait traduire le \"if\" par \"si\" et l'indispensable \":\" en fin de ligne par \"faire\" ce qui donnerait \"Si note>16 faire\".\n",
    "L'ordinateur comprend alors qu'il doit faire ce qui suit seulement si la note est supérieure à 16. Plus précisément, il ne va pas faire tout ce qui suit mais seulement ce qui est écrit en décalé (on dit que le texte est indenté). C'est pour cela que print n'est pas écrit au même niveau que if. Pour indenter, on utilise la touche tabulation.\n",
    "Pour résumer notre exemple, si la note obtenue est par exemple 19, le programme affichera Très Bien !. Si on obtient la note 15 il ne fera rien."
   ]
  },
  {
   "cell_type": "markdown",
   "metadata": {
    "colab_type": "text",
    "id": "EIA8O9y5sT_X"
   },
   "source": [
    "Étoffons notre exemple en rajoutant ce qu'il doit afficher si la note n'est pas supérieure à 16."
   ]
  },
  {
   "cell_type": "code",
   "execution_count": 10,
   "metadata": {
    "colab": {
     "base_uri": "https://localhost:8080/",
     "height": 217
    },
    "colab_type": "code",
    "id": "MTHPU-oJr5_S",
    "outputId": "65f7da8c-bc3e-47e9-b678-fded7d83f640"
   },
   "outputs": [
    {
     "ename": "NameError",
     "evalue": "ignored",
     "output_type": "error",
     "traceback": [
      "\u001b[0;31m---------------------------------------------------------------------------\u001b[0m",
      "\u001b[0;31mNameError\u001b[0m                                 Traceback (most recent call last)",
      "\u001b[0;32m<ipython-input-10-b3c5a4bb3b8e>\u001b[0m in \u001b[0;36m<module>\u001b[0;34m()\u001b[0m\n\u001b[0;32m----> 1\u001b[0;31m \u001b[0;32mif\u001b[0m \u001b[0mnote\u001b[0m\u001b[0;34m>\u001b[0m\u001b[0;36m15\u001b[0m \u001b[0;34m:\u001b[0m\u001b[0;34m\u001b[0m\u001b[0;34m\u001b[0m\u001b[0m\n\u001b[0m\u001b[1;32m      2\u001b[0m     \u001b[0mprint\u001b[0m\u001b[0;34m(\u001b[0m\u001b[0;34m\"Très Bien !\"\u001b[0m\u001b[0;34m)\u001b[0m\u001b[0;34m\u001b[0m\u001b[0;34m\u001b[0m\u001b[0m\n\u001b[1;32m      3\u001b[0m \u001b[0;32melse\u001b[0m \u001b[0;34m:\u001b[0m\u001b[0;34m\u001b[0m\u001b[0;34m\u001b[0m\u001b[0m\n\u001b[1;32m      4\u001b[0m     \u001b[0mprint\u001b[0m\u001b[0;34m(\u001b[0m\u001b[0;34m\"Tu devras recopier 3 fois toutes les décimales de pi !\"\u001b[0m\u001b[0;34m)\u001b[0m\u001b[0;34m\u001b[0m\u001b[0;34m\u001b[0m\u001b[0m\n",
      "\u001b[0;31mNameError\u001b[0m: name 'note' is not defined"
     ]
    }
   ],
   "source": [
    "if note>15 :\n",
    "    print(\"Très Bien !\")\n",
    "else :\n",
    "    print(\"Tu devras recopier 3 fois toutes les décimales de pi !\")"
   ]
  },
  {
   "cell_type": "markdown",
   "metadata": {
    "colab_type": "text",
    "id": "n3IJUQcOsdiI"
   },
   "source": [
    "Comme pour tout à l'heure, on peut traduire \"else\" par \"sinon\" et le \":\" par \"faire\". L'ordinateur comprend alors que si la condition note>16 n'est pas vérifiée alors il exécutera ce qui est indenté en dessous de else.\n",
    "Pour résumer notre exemple, si la note obtenue est par exemple 19, le programme affichera Très Bien !. Si on obtient la note 15 ou 3, il affichera Tu devras recopier 3 fois toutes les décimales de pi !."
   ]
  },
  {
   "cell_type": "markdown",
   "metadata": {
    "colab_type": "text",
    "id": "2rIPgg4OsusN"
   },
   "source": [
    "On comprend bien sur notre exemple qu'il faudrait rajouter davantage de conditions selon la valeur de la note pour afficher des commentaires plus pertinents. Pour cela, on va utiliser l'instruction intermédiaire elif qui est une contraction de else et if c'est à dire qu'on peut le traduire par \"sinon si\". Il va nous permettre d'enchainer les distinctions de cas. On peut en mettre autant que l'on veut."
   ]
  },
  {
   "cell_type": "code",
   "execution_count": 11,
   "metadata": {
    "colab": {
     "base_uri": "https://localhost:8080/",
     "height": 234
    },
    "colab_type": "code",
    "id": "G6fFM4gSsXPM",
    "outputId": "1a16ff6f-ccbf-4da3-8908-7514f4bafc95"
   },
   "outputs": [
    {
     "ename": "NameError",
     "evalue": "ignored",
     "output_type": "error",
     "traceback": [
      "\u001b[0;31m---------------------------------------------------------------------------\u001b[0m",
      "\u001b[0;31mNameError\u001b[0m                                 Traceback (most recent call last)",
      "\u001b[0;32m<ipython-input-11-5a9fa175a7a3>\u001b[0m in \u001b[0;36m<module>\u001b[0;34m()\u001b[0m\n\u001b[0;32m----> 1\u001b[0;31m \u001b[0;32mif\u001b[0m \u001b[0mnote\u001b[0m\u001b[0;34m>\u001b[0m\u001b[0;36m15\u001b[0m \u001b[0;34m:\u001b[0m\u001b[0;34m\u001b[0m\u001b[0;34m\u001b[0m\u001b[0m\n\u001b[0m\u001b[1;32m      2\u001b[0m     \u001b[0mprint\u001b[0m\u001b[0;34m(\u001b[0m\u001b[0;34m\"Très Bien !\"\u001b[0m\u001b[0;34m)\u001b[0m\u001b[0;34m\u001b[0m\u001b[0;34m\u001b[0m\u001b[0m\n\u001b[1;32m      3\u001b[0m \u001b[0;32melif\u001b[0m \u001b[0mnote\u001b[0m\u001b[0;34m>\u001b[0m\u001b[0;36m13\u001b[0m \u001b[0;34m:\u001b[0m\u001b[0;34m\u001b[0m\u001b[0;34m\u001b[0m\u001b[0m\n\u001b[1;32m      4\u001b[0m     \u001b[0mprint\u001b[0m\u001b[0;34m(\u001b[0m\u001b[0;34m\"Bien\"\u001b[0m\u001b[0;34m)\u001b[0m\u001b[0;34m\u001b[0m\u001b[0;34m\u001b[0m\u001b[0m\n\u001b[1;32m      5\u001b[0m \u001b[0;32melif\u001b[0m \u001b[0mnote\u001b[0m\u001b[0;34m>\u001b[0m\u001b[0;36m11\u001b[0m \u001b[0;34m:\u001b[0m\u001b[0;34m\u001b[0m\u001b[0;34m\u001b[0m\u001b[0m\n",
      "\u001b[0;31mNameError\u001b[0m: name 'note' is not defined"
     ]
    }
   ],
   "source": [
    "if note>15 :\n",
    "    print(\"Très Bien !\")\n",
    "elif note>13 :\n",
    "    print(\"Bien\")\n",
    "elif note>11 :\n",
    "    print(\"Assez Bien\")\n",
    "elif note>20 :\n",
    "    print(\"Tu es un génie !!!\")\n",
    "else :\n",
    "    print(\"Tu devras recopier 3 fois toutes les décimales de pi !\")"
   ]
  },
  {
   "cell_type": "markdown",
   "metadata": {
    "colab_type": "text",
    "id": "w1aQCXB1tPWw"
   },
   "source": [
    "### Consigne 5: Calcul de l'inverse d'un nombre"
   ]
  },
  {
   "cell_type": "markdown",
   "metadata": {
    "colab_type": "text",
    "id": "tcDwxzf-tVIm"
   },
   "source": [
    "Ecrire une fonction qui prend en entrée un nombre x et qui renvoie \"Impossible\" si x est nul et le resultat de 1/x sinon."
   ]
  },
  {
   "cell_type": "code",
   "execution_count": null,
   "metadata": {
    "colab": {},
    "colab_type": "code",
    "id": "YSrxZPoBs4cO"
   },
   "outputs": [],
   "source": [
    "def inverse_nombre(x):\n",
    "    #Ne pas toucher ce qui précède\n",
    "    #Les valeurs pour les variables en entrée seront automatiquement données\n",
    "    #Ecrire ci-dessous en n'oubliant pas d'indenter"
   ]
  },
  {
   "cell_type": "markdown",
   "metadata": {
    "colab_type": "text",
    "id": "wXw7mPHo7HOW"
   },
   "source": [
    "### Consigne 6: Calcul de l'état de l'eau"
   ]
  },
  {
   "cell_type": "markdown",
   "metadata": {
    "colab_type": "text",
    "id": "4Yn_Myic7CvP"
   },
   "source": [
    "Ecrire un programme qui prend en entrée une température t et qui renvoie l'état de l'eau à cette température c'est à dire \"SOLIDE\", \"LIQUIDE\" ou \"GAZEUX\".\n",
    "\n",
    "On prendra comme conditions les suivantes :\n",
    "\n",
    "Si la température est strictement négative alors l'eau est à l'état solide.\n",
    "Si la température est entre 0 et 100 (compris) l'eau est à l'état liquide.\n",
    "Si la température est strictement supérieure à 100.\n",
    "Entrée : Une température t.\n",
    "\n",
    "Sortie : L'état de l'eau à cette température parmi les trois possibilités : \"SOLIDE\", \"LIQUIDE\" ou \"GAZEUX\"."
   ]
  },
  {
   "cell_type": "code",
   "execution_count": null,
   "metadata": {
    "colab": {},
    "colab_type": "code",
    "id": "wXhqAEYo7Gnd"
   },
   "outputs": [],
   "source": [
    "def etat_eau(t):\n",
    "    #Ne pas toucher ce qui précède\n",
    "    #Les valeurs pour les variables en entrée seront automatiquement données\n",
    "    #Ecrire ci-dessous en n'oubliant pas d'indenter"
   ]
  }
 ],
 "metadata": {
  "colab": {
   "collapsed_sections": [],
   "name": "Session_20_11_Fonctions",
   "provenance": [],
   "toc_visible": true
  },
  "kernelspec": {
   "display_name": "Python 3",
   "language": "python",
   "name": "python3"
  },
  "language_info": {
   "codemirror_mode": {
    "name": "ipython",
    "version": 3
   },
   "file_extension": ".py",
   "mimetype": "text/x-python",
   "name": "python",
   "nbconvert_exporter": "python",
   "pygments_lexer": "ipython3",
   "version": "3.7.4"
  }
 },
 "nbformat": 4,
 "nbformat_minor": 4
}
