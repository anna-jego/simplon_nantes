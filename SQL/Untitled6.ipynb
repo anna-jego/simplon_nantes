{
 "cells": [
  {
   "cell_type": "code",
   "execution_count": 1,
   "metadata": {},
   "outputs": [
    {
     "data": {
      "text/plain": [
       "((4, 5), [4, 5, 6.5], 4, 5, [])"
      ]
     },
     "execution_count": 1,
     "metadata": {},
     "output_type": "execute_result"
    }
   ],
   "source": [
    "c  = (4,5)                # couple de valeurs (ou tuple)\n",
    "l  = [ 4, 5, 6.5]         # listes de valeurs ou tableaux\n",
    "x  = l [0]                # obtention du premier élément de la liste l\n",
    "y  = c [1]                # obtention du second élément\n",
    "le = [ ]                  # un tableau vide\n",
    "c,l,x,y,le"
   ]
  },
  {
   "cell_type": "code",
   "execution_count": 1,
   "metadata": {},
   "outputs": [
    {
     "name": "stdin",
     "output_type": "stream",
     "text": [
      "donnez moi un chiffre entre 1 et 10 5\n"
     ]
    },
    {
     "name": "stdout",
     "output_type": "stream",
     "text": [
      "Le chiffre cherché est plus petit\n"
     ]
    },
    {
     "name": "stdin",
     "output_type": "stream",
     "text": [
      "donnez moi un chiffre entre 1 et 10 4\n"
     ]
    },
    {
     "name": "stdout",
     "output_type": "stream",
     "text": [
      "Le chiffre cherché est plus petit\n",
      "Vous avez reussi au bout de 2 coups\n"
     ]
    }
   ],
   "source": [
    "from random import*\n",
    "compteur=0\n",
    "n=randint(1,10)\n",
    "i=-1\n",
    "while i!=n:\n",
    "  i=int(input(\"donnez moi un chiffre entre 1 et 10\"))\n",
    "  if i<n:\n",
    "    print(\"Le chiffre cherché est plus grand\")\n",
    "    compteur=compteur+1\n",
    "  else:\n",
    "    print(\"Le chiffre cherché est plus petit\")\n",
    "    compteur=compteur+1\n",
    "print(\"Vous avez reussi au bout de\",compteur,\"coups\")"
   ]
  },
  {
   "cell_type": "code",
   "execution_count": null,
   "metadata": {},
   "outputs": [],
   "source": [
    "from random import*\n",
    "compteur=0\n",
    "n=randint(1,10)\n",
    "i=-1\n",
    "print (n)\n",
    "while i!=n:\n",
    "  i=int(input(\"donnez moi un chiffre entre 1 et 10\"))\n",
    "  if i<n:\n",
    "    print(\"Le chiffre cherché est plus grand\")\n",
    "    compteur=compteur+1\n",
    "  else:\n",
    "    print(\"Le chiffre cherché est plus petit\")\n",
    "    compteur=compteur+1\n",
    "print(\"Vous avez reussi au bout de\",compteur,\"coups\")"
   ]
  },
  {
   "cell_type": "code",
   "execution_count": null,
   "metadata": {},
   "outputs": [],
   "source": []
  },
  {
   "cell_type": "code",
   "execution_count": null,
   "metadata": {},
   "outputs": [],
   "source": []
  }
 ],
 "metadata": {
  "kernelspec": {
   "display_name": "Python 3",
   "language": "python",
   "name": "python3"
  },
  "language_info": {
   "codemirror_mode": {
    "name": "ipython",
    "version": 3
   },
   "file_extension": ".py",
   "mimetype": "text/x-python",
   "name": "python",
   "nbconvert_exporter": "python",
   "pygments_lexer": "ipython3",
   "version": "3.7.4"
  }
 },
 "nbformat": 4,
 "nbformat_minor": 4
}
