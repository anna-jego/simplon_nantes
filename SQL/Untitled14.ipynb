{
 "cells": [
  {
   "cell_type": "code",
   "execution_count": 8,
   "metadata": {},
   "outputs": [],
   "source": [
    "import csv\n",
    "import numpy as np\n",
    "import pandas as pd\n",
    "import matplotlib.pyplot as plt\n",
    "from sklearn import linear_model"
   ]
  },
  {
   "cell_type": "code",
   "execution_count": 9,
   "metadata": {},
   "outputs": [],
   "source": [
    "def readCsvFile(filename):\n",
    "    dataList=[]\n",
    "    file = open(filename, \"r\")\n",
    "    reader = csv.reader(file)\n",
    "    for champ in reader:\n",
    "        dataList.append(champ)\n",
    "    return np.array(dataList)"
   ]
  },
  {
   "cell_type": "code",
   "execution_count": null,
   "metadata": {},
   "outputs": [],
   "source": [
    "file_atp = \"ATP.csv\"\n",
    "gamesAtp = readCsvFile(file_atp)"
   ]
  },
  {
   "cell_type": "code",
   "execution_count": null,
   "metadata": {},
   "outputs": [],
   "source": [
    "gamesAtppd=pd.DataFrame(gamesAtp)\n",
    "gamesAatppd.columns = gamesAtppd.iloc[0]\n",
    "gamesAtppd = gamesAtppd.drop(gamesAtppd.index[0])"
   ]
  },
  {
   "cell_type": "code",
   "execution_count": null,
   "metadata": {},
   "outputs": [],
   "source": [
    "matchTable = gamesAtppd[[\"loser_id\",\"winner_id\",\"tourney_id\"]]"
   ]
  },
  {
   "cell_type": "code",
   "execution_count": null,
   "metadata": {},
   "outputs": [],
   "source": [
    "matchTable"
   ]
  },
  {
   "cell_type": "code",
   "execution_count": null,
   "metadata": {},
   "outputs": [],
   "source": [
    "matrixGame=gamesAtppd.as_matrix()\n",
    "list=[]\n",
    "for i in range(len(aa[0])):\n",
    "    res=len(np.where(matrixGame[:,i]=='')[0])\n",
    "    list.append(float(res)/len(matrixGame))\n",
    "ll=gamesAtppd.columns.tolist()\n",
    "%matplotlib inline\n",
    "freq_series = pd.Series.from_array(list)   # in my original code I create a series and run on that, so for consistency I create a series from the list.\n",
    "plt.figure(figsize=(15,8))\n",
    "ax = freq_series.plot(kind='bar')\n",
    "ax.set_title(\"Features NULL Stats\")\n",
    "ax.set_ylabel(\"% des valeurs null\")\n",
    "rects = ax.patches\n",
    "ax.set_xticklabels(ll)\n",
    "plt.show()"
   ]
  },
  {
   "cell_type": "code",
   "execution_count": null,
   "metadata": {},
   "outputs": [],
   "source": [
    "def createPlayersTable (table):\n",
    "    loser = table[['loser_id','l_1stIn','l_1stWon', 'l_2ndWon', 'l_SvGms','l_ace', 'l_bpFaced',\n",
    "                     'l_bpSaved', 'l_df', 'l_svpt', 'loser_age', 'loser_hand',\n",
    "                     'loser_ht', 'loser_rank', 'loser_rank_points','tourney_date','tourney_level','round',\"tourney_id\"]]\n",
    "    loser = loser.rename(columns={'loser_id':'id','l_1stIn':'1stIn','l_1stWon':'1stWon','l_2ndWon':'2ndWon',\n",
    "                      'l_SvGms':'SvGms','l_ace':'ace','l_bpFaced':'bpFaced','l_bpSaved':'bpSaved',\n",
    "                      'l_df':'df','l_svpt':'svpt','loser_age':'age','loser_hand':'hand',\n",
    "                      'loser_ht':'ht','loser_rank':'rank',\n",
    "                      'loser_rank_points':'rank_points'})\n",
    "    loser.insert(len(loser.columns),'win', [0]*len(loser), True) \n",
    "    \n",
    "    winner = table[['winner_id','w_1stIn', 'w_1stWon','w_2ndWon', 'w_SvGms', 'w_ace', 'w_bpFaced',\n",
    "                     'w_bpSaved', 'w_df','w_svpt', 'winner_age', 'winner_hand',\n",
    "                     'winner_ht',  'winner_rank','winner_rank_points','tourney_date','tourney_level','round',\"tourney_id\"]]\n",
    "    winner = winner.rename(columns={'winner_id':'id','w_1stIn':'1stIn','w_1stWon':'1stWon','w_2ndWon':'2ndWon',\n",
    "                      'w_SvGms':'SvGms','w_ace':'ace','w_bpFaced':'bpFaced','w_bpSaved':'bpSaved',\n",
    "                      'w_df':'df', 'w_svpt':'svpt','winner_age':'age',\n",
    "                      'winner_hand':'hand','winner_ht':'ht',\n",
    "                      'winner_rank':'rank','winner_rank_points':'rank_points'})\n",
    "    winner.insert(len(winner.columns),'win', [1]*len(winner), True) \n",
    "    playersTable = pd.concat([loser, winner])\n",
    "    \n",
    "    return playersTable\n",
    "\n",
    "playersTable = createPlayersTable (games_atppd)"
   ]
  },
  {
   "cell_type": "code",
   "execution_count": null,
   "metadata": {},
   "outputs": [],
   "source": [
    "\n",
    "def replaceMissinnValuesAndRank (table):\n",
    "    data2[\"age\"] = data2[\"age\"].replace(\"\",np.nan).astype(float)\n",
    "    table[\"1stIn\"] = table[\"1stIn\"].replace(\"\",np.nan).astype(float)\n",
    "    table[\"1stWon\"] = table[\"1stWon\"].replace(\"\",np.nan).astype(float)\n",
    "    table[\"2ndWon\"] = table[\"2ndWon\"].replace(\"\",np.nan).astype(float)\n",
    "    table[\"SvGms\"] = table[\"SvGms\"].replace(\"\",np.nan).astype(float)\n",
    "    table[\"ace\"] = table[\"ace\"].replace(\"\",np.nan).astype(float)\n",
    "    table[\"bpFaced\"] = table[\"bpFaced\"].replace(\"\",np.nan).astype(float)\n",
    "    table[\"bpSaved\"] = table[\"bpSaved\"].replace(\"\",np.nan).astype(float)\n",
    "    table[\"df\"] = table[\"df\"].replace(\"\",np.nan).astype(float)\n",
    "    table[\"svpt\"] = table[\"svpt\"].replace(\"\",np.nan).astype(float)\n",
    "    table[\"ht\"] = table[\"ht\"].replace(\"\",np.nan).astype(float)\n",
    "    table[\"rank\"] = table[\"rank\"].replace(\"\",np.nan).astype(float)\n",
    "    table[\"rank_points\"] = table[\"rank_points\"].replace(\"\",np.nan).astype(float)\n",
    "    data2[\"age\"] = data2[\"age\"].fillna(data2[\"age\"].mean())\n",
    "    table[\"1stIn\"] = table[\"1stIn\"].fillna(table[\"1stIn\"].mean())\n",
    "    table[\"1stWon\"] = table[\"1stWon\"].fillna(table[\"1stWon\"].mean())\n",
    "    table[\"2ndWon\"] = table[\"2ndWon\"].fillna(table[\"2ndWon\"].mean())\n",
    "    table[\"SvGms\"] = table[\"SvGms\"].fillna(table[\"SvGms\"].mean())\n",
    "    table[\"ace\"] = table[\"ace\"].fillna(table[\"ace\"].mean())\n",
    "    table[\"bpFaced\"] = table[\"bpFaced\"].fillna(table[\"bpFaced\"].mean())\n",
    "    table[\"bpSaved\"] = table[\"bpSaved\"].fillna(table[\"bpSaved\"].mean())\n",
    "    table[\"df\"] = table[\"df\"].fillna(table[\"df\"].mean())\n",
    "    table[\"svpt\"] = table[\"svpt\"].fillna(table[\"svpt\"].mean())\n",
    "    table[\"ht\"] = table[\"ht\"].fillna(table[\"ht\"].mean())\n",
    "    table[\"rank\"] = table[\"rank\"].fillna(table[\"rank\"].mean())\n",
    "    table[\"rank_points\"] = table[\"rank_points\"].fillna(table[\"rank_points\"].mean())\n",
    "    table[\"tourney_date\"].rank() \n",
    "    table.sort_values(\"tourney_date\", inplace = True) \n",
    "    table.reset_index(inplace=True)\n",
    "    return table\n",
    "\n",
    "playersTable = replaceMissinnValuesAndRank (playersTable)"
   ]
  },
  {
   "cell_type": "code",
   "execution_count": null,
   "metadata": {},
   "outputs": [],
   "source": [
    "def createNewFeatures (playersTable):\n",
    "    playersTmp = pd.DataFrame()\n",
    "    playersTmp [\"id\"] = playersTable[\"id\"].unique()\n",
    "    playersTmp [\"count\"] = 0.\n",
    "    playersTmp [\"1stIn\"] = 0.\n",
    "    playersTmp [\"1stWon\"] = 0.\n",
    "    playersTmp [\"2ndWon\"] = 0.\n",
    "    playersTmp [\"bpFaced\"] = 0.\n",
    "    playersTmp [\"bpSaved\"] = 0.\n",
    "    playersTmp [\"df\"] = 0.\n",
    "    playersTmp [\"pre_win\"] = 0.\n",
    "    playersTmp [\"pre_loss\"] = 0.\n",
    "    \n",
    "    playersTable [\"avg_1stIn\"] = 0.\n",
    "    playersTable [\"avg_1stWon\"] = 0.\n",
    "    playersTable [\"avg_2ndWon\"] = 0.\n",
    "    playersTable [\"avg_bpFaced\"] = 0.\n",
    "    playersTable [\"avg_bpSaved\"] = 0.\n",
    "    playersTable [\"avg_df\"] = 0.\n",
    "    playersTable [\"avg_pre_win\"] = 0.\n",
    "    \n",
    "    for i in range(0,len(playersTable)):\n",
    "        if i % 10000 == 0:\n",
    "            print(i)\n",
    "        playerIndex = playersTmp.loc[(playersTmp[\"id\"]==playersTable[\"id\"][i])].index.values[0]\n",
    "        playersTmp[\"count\"][playerIndex]+=1\n",
    "        playersTmp[\"1stIn\"][playerIndex]+=float(playersTable[\"1stIn\"][i])\n",
    "        playersTmp[\"1stWon\"][playerIndex]+=float(playersTable[\"1stWon\"][i])\n",
    "        playersTmp[\"2ndWon\"][playerIndex]+=float(playersTable[\"2ndWon\"][i])\n",
    "        playersTmp[\"bpFaced\"][playerIndex]+=float(playersTable[\"bpFaced\"][i])\n",
    "        playersTmp[\"bpSaved\"][playerIndex]+=float(playersTable[\"bpSaved\"][i])\n",
    "        playersTmp[\"df\"][playerIndex]+=float(playersTable[\"df\"][i])\n",
    "        playersTmp[\"pre_win\"][playerIndex]+=float(playersTable[\"win\"][i])\n",
    "\n",
    "        playersTable [\"avg_1stIn\"][i] = float(playersTmp[\"1stIn\"][playerIndex])/playersTmp[\"count\"][playerIndex]\n",
    "        playersTable [\"avg_1stWon\"][i] = float(playersTmp[\"1stWon\"][playerIndex])/playersTmp[\"count\"][playerIndex]\n",
    "        playersTable [\"avg_2ndWon\"][i] = float(playersTmp[\"2ndWon\"][playerIndex])/playersTmp[\"count\"][playerIndex]\n",
    "        playersTable [\"avg_bpFaced\"][i] = float(playersTmp[\"bpFaced\"][playerIndex])/playersTmp[\"count\"][playerIndex]\n",
    "        playersTable [\"avg_bpSaved\"][i] = float(playersTmp[\"bpSaved\"][playerIndex])/playersTmp[\"count\"][playerIndex]\n",
    "        playersTable [\"avg_df\"][i] = float(playersTmp[\"df\"][playerIndex])/playersTmp[\"count\"][playerIndex]\n",
    "        playersTable [\"avg_pre_win\"][i] = float(playersTmp[\"pre_win\"][playerIndex])/playersTmp[\"count\"][playerIndex]\n",
    "\n",
    "    return playersTable\n",
    "\n",
    "playersTable = createNewFeatures (playersTable)"
   ]
  },
  {
   "cell_type": "code",
   "execution_count": null,
   "metadata": {},
   "outputs": [],
   "source": [
    "def qualitatifToVectorelRepresentation (playersTable):\n",
    "    playersTable[\"r_hand\"]=0\n",
    "    playersTable[\"l_hand\"]=0\n",
    "    playersTable[\"g_level\"]=0\n",
    "    playersTable[\"m_level\"]=0\n",
    "    playersTable[\"a_level\"]=0\n",
    "    playersTable[\"c_level\"]=0\n",
    "    playersTable[\"s_level\"]=0\n",
    "    playersTable[\"f_level\"]=0\n",
    "    playersTable[\"d_level\"]=0\n",
    "\n",
    "    for i in range (len(playersTable)):\n",
    "        if i % 10000 == 0:\n",
    "            print(i)\n",
    "        if playersTable[\"hand\"][i]==\"R\":\n",
    "            playersTable[\"r_hand\"][i]=1\n",
    "        elif playersTable[\"hand\"][i]==\"L\":\n",
    "            playersTable[\"l_hand\"][i]=1\n",
    "\n",
    "        if playersTable[\"tourney_level\"][i]==\"G\":\n",
    "            playersTable[\"g_level\"][i]=1\n",
    "        elif playersTable[\"tourney_level\"][i]==\"M\":\n",
    "            playersTable[\"m_level\"][i]=1\n",
    "        elif playersTable[\"tourney_level\"][i]==\"A\":\n",
    "            playersTable[\"a_level\"][i]=1\n",
    "        elif playersTable[\"tourney_level\"][i]==\"C\":\n",
    "            playersTable[\"c_level\"][i]=1\n",
    "        elif playersTable[\"tourney_level\"][i]==\"S\":\n",
    "            playersTable[\"s_level\"][i]=1\n",
    "        elif playersTable[\"tourney_level\"][i]==\"F\":\n",
    "            playersTable[\"f_level\"][i]=1\n",
    "        elif playersTable[\"tourney_level\"][i]==\"D\":\n",
    "            playersTable[\"d_level\"][i]=1\n",
    "\n",
    "    return playersTable\n",
    "playersTable = qualitatifToVectorelRepresentation (playersTable)"
   ]
  },
  {
   "cell_type": "code",
   "execution_count": null,
   "metadata": {},
   "outputs": [],
   "source": [
    "playersDataSelected = playersTable [[\"id\",\"tourney_id\",\"age\",\"ht\",\"rank\",\"rank_points\",\"avg_1stIn\",\"avg_1stWon\",\"avg_2ndWon\",\n",
    "                                     \"avg_bpFaced\",\"avg_bpSaved\",\"avg_df\",\"avg_pre_win\",\"r_hand\",\"l_hand\",\"g_level\",\"m_level\",\"c_level\",\n",
    "                                     \"s_level\",\"f_level\",\"d_level\"]]"
   ]
  },
  {
   "cell_type": "code",
   "execution_count": null,
   "metadata": {},
   "outputs": [],
   "source": [
    "matchTable[\"label\"]=None\n",
    "for i in range (len(matchTable)):\n",
    "    if i % 10000 == 0:\n",
    "        print(i)\n",
    "    r = np.random.random()\n",
    "    if r>=0.5:\n",
    "        matchTable[\"label\"][i]=1\n",
    "    else:\n",
    "        tmpValue=matchTable[\"loser_id\"][i]\n",
    "        matchTable[\"loser_id\"][i]=matchTable[\"winner_id\"][i]\n",
    "        matchTable[\"winner_id\"][i]=tmpValue\n",
    "        matchTable[\"label\"][i]=-1"
   ]
  },
  {
   "cell_type": "code",
   "execution_count": null,
   "metadata": {},
   "outputs": [],
   "source": [
    "data1=pd.merge(playersDataSelected,matchTable,left_on=['id',\"tourney_id\"],right_on=['loser_id',\"tourney_id\"])\n",
    "data2=pd.merge(playersDataSelected,data1,left_on=['id',\"tourney_id\"],right_on=['winner_id',\"tourney_id\"])"
   ]
  },
  {
   "cell_type": "code",
   "execution_count": null,
   "metadata": {},
   "outputs": [],
   "source": [
    "dataToLearn = data2[['age_x','ht_x', 'rank_x', 'rank_points_x',\n",
    "       'avg_1stIn_x', 'avg_1stWon_x', 'avg_2ndWon_x', 'avg_bpFaced_x',\n",
    "       'avg_bpSaved_x', 'avg_df_x', 'avg_pre_win_x', 'r_hand_x', 'l_hand_x',\n",
    "       'g_level_x', 'm_level_x', 'c_level_x', 's_level_x', 'f_level_x',\n",
    "       'd_level_x','age_y', 'ht_y', 'rank_y', 'rank_points_y',\n",
    "       'avg_1stIn_y', 'avg_1stWon_y', 'avg_2ndWon_y', 'avg_bpFaced_y',\n",
    "       'avg_bpSaved_y', 'avg_df_y', 'avg_pre_win_y', 'r_hand_y', 'l_hand_y',\n",
    "       'g_level_y', 'm_level_y', 'c_level_y', 's_level_y', 'f_level_y',\n",
    "       'd_level_y']]\n",
    "label = data2[ \"label\"]"
   ]
  },
  {
   "cell_type": "code",
   "execution_count": null,
   "metadata": {},
   "outputs": [],
   "source": [
    "dataFinal=dataToLearn.as_matrix()\n",
    "labelFinal = label.as_matrix()\n",
    "labelFinal = labelFinal.tolist()\n",
    "for i in range (len(labelFinal)):\n",
    "    if labelFinal[i] == None:\n",
    "        labelFinal[i]=-1"
   ]
  },
  {
   "cell_type": "code",
   "execution_count": null,
   "metadata": {},
   "outputs": [],
   "source": [
    "splitValue = int(len(dataFinal)*0.7)\n",
    "trainX = dataFinal [0:splitValue]\n",
    "trainY = labelFinal [0:splitValue]\n",
    "testX = dataFinal [splitValue:len(dataFinal)]\n",
    "testY = labelFinal [splitValue:len(labelFinal)]"
   ]
  },
  {
   "cell_type": "code",
   "execution_count": null,
   "metadata": {},
   "outputs": [],
   "source": [
    "clf_LR=linear_model.logistic.LogisticRegression()\n",
    "clf_LR.fit (trainX,trainY)"
   ]
  },
  {
   "cell_type": "code",
   "execution_count": null,
   "metadata": {},
   "outputs": [],
   "source": [
    "prediction = clf_LR.predict(testX)"
   ]
  },
  {
   "cell_type": "code",
   "execution_count": null,
   "metadata": {},
   "outputs": [],
   "source": [
    "len(np.where (prediction==testY)[0])/len(testY)"
   ]
  }
 ],
 "metadata": {
  "kernelspec": {
   "display_name": "Python 3",
   "language": "python",
   "name": "python3"
  },
  "language_info": {
   "codemirror_mode": {
    "name": "ipython",
    "version": 3
   },
   "file_extension": ".py",
   "mimetype": "text/x-python",
   "name": "python",
   "nbconvert_exporter": "python",
   "pygments_lexer": "ipython3",
   "version": "3.7.4"
  }
 },
 "nbformat": 4,
 "nbformat_minor": 4
}
