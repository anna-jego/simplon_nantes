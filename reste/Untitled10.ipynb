{
 "cells": [
  {
   "cell_type": "code",
   "execution_count": 24,
   "metadata": {},
   "outputs": [
    {
     "name": "stdout",
     "output_type": "stream",
     "text": [
      "MMMMaaacXolloMM\n",
      "0 M\n",
      "1 M\n",
      "2 M\n",
      "3 M\n",
      "change\n",
      "4 a\n",
      "5 a\n",
      "6 a\n",
      "change\n",
      "7 c\n",
      "change\n",
      "8 X\n",
      "change\n",
      "9 o\n",
      "change\n",
      "10 l\n",
      "11 l\n",
      "change\n",
      "12 o\n",
      "change\n",
      "13 M\n"
     ]
    }
   ],
   "source": [
    "t = 'MMMMaaacXolloMM'\n",
    "print(t)\n",
    "liste_caractere = [t[0]]\n",
    "\n",
    "\n",
    "def mon_tuple(t):\n",
    "    for i in t:\n",
    "        liste_caractere.append(tuple(i))\n",
    "        print(liste_caractere)\n",
    "        \n",
    "        \n",
    "    return ()\n",
    "    print(a)\n",
    "    print(liste_caractere)\n",
    "    \n",
    "#compréhension occurence    \n",
    "for i in range(0, len(t)-1):\n",
    "    print(i, t[i])\n",
    "    if t[i+1] != t[i]:\n",
    "        print(\"change\")\n"
   ]
  },
  {
   "cell_type": "code",
   "execution_count": null,
   "metadata": {},
   "outputs": [],
   "source": []
  },
  {
   "cell_type": "code",
   "execution_count": null,
   "metadata": {},
   "outputs": [],
   "source": []
  }
 ],
 "metadata": {
  "kernelspec": {
   "display_name": "Python 3",
   "language": "python",
   "name": "python3"
  },
  "language_info": {
   "codemirror_mode": {
    "name": "ipython",
    "version": 3
   },
   "file_extension": ".py",
   "mimetype": "text/x-python",
   "name": "python",
   "nbconvert_exporter": "python",
   "pygments_lexer": "ipython3",
   "version": "3.7.4"
  }
 },
 "nbformat": 4,
 "nbformat_minor": 4
}
