{
 "cells": [
  {
   "cell_type": "code",
   "execution_count": 4,
   "metadata": {},
   "outputs": [
    {
     "name": "stdout",
     "output_type": "stream",
     "text": [
      "13.166666666666666\n"
     ]
    }
   ],
   "source": [
    "import statistics\n",
    "# Use: statistics.mean(liste)\n",
    " \n",
    "from statistics import mean\n",
    "# Use: mean(liste)\n",
    "\n",
    "liste=[11,20,13,14,5,16]\n",
    "\n",
    "def somme(liste):\n",
    "    _somme = 0\n",
    "    for i in liste:\n",
    "        _somme = _somme + i\n",
    "    return _somme\n",
    "\n",
    "def moyenne(liste):\n",
    "    return somme(liste)/len(liste)\n",
    "\n",
    "print(moyenne(liste))\n",
    "\n"
   ]
  },
  {
   "cell_type": "code",
   "execution_count": 5,
   "metadata": {},
   "outputs": [
    {
     "name": "stdout",
     "output_type": "stream",
     "text": [
      "Collecting runstats\n",
      "  Using cached https://files.pythonhosted.org/packages/b9/6e/c9b0812b41e9625e09cd900205a1482c07d6c9c3405f8a1ddc3bf576e7a7/runstats-1.8.0.tar.gz\n",
      "Building wheels for collected packages: runstats\n",
      "  Building wheel for runstats (setup.py): started\n",
      "  Building wheel for runstats (setup.py): finished with status 'error'\n",
      "  Running setup.py clean for runstats\n",
      "Failed to build runstats\n",
      "Installing collected packages: runstats\n",
      "  Running setup.py install for runstats: started\n",
      "    Running setup.py install for runstats: finished with status 'error'\n",
      "Note: you may need to restart the kernel to use updated packages.\n"
     ]
    },
    {
     "name": "stderr",
     "output_type": "stream",
     "text": [
      "  ERROR: Command errored out with exit status 1:\n",
      "   command: 'C:\\Users\\utilisateur\\Anaconda3\\python.exe' -u -c 'import sys, setuptools, tokenize; sys.argv[0] = '\"'\"'C:\\\\Users\\\\UTILIS~1\\\\AppData\\\\Local\\\\Temp\\\\pip-install-k2i6yejh\\\\runstats\\\\setup.py'\"'\"'; __file__='\"'\"'C:\\\\Users\\\\UTILIS~1\\\\AppData\\\\Local\\\\Temp\\\\pip-install-k2i6yejh\\\\runstats\\\\setup.py'\"'\"';f=getattr(tokenize, '\"'\"'open'\"'\"', open)(__file__);code=f.read().replace('\"'\"'\\r\\n'\"'\"', '\"'\"'\\n'\"'\"');f.close();exec(compile(code, __file__, '\"'\"'exec'\"'\"'))' bdist_wheel -d 'C:\\Users\\UTILIS~1\\AppData\\Local\\Temp\\pip-wheel-g9cfb_1r' --python-tag cp37\n",
      "       cwd: C:\\Users\\UTILIS~1\\AppData\\Local\\Temp\\pip-install-k2i6yejh\\runstats\\\n",
      "  Complete output (12 lines):\n",
      "  Warning: 'classifiers' should be a list, got type 'tuple'\n",
      "  running bdist_wheel\n",
      "  running build\n",
      "  running build_py\n",
      "  creating build\n",
      "  creating build\\lib.win-amd64-3.7\n",
      "  creating build\\lib.win-amd64-3.7\\runstats\n",
      "  copying runstats\\core.py -> build\\lib.win-amd64-3.7\\runstats\n",
      "  copying runstats\\__init__.py -> build\\lib.win-amd64-3.7\\runstats\n",
      "  running build_ext\n",
      "  building 'runstats.fast' extension\n",
      "  error: Microsoft Visual C++ 14.0 is required. Get it with \"Microsoft Visual C++ Build Tools\": https://visualstudio.microsoft.com/downloads/\n",
      "  ----------------------------------------\n",
      "  ERROR: Failed building wheel for runstats\n",
      "    ERROR: Command errored out with exit status 1:\n",
      "     command: 'C:\\Users\\utilisateur\\Anaconda3\\python.exe' -u -c 'import sys, setuptools, tokenize; sys.argv[0] = '\"'\"'C:\\\\Users\\\\UTILIS~1\\\\AppData\\\\Local\\\\Temp\\\\pip-install-k2i6yejh\\\\runstats\\\\setup.py'\"'\"'; __file__='\"'\"'C:\\\\Users\\\\UTILIS~1\\\\AppData\\\\Local\\\\Temp\\\\pip-install-k2i6yejh\\\\runstats\\\\setup.py'\"'\"';f=getattr(tokenize, '\"'\"'open'\"'\"', open)(__file__);code=f.read().replace('\"'\"'\\r\\n'\"'\"', '\"'\"'\\n'\"'\"');f.close();exec(compile(code, __file__, '\"'\"'exec'\"'\"'))' install --record 'C:\\Users\\UTILIS~1\\AppData\\Local\\Temp\\pip-record-uqx_bkq2\\install-record.txt' --single-version-externally-managed --compile\n",
      "         cwd: C:\\Users\\UTILIS~1\\AppData\\Local\\Temp\\pip-install-k2i6yejh\\runstats\\\n",
      "    Complete output (12 lines):\n",
      "    Warning: 'classifiers' should be a list, got type 'tuple'\n",
      "    running install\n",
      "    running build\n",
      "    running build_py\n",
      "    creating build\n",
      "    creating build\\lib.win-amd64-3.7\n",
      "    creating build\\lib.win-amd64-3.7\\runstats\n",
      "    copying runstats\\core.py -> build\\lib.win-amd64-3.7\\runstats\n",
      "    copying runstats\\__init__.py -> build\\lib.win-amd64-3.7\\runstats\n",
      "    running build_ext\n",
      "    building 'runstats.fast' extension\n",
      "    error: Microsoft Visual C++ 14.0 is required. Get it with \"Microsoft Visual C++ Build Tools\": https://visualstudio.microsoft.com/downloads/\n",
      "    ----------------------------------------\n",
      "ERROR: Command errored out with exit status 1: 'C:\\Users\\utilisateur\\Anaconda3\\python.exe' -u -c 'import sys, setuptools, tokenize; sys.argv[0] = '\"'\"'C:\\\\Users\\\\UTILIS~1\\\\AppData\\\\Local\\\\Temp\\\\pip-install-k2i6yejh\\\\runstats\\\\setup.py'\"'\"'; __file__='\"'\"'C:\\\\Users\\\\UTILIS~1\\\\AppData\\\\Local\\\\Temp\\\\pip-install-k2i6yejh\\\\runstats\\\\setup.py'\"'\"';f=getattr(tokenize, '\"'\"'open'\"'\"', open)(__file__);code=f.read().replace('\"'\"'\\r\\n'\"'\"', '\"'\"'\\n'\"'\"');f.close();exec(compile(code, __file__, '\"'\"'exec'\"'\"'))' install --record 'C:\\Users\\UTILIS~1\\AppData\\Local\\Temp\\pip-record-uqx_bkq2\\install-record.txt' --single-version-externally-managed --compile Check the logs for full command output.\n"
     ]
    }
   ],
   "source": [
    "pip install runstats"
   ]
  },
  {
   "cell_type": "code",
   "execution_count": null,
   "metadata": {},
   "outputs": [],
   "source": []
  }
 ],
 "metadata": {
  "kernelspec": {
   "display_name": "Python 3",
   "language": "python",
   "name": "python3"
  },
  "language_info": {
   "codemirror_mode": {
    "name": "ipython",
    "version": 3
   },
   "file_extension": ".py",
   "mimetype": "text/x-python",
   "name": "python",
   "nbconvert_exporter": "python",
   "pygments_lexer": "ipython3",
   "version": "3.7.4"
  }
 },
 "nbformat": 4,
 "nbformat_minor": 4
}
