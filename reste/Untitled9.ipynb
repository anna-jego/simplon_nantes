{
 "cells": [
  {
   "cell_type": "markdown",
   "metadata": {},
   "source": [
    "Les tuples (n-uplets)\n"
   ]
  },
  {
   "cell_type": "markdown",
   "metadata": {},
   "source": [
    "Exercice 1\n",
    "\n",
    "Transformation d’une chaîne de caractère en liste de tuples\n",
    "\n",
    "\n",
    "Ecrire un code qui prend une chaîne de caractères en entrée, et retourne une liste de tuples. Chaque tuple est composé d’un caractère (et d’un seul) et du nombre d’occurrences consécutives de ce caractère. Par exemple, la chaîne MMMMaaacXolloMM  est représentée par la liste\n",
    "\n",
    "\n",
    "[('M', 4), ('a', 3), ('c', 1), ('X', 1), ('o', 1), ('l', 2), ('o', 1), ('M', 2)].\n"
   ]
  },
  {
   "cell_type": "code",
   "execution_count": 41,
   "metadata": {},
   "outputs": [
    {
     "name": "stdout",
     "output_type": "stream",
     "text": [
      "les caractères sont : MMMMaaacXolloMM\n",
      "la liste de caractère est : ['M', 'a', 'c', 'X', 'o', 'l', 'o', 'M']\n",
      "la liste d'occurence est [4, 3, 1, 1, 1, 2, 1, 2]\n",
      "la liste de tuple est : [(4, 'M'), (3, 'a'), (1, 'c'), (1, 'X'), (1, 'o'), (2, 'l'), (1, 'o'), (2, 'M')]\n"
     ]
    }
   ],
   "source": [
    "t = 'MMMMaaacXolloMM'\n",
    "print(\"les caractères sont :\", t)\n",
    "liste_caractere = [t[0]]\n",
    "\n",
    "\n",
    "for i in range( 1, len(t)):\n",
    "    if t[i - 1] != t[i]:\n",
    "      liste_caractere.append(t[i])\n",
    "print(\"la liste de caractère est :\",  liste_caractere)\n",
    "\n",
    "liste_occurence = [1]\n",
    "for i in range (1, len(t)):\n",
    "    if t[i] == t[i-1]:\n",
    "        liste_occurence[-1] += 1\n",
    "    else :\n",
    "        liste_occurence.append(1)\n",
    "print(\"la liste d'occurence est\", liste_occurence)\n",
    "\n",
    "liste_tuple = []\n",
    "for i in range(len(liste_occurence)):\n",
    "    tuple = (liste_occurence[i], liste_caractere[i])\n",
    "    liste_tuple.append(tuple)\n",
    "print(\"la liste de tuple est :\", liste_tuple)\n"
   ]
  },
  {
   "cell_type": "markdown",
   "metadata": {},
   "source": [
    "Exercice 2\n",
    "\n",
    "\n",
    "Transformation d’une liste de tuples en une chaîne de caractère\n",
    "\n",
    "\n",
    "Ecrire le code : inverse une liste de tuples en entrée et retourne la chaîne de caractères correspondante.\n"
   ]
  },
  {
   "cell_type": "code",
   "execution_count": 17,
   "metadata": {},
   "outputs": [
    {
     "name": "stdout",
     "output_type": "stream",
     "text": [
      "<class 'tuple'>\n",
      "MMMMaaacXolloMM\n"
     ]
    }
   ],
   "source": [
    "liste = [('M', 4), ('a', 3), ('c', 1), ('X', 1), ('o', 1), ('l', 2), ('o', 1), ('M', 2)]\n",
    " \n",
    "result = ''.join(i*j for i, j in liste)\n",
    "\n",
    "print(type(liste[0]))\n",
    "print(result)"
   ]
  },
  {
   "cell_type": "markdown",
   "metadata": {},
   "source": [
    "Exercice 3\n",
    "\n",
    "Les tuples permettant tout comme les listes de stocker des éléments hétérogènes:\n",
    "\n",
    "tuple0 = (0, 5.4, \"chaine\", True)\n",
    "\n",
    "Au contraire des listes, les tuples ne sont pas mutables. Il n'est pas possible de modifier un élément, d'en rajouter un ou d'en supprimer un sans redéfinir tout le tuple. L'avantage d'un tuple sur une liste est que un tuple est hashable, c'est-à-dire qu'il peut être utilisé comme clé dans un dictionnaire.\n"
   ]
  },
  {
   "cell_type": "markdown",
   "metadata": {},
   "source": [
    "a) Vérifier qu'un tuple est bien immutable.\n"
   ]
  },
  {
   "cell_type": "code",
   "execution_count": 2,
   "metadata": {},
   "outputs": [
    {
     "ename": "NameError",
     "evalue": "name 't' is not defined",
     "output_type": "error",
     "traceback": [
      "\u001b[1;31m---------------------------------------------------------------------------\u001b[0m",
      "\u001b[1;31mNameError\u001b[0m                                 Traceback (most recent call last)",
      "\u001b[1;32m<ipython-input-2-fa648c638fb9>\u001b[0m in \u001b[0;36m<module>\u001b[1;34m\u001b[0m\n\u001b[1;32m----> 1\u001b[1;33m \u001b[0mt\u001b[0m\u001b[1;33m(\u001b[0m\u001b[1;34m'a'\u001b[0m\u001b[1;33m,\u001b[0m \u001b[1;34m'b'\u001b[0m\u001b[1;33m,\u001b[0m \u001b[1;34m'mpilgrim'\u001b[0m\u001b[1;33m,\u001b[0m \u001b[1;34m'z'\u001b[0m\u001b[1;33m,\u001b[0m \u001b[1;34m'example'\u001b[0m\u001b[1;33m)\u001b[0m\u001b[1;33m\u001b[0m\u001b[1;33m\u001b[0m\u001b[0m\n\u001b[0m\u001b[0;32m      2\u001b[0m \u001b[0mt\u001b[0m\u001b[1;33m.\u001b[0m\u001b[0mappend\u001b[0m\u001b[1;33m(\u001b[0m\u001b[1;34m\"new\"\u001b[0m\u001b[1;33m)\u001b[0m\u001b[1;33m\u001b[0m\u001b[1;33m\u001b[0m\u001b[0m\n",
      "\u001b[1;31mNameError\u001b[0m: name 't' is not defined"
     ]
    }
   ],
   "source": [
    "t('a', 'b', 'mpilgrim', 'z', 'example')\n",
    "t.append(\"new\") #je ne peux pas ajouter d'élément à mon tuple.\n",
    "t.remove(\"z\") #je ne peux  pas enlever d'éléments à mon tuple."
   ]
  },
  {
   "cell_type": "markdown",
   "metadata": {},
   "source": [
    "b) Définir une fonction mdlast(lst,val) ayant pour argument une liste de tuples d'entiers lst et un entier val et retourner la liste de tuple avec le dernier élément de chaque tuple remplacé par val. Par exemple si lst = [(10, 20), (30, 40, 50, 60), (70, 80, 90)] alors mdlast(lst,100) doit retourner [(10, 100), (30, 40, 50, 100), (70, 80, 100)]."
   ]
  },
  {
   "cell_type": "code",
   "execution_count": 22,
   "metadata": {},
   "outputs": [
    {
     "name": "stdout",
     "output_type": "stream",
     "text": [
      "2\n",
      "(1, 2, 100)\n",
      "(10, 20)\n",
      "(10, 100)\n",
      "(30, 40, 50, 60)\n",
      "(30, 40, 50, 100)\n",
      "(70, 80, 90)\n",
      "(70, 80, 100)\n"
     ]
    }
   ],
   "source": [
    "lst = [(10, 20), (30, 40, 50, 60), (70, 80, 90)]\n",
    "tpl = (1, 2, 3)\n",
    "change_value = 100\n",
    "print(tpl[1])\n",
    "\n",
    "tpl =  tpl[:-1] + (change_value,)\n",
    "print(tpl)\n",
    "\n",
    "for liste in lst:\n",
    "    print(liste)\n",
    "    liste = liste[:-1] + (change_value,)\n",
    "    print(liste)\n",
    "    \n",
    "\n"
   ]
  },
  {
   "cell_type": "markdown",
   "metadata": {},
   "source": [
    "c) Comment convertir un tuple en liste et réciproquement ?\n"
   ]
  },
  {
   "cell_type": "code",
   "execution_count": null,
   "metadata": {},
   "outputs": [],
   "source": []
  }
 ],
 "metadata": {
  "kernelspec": {
   "display_name": "Python 3",
   "language": "python",
   "name": "python3"
  },
  "language_info": {
   "codemirror_mode": {
    "name": "ipython",
    "version": 3
   },
   "file_extension": ".py",
   "mimetype": "text/x-python",
   "name": "python",
   "nbconvert_exporter": "python",
   "pygments_lexer": "ipython3",
   "version": "3.7.4"
  }
 },
 "nbformat": 4,
 "nbformat_minor": 4
}
