{
 "cells": [
  {
   "cell_type": "markdown",
   "metadata": {},
   "source": [
    "# 7.1 Boucle\n",
    "\n",
    "\n",
    "Calcul d’une moyenne\n",
    "\n",
    "Ecrire un programme qui permette à l’utilisateur de calculer la moyenne de ses notes. Ce\n",
    "programme commencera par demander combien l’utilisateur a eu de notes durant le semestre.\n",
    "Il lira ensuite ces notes une à une pour faire le calcul de la moyenne. Après avoir lu toutes les\n",
    "notes, on affichera la moyenne calculée.\n",
    "\n",
    "En python, on peut utiliser la fonction input pour récupérer une chaîne de\n",
    "caractères tapée au clavier."
   ]
  },
  {
   "cell_type": "code",
   "execution_count": null,
   "metadata": {},
   "outputs": [],
   "source": [
    "compteur = 0\n",
    "\n",
    "ma_chaine = input( ' Taper une chaine : ' )\n",
    "print ('La chaine est : ' , ma_chaine)\n",
    "\n",
    "import statistics\n",
    "# Use: statistics.mean(liste)\n",
    " \n",
    "from statistics import mean\n",
    "# Use: mean(liste)\n",
    "\n",
    "liste=[11,20,13,14,5,16]\n",
    "\n",
    "def somme(liste):\n",
    "    _somme = 0\n",
    "    for i in liste:\n",
    "        _somme = _somme + i\n",
    "    return _somme\n",
    "\n",
    "def moyenne(liste):\n",
    "    return somme(liste)/len(liste)\n",
    "\n",
    "print(moyenne(liste))\n"
   ]
  },
  {
   "cell_type": "markdown",
   "metadata": {},
   "source": [
    "# 7.3 Appel de fonctions\n",
    "Consid´erons la biblioth`eque de fonctions suivantes :"
   ]
  },
  {
   "cell_type": "code",
   "execution_count": 4,
   "metadata": {},
   "outputs": [
    {
     "name": "stdout",
     "output_type": "stream",
     "text": [
      "4\n",
      "moyenne 5.0 somme des carres 50.0 ecart type 3.5355339059327378\n",
      "moyenne 5.0 somme des carres 2.5 ecart type 0.7905694150420949\n"
     ]
    }
   ],
   "source": [
    "from math import *\n",
    "B =[1,2,8,9]\n",
    "C = [4,4.5,5.5,6]\n",
    "\n",
    "def somme( x1 , x2 ) :\n",
    "    return x1+x2\n",
    "\n",
    "def soustraction ( x1 , x2 ) :\n",
    "    return x1-x2\n",
    "\n",
    "def multiplication ( x1 , x2 ) :\n",
    "    return x1*x2\n",
    "\n",
    "def division ( x1 , x2 ) :\n",
    "    return x1/x2\n",
    "\n",
    "def racine ( x ) :\n",
    "    return sqrt ( x )\n",
    "\n",
    "def puissance (x , exposant ) :\n",
    "    return x** exposant\n",
    "\n",
    "def factorielle ( x ) :\n",
    "    return fact ( x )\n",
    "\n",
    "def val_eurAbsolue ( x ) :\n",
    "    return abs ( x )\n",
    "\n",
    "def cosinus ( x ) :\n",
    "    return cos ( x )\n",
    "\n",
    "def sinus ( x ) :\n",
    "    return sin ( x )\n",
    "\n",
    "def moyenne ( tab ) :\n",
    "    moy = 0.0\n",
    "    for i in range ( len ( tab ) ) :\n",
    "        moy = moy + tab [ i ]\n",
    "    moy = division (moy , len( tab ) )\n",
    "    return moy\n",
    "\n",
    "def logarithme ( x ) :\n",
    "    return log ( x )\n",
    "\n",
    "def fonction1(a_real, b_real):     # calcul du carré de la différence entre 2 valeurs\n",
    "    return(puissance(soustraction (a_real,b_real),2))\n",
    "\n",
    "def fonction2(tableau):      # calcul de l'écart type pour des valeurs d'un tableau\n",
    "    somme_carres = 0.0\n",
    "    moy = moyenne(tableau)\n",
    "    for j in range(len(tableau)):\n",
    "        somme_carres += fonction1(tableau[j], moy)\n",
    "    return somme_carres\n",
    "\n",
    "def ecart_type(tableau):\n",
    "    return racine(fonction2(tableau)/len(tableau))\n",
    "    \n",
    "print(fonction1(2,4))\n",
    "print(\"moyenne\", moyenne(B),\"somme des carres\",fonction2 (B),\"ecart type\", ecart_type(B) )\n",
    "print(\"moyenne\", moyenne(C),\"somme des carres\",fonction2 (C),\"ecart type\", ecart_type(C))"
   ]
  },
  {
   "cell_type": "code",
   "execution_count": 3,
   "metadata": {},
   "outputs": [
    {
     "name": "stdout",
     "output_type": "stream",
     "text": [
      "Les indices dont les valeurs sont égales à 3 sont : [2, 5, 6]\n"
     ]
    }
   ],
   "source": [
    "A = [1,2,3,1,2,3,3]\n",
    "\n",
    "def cherche_x (tableau,x):\n",
    "    liste_indices =[]\n",
    "    for i in range(len(tableau)):\n",
    "        if tableau[i]== x :\n",
    "            liste_indices.append(i)\n",
    "    return liste_indices\n",
    "\n",
    "print(\"Les indices dont les valeurs sont égales à 3 sont :\",cherche_x(A,3))"
   ]
  },
  {
   "cell_type": "markdown",
   "metadata": {},
   "source": [
    "# 7.4 Récursivité\n",
    "\n",
    "Repeat\n",
    "\n",
    "1. Ecrire une fonction repete( n,str) renvoyant la chaîne de caractères str répétée n fois :\n",
    "repete(3, \"bla\") donne blablabla.\n",
    "\n",
    "2. Ecrire une fonction pyramide(n, s) qui écrit sur la première ligne, 1 fois la chaînes, sur\n",
    "la deuxième, 2 fois la chaînes, et ainsi de suite jusque la dernière ligne, ou il y aura n fois\n",
    "la chaînes. Ainsi pyramide(5, \"bla\") donnera\n",
    "bla\n",
    "blabla\n",
    "blablabla\n",
    "blablablabla\n",
    "blablablablabla\n",
    "\n",
    "3. Quand on lance pyramide(n, s), combien y a-t-il d’appels à pyramide ? Combien y a-t-il\n",
    "d’appels à repete ? Pour vous aider à répondre dessiner l’arbre des appels pour n = 3.\n"
   ]
  },
  {
   "cell_type": "code",
   "execution_count": 3,
   "metadata": {},
   "outputs": [],
   "source": [
    "##7.4.1\n",
    "def repete(n, chaine_c) :\n",
    "    return n*chaine_c\n",
    "##7.4.2\n",
    "def pyramide(n, s) : \n",
    "    compteur = 1\n",
    "    while compteur <= n :\n",
    "        ligne = repete(compteur, s)  # Faisons appel à la fonction précédente.\n",
    "        compteur += 1\n",
    "        print (ligne)\n",
    "\n",
    "def pyramide_2(n, s):\n",
    "    for ligne in range(n) : \n",
    "        a = repete(ligne + 1, s)\n",
    "        print (a)"
   ]
  },
  {
   "cell_type": "markdown",
   "metadata": {},
   "source": [
    "# 8.1 Exercices préparatoires\n",
    "\n",
    "## 8.1.1 Classe ou objet ?\n",
    "\n",
    "\n",
    "Différencier les classes des objets (instances de classe) dans les propositions suivantes : Footballeur, Zidane, Basket, Sport, Voiture, Clio, Rouge, Bleu, Homme, Couleur, Mégane, Manaudou.\n",
    "\n"
   ]
  },
  {
   "cell_type": "markdown",
   "metadata": {},
   "source": [
    "Classe = Footballeur, Sport, Voiture, Homme, Couleur.\n",
    "\n",
    "Objet = Zidane, Rouge, Bleu, Manaudou, Clio, Basket, Mégane."
   ]
  },
  {
   "cell_type": "markdown",
   "metadata": {},
   "source": [
    "## 8.1.2 Attributs de classe\n",
    "\n",
    "Les étudiants sont caractérisés par leur numéro d’étudiant, leur nom, leur prénom, leur date\n",
    "de naissance et leur adresse.\n",
    "\n",
    "Identifier les attributs de la classe Etudiant"
   ]
  },
  {
   "cell_type": "code",
   "execution_count": 4,
   "metadata": {},
   "outputs": [
    {
     "ename": "TypeError",
     "evalue": "__init__() got an unexpected keyword argument 'numero'",
     "output_type": "error",
     "traceback": [
      "\u001b[1;31m---------------------------------------------------------------------------\u001b[0m",
      "\u001b[1;31mTypeError\u001b[0m                                 Traceback (most recent call last)",
      "\u001b[1;32m<ipython-input-4-f6bd5ea16192>\u001b[0m in \u001b[0;36m<module>\u001b[1;34m\u001b[0m\n\u001b[0;32m     14\u001b[0m \u001b[1;31m############## Programme Principal #############\u001b[0m\u001b[1;33m\u001b[0m\u001b[1;33m\u001b[0m\u001b[1;33m\u001b[0m\u001b[0m\n\u001b[0;32m     15\u001b[0m \u001b[1;33m\u001b[0m\u001b[0m\n\u001b[1;32m---> 16\u001b[1;33m \u001b[0me1\u001b[0m \u001b[1;33m=\u001b[0m \u001b[0metudiant\u001b[0m\u001b[1;33m(\u001b[0m\u001b[0mnumero\u001b[0m \u001b[1;33m=\u001b[0m \u001b[1;34m\"56432\"\u001b[0m\u001b[1;33m,\u001b[0m \u001b[0mnom\u001b[0m \u001b[1;33m=\u001b[0m \u001b[1;34m\"Traore\"\u001b[0m\u001b[1;33m,\u001b[0m \u001b[0mdate\u001b[0m \u001b[1;33m=\u001b[0m \u001b[1;34m\"21/08/1994\"\u001b[0m\u001b[1;33m,\u001b[0m \u001b[0madresse\u001b[0m \u001b[1;33m=\u001b[0m \u001b[1;34m\"5 allée du bois magique 65214 Chalrioux\"\u001b[0m\u001b[1;33m)\u001b[0m\u001b[1;33m\u001b[0m\u001b[1;33m\u001b[0m\u001b[0m\n\u001b[0m",
      "\u001b[1;31mTypeError\u001b[0m: __init__() got an unexpected keyword argument 'numero'"
     ]
    }
   ],
   "source": [
    "#### classe ######\n",
    "class etudiant :\n",
    "\n",
    "    def __init__(self , lenum = 0 , lenom = \"no_name\" , ladate = \"no_date\", ladresse = \"adresse\"):\n",
    "        \n",
    "        self.numero = lenum\n",
    "        self.nom = lenom\n",
    "        self.date = ladate\n",
    "        self.adresse = ladresse\n",
    "\n",
    " ### Objet #####\n",
    "e1 = etudiant( )\n",
    "\n",
    "############## Programme Principal #############\n",
    "\n",
    "e1 = etudiant(numero = \"56432\", nom = \"Traore\", date = \"21/08/1994\", adresse = \"5 allée du bois magique 65214 Chalrioux\")"
   ]
  },
  {
   "cell_type": "markdown",
   "metadata": {},
   "source": [
    "# 8.2 Classe\n",
    "Un complexe z est composé d’une partie réelle x et d’une partie imaginaire y, tel que \n",
    "z = x + i ∗ y. Nous proposons ici d’implémenter une classe Complex.\n",
    "\n",
    "## 8.2.1 Définition\n",
    "\n",
    ". Définir une classe Complex\n",
    ". Commenter la classe Complex\n",
    "\n",
    "En python, si la première ligne suivant l’instruction class est une chaîne\n",
    "de caractères, celle-ci sera consid´er´ee comme un commentaire et incorpor´ee\n",
    "automatiquement dans un dispositif de documentation des classes qui fait partie\n",
    "int´egrante de Python. Prenez donc l’habitude de toujours placer une chaˆıne\n",
    "d´ecrivant la classe à cet endroit.\n",
    "\n",
    "## 8.2.2 Constructeur\n",
    "\n",
    ". Si cela n’a pas déjà été fait (pas bien), ajouter un constructeur\n",
    ". Ajouter deux attributs x et y\n",
    ". Ajouter au constructeur la possibilité de spécifier les valeurs de x et y\n",
    "\n",
    "## 8.3 Objet\n",
    "## 8.3.1 Instanciation\n",
    "\n",
    "Nous venons de définir une classe Complex. Nous pouvons dès à présent nous en servir pour\n",
    "créer des objets de ce type, par instanciation.\n",
    "\n",
    ". Créer un objet c1, instance de la classe Complex.\n",
    "\n",
    "## 8.3.2 Identité\n",
    "\n",
    ". Effectuer les manipulations avec notre nouvel objet c1 suivantes :\n",
    "\n",
    ">>> print c1. doc\n",
    ">>> print c1\n",
    "Que remarquez vous ?\n"
   ]
  },
  {
   "cell_type": "code",
   "execution_count": 5,
   "metadata": {},
   "outputs": [
    {
     "name": "stdout",
     "output_type": "stream",
     "text": [
      "ma documentation\n",
      "<__main__.Complex object at 0x0000013E23047708>\n"
     ]
    }
   ],
   "source": [
    "class Complex(): #classe\n",
    "    \"ma documentation\"\n",
    "\n",
    "    def __init__(self,a,b): #constructeur\n",
    "        self.x = a #attribut\n",
    "        self.y = b #attribut\n",
    "\n",
    "    def show(self): #méthode affichant les attributs de classe\n",
    "        print(self.x)\n",
    "        print(self.y)\n",
    "\n",
    "\n",
    "\n",
    "def compare_Complex(element1,element2): #fonction permettant de comparer deux instances de classe\n",
    "    if (element1.x == element2.x) and (element1.y == element2.y):\n",
    "        return True\n",
    "    else:\n",
    "        return False\n",
    "\n",
    "\n",
    "c1 = Complex(10,50)\n",
    "c2 = Complex(10,30)\n",
    "\n",
    "print(c1.__doc__)\n",
    "print(c1)"
   ]
  },
  {
   "cell_type": "markdown",
   "metadata": {},
   "source": [
    "## 8.3.3 Comportement\n",
    "\n",
    ". Affecter la valeur 3 à l’attribut x et 4 à l’attribut y de l’objet c1\n",
    ". Les fonctions peuvent utiliser des objets comme paramètres.\n",
    "\n",
    "Définir une fonction affiche complex qui affiche les valeurs du complex passé en paramétre.\n",
    "Testez la avec l’objet c1.\n",
    "\n",
    ". Créer une méthode (fonction dans la classe) show qui affiche les attributs de la classe\n",
    "Complex.\n",
    "\n",
    "Testez la avec l’objet c1.\n"
   ]
  },
  {
   "cell_type": "markdown",
   "metadata": {},
   "source": [
    "## 10.2 Héritage\n",
    "## 10.2.1 Exercices préparatoires\n",
    "\n",
    "Gestion d’heures complémentaires \n",
    "\n",
    "Chaque enseignant de l’université effectue un certain\n",
    "nombre d’heures d’enseignement dans une année. Suivant le statut de l’enseignant, un certain\n",
    "nombre de ces heures peut-être considéré comme complémentaire. Les heures complémentaires\n",
    "sont payées séparément à l’enseignant. Les volumes horaires sont exprimés en heures entières et\n",
    "le prix d’une heure complémentaire est de 10 Euros.\n",
    "Le nom et le nombre d’heures total d’un enseignant sont fixés à sa création, puis seul le nom\n",
    "peut être librement consulté (méthode nom()).\n",
    "D’autre part on veut pouvoir librement consulter un enseignant sur son volume d’heures complémentaires (méthode hc()) et sur la rétribution correspondante (méthode retribution()).\n",
    "Il y a deux types d’enseignants :\n",
    ". les intervenants extérieurs : toutes les heures effectuées sont complémentaires,\n",
    ". les enseignants de la fac : seules les heures assurées au delà d’une charge statutaire de 192h\n",
    "sont complémentaires."
   ]
  },
  {
   "cell_type": "markdown",
   "metadata": {},
   "source": [
    "Questions :\n",
    "\n",
    "1. Sans écrire de code, modéliser les enseignants : quelles sont les classes ? ou sont \n",
    "implémentées les méthodes ? lesquelles sont nouvelles, redéfinies ?"
   ]
  },
  {
   "cell_type": "code",
   "execution_count": 17,
   "metadata": {},
   "outputs": [
    {
     "ename": "NameError",
     "evalue": "name 'nom' is not defined",
     "output_type": "error",
     "traceback": [
      "\u001b[1;31m---------------------------------------------------------------------------\u001b[0m",
      "\u001b[1;31mNameError\u001b[0m                                 Traceback (most recent call last)",
      "\u001b[1;32m<ipython-input-17-0aaf70fcb4fd>\u001b[0m in \u001b[0;36m<module>\u001b[1;34m\u001b[0m\n\u001b[1;32m----> 1\u001b[1;33m \u001b[1;32mclass\u001b[0m \u001b[0menseignant\u001b[0m \u001b[1;33m(\u001b[0m\u001b[1;33m)\u001b[0m\u001b[1;33m:\u001b[0m\u001b[1;33m\u001b[0m\u001b[1;33m\u001b[0m\u001b[0m\n\u001b[0m\u001b[0;32m      2\u001b[0m     \u001b[0mnom\u001b[0m\u001b[1;33m(\u001b[0m\u001b[1;33m)\u001b[0m \u001b[1;31m#pour nom consulter le nom d’un enseignant\u001b[0m\u001b[1;33m\u001b[0m\u001b[1;33m\u001b[0m\u001b[0m\n\u001b[0;32m      3\u001b[0m     \u001b[0mhc\u001b[0m\u001b[1;33m(\u001b[0m\u001b[1;33m)\u001b[0m \u001b[1;31m#pour consulter un enseignant sur son volume d’heures complémentaires\u001b[0m\u001b[1;33m\u001b[0m\u001b[1;33m\u001b[0m\u001b[0m\n\u001b[0;32m      4\u001b[0m     \u001b[0menseignant\u001b[0m \u001b[1;33m(\u001b[0m\u001b[0mnom\u001b[0m\u001b[1;33m,\u001b[0m \u001b[0mhc\u001b[0m\u001b[1;33m)\u001b[0m\u001b[1;33m\u001b[0m\u001b[1;33m\u001b[0m\u001b[0m\n\u001b[0;32m      5\u001b[0m \u001b[1;33m\u001b[0m\u001b[0m\n",
      "\u001b[1;32m<ipython-input-17-0aaf70fcb4fd>\u001b[0m in \u001b[0;36menseignant\u001b[1;34m()\u001b[0m\n\u001b[0;32m      1\u001b[0m \u001b[1;32mclass\u001b[0m \u001b[0menseignant\u001b[0m \u001b[1;33m(\u001b[0m\u001b[1;33m)\u001b[0m\u001b[1;33m:\u001b[0m\u001b[1;33m\u001b[0m\u001b[1;33m\u001b[0m\u001b[0m\n\u001b[1;32m----> 2\u001b[1;33m     \u001b[0mnom\u001b[0m\u001b[1;33m(\u001b[0m\u001b[1;33m)\u001b[0m \u001b[1;31m#pour nom consulter le nom d’un enseignant\u001b[0m\u001b[1;33m\u001b[0m\u001b[1;33m\u001b[0m\u001b[0m\n\u001b[0m\u001b[0;32m      3\u001b[0m     \u001b[0mhc\u001b[0m\u001b[1;33m(\u001b[0m\u001b[1;33m)\u001b[0m \u001b[1;31m#pour consulter un enseignant sur son volume d’heures complémentaires\u001b[0m\u001b[1;33m\u001b[0m\u001b[1;33m\u001b[0m\u001b[0m\n\u001b[0;32m      4\u001b[0m     \u001b[0menseignant\u001b[0m \u001b[1;33m(\u001b[0m\u001b[0mnom\u001b[0m\u001b[1;33m,\u001b[0m \u001b[0mhc\u001b[0m\u001b[1;33m)\u001b[0m\u001b[1;33m\u001b[0m\u001b[1;33m\u001b[0m\u001b[0m\n\u001b[0;32m      5\u001b[0m \u001b[1;33m\u001b[0m\u001b[0m\n",
      "\u001b[1;31mNameError\u001b[0m: name 'nom' is not defined"
     ]
    }
   ],
   "source": [
    "class enseignant ():\n",
    "    nom() #pour nom consulter le nom d’un enseignant\n",
    "    hc() #pour consulter un enseignant sur son volume d’heures complémentaires\n",
    "    enseignant (nom, hc)\n",
    "    \n",
    "\n",
    "intervenants_exterieurs = enseignant() #ttheures = complémentaires\n",
    "enseignant_fac = enseignant() #seules ttheures > 192h\n",
    "\n",
    "\n",
    "nom() #pour nom consulter le nom d’un enseignant\n",
    "\n",
    "hc() #pour consulter un enseignant sur son volume d’heures complémentaires\n",
    "\n",
    "retribution() #rétribution correspondante"
   ]
  },
  {
   "cell_type": "markdown",
   "metadata": {},
   "source": [
    "2. Comment modifier le modèle pour y introduire les étudiants de troisième cycle qui assurent\n",
    "des enseignements : toutes les heures effectuées sont complémentaires mais dans la limite\n",
    "de 96 heures.\n"
   ]
  },
  {
   "cell_type": "code",
   "execution_count": null,
   "metadata": {},
   "outputs": [],
   "source": []
  },
  {
   "cell_type": "markdown",
   "metadata": {},
   "source": [
    "10.2.2 Héritage simple et multiple\n",
    "\n",
    ". Définir une classe Mammifere, qui contiendra un ensemble de caractéristiques propres à ce\n",
    "type d’animal (nom, âge, nombre de dents . . . ).\n",
    "\n",
    ". A partir de cette classe, nous pourrons alors dériver une classe Primate, une classe\n",
    "Rongeur, et une classe Carnivore, qui hériteront toutes les caractéristiques de la classe\n",
    "Mammifere, en y ajoutant leurs spécificités.\n",
    "\n",
    ". Au départ de la classe Carnivore, dériver une classe Belette, une classe Loup et une\n",
    "classe Chien, qui hériteront encore une fois toutes les caractéristiques de la classe parente\n",
    "avant d’y ajouter les leurs.\n",
    "\n",
    ". Définir une classe Herbivore dérivé de la classe Primate\n",
    "\n",
    ". Définir une classe Omnivore, qui hérite de la classe Carnivore et de la classe Herbivore"
   ]
  },
  {
   "cell_type": "code",
   "execution_count": 7,
   "metadata": {},
   "outputs": [
    {
     "name": "stdout",
     "output_type": "stream",
     "text": [
      "animal :  chien , âge :  3 , nombre de dents :  30\n",
      "animal :  lionne , âge :  6 , nombre de dents :  25 , régime alimentaire :  carnivore\n",
      "animal :  Babouin , âge :  62 , nombre de dents :  22 , lieu de vie :  foret tropicale\n",
      "animal :  Roborovski , âge :  32 , nombre de dents :  2 , croissance des dents :  unique paire d'incisives à croissance continue\n",
      "animal :  Roborovski , âge :  32 , nombre de dents :  2 , croissance des dents :  unique paire d'incisives à croissance continue\n"
     ]
    },
    {
     "data": {
      "text/plain": [
       "'class Loup(Carnivore):\\n        caract6 = \"je suis l\\'espèce de canidés la plus répandue, \"\\n        \\nclass Chien(Carnivore):\\n        caract7 = \"mon cri s\\'appelle aboiement, \"\\n        \\nclass Herbivore(Primate):\\n        caract8 = \"je me nourrit exclusivement ou presque de plantes vivantes, \"\\n\\ntoto = Chien()\\nprint (toto.caract1, toto.caract2, toto.caract7)'"
      ]
     },
     "execution_count": 7,
     "metadata": {},
     "output_type": "execute_result"
    }
   ],
   "source": [
    "\n",
    "##########\"classe grand-mère\"###############\n",
    "\n",
    "\n",
    "class Mammifere():\n",
    "    def __init__(self, nom, age, nombre_dents):\n",
    "        self.nom = nom\n",
    "        self.age = age\n",
    "        self.nombre_dents = nombre_dents\n",
    "        \n",
    "    \n",
    "    \n",
    "    def affiche_tout(self):\n",
    "        print(\"animal : \", self.nom, \", âge : \", self.age, \", nombre de dents : \", self.nombre_dents )\n",
    "\n",
    "##########\"classe mère\"###############\n",
    "\n",
    "class Carnivore(Mammifere):    \n",
    "    def __init__(self, nom, age, nombre_dents, regime_alimentaire):\n",
    "        Mammifere.__init__(self, nom, age, nombre_dents)\n",
    "        self.regime = regime_alimentaire\n",
    "        \n",
    "    def affiche_tout(self):\n",
    "        print(\"animal : \", self.nom, \", âge : \", self.age, \", nombre de dents : \", self.nombre_dents, \", régime alimentaire : \", self.regime)\n",
    "        \n",
    "a1 = Mammifere(\"chien\", 3, 30)\n",
    "a1.affiche_tout()        \n",
    "a2 = Carnivore(\"lionne\", 6, 25, \"carnivore\")\n",
    "a2.affiche_tout()       \n",
    "        \n",
    "class Primate(Mammifere):\n",
    "    def __init__(self, nom, age, nombre_dents, lieu_vie):\n",
    "        Mammifere.__init__(self, nom, age, nombre_dents)\n",
    "        self.lieu = lieu_vie\n",
    "        \n",
    "    def affiche_tout(self):\n",
    "        print(\"animal : \", self.nom, \", âge : \", self.age, \", nombre de dents : \", self.nombre_dents, \", lieu de vie : \", self.lieu)\n",
    "\n",
    "a3 = Primate(\"Babouin\", 62, 22, \"foret tropicale\")\n",
    "a3.affiche_tout()     \n",
    "\n",
    "class Rongeur(Mammifere):\n",
    "    def __init__(self, nom, age, nombre_dents, croissance_dents):\n",
    "        Mammifere.__init__(self, nom, age, nombre_dents)\n",
    "        self.croissance_dents = croissance_dents\n",
    "        \n",
    "    def affiche_tout(self):\n",
    "        print(\"animal : \", self.nom, \", âge : \", self.age, \", nombre de dents : \", self.nombre_dents, \", croissance des dents : \", self.croissance_dents)\n",
    "\n",
    "a3 = Rongeur(\"Roborovski\", 32, 2, \"unique paire d'incisives à croissance continue\")\n",
    "a3.affiche_tout()         \n",
    "        \n",
    "##########\"classe fille\"###############        \n",
    "        \n",
    "        \n",
    "\n",
    "class Belette(Carnivore):\n",
    "      def __init__(self, nom, age, nombre_dents, croissance_dents):\n",
    "        Carnivore.__init__(self, nom, age, nombre_dents)\n",
    "        self.croissance_dents = croissance_dents\n",
    "        \n",
    "      def affiche_tout(self):\n",
    "        print(\"animal : \", self.nom, \", âge : \", self.age, \", nombre de dents : \", self.nombre_dents, \", croissance des dents : \", self.croissance_dents)\n",
    "\n",
    "a3 = Rongeur(\"Roborovski\", 32, 2, \"unique paire d'incisives à croissance continue\")\n",
    "a3.affiche_tout()         \n",
    "        \n",
    "        \n",
    "'''class Loup(Carnivore):\n",
    "        caract6 = \"je suis l'espèce de canidés la plus répandue, \"\n",
    "        \n",
    "class Chien(Carnivore):\n",
    "        caract7 = \"mon cri s'appelle aboiement, \"\n",
    "        \n",
    "class Herbivore(Primate):\n",
    "        caract8 = \"je me nourrit exclusivement ou presque de plantes vivantes, \"\n",
    "\n",
    "toto = Chien()\n",
    "print (toto.caract1, toto.caract2, toto.caract7)'''\n",
    "\n",
    "\n",
    "\n",
    "    "
   ]
  },
  {
   "cell_type": "code",
   "execution_count": 105,
   "metadata": {},
   "outputs": [
    {
     "name": "stdout",
     "output_type": "stream",
     "text": [
      "Marque : Ford couleur : rouge pilote : Personne vitesse : 0 m/sec\n",
      "Marque : Ford couleur : rouge pilote : moi vitesse : 200 m/sec\n",
      "Impossible d'accelerer sans conducteur\n",
      "Marque : Peugeot couleur : bleue pilote : Roméo vitesse : 0 m/sec\n",
      "Marque : Ford couleur : verte pilote : Juliette vitesse : 21.6 m/sec\n",
      "Marque : Mercedes couleur : rouge pilote : Personne vitesse : 0 m/sec\n"
     ]
    }
   ],
   "source": [
    "class Voiture():\n",
    "    def __init__ (self, marque=\"Ford\", couleur=\"rouge\"):\n",
    "        self.marque = marque\n",
    "        self.couleur = couleur\n",
    "        self.pilote = \"Personne\"\n",
    "        self.__vitesse = 0\n",
    " \n",
    "    def choix_conducteur(self,nom):\n",
    "        self.pilote = nom\n",
    "    \n",
    "    def accelerer(self,taux,duree):\n",
    "        if self.pilote == \"Personne\":\n",
    "            return print(\"Impossible d'accelerer sans conducteur\" )\n",
    "        else:\n",
    "            self.__vitesse = self.__vitesse + (taux*duree)\n",
    "    \n",
    "    def affiche_tout(self):\n",
    "        print(\"Marque :\",self.marque,\"couleur :\",self.couleur,\"pilote :\",self.pilote,\"vitesse :\",self.__vitesse,\"m/sec\")\n",
    "    \n",
    "v1 = Voiture()\n",
    "v1.affiche_tout()\n",
    "v1.choix_conducteur(\"moi\")\n",
    "v1.accelerer(10,20)\n",
    "v1.affiche_tout()\n",
    "\n",
    "a1 = Voiture(\"Peugeot\",\"bleue\")\n",
    "a2 = Voiture(couleur=\"verte\")\n",
    "a3 = Voiture (\"Mercedes\")\n",
    "a1.choix_conducteur(\"Roméo\")\n",
    "a2.choix_conducteur(\"Juliette\")\n",
    "a2.accelerer(1.8,12)\n",
    "a3.accelerer(1.9,11)\n",
    "a3.__vitesse = 10\n",
    "a1.affiche_tout()\n",
    "a2.affiche_tout()\n",
    "a3.affiche_tout()"
   ]
  },
  {
   "cell_type": "code",
   "execution_count": 8,
   "metadata": {},
   "outputs": [
    {
     "name": "stdout",
     "output_type": "stream",
     "text": [
      "le lion est un Mammifere\n"
     ]
    }
   ],
   "source": [
    "class Mammifere:       \n",
    "        def __init__(self, nom):\n",
    "            self.nom = nom\n",
    "            self.age = age\n",
    "            self.nombre_dents = nombre_dents\n",
    "        \n",
    "        def manger(self):\n",
    "            print(self.nom, \"mange...\")\n",
    "    \n",
    "        \n",
    "class Carnivore(Mammifere):        \n",
    "        def __init__(self, nom, regime_alimentaire):\n",
    "            Mammifere.__init__(self, nom)\n",
    "            self.regime = regime_alimentaire\n",
    "        \n",
    "        def manger(self):\n",
    "            print(\"Le régime alimentaire du carnivore est principalement basé sur la consommation de chairs\")\n",
    "            \n",
    "lion = Carnivore(\"lion\", \"chair\")\n",
    "if isinstance(lion, Mammifere):\n",
    "    print (\"le lion est un Mammifere\")"
   ]
  },
  {
   "cell_type": "code",
   "execution_count": 66,
   "metadata": {},
   "outputs": [
    {
     "data": {
      "text/plain": [
       "'class Forme:\\n    \\nclass Carre(Forme):\\n    \\n    def __init__(self,a,b): #constructeur\\n        self.x = cote #attribut\\n        self.y = b #attribut\\n\\n    def show(self): #méthode affichant les attributs de classe\\n        print(self.x)\\n        print(self.y)\\n        \\nclass Cercle(Forme):\\n'"
      ]
     },
     "execution_count": 66,
     "metadata": {},
     "output_type": "execute_result"
    }
   ],
   "source": [
    "'''class Forme:\n",
    "    \n",
    "class Carre(Forme):\n",
    "    \n",
    "    def __init__(self,a,b): #constructeur\n",
    "        self.x = cote #attribut\n",
    "        self.y = b #attribut\n",
    "\n",
    "    def show(self): #méthode affichant les attributs de classe\n",
    "        print(self.x)\n",
    "        print(self.y)\n",
    "        \n",
    "class Cercle(Forme):\n",
    "'''\n",
    "    "
   ]
  },
  {
   "cell_type": "code",
   "execution_count": 67,
   "metadata": {},
   "outputs": [
    {
     "ename": "SyntaxError",
     "evalue": "invalid syntax (<ipython-input-67-052599761cbe>, line 2)",
     "output_type": "error",
     "traceback": [
      "\u001b[1;36m  File \u001b[1;32m\"<ipython-input-67-052599761cbe>\"\u001b[1;36m, line \u001b[1;32m2\u001b[0m\n\u001b[1;33m    from math import\u001b[0m\n\u001b[1;37m                    ^\u001b[0m\n\u001b[1;31mSyntaxError\u001b[0m\u001b[1;31m:\u001b[0m invalid syntax\n"
     ]
    }
   ],
   "source": [
    "from math import pi\n",
    "from math import"
   ]
  },
  {
   "cell_type": "code",
   "execution_count": 68,
   "metadata": {},
   "outputs": [
    {
     "data": {
      "text/plain": [
       "'class Forme:        \\n    def __init__(self,a,b): #constructeur\\n        self.x = a #attribut\\n        self.y = b #attribut\\n\\n    def show(self): #méthode affichant les attributs de classe\\n        print(self.x)\\n        print(self.y)\\n        \\n    \\nclass Carre(Forme):\\n    def aire_carre(longueur):         \\n        return longueur * longueur\\n\\n        \\nclass Cercle(Forme): \\n    def CircleArea(r):\\n        return pi*(r*r)\\n \\nprint (\"L\\'air d\\'un cercle de rayon de 1 cm est \"+str(CircleArea(1))+\"cm2\")\\nprint (\"L\\'air d\\'un cercle de rayon de 5 cm est \"+str(CircleArea(5))+\"cm2\")'"
      ]
     },
     "execution_count": 68,
     "metadata": {},
     "output_type": "execute_result"
    }
   ],
   "source": [
    "'''class Forme:        \n",
    "    def __init__(self,a,b): #constructeur\n",
    "        self.x = a #attribut\n",
    "        self.y = b #attribut\n",
    "\n",
    "    def show(self): #méthode affichant les attributs de classe\n",
    "        print(self.x)\n",
    "        print(self.y)\n",
    "        \n",
    "    \n",
    "class Carre(Forme):\n",
    "    def aire_carre(longueur):         \n",
    "        return longueur * longueur\n",
    "\n",
    "        \n",
    "class Cercle(Forme): \n",
    "    def CircleArea(r):\n",
    "        return pi*(r*r)\n",
    " \n",
    "print (\"L'air d'un cercle de rayon de 1 cm est \"+str(CircleArea(1))+\"cm2\")\n",
    "print (\"L'air d'un cercle de rayon de 5 cm est \"+str(CircleArea(5))+\"cm2\")'''"
   ]
  },
  {
   "cell_type": "code",
   "execution_count": 69,
   "metadata": {},
   "outputs": [
    {
     "data": {
      "text/plain": [
       "'class Forme:\\n    def __init__(self,a,b): #constructeur\\n        self.x = cote #attribut\\n        self.y = b #attribut\\n\\n    def show(self): #méthode affichant les attributs de classe\\n        print(self.x)\\n        print(self.y)\\n        \\n    def calculAire(self):\\n        pass #fonction vide    \\n        \\nclass Carre(Forme):\\n    def aire_carre(cote):         \\n        return cote * cote\\nprint (\"L\\'air d\\'un carre de rayon de 8 cm est \"+str(aire_carre(1))+\"cm2\")\\n    \\nclass Cercle(Forme): \\n    #def CircleArea(rayon):\\n        return pi*(rayon*rayon)\\nprint (\"L\\'air d\\'un cercle de rayon de 8 cm est \"+str(CircleArea(8))+\" cm2\")'"
      ]
     },
     "execution_count": 69,
     "metadata": {},
     "output_type": "execute_result"
    }
   ],
   "source": [
    "'''class Forme:\n",
    "    def __init__(self,a,b): #constructeur\n",
    "        self.x = cote #attribut\n",
    "        self.y = b #attribut\n",
    "\n",
    "    def show(self): #méthode affichant les attributs de classe\n",
    "        print(self.x)\n",
    "        print(self.y)\n",
    "        \n",
    "    def calculAire(self):\n",
    "        pass #fonction vide    \n",
    "        \n",
    "class Carre(Forme):\n",
    "    def aire_carre(cote):         \n",
    "        return cote * cote\n",
    "print (\"L'air d'un carre de rayon de 8 cm est \"+str(aire_carre(1))+\"cm2\")\n",
    "    \n",
    "class Cercle(Forme): \n",
    "    #def CircleArea(rayon):\n",
    "        return pi*(rayon*rayon)\n",
    "print (\"L'air d'un cercle de rayon de 8 cm est \"+str(CircleArea(8))+\" cm2\")'''"
   ]
  },
  {
   "cell_type": "markdown",
   "metadata": {},
   "source": [
    "## 10.2.3 Polymorphisme\n",
    "\n",
    "\n",
    ". Ecrivez une classe Forme qui contiendra une méthode calculAire.\n",
    ". Faites-en hériter la classes Carre contenant un attribut cote\n",
    ". idem pour la classe Cercle contenant un attribut rayon.\n",
    ". Redéfinir la méthode calculAire pour les classes Carre et Cercle\n",
    ". D´efinir une fonction AireTotal qui à partir d’un tableau de Forme calcul l’aire totale"
   ]
  },
  {
   "cell_type": "code",
   "execution_count": 75,
   "metadata": {},
   "outputs": [
    {
     "name": "stdout",
     "output_type": "stream",
     "text": [
      "forme\n",
      "carré\n",
      "L'air d'un cercle de rayon de 8 cm est 201.06192982974676 cm2\n",
      "cercle\n"
     ]
    }
   ],
   "source": [
    "class Forme:\n",
    "    def __init__(self, x=0, y=0):\n",
    "        self.x, self.y, self.nom = x, y, \"forme\"\n",
    "        \n",
    "    def calculAire(self):\n",
    "        pass #fonction vide  \n",
    "    \n",
    "    \n",
    "f = Forme()\n",
    "print(f.nom) # 'forme'\n",
    "\n",
    "class Carre(Forme):\n",
    "    def __init__(self, cote=10):\n",
    "        Forme.__init__(self, cote, cote)\n",
    "        self.nom = \"carré\"\n",
    "        \n",
    "    def calculAire(cote):         \n",
    "        return cote * cote\n",
    "#print (\"L'air d'un carre de coté de 8 cm est \"+str(calculAire(1))+\"cm2\")\n",
    "\n",
    "c = Carre()\n",
    "print(c.nom) # 'carré'\n",
    "        \n",
    "class Cercle(Forme):\n",
    "    def __init__(self, rayon=10):\n",
    "        Forme.__init__(self, rayon, rayon)\n",
    "        self.nom = \"cercle\"\n",
    "        \n",
    "    def calculAire(rayon):\n",
    "        return pi*(rayon*rayon)\n",
    "print (\"L'air d'un cercle de rayon de 8 cm est \"+str(CircleArea(8))+\" cm2\")\n",
    "    \n",
    "\n",
    "\n",
    "c1 = Cercle()\n",
    "print(c1.nom) # 'cercle'"
   ]
  },
  {
   "cell_type": "code",
   "execution_count": null,
   "metadata": {},
   "outputs": [],
   "source": []
  },
  {
   "cell_type": "code",
   "execution_count": null,
   "metadata": {},
   "outputs": [],
   "source": []
  }
 ],
 "metadata": {
  "kernelspec": {
   "display_name": "Python 3",
   "language": "python",
   "name": "python3"
  },
  "language_info": {
   "codemirror_mode": {
    "name": "ipython",
    "version": 3
   },
   "file_extension": ".py",
   "mimetype": "text/x-python",
   "name": "python",
   "nbconvert_exporter": "python",
   "pygments_lexer": "ipython3",
   "version": "3.7.4"
  }
 },
 "nbformat": 4,
 "nbformat_minor": 4
}
