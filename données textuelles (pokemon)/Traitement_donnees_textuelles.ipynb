{
 "cells": [
  {
   "cell_type": "markdown",
   "metadata": {
    "colab_type": "text",
    "id": "NiHJ-wkfhXUM"
   },
   "source": [
    "# 1. Les expressions régulières : à quoi ça sert ?\n",
    "\n",
    "Chercher un mot dans un texte est une tâche facile, c'est l'objectif de la méthode >>>find<<< attachée aux chaînes de caractères, elle suffit encore lorsqu'on cherche un mot au pluriel ou au singulier mais il faut l'appeler au moins deux fois pour chercher ces deux formes. Pour des expressions plus compliquées, il est conseillé d'utiliser les expressions régulières. C'est une fonctionnalité qu'on retrouve dans beaucoup de langages. C'est une forme de grammaire qui permet de rechercher des expressions."
   ]
  },
  {
   "cell_type": "markdown",
   "metadata": {
    "colab_type": "text",
    "id": "Dj4qghKkhXUQ"
   },
   "source": [
    "\n",
    "Lorsqu'on remplit un formulaire, on voit souvent le format ``\"MM/JJ/AAAA\"`` qui précise sous quelle forme on s'attend à ce qu’une date soit écrite. Les expressions régulières permettent de définir également ce format et de chercher dans un texte toutes les chaînes de caractères qui sont conformes à ce format.\n",
    "\n",
    "La liste qui suit contient des dates de naissance. On cherche à obtenir toutes les dates de cet exemple sachant que les jours ou les mois contiennent un ou deux chiffres, les années deux ou quatre."
   ]
  },
  {
   "cell_type": "code",
   "execution_count": 1,
   "metadata": {
    "colab": {},
    "colab_type": "code",
    "id": "xqzjr4O7hXUR"
   },
   "outputs": [],
   "source": [
    "s = \"\"\"date 0 : 14/9/2000\n",
    "date 1 : 20/04/1971     date 2 : 14/09/1913     date 3 : 2/3/1978\n",
    "date 4 : 1/7/1986     date 5 : 7/3/47     date 6 : 15/10/1914\n",
    "date 7 : 08/03/1941     date 8 : 8/1/1980     date 9 : 30/6/1976\"\"\""
   ]
  },
  {
   "cell_type": "markdown",
   "metadata": {
    "colab_type": "text",
    "id": "dJC56TJ5hXUU"
   },
   "source": [
    "Le premier chiffre du jour est soit 0, 1, 2, ou 3 ; ceci se traduit par ``[0-3]``. Le second chiffre est compris entre 0 et 9, soit ``[0-9]``. Le format des jours est traduit par ``[0-3][0-9]``. Mais le premier jour est facultatif, ce qu'on précise avec le symbole ? : ``[0-3]?[0-9]``. Les mois suivent le même principe : ``[0-1]?[0-9]``. Pour les années, ce sont les deux premiers chiffres qui sont facultatifs, le symbole ? s'appliquent sur les deux premiers chiffres, ce qu'on précise avec des parenthèses : ``([0-2][0-9])?[0-9][0-9]``. Le format final d'une date devient :"
   ]
  },
  {
   "cell_type": "code",
   "execution_count": 2,
   "metadata": {
    "colab": {
     "base_uri": "https://localhost:8080/",
     "height": 34
    },
    "colab_type": "code",
    "id": "uwsX5KhciFmD",
    "outputId": "df63a71f-3d65-4a2d-bbf4-a8ac6ccf6fe1"
   },
   "outputs": [
    {
     "data": {
      "text/plain": [
       "'[0-3]?[0-9]/[0-1]?[0-9]/([0-2][0-9])?[0-9][0-9]'"
      ]
     },
     "execution_count": 2,
     "metadata": {},
     "output_type": "execute_result"
    }
   ],
   "source": [
    "\"[0-3]?[0-9]/[0-1]?[0-9]/([0-2][0-9])?[0-9][0-9]\""
   ]
  },
  {
   "cell_type": "markdown",
   "metadata": {
    "colab_type": "text",
    "id": "wIjWe-2-hXUV"
   },
   "source": [
    "Le module re gère les expressions régulières, celui-ci traite différemment les parties de l'expression régulière qui sont entre parenthèses de celles qui ne le sont pas : c'est un moyen de dire au module re que nous nous intéressons à telle partie de l'expression qui est signalée entre parenthèses. Comme la partie qui nous intéresse - une date - concerne l'intégralité de l'expression régulière, il faut insérer celle-ci entre parenthèses.\n",
    "\n",
    "La première étape consiste à construire l'expression régulière, la seconde à rechercher toutes les fois qu'un morceau de la chaîne s définie plus haut correspond à l’expression régulière."
   ]
  },
  {
   "cell_type": "code",
   "execution_count": 3,
   "metadata": {
    "colab": {
     "base_uri": "https://localhost:8080/",
     "height": 54
    },
    "colab_type": "code",
    "id": "KnbXjbWPhXUW",
    "outputId": "38cb2aa3-8ef8-4d0c-e0c7-bf2e1fb5b57e"
   },
   "outputs": [
    {
     "name": "stdout",
     "output_type": "stream",
     "text": [
      "[('14/9/2000', '20'), ('20/04/1971', '19'), ('14/09/1913', '19'), ('2/3/1978', '19'), ('1/7/1986', '19'), ('7/3/47', ''), ('15/10/1914', '19'), ('08/03/1941', '19'), ('8/1/1980', '19'), ('30/6/1976', '19')]\n"
     ]
    }
   ],
   "source": [
    "import re\n",
    "# première étape : construction\n",
    "expression = re.compile(\"([0-3]?[0-9]/[0-1]?[0-9]/([0-2][0-9])?[0-9][0-9])\")\n",
    "# seconde étape : recherche\n",
    "res = expression.findall(s)\n",
    "print(res)"
   ]
  },
  {
   "cell_type": "code",
   "execution_count": 4,
   "metadata": {
    "colab": {
     "base_uri": "https://localhost:8080/",
     "height": 194
    },
    "colab_type": "code",
    "id": "DZY_qjwMozIM",
    "outputId": "08fd2f56-2423-45e3-f96a-63aa2cc18831"
   },
   "outputs": [
    {
     "data": {
      "text/plain": [
       "[('14/9/2000', '20'),\n",
       " ('20/04/1971', '19'),\n",
       " ('14/09/1913', '19'),\n",
       " ('2/3/1978', '19'),\n",
       " ('1/7/1986', '19'),\n",
       " ('7/3/47', ''),\n",
       " ('15/10/1914', '19'),\n",
       " ('08/03/1941', '19'),\n",
       " ('8/1/1980', '19'),\n",
       " ('30/6/1976', '19')]"
      ]
     },
     "execution_count": 4,
     "metadata": {},
     "output_type": "execute_result"
    }
   ],
   "source": [
    "res"
   ]
  },
  {
   "cell_type": "code",
   "execution_count": 5,
   "metadata": {
    "colab": {},
    "colab_type": "code",
    "id": "t6OTcaluFFfY"
   },
   "outputs": [
    {
     "data": {
      "text/plain": [
       "\u001b[1;31mSignature:\u001b[0m \u001b[0mexpression\u001b[0m\u001b[1;33m.\u001b[0m\u001b[0mfindall\u001b[0m\u001b[1;33m(\u001b[0m\u001b[0mstring\u001b[0m\u001b[1;33m,\u001b[0m \u001b[0mpos\u001b[0m\u001b[1;33m=\u001b[0m\u001b[1;36m0\u001b[0m\u001b[1;33m,\u001b[0m \u001b[0mendpos\u001b[0m\u001b[1;33m=\u001b[0m\u001b[1;36m9223372036854775807\u001b[0m\u001b[1;33m)\u001b[0m\u001b[1;33m\u001b[0m\u001b[1;33m\u001b[0m\u001b[0m\n",
       "\u001b[1;31mDocstring:\u001b[0m Return a list of all non-overlapping matches of pattern in string.\n",
       "\u001b[1;31mType:\u001b[0m      builtin_function_or_method\n"
      ]
     },
     "metadata": {},
     "output_type": "display_data"
    }
   ],
   "source": [
    "expression.findall?"
   ]
  },
  {
   "cell_type": "markdown",
   "metadata": {
    "colab_type": "text",
    "id": "gZ9ap7CghXUY"
   },
   "source": [
    "Le résultat une liste de couples dont chaque élément correspond aux parties comprises entre parenthèses qu'on appelle des groupes. Lorsque les expressions régulières sont utilisées, on doit d'abord se demander comment définir ce qu’on cherche puis quelles fonctions utiliser pour obtenir les résultats de cette recherche. Les deux paragraphes qui suivent y répondent."
   ]
  },
  {
   "cell_type": "markdown",
   "metadata": {
    "colab_type": "text",
    "id": "gAySO6Z3hXUY"
   },
   "source": [
    "## 1.1 Syntaxe\n",
    "\n",
    "La syntaxe des expressions régulières est décrite sur le site officiel de python. La page [Regular Expression Syntax](https://docs.python.org/3/library/re.html?highlight=re#regular-expression-syntax) décrit comment se servir des expressions régulières, les deux pages sont en anglais. Comme toute grammaire, celle des expressions régulières est susceptible d’évoluer au fur et à mesure des versions du langage python."
   ]
  },
  {
   "cell_type": "markdown",
   "metadata": {
    "colab_type": "text",
    "id": "wOzI-FWdhXUZ"
   },
   "source": [
    "## 1.2 Les ensembles de caractères\n",
    "Lors d’une recherche, on s’intéresse aux caractères et souvent aux classes de caractères : on cherche un chiffre, une lettre, un caractère dans un ensemble précis ou un caractère qui n’appartient pas à un ensemble précis. Certains ensembles sont prédéfinis, d’autres doivent être définis à l’aide de crochets.\n",
    "\n",
    "Pour définir un ensemble de caractères, il faut écrire cet ensemble entre crochets : [0123456789] désigne un chiffre. Comme c’est une séquence de caractères consécutifs, on peut résumer cette écriture en [0-9]. Pour inclure les symboles -, +, il suffit d’écrire : [-0-9+]. Il faut penser à mettre le symbole - au début pour éviter qu’il ne désigne une séquence.\n",
    "\n",
    "Le caractère ^ inséré au début du groupe signifie que le caractère cherché ne doit pas être un de ceux qui suivent. Le tableau suivant décrit les ensembles prédéfinis et leur équivalent en terme d’ensemble de caractères :"
   ]
  },
  {
   "cell_type": "markdown",
   "metadata": {
    "colab_type": "text",
    "id": "TYA4KAwJhXUZ"
   },
   "source": [
    "* ``.`` désigne tout caractère non spécial quel qu'il soit.\n",
    "* ``\\d`` désigne tout chiffre, est équivalent à ``[0-9]``.\n",
    "* ``\\D`` désigne tout caractère différent d'un chiffre, est équivalent à ``[^0-9]``.\n",
    "* ``\\s`` désigne tout espace ou caractère approché, est équivalent à ``[\\; \\t\\n\\r\\f\\v]``. Ces caractères sont spéciaux, les plus utilisés sont ``\\t`` qui est une tabulation, ``\\n`` qui est une fin de ligne et ``\\r`` qui est un retour à la ligne.\n",
    "* ``\\S`` désigne tout caractère différent d'un espace, est équivalent à ``[^ \\t\\n\\r\\f\\v]``.\n",
    "* ``\\w`` désigne tout lettre ou chiffre, est équivalent à ``[a-zA-Z0-9_]``.\n",
    "* ``\\W`` désigne tout caractère différent d'une lettre ou d'un chiffre, est équivalent à ``[^a-zA-Z0-9_]``.\n",
    "* ``^`` désigne le début d'un mot sauf s'il est placé entre crochets.\n",
    "* ``$`` désigne la fin d'un mot sauf s'il est placé entre crochets."
   ]
  },
  {
   "cell_type": "markdown",
   "metadata": {
    "colab_type": "text",
    "id": "qOeOuV2nhXUa"
   },
   "source": [
    "A l'instar des chaînes de caractères, comme le caractère ``\\`` est un caractère spécial, il faut le doubler : ``[\\\\]``.\n",
    "\n",
    "Le caractère ``\\`` est déjà un caractère spécial pour les chaînes de caractères en python, il faut donc le quadrupler pour l'insérer dans une expression régulière. L'expression suivante filtre toutes les images dont l’extension est png et qui sont enregistrées dans un répertoire image."
   ]
  },
  {
   "cell_type": "code",
   "execution_count": 6,
   "metadata": {
    "colab": {
     "base_uri": "https://localhost:8080/",
     "height": 52
    },
    "colab_type": "code",
    "id": "fVBq96qKhXUb",
    "outputId": "b8b6513c-5fe6-4f65-8ae5-c1ed5e01679a"
   },
   "outputs": [
    {
     "name": "stdout",
     "output_type": "stream",
     "text": [
      "<re.Match object; span=(21, 40), match='\\\\image/vbatd1_4.png'>\n",
      "<re.Match object; span=(21, 40), match='\\\\image/vbatd1_4.png'>\n"
     ]
    }
   ],
   "source": [
    "import re\n",
    "s = \"something\\\\support\\\\vba\\\\image/vbatd1_4.png\"\n",
    "print(re.compile(\"[\\\\\\\\/]image[\\\\\\\\/].*[.]png\").search(s))  # résultat positif\n",
    "print(re.compile(\"[\\\\\\\\/]image[\\\\\\\\/].*[.]png\").search(s))  # même résultat"
   ]
  },
  {
   "cell_type": "markdown",
   "metadata": {
    "colab_type": "text",
    "id": "bR3jlzi1hXUc"
   },
   "source": [
    "## 1.3 Les multiplicateurs\n",
    "Les multiplicateurs permettent de définir des expressions régulières comme : un mot entre six et huit lettres qu’on écrira ``[\\w]{6,8}``. Le tableau suivant donne la liste des multiplicateurs principaux :"
   ]
  },
  {
   "cell_type": "markdown",
   "metadata": {
    "colab_type": "text",
    "id": "6LFhoxzXhXUd"
   },
   "source": [
    "* ``*`` présence de l'ensemble de caractères qui précède entre 0 fois et l'infini\n",
    "* ``+`` présence de l'ensemble de caractères qui précède entre 1 fois et l'infini\n",
    "* ``?`` présence de l'ensemble de caractères qui précède entre 0 et 1 fois\n",
    "* ``{m,n}`` présence de l'ensemble de caractères qui précède entre *m* et *n* fois, si *m=n*, cette expression peut être résumée par ``{n}``.\n",
    "* ``(?!(...))`` absence du groupe désigné par les points de suspensions."
   ]
  },
  {
   "cell_type": "markdown",
   "metadata": {
    "colab_type": "text",
    "id": "aZaelwnXhXUd"
   },
   "source": [
    "L’algorithme des expressions régulières essaye toujours de faire correspondre le plus grand morceau à l’expression régulière. "
   ]
  },
  {
   "cell_type": "code",
   "execution_count": 7,
   "metadata": {
    "colab": {
     "base_uri": "https://localhost:8080/",
     "height": 34
    },
    "colab_type": "code",
    "id": "FbM6T0LzhXUe",
    "outputId": "847e3996-a303-4b6b-ef47-1f25a8024f78"
   },
   "outputs": [
    {
     "data": {
      "text/plain": [
       "'<h1>mot</h1>'"
      ]
     },
     "execution_count": 7,
     "metadata": {},
     "output_type": "execute_result"
    }
   ],
   "source": [
    "\"<h1>mot</h1>\""
   ]
  },
  {
   "cell_type": "markdown",
   "metadata": {
    "colab_type": "text",
    "id": "u15Je9gPhXUg"
   },
   "source": [
    "``<.*>`` correspond avec ``<h1>``, ``</h1>`` ou encore ``<h1>mot</h1>``."
   ]
  },
  {
   "cell_type": "markdown",
   "metadata": {
    "colab_type": "text",
    "id": "A-d_KUHLhXUg"
   },
   "source": [
    "Par conséquent, l’expression régulière correspond à trois morceaux. Par défaut, il prendra le plus grand. Pour choisir les plus petits, il faudra écrire les multiplicateurs comme ceci : ``*?``, ``+?``"
   ]
  },
  {
   "cell_type": "code",
   "execution_count": 8,
   "metadata": {
    "colab": {
     "base_uri": "https://localhost:8080/",
     "height": 70
    },
    "colab_type": "code",
    "id": "t_URaHWkhXUh",
    "outputId": "bc9d67fd-1d6b-4e10-fbf1-10b6ea3e07ef"
   },
   "outputs": [
    {
     "name": "stdout",
     "output_type": "stream",
     "text": [
      "('<h1>mot</h1>',)\n",
      "('<h1>',)\n",
      "('<h1>',)\n"
     ]
    }
   ],
   "source": [
    "import re\n",
    "s = \"<h1>mot</h1>\"\n",
    "print(re.compile(\"(<.*>)\").match(s).groups())   # ('<h1>mot</h1>',)\n",
    "print(re.compile(\"(<.*?>)\").match(s).groups())  # ('<h1>',)\n",
    "print(re.compile(\"(<.+?>)\").match(s).groups())  # ('<h1>',)"
   ]
  },
  {
   "cell_type": "markdown",
   "metadata": {
    "colab_type": "text",
    "id": "S2_xi9EThXUj"
   },
   "source": [
    "### Exercice 1\n",
    "\n",
    "Recherchez les dates présentes dans la phrase suivante"
   ]
  },
  {
   "cell_type": "code",
   "execution_count": 9,
   "metadata": {
    "colab": {},
    "colab_type": "code",
    "id": "Gp6YLop_hXUj"
   },
   "outputs": [],
   "source": [
    "texte = \"\"\"Je suis né le 28/12/1903 et je suis mort le 08/02/1957. Ma seconde femme est morte le 10/11/1963. \n",
    "J'ai écrit un livre intitulé 'Comprendre les fractions : les exemples en page 12/46/83' \"\"\""
   ]
  },
  {
   "cell_type": "raw",
   "metadata": {},
   "source": [
    "né = \"[0-3]?[0-9]/[0-1]?[0-9]/([0-2][0-9])?[0-9][0-9]\"\n",
    "mort = \"[0-3]?[0-9]/[0-1]?[0-9]/([0-2][0-9])?[0-9][0-9]\"\n",
    "mort seconde femme = \"[0-3]?[0-9]/[0-1]?[0-9]/([0-2][0-9])?[0-9][0-9]\"\n",
    "exemples page =  "
   ]
  },
  {
   "cell_type": "markdown",
   "metadata": {
    "colab_type": "text",
    "id": "d5IgLio2hXUl"
   },
   "source": [
    "Puis dans celle-ci : "
   ]
  },
  {
   "cell_type": "code",
   "execution_count": 10,
   "metadata": {
    "colab": {},
    "colab_type": "code",
    "id": "jVjFp0L1hXUl"
   },
   "outputs": [],
   "source": [
    "texte = \"\"\"Je suis né le 28/12/1903 et je suis mort le 08/02/1957. Je me suis marié le 8/5/45. \n",
    "J'ai écrit un livre intitulé 'Comprendre les fractions : les exemples en page 12/46/83' \"\"\""
   ]
  },
  {
   "cell_type": "raw",
   "metadata": {
    "colab": {},
    "colab_type": "code",
    "id": "yyDwCI7_hXUn"
   },
   "source": [
    "né le = \"[0-3]?[0-9]/[0-1]?[0-9]/([0-2][0-9])?[0-9][0-9]\"\n",
    "mort le = \"[0-3]?[0-9]/[0-1]?[0-9]/([0-2][0-9])?[0-9][0-9]\"\n",
    "marié le = \"[0-9]/[0-9]/[0-9][0-9]\"\n",
    "exemples page = \"[0-9][0-9]/[0-9][0-9]/[0-9][0-9]\""
   ]
  },
  {
   "cell_type": "markdown",
   "metadata": {
    "colab": {},
    "colab_type": "code",
    "id": "O0s9NCNyFdjx"
   },
   "source": [
    "# 2. Web Scrapping\n",
    "\n",
    "Sous ce nom se cache une pratique très utile pour toute personne souhaitant travailler sur des informations disponibles en ligne, mais n'existant pas forcément sous la forme d'un tableau *Excel*... Bref, il s'agit de récupérer des informations depuis *Internet*."
   ]
  },
  {
   "cell_type": "markdown",
   "metadata": {},
   "source": [
    "Le [webscraping](https://fr.wikipedia.org/wiki/Web_scraping) désigne les techniques d'extraction du contenu des sites internet. Via un programme informatique : nous allons aujourd'hui vous présenter comme créer et exécuter ces robots afin de recupérer rapidement des informations utiles à vos projets actuels ou futurs."
   ]
  },
  {
   "cell_type": "markdown",
   "metadata": {},
   "source": [
    "## 2.1 Un détour par le Web : comment fonctionne un site ?\n",
    "\n",
    "Même si nous n'allons pas aujourd'hui faire un cours de web, il vous faut néanmoins certaines bases pour comprendre comment un site internet fonctionne et comment sont structurées les informations sur une page."
   ]
  },
  {
   "cell_type": "markdown",
   "metadata": {},
   "source": [
    "Un site Web est un ensemble de pages codées en *HTML* qui permet de décrire à la fois le contenu et la forme d'une page *Web*.\n",
    "\n",
    "###  HTML "
   ]
  },
  {
   "cell_type": "markdown",
   "metadata": {},
   "source": [
    "### Les balises\n",
    "\n",
    "\n",
    "Sur une page web, vous trouverez toujours à coup sûr des éléments comme ``<head>``, ``<title>``, etc. Il  s'agit des codes qui vous permettent de structurer le contenu d'une page *HTML* et qui s'appellent des balises. \n",
    "Citons, par exemple, les balises ``<p>``, ``<h1>``, ``<h2>``, ``<h3>``, ``<strong>`` ou ``<em>``.\n",
    "Le symbole ``< >`` est une balise : il sert à indiquer le début d'une partie. Le symbole ``</ >`` indique la fin de cette partie. La plupart des balises vont par paires, avec une *balise ouvrante* et une *balise fermante* (par exemple ``<p>`` et ``</p>``)."
   ]
  },
  {
   "cell_type": "markdown",
   "metadata": {},
   "source": [
    "#### Exemple : les balise des tableaux\n",
    "\n",
    "$$\n",
    "\\begin{array}{rr} \\hline\n",
    "Balise  & \\text{Description} \\\\ \\hline\n",
    "< table> & \\text{Tableau} \\\\\n",
    "< caption>& \\text{Titre du tableau} \\\\\n",
    "< tr> & \\text{Ligne de tableau} \\\\\n",
    "< th> & \\text{Cellule d'en-tête}\\\\\n",
    "< td> & \\text{Cellule} \\\\\n",
    "< thead> & \\text{Section de l'en-tête du tableau} \\\\\n",
    "< tbody> & \\text{Section du corps du tableau} \\\\\n",
    "< tfoot> & \\text{Section du pied du tableau} \\\\\n",
    "\\end{array}\n",
    "$$"
   ]
  },
  {
   "cell_type": "markdown",
   "metadata": {},
   "source": [
    "#### Exemple \n",
    "\n",
    "<table>\n",
    "   <tr>\n",
    "      <th>Prénom</th>\n",
    "      <th>Nom</th>\n",
    "      <th>Profession</th>\n",
    "   </tr>\n",
    "   <tr>\n",
    "      <td>Mike</td>\n",
    "      <td>Stuntman</td>\n",
    "      <td>Cascadeur</td>\n",
    "   </tr>\n",
    "   <tr>\n",
    "      <td>Mister</td>\n",
    "      <td>Pink</td>\n",
    "      <td>Gangster</td>\n",
    "   </tr>\n",
    "</table>"
   ]
  },
  {
   "cell_type": "markdown",
   "metadata": {},
   "source": [
    "#### Parent et enfant\n",
    "\n",
    "Dans le cadre du langage HTML, les termes de parents (parent) et enfants (child) servent à désigner des élements emboîtés les uns dans les autres. Dans la construction suivante, par exemple :"
   ]
  },
  {
   "cell_type": "markdown",
   "metadata": {},
   "source": [
    "On dira que l'élément ``<div>`` est le parent de l'élément ``<p>`` tandis que l'élément ``<p>`` est l'enfant de l'élément ``<div>``."
   ]
  },
  {
   "cell_type": "markdown",
   "metadata": {},
   "source": [
    "----------\n",
    "\n",
    "Mais pourquoi apprendre ça pour scraper me direz-vous ?\n",
    "\n",
    "Pour bien récupérer les informations d'un site internet, il faut pouvoir comprendre sa structure et donc son code HTML. Les fonctions python qui servent au scrapping sont principalement construites pour vous permettre de naviguer entre les balises."
   ]
  },
  {
   "cell_type": "markdown",
   "metadata": {},
   "source": [
    "## 2.2 Scrapper avec python\n",
    "\n",
    "Nous allons essentiellement utiliser le package [BeautifulSoup4](https://www.crummy.com/software/BeautifulSoup/bs4/doc/) pour cet atelier, mais d'autres packages existent ([Selenium](https://selenium-python.readthedocs.io/), [Scrapy](https://scrapy.org/)...).\n",
    "\n",
    "[BeautifulSoup](https://www.crummy.com/software/BeautifulSoup/bs4/doc/) sera suffisant quand vous voudrez travailler sur des pages HTML statiques, dès que les informations que vous recherchez sont générées via l'exécution de scripts [Javascript](https://fr.wikipedia.org/wiki/JavaScript), il vous faudra passer par des outils comme Selenium.\n",
    "\n",
    "De même, si vous ne connaissez pas l'URL, il faudra passer par un framework comme [Scrapy](https://scrapy.org/), qui passe facilement d'une page à une autre (\"crawl\"). Scrapy est plus complexe à manipuler que [BeautifulSoup](https://www.crummy.com/software/BeautifulSoup/bs4/doc/) : si vous voulez plus de détails, rendez-vous sur la page du tutorial [Scrapy Tutorial](https://doc.scrapy.org/en/latest/intro/tutorial.html)."
   ]
  },
  {
   "cell_type": "markdown",
   "metadata": {},
   "source": [
    "### Utiliser BeautifulSoup\n",
    "\n",
    "Les packages pour scrapper des pages HTML : \n",
    "- [BeautifulSoup4](https://www.crummy.com/software/BeautifulSoup/bs4/doc/) (``pip install bs4``)\n",
    "- [urllib](https://docs.python.org/3/library/urllib.html#module-urllib)"
   ]
  },
  {
   "cell_type": "code",
   "execution_count": 11,
   "metadata": {},
   "outputs": [],
   "source": [
    "import urllib\n",
    "import bs4\n",
    "#help(bs4)"
   ]
  },
  {
   "cell_type": "markdown",
   "metadata": {},
   "source": [
    "#### 1ere page HTML\n",
    "\n",
    "On va commencer facilement, prenons une page wikipedia, par exemple celle de la Ligue 1 de football : [Championnat de France de football 2019-2020](https://fr.wikipedia.org/wiki/Championnat_de_France_de_football_2019-2020). On va souhaiter récupérer la liste des équipes, ainsi que les url des pages Wikipedia de ces équipes."
   ]
  },
  {
   "cell_type": "code",
   "execution_count": 12,
   "metadata": {},
   "outputs": [
    {
     "name": "stdout",
     "output_type": "stream",
     "text": [
      "b'<!DOCTYPE html>\\n<html class=\"client-nojs\" lang=\"fr\" dir=\"ltr\">\\n<head>\\n<meta charset=\"UTF-8\"/>\\n<title>Championnat de France de football 2019-2020 \\xe2\\x80\\x94 Wikip\\xc3\\xa9dia</title>\\n<script>document.documentElement.className=\"client-js\";RLCONF={\"wgBreakFrames\":!1,\"wgSeparatorTransformTable\":[\",\\\\t.\",\"\\xc2\\xa0\\\\t,\"],\"wgDigitTransformTable\":[\"\",\"\"],\"wgDefaultDateFormat\":\"dmy\",\"wgMonthNames\":[\"\",\"janvier\",\"f\\xc3\\xa9vrier\",\"mars\",\"avril\",\"mai\",\"juin\",\"juillet\",\"ao\\xc3\\xbbt\",\"septembre\",\"octobre\",\"novembre\",\"d\\xc3\\xa9cembre\"],\"wgMonthNamesShort\":[\"\",\"janv.\",\"f\\xc3\\xa9v.\",\"mars\",\"avr.\",\"mai\",\"juin\",\"juill.\",\"ao\\xc3\\xbbt\",\"sept.\",\"oct.\",\"nov.\",\"d\\xc3\\xa9c.\"],\"wgRequestId\":\"XmNm@QpAADwAAATew5cAAACV\",\"wgCSPNonce\":!1,\"wgCanonicalNamespace\":\"\",\"wgCanonicalSpecialPageName\":!1,\"wgNamespaceNumber\":0,\"wgPageName\":\"Championnat_de_France_de_football_2019-2020\",\"wgTitle\":\"Championnat de France de football 2019-2020\",\"wgCurRevisionId\":168172389,\"wgRevisionId\":168172389,\"wgArticleId\":12518858,\"wgIsArticle\":!0,\"wgIsRedirect\":!1,\"wgAction\":\"view\",\"wgUserName\":null'\n"
     ]
    }
   ],
   "source": [
    "# Etape 1 : se connecter à la page wikipedia et obtenir le code source\n",
    "\n",
    "url_ligue_1 = \"https://fr.wikipedia.org/wiki/Championnat_de_France_de_football_2019-2020\"\n",
    "    \n",
    "from urllib import request\n",
    "\n",
    "request_text = request.urlopen(url_ligue_1).read()\n",
    "print(request_text[:1000])    "
   ]
  },
  {
   "cell_type": "code",
   "execution_count": 13,
   "metadata": {},
   "outputs": [],
   "source": [
    "# Etape 2 : utiliser le package BeautifulSoup\n",
    "# qui \"comprend\" les balises contenues dans la chaine de caractères renvoyée par la fonction request\n",
    "\n",
    "page = bs4.BeautifulSoup(request_text, \"lxml\")\n",
    "\n",
    "#print(page)"
   ]
  },
  {
   "cell_type": "markdown",
   "metadata": {},
   "source": [
    "Si on print l'objet, page créée avec BeautifulSoup, on voit que ce n'est plus une chaine de caractères mais bien une page HTML avec des balises. On peut à présent chercher des élements à l'intérieur de ces balises.\n",
    "\n",
    "\n",
    "par exemple, si on veut connaire le titre de la page, on utilise la méthode .find et on lui demande \"title\""
   ]
  },
  {
   "cell_type": "code",
   "execution_count": 14,
   "metadata": {},
   "outputs": [
    {
     "name": "stdout",
     "output_type": "stream",
     "text": [
      "<title>Championnat de France de football 2019-2020 — Wikipédia</title>\n"
     ]
    }
   ],
   "source": [
    "print(page.find(\"title\"))"
   ]
  },
  {
   "cell_type": "markdown",
   "metadata": {},
   "source": [
    "La methode ``.find`` ne renvoie que la première occurence de l'élément"
   ]
  },
  {
   "cell_type": "code",
   "execution_count": 15,
   "metadata": {},
   "outputs": [
    {
     "name": "stdout",
     "output_type": "stream",
     "text": [
      "<table><caption style=\"background:#99cc99;color:#000000;\">Généralités</caption><tbody><tr>\n",
      "<th scope=\"row\" style=\"width:10.5em;\">Sport</th>\n",
      "<td>\n",
      "<a href=\"/wiki/Football\" title=\"Football\">Football</a></td>\n",
      "</tr>\n",
      "<tr>\n",
      "<th scope=\"row\" style=\"width:10.5em;\">Organisateur(s)</th>\n",
      "<td>\n",
      "<a href=\"/wiki/Ligue_de_football_professionnel\" title=\"Ligue de football professionnel\">LFP</a></td>\n",
      "</tr>\n",
      "<tr>\n",
      "<th scope=\"row\" style=\"width:10.5em;\">Édition</th>\n",
      "<td>\n",
      "<abbr class=\"abbr\" title=\"Quatre-vingt-deuxième (huitante-deuxième / octante-deuxième)\">82<sup>e</sup></abbr></td>\n",
      "</tr>\n",
      "<tr>\n",
      "<th scope=\"row\" style=\"width:10.5em;\">Lieu(x)</th>\n",
      "<td>\n",
      "<span class=\"datasortkey\" data-sort-value=\"France\"><span class=\"flagicon\"><a class=\"image\" href=\"/wiki/Fichier:Flag_of_France.svg\" title=\"Drapeau de la France\"><img alt=\"Drapeau de la France\" class=\"noviewer thumbborder\" data-file-height=\"600\" data-file-width=\"900\" decoding=\"async\" height=\"13\" src=\"//upload.wikimedia.org/wikipedia/commons/thumb/c/c3/Flag_of_France.svg/20px-Flag_of_France.svg.png\" srcset=\"//upload.wikimedia.org/wikipedia/commons/thumb/c/c3/Flag_of_France.svg/30px-Flag_of_France.svg.png 1.5x, //upload.wikimedia.org/wikipedia/commons/thumb/c/c3/Flag_of_France.svg/40px-Flag_of_France.svg.png 2x\" width=\"20\"/></a> </span><a href=\"/wiki/France\" title=\"France\">France</a></span> et <br/><span class=\"datasortkey\" data-sort-value=\"Monaco\"><span class=\"flagicon\"><a class=\"image\" href=\"/wiki/Fichier:Flag_of_Monaco.svg\" title=\"Drapeau de Monaco\"><img alt=\"Drapeau de Monaco\" class=\"noviewer thumbborder\" data-file-height=\"800\" data-file-width=\"1000\" decoding=\"async\" height=\"16\" src=\"//upload.wikimedia.org/wikipedia/commons/thumb/e/ea/Flag_of_Monaco.svg/20px-Flag_of_Monaco.svg.png\" srcset=\"//upload.wikimedia.org/wikipedia/commons/thumb/e/ea/Flag_of_Monaco.svg/30px-Flag_of_Monaco.svg.png 1.5x, //upload.wikimedia.org/wikipedia/commons/thumb/e/ea/Flag_of_Monaco.svg/40px-Flag_of_Monaco.svg.png 2x\" width=\"20\"/></a> </span><a href=\"/wiki/Monaco\" title=\"Monaco\">Monaco</a></span></td>\n",
      "</tr>\n",
      "<tr>\n",
      "<th scope=\"row\" style=\"width:10.5em;\">Date</th>\n",
      "<td>\n",
      "Du <time class=\"nowrap date-lien\" data-sort-value=\"2019-08-09\" datetime=\"2019-08-09\"><a href=\"/wiki/9_ao%C3%BBt_en_sport\" title=\"9 août en sport\">9</a> <a class=\"mw-redirect\" href=\"/wiki/Ao%C3%BBt_2019_en_sport\" title=\"Août 2019 en sport\">août</a> <a href=\"/wiki/2019_en_football\" title=\"2019 en football\">2019</a></time><br/>au <time class=\"nowrap date-lien\" data-sort-value=\"2020-05-23\" datetime=\"2020-05-23\"><a href=\"/wiki/23_mai_en_sport\" title=\"23 mai en sport\">23 mai</a> <a href=\"/wiki/2020_en_football\" title=\"2020 en football\">2020</a></time></td>\n",
      "</tr>\n",
      "<tr>\n",
      "<th scope=\"row\" style=\"width:10.5em;\">Participants</th>\n",
      "<td>\n",
      "20 équipes</td>\n",
      "</tr>\n",
      "<tr>\n",
      "<th scope=\"row\" style=\"width:10.5em;\">Matchs joués</th>\n",
      "<td>\n",
      "38</td>\n",
      "</tr>\n",
      "<tr>\n",
      "<th scope=\"row\" style=\"width:10.5em;\">Site web officiel</th>\n",
      "<td>\n",
      "<a class=\"external text\" href=\"https://www.ligue1.fr/\" rel=\"nofollow\">Site officiel</a></td>\n",
      "</tr></tbody></table>\n"
     ]
    }
   ],
   "source": [
    "print(page.find(\"table\"))"
   ]
  },
  {
   "cell_type": "markdown",
   "metadata": {},
   "source": [
    "---------------\n",
    "Pour trouver toutes les occurences, on utilise ``.findAll()``."
   ]
  },
  {
   "cell_type": "code",
   "execution_count": 16,
   "metadata": {},
   "outputs": [
    {
     "name": "stdout",
     "output_type": "stream",
     "text": [
      "Il y a 33 éléments dans la page qui sont des <table>\n"
     ]
    }
   ],
   "source": [
    "print(\"Il y a\", len(page.findAll(\"table\")), \"éléments dans la page qui sont des <table>\")"
   ]
  },
  {
   "cell_type": "code",
   "execution_count": 17,
   "metadata": {},
   "outputs": [
    {
     "name": "stdout",
     "output_type": "stream",
     "text": [
      " Le 2eme tableau de la page : Hiérarchie \n",
      " <table><caption style=\"background:#99cc99;color:#000000;\">Hiérarchie</caption><tbody><tr>\n",
      "<th scope=\"row\" style=\"width:10.5em;\">Hiérarchie</th>\n",
      "<td>\n",
      "<abbr class=\"abbr\" title=\"Premier\">1<sup>er</sup></abbr> échelon</td>\n",
      "</tr>\n",
      "<tr>\n",
      "<th scope=\"row\" style=\"width:10.5em;\">Niveau inférieur</th>\n",
      "<td>\n",
      "<a href=\"/wiki/Championnat_de_France_de_football_de_Ligue_2_2019-2020\" title=\"Championnat de France de football de Ligue 2 2019-2020\">Ligue 2 2019-2020</a></td>\n",
      "</tr></tbody></table>\n",
      "--------------------------------------------------------\n",
      "Le 3eme tableau de la page : Palmarès \n",
      " <table><caption style=\"background:#99cc99;color:#000000;\">Palmarès</caption>\n",
      "<tbody><tr>\n",
      "<th scope=\"row\" style=\"width:10.5em;\">Tenant du titre</th>\n",
      "<td>\n",
      "<a href=\"/wiki/Paris_Saint-Germain_Football_Club\" title=\"Paris Saint-Germain Football Club\">Paris Saint-Germain</a> (8)</td>\n",
      "</tr>\n",
      "<tr>\n",
      "<th scope=\"row\" style=\"width:10.5em;\">Promu(s) en début de saison</th>\n",
      "<td>\n",
      "<a href=\"/wiki/Football_Club_de_Metz\" title=\"Football Club de Metz\">FC Metz</a><br/><a href=\"/wiki/Stade_brestois_29\" title=\"Stade brestois 29\">Stade brestois 29</a></td>\n",
      "</tr>\n",
      "<tr>\n",
      "<th scope=\"row\" style=\"width:10.5em;\">Buts</th>\n",
      "<td>\n",
      "503<small>(2,52s/match)</small> (en cours)</td>\n",
      "</tr>\n",
      "<tr>\n",
      "<th scope=\"row\" style=\"width:10.5em;\"><img alt=\"Averti\" data-file-height=\"260\" data-file-width=\"200\" decoding=\"async\" height=\"13\" src=\"//upload.wikimedia.org/wikipedia/commons/thumb/b/b1/Yellow_card.svg/10px-Yellow_card.svg.png\" srcset=\"//upload.wikimedia.org/wikipedia/commons/thumb/b/b1/Yellow_card.svg/15px-Yellow_card.svg.png 1.5x, //upload.wikimedia.org/wikipedia/commons/thumb/b/b1/Yellow_card.svg/20px-Yellow_card.svg.png 2x\" title=\"Averti\" width=\"10\"/> Cartons Jaunes</th>\n",
      "<td>\n",
      "280 <small>(3,6/match)</small> (en cours)</td>\n",
      "</tr>\n",
      "<tr>\n",
      "<th scope=\"row\" style=\"width:10.5em;\"><a class=\"image\" href=\"/wiki/Fichier:Red_card.svg\"><img alt=\"Red card.svg\" data-file-height=\"260\" data-file-width=\"200\" decoding=\"async\" height=\"13\" src=\"//upload.wikimedia.org/wikipedia/commons/thumb/e/e7/Red_card.svg/10px-Red_card.svg.png\" srcset=\"//upload.wikimedia.org/wikipedia/commons/thumb/e/e7/Red_card.svg/15px-Red_card.svg.png 1.5x, //upload.wikimedia.org/wikipedia/commons/thumb/e/e7/Red_card.svg/20px-Red_card.svg.png 2x\" width=\"10\"/></a> Cartons Rouges</th>\n",
      "<td>\n",
      "18 <small>(0,2/match)</small> (en cours)</td>\n",
      "</tr>\n",
      "<tr>\n",
      "<th scope=\"row\" style=\"width:10.5em;\">Meilleur(s) buteur(s)</th>\n",
      "<td>\n",
      "<span class=\"flagicon\"><a class=\"image\" href=\"/wiki/Fichier:Flag_of_France.svg\" title=\"Drapeau : France\"><img alt=\"Drapeau : France\" class=\"noviewer thumbborder\" data-file-height=\"600\" data-file-width=\"900\" decoding=\"async\" height=\"13\" src=\"//upload.wikimedia.org/wikipedia/commons/thumb/c/c3/Flag_of_France.svg/20px-Flag_of_France.svg.png\" srcset=\"//upload.wikimedia.org/wikipedia/commons/thumb/c/c3/Flag_of_France.svg/30px-Flag_of_France.svg.png 1.5x, //upload.wikimedia.org/wikipedia/commons/thumb/c/c3/Flag_of_France.svg/40px-Flag_of_France.svg.png 2x\" width=\"20\"/></a></span> <a href=\"/wiki/Wissam_Ben_Yedder\" title=\"Wissam Ben Yedder\">Wissam Ben Yedder</a><br/>(16 buts)</td>\n",
      "</tr>\n",
      "<tr>\n",
      "<th scope=\"row\" style=\"width:10.5em;\">Meilleur(s) passeur(s)</th>\n",
      "<td>\n",
      "<span class=\"flagicon\"><a class=\"image\" href=\"/wiki/Fichier:Flag_of_Argentina.svg\" title=\"Drapeau : Argentine\"><img alt=\"Drapeau : Argentine\" class=\"noviewer thumbborder\" data-file-height=\"500\" data-file-width=\"800\" decoding=\"async\" height=\"13\" src=\"//upload.wikimedia.org/wikipedia/commons/thumb/1/1a/Flag_of_Argentina.svg/20px-Flag_of_Argentina.svg.png\" srcset=\"//upload.wikimedia.org/wikipedia/commons/thumb/1/1a/Flag_of_Argentina.svg/30px-Flag_of_Argentina.svg.png 1.5x, //upload.wikimedia.org/wikipedia/commons/thumb/1/1a/Flag_of_Argentina.svg/40px-Flag_of_Argentina.svg.png 2x\" width=\"20\"/></a></span> <a class=\"mw-redirect\" href=\"/wiki/Angel_Di_Maria\" title=\"Angel Di Maria\">Angel Di Maria</a><br/>(11 passes)</td>\n",
      "</tr>\n",
      "</tbody></table>\n"
     ]
    }
   ],
   "source": [
    "print(\" Le 2eme tableau de la page : Hiérarchie \\n\", page.findAll(\"table\")[1])\n",
    "print(\"--------------------------------------------------------\")\n",
    "print(\"Le 3eme tableau de la page : Palmarès \\n\",page.findAll(\"table\")[2])"
   ]
  },
  {
   "cell_type": "markdown",
   "metadata": {},
   "source": [
    "### Exercice guidé : obtenir la liste des équipes de Ligue 1\n",
    "\n",
    "La liste des équipes est dans le tableau ``\"Participants\"`` : dans le code source, on voit que ce tableau est celui qui a ``class=\"DebutCarte\"``. On voit également que les balises qui encerclent les noms et les urls des clubs sont de la forme suivante"
   ]
  },
  {
   "cell_type": "markdown",
   "metadata": {},
   "source": [
    "```\n",
    "<a href=\"url_club\" title=\"nom_club\"> Nom du club </a>\n",
    "```"
   ]
  },
  {
   "cell_type": "code",
   "execution_count": 18,
   "metadata": {},
   "outputs": [
    {
     "name": "stdout",
     "output_type": "stream",
     "text": [
      "<a class=\"image\" href=\"/wiki/Fichier:France_location_map-Regions-2016.svg\"><img alt=\"France location map-Regions-2016.svg\" data-file-height=\"1922\" data-file-width=\"2000\" decoding=\"async\" height=\"288\" src=\"//upload.wikimedia.org/wikipedia/commons/thumb/b/b1/France_location_map-Regions-2016.svg/300px-France_location_map-Regions-2016.svg.png\" srcset=\"//upload.wikimedia.org/wikipedia/commons/thumb/b/b1/France_location_map-Regions-2016.svg/450px-France_location_map-Regions-2016.svg.png 1.5x, //upload.wikimedia.org/wikipedia/commons/thumb/b/b1/France_location_map-Regions-2016.svg/600px-France_location_map-Regions-2016.svg.png 2x\" width=\"300\"/></a> \n",
      "-------\n",
      "<a href=\"/wiki/Paris_Saint-Germain_Football_Club\" title=\"Paris Saint-Germain Football Club\">Paris SG</a> \n",
      "-------\n",
      "<a href=\"/wiki/LOSC_Lille\" title=\"LOSC Lille\">LOSC Lille</a> \n",
      "-------\n",
      "<a href=\"/wiki/Olympique_lyonnais\" title=\"Olympique lyonnais\">Olympique lyonnais</a> \n",
      "-------\n",
      "<a href=\"/wiki/Association_sportive_de_Saint-%C3%89tienne\" title=\"Association sportive de Saint-Étienne\">AS Saint-Étienne</a> \n",
      "-------\n"
     ]
    }
   ],
   "source": [
    "for item in page.find('table', {'class' : 'DebutCarte'}).findAll({'a'})[0:5] : \n",
    "    print(item, \"\\n-------\")"
   ]
  },
  {
   "cell_type": "markdown",
   "metadata": {},
   "source": [
    "On n'a pas envie de prendre le premier élément qui ne correspond pas à un club mais à une image.\n",
    "Or cet élément est le seul qui n'ait pas de ``title=\"\"``. Il est conseillé d'exclure les élements qui ne nous intéressent pas en indiquant les éléments que la ligne doit avoir au lieu de les exclure en fonction de leur place dans la liste."
   ]
  },
  {
   "cell_type": "code",
   "execution_count": 19,
   "metadata": {},
   "outputs": [
    {
     "name": "stdout",
     "output_type": "stream",
     "text": [
      "<a href=\"/wiki/Paris_Saint-Germain_Football_Club\" title=\"Paris Saint-Germain Football Club\">Paris SG</a>\n",
      "<a href=\"/wiki/LOSC_Lille\" title=\"LOSC Lille\">LOSC Lille</a>\n",
      "<a href=\"/wiki/Olympique_lyonnais\" title=\"Olympique lyonnais\">Olympique lyonnais</a>\n",
      "<a href=\"/wiki/Association_sportive_de_Saint-%C3%89tienne\" title=\"Association sportive de Saint-Étienne\">AS Saint-Étienne</a>\n"
     ]
    }
   ],
   "source": [
    "### condition sur la place dans la liste >>>> MAUVAIS\n",
    "for e, item in enumerate(page.find('table', {'class' : 'DebutCarte'}).findAll({'a'})[0:5]) : \n",
    "    if  e == 0: \n",
    "        pass\n",
    "    else : \n",
    "        print(item)"
   ]
  },
  {
   "cell_type": "code",
   "execution_count": 20,
   "metadata": {},
   "outputs": [
    {
     "name": "stdout",
     "output_type": "stream",
     "text": [
      "<a href=\"/wiki/Paris_Saint-Germain_Football_Club\" title=\"Paris Saint-Germain Football Club\">Paris SG</a>\n",
      "<a href=\"/wiki/LOSC_Lille\" title=\"LOSC Lille\">LOSC Lille</a>\n",
      "<a href=\"/wiki/Olympique_lyonnais\" title=\"Olympique lyonnais\">Olympique lyonnais</a>\n",
      "<a href=\"/wiki/Association_sportive_de_Saint-%C3%89tienne\" title=\"Association sportive de Saint-Étienne\">AS Saint-Étienne</a>\n"
     ]
    }
   ],
   "source": [
    "#### condition sur les éléments que doit avoir la ligne >>>> BIEN \n",
    "for item in page.find('table', {'class' : 'DebutCarte'}).findAll({'a'})[0:5] : \n",
    "    if item.get(\"title\") :\n",
    "        print(item)"
   ]
  },
  {
   "cell_type": "markdown",
   "metadata": {},
   "source": [
    "Enfin la dernière étape, consiste à obtenir les informations souhaitées, c'est à dire dans notre cas, le nom et l'url des 20 clubs. Pour cela, nous allons utiliser deux méthodes de l'élement item :\n",
    "\n",
    "- ``getText()`` qui permet d'obtenir le texte qui est sur la page web et dans la balise  ``<a>``\n",
    "- ``get('xxxx')`` qui permet d'obtenir l'élément qui est égal à ``xxxx``\n",
    "\n",
    "Dans notre cas, nous allons vouloir le nom du club ainsi que l'url : on va donc utiliser ``__getText__`` et ``__get(\"href\")__``."
   ]
  },
  {
   "cell_type": "code",
   "execution_count": 21,
   "metadata": {},
   "outputs": [
    {
     "name": "stdout",
     "output_type": "stream",
     "text": [
      "/wiki/Paris_Saint-Germain_Football_Club\n",
      "Paris SG\n",
      "/wiki/LOSC_Lille\n",
      "LOSC Lille\n",
      "/wiki/Olympique_lyonnais\n",
      "Olympique lyonnais\n",
      "/wiki/Association_sportive_de_Saint-%C3%89tienne\n",
      "AS Saint-Étienne\n"
     ]
    }
   ],
   "source": [
    "for item in page.find('table', {'class' : 'DebutCarte'}).findAll({'a'})[0:5] : \n",
    "    if item.get(\"title\") :\n",
    "        print(item.get(\"href\"))\n",
    "        print(item.getText())"
   ]
  },
  {
   "cell_type": "code",
   "execution_count": 22,
   "metadata": {},
   "outputs": [
    {
     "name": "stdout",
     "output_type": "stream",
     "text": [
      "Paris Saint-Germain Football Club\n",
      "LOSC Lille\n",
      "Olympique lyonnais\n",
      "Association sportive de Saint-Étienne\n"
     ]
    }
   ],
   "source": [
    "# pour avoir le nom officiel, on aurait utiliser l'élément <title>\n",
    "for item in page.find('table', {'class' : 'DebutCarte'}).findAll({'a'})[0:5] : \n",
    "    if item.get(\"title\") :\n",
    "        print(item.get(\"title\"))"
   ]
  },
  {
   "cell_type": "markdown",
   "metadata": {},
   "source": [
    "Toutes ces informations, on souhaite les conserver dans un tableau *Excel* pour pouvoir les réuitiliser à l'envie : pour cela, rien de plus simple, on va passer par pandas, parce qu'on le maitrise parfaitement à ce stade de la formation."
   ]
  },
  {
   "cell_type": "code",
   "execution_count": 23,
   "metadata": {},
   "outputs": [
    {
     "data": {
      "text/html": [
       "<div>\n",
       "<style scoped>\n",
       "    .dataframe tbody tr th:only-of-type {\n",
       "        vertical-align: middle;\n",
       "    }\n",
       "\n",
       "    .dataframe tbody tr th {\n",
       "        vertical-align: top;\n",
       "    }\n",
       "\n",
       "    .dataframe thead th {\n",
       "        text-align: right;\n",
       "    }\n",
       "</style>\n",
       "<table border=\"1\" class=\"dataframe\">\n",
       "  <thead>\n",
       "    <tr style=\"text-align: right;\">\n",
       "      <th></th>\n",
       "      <th>clubs</th>\n",
       "      <th>url</th>\n",
       "    </tr>\n",
       "  </thead>\n",
       "  <tbody>\n",
       "    <tr>\n",
       "      <td>0</td>\n",
       "      <td>Paris SG</td>\n",
       "      <td>/wiki/Paris_Saint-Germain_Football_Club</td>\n",
       "    </tr>\n",
       "    <tr>\n",
       "      <td>1</td>\n",
       "      <td>LOSC Lille</td>\n",
       "      <td>/wiki/LOSC_Lille</td>\n",
       "    </tr>\n",
       "    <tr>\n",
       "      <td>2</td>\n",
       "      <td>Olympique lyonnais</td>\n",
       "      <td>/wiki/Olympique_lyonnais</td>\n",
       "    </tr>\n",
       "    <tr>\n",
       "      <td>3</td>\n",
       "      <td>AS Saint-Étienne</td>\n",
       "      <td>/wiki/Association_sportive_de_Saint-%C3%89tienne</td>\n",
       "    </tr>\n",
       "    <tr>\n",
       "      <td>4</td>\n",
       "      <td>Olympique deMarseille</td>\n",
       "      <td>/wiki/Olympique_de_Marseille</td>\n",
       "    </tr>\n",
       "  </tbody>\n",
       "</table>\n",
       "</div>"
      ],
      "text/plain": [
       "                   clubs                                               url\n",
       "0               Paris SG           /wiki/Paris_Saint-Germain_Football_Club\n",
       "1             LOSC Lille                                  /wiki/LOSC_Lille\n",
       "2     Olympique lyonnais                          /wiki/Olympique_lyonnais\n",
       "3       AS Saint-Étienne  /wiki/Association_sportive_de_Saint-%C3%89tienne\n",
       "4  Olympique deMarseille                      /wiki/Olympique_de_Marseille"
      ]
     },
     "execution_count": 23,
     "metadata": {},
     "output_type": "execute_result"
    }
   ],
   "source": [
    "import pandas\n",
    "\n",
    "liste_noms = []\n",
    "liste_urls = []\n",
    "\n",
    "for item in page.find('table', {'class' : 'DebutCarte'}).findAll({'a'}) : \n",
    "    if item.get(\"title\") :\n",
    "        liste_urls.append(item.get(\"href\"))\n",
    "        liste_noms.append(item.getText())\n",
    "        \n",
    "df = pandas.DataFrame.from_dict( {\"clubs\" : liste_noms, 'url' : liste_urls})\n",
    "df.head()"
   ]
  },
  {
   "cell_type": "markdown",
   "metadata": {},
   "source": [
    "### Exercice de web scraping avec BeautifulSoup\n",
    "\n",
    "Pour cet exercice, nous vous demandons d'obtenir 1) les informations personnelles des 721 pokemons sur le site internet [pokemondb.net](http://pokemondb.net/pokedex/national). Les informations que nous aimerions obtenir au final pour les pokemons sont celles contenues dans 4 tableaux :\n",
    "\n",
    "- Pokédex data\n",
    "- Training\n",
    "- Breeding\n",
    "- Base stats\n",
    "\n",
    "Pour exemple : [Pokemon Database](http://pokemondb.net/pokedex/nincada).\n",
    "\n"
   ]
  },
  {
   "cell_type": "code",
   "execution_count": 24,
   "metadata": {},
   "outputs": [],
   "source": [
    "import collections\n",
    "from urllib import request\n",
    "import bs4\n",
    "import pandas as pd\n",
    "import numpy as np\n",
    "#help(bs4)\n",
    "\n",
    "# Etape 1 : se connecter à la page wikipedia et obtenir le code source\n",
    "\n",
    "url_pokémons = urllib.request.Request('http://pokemondb.net/pokedex/national',\n",
    "                             headers={'User-Agent': 'Mozilla/5.0'})\n",
    "html = urllib.request.urlopen(url_pokémons).read()\n"
   ]
  },
  {
   "cell_type": "code",
   "execution_count": 25,
   "metadata": {},
   "outputs": [
    {
     "name": "stdout",
     "output_type": "stream",
     "text": [
      "b'<!DOCTYPE html>\\n<html lang=\"en\">\\n<head>\\n<meta charset=\"utf-8\">\\n<title>List of Pok\\xc3\\xa9mon (sprites gallery) | Pok\\xc3\\xa9mon Database</title>\\n<link rel=\"preconnect\" href=\"https://fonts.gstatic.com\">\\n<link rel=\"preconnect\" href=\"https://img.pokemondb.net\">\\n<link rel=\"stylesheet\" href=\"/static/css/pokemondb-7c22d512a3.css\">\\n<meta name=\"viewport\" content=\"width=device-width, initial-scale=1\">\\n<meta property=\"og:description\" name=\"description\" content=\"A simple list of all 890 Pok\\xc3\\xa9mon by National Dex number, with images.\">\\n<link rel=\"canonical\" href=\"https://pokemondb.net/pokedex/national\">\\n<meta property=\"og:url\" content=\"https://pokemondb.net/pokedex/national\">\\n<meta property=\"og:title\" content=\"List of Pok\\xc3\\xa9mon (sprites gallery)\">\\n<meta name=\"twitter:card\" content=\"summary\">\\n<link rel=\"shortcut icon\" type=\"image/x-icon\" href=\"/favicon.ico\">\\n<link rel=\"apple-touch-icon-precomposed\" href=\"/apple-touch-icon-precomposed.png\">\\n<link rel=\"alternate\" type=\"application/rss+xml\" href=\"https://pokemondb.'\n"
     ]
    }
   ],
   "source": [
    "# Etape 2 : utiliser le package BeautifulSoup\n",
    "# qui \"comprend\" les balises contenues dans la chaine de caractères renvoyée par la fonction request\n",
    "\n",
    "page = bs4.BeautifulSoup(html, \"lxml\")\n",
    "\n",
    "request_text = request.urlopen(url_pokémons).read()\n",
    "print(request_text[:1000])  "
   ]
  },
  {
   "cell_type": "code",
   "execution_count": 26,
   "metadata": {},
   "outputs": [],
   "source": [
    "#page"
   ]
  },
  {
   "cell_type": "code",
   "execution_count": 27,
   "metadata": {},
   "outputs": [
    {
     "name": "stdout",
     "output_type": "stream",
     "text": [
      "['bulbasaur', 'ivysaur', 'venusaur', 'charmander', 'charmeleon', 'charizard', 'squirtle', 'wartortle', 'blastoise', 'caterpie', 'metapod', 'butterfree', 'weedle', 'kakuna', 'beedrill', 'pidgey', 'pidgeotto', 'pidgeot', 'rattata', 'raticate', 'spearow', 'fearow', 'ekans', 'arbok', 'pikachu', 'raichu', 'sandshrew', 'sandslash', 'nidoran-f', 'nidorina', 'nidoqueen', 'nidoran-m', 'nidorino', 'nidoking', 'clefairy', 'clefable', 'vulpix', 'ninetales', 'jigglypuff', 'wigglytuff', 'zubat', 'golbat', 'oddish', 'gloom', 'vileplume', 'paras', 'parasect', 'venonat', 'venomoth', 'diglett', 'dugtrio', 'meowth', 'persian', 'psyduck', 'golduck', 'mankey', 'primeape', 'growlithe', 'arcanine', 'poliwag', 'poliwhirl', 'poliwrath', 'abra', 'kadabra', 'alakazam', 'machop', 'machoke', 'machamp', 'bellsprout', 'weepinbell', 'victreebel', 'tentacool', 'tentacruel', 'geodude', 'graveler', 'golem', 'ponyta', 'rapidash', 'slowpoke', 'slowbro', 'magnemite', 'magneton', 'farfetchd', 'doduo', 'dodrio', 'seel', 'dewgong', 'grimer', 'muk', 'shellder', 'cloyster', 'gastly', 'haunter', 'gengar', 'onix', 'drowzee', 'hypno', 'krabby', 'kingler', 'voltorb', 'electrode', 'exeggcute', 'exeggutor', 'cubone', 'marowak', 'hitmonlee', 'hitmonchan', 'lickitung', 'koffing', 'weezing', 'rhyhorn', 'rhydon', 'chansey', 'tangela', 'kangaskhan', 'horsea', 'seadra', 'goldeen', 'seaking', 'staryu', 'starmie', 'mr-mime', 'scyther', 'jynx', 'electabuzz', 'magmar', 'pinsir', 'tauros', 'magikarp', 'gyarados', 'lapras', 'ditto', 'eevee', 'vaporeon', 'jolteon', 'flareon', 'porygon', 'omanyte', 'omastar', 'kabuto', 'kabutops', 'aerodactyl', 'snorlax', 'articuno', 'zapdos', 'moltres', 'dratini', 'dragonair', 'dragonite', 'mewtwo', 'mew', 'chikorita', 'bayleef', 'meganium', 'cyndaquil', 'quilava', 'typhlosion', 'totodile', 'croconaw', 'feraligatr', 'sentret', 'furret', 'hoothoot', 'noctowl', 'ledyba', 'ledian', 'spinarak', 'ariados', 'crobat', 'chinchou', 'lanturn', 'pichu', 'cleffa', 'igglybuff', 'togepi', 'togetic', 'natu', 'xatu', 'mareep', 'flaaffy', 'ampharos', 'bellossom', 'marill', 'azumarill', 'sudowoodo', 'politoed', 'hoppip', 'skiploom', 'jumpluff', 'aipom', 'sunkern', 'sunflora', 'yanma', 'wooper', 'quagsire', 'espeon', 'umbreon', 'murkrow', 'slowking', 'misdreavus', 'unown', 'wobbuffet', 'girafarig', 'pineco', 'forretress', 'dunsparce', 'gligar', 'steelix', 'snubbull', 'granbull', 'qwilfish', 'scizor', 'shuckle', 'heracross', 'sneasel', 'teddiursa', 'ursaring', 'slugma', 'magcargo', 'swinub', 'piloswine', 'corsola', 'remoraid', 'octillery', 'delibird', 'mantine', 'skarmory', 'houndour', 'houndoom', 'kingdra', 'phanpy', 'donphan', 'porygon2', 'stantler', 'smeargle', 'tyrogue', 'hitmontop', 'smoochum', 'elekid', 'magby', 'miltank', 'blissey', 'raikou', 'entei', 'suicune', 'larvitar', 'pupitar', 'tyranitar', 'lugia', 'ho-oh', 'celebi', 'treecko', 'grovyle', 'sceptile', 'torchic', 'combusken', 'blaziken', 'mudkip', 'marshtomp', 'swampert', 'poochyena', 'mightyena', 'zigzagoon', 'linoone', 'wurmple', 'silcoon', 'beautifly', 'cascoon', 'dustox', 'lotad', 'lombre', 'ludicolo', 'seedot', 'nuzleaf', 'shiftry', 'taillow', 'swellow', 'wingull', 'pelipper', 'ralts', 'kirlia', 'gardevoir', 'surskit', 'masquerain', 'shroomish', 'breloom', 'slakoth', 'vigoroth', 'slaking', 'nincada', 'ninjask', 'shedinja', 'whismur', 'loudred', 'exploud', 'makuhita', 'hariyama', 'azurill', 'nosepass', 'skitty', 'delcatty', 'sableye', 'mawile', 'aron', 'lairon', 'aggron', 'meditite', 'medicham', 'electrike', 'manectric', 'plusle', 'minun', 'volbeat', 'illumise', 'roselia', 'gulpin', 'swalot', 'carvanha', 'sharpedo', 'wailmer', 'wailord', 'numel', 'camerupt', 'torkoal', 'spoink', 'grumpig', 'spinda', 'trapinch', 'vibrava', 'flygon', 'cacnea', 'cacturne', 'swablu', 'altaria', 'zangoose', 'seviper', 'lunatone', 'solrock', 'barboach', 'whiscash', 'corphish', 'crawdaunt', 'baltoy', 'claydol', 'lileep', 'cradily', 'anorith', 'armaldo', 'feebas', 'milotic', 'castform', 'kecleon', 'shuppet', 'banette', 'duskull', 'dusclops', 'tropius', 'chimecho', 'absol', 'wynaut', 'snorunt', 'glalie', 'spheal', 'sealeo', 'walrein', 'clamperl', 'huntail', 'gorebyss', 'relicanth', 'luvdisc', 'bagon', 'shelgon', 'salamence', 'beldum', 'metang', 'metagross', 'regirock', 'regice', 'registeel', 'latias', 'latios', 'kyogre', 'groudon', 'rayquaza', 'jirachi', 'deoxys', 'turtwig', 'grotle', 'torterra', 'chimchar', 'monferno', 'infernape', 'piplup', 'prinplup', 'empoleon', 'starly', 'staravia', 'staraptor', 'bidoof', 'bibarel', 'kricketot', 'kricketune', 'shinx', 'luxio', 'luxray', 'budew', 'roserade', 'cranidos', 'rampardos', 'shieldon', 'bastiodon', 'burmy', 'wormadam', 'mothim', 'combee', 'vespiquen', 'pachirisu', 'buizel', 'floatzel', 'cherubi', 'cherrim', 'shellos', 'gastrodon', 'ambipom', 'drifloon', 'drifblim', 'buneary', 'lopunny', 'mismagius', 'honchkrow', 'glameow', 'purugly', 'chingling', 'stunky', 'skuntank', 'bronzor', 'bronzong', 'bonsly', 'mime-jr', 'happiny', 'chatot', 'spiritomb', 'gible', 'gabite', 'garchomp', 'munchlax', 'riolu', 'lucario', 'hippopotas', 'hippowdon', 'skorupi', 'drapion', 'croagunk', 'toxicroak', 'carnivine', 'finneon', 'lumineon', 'mantyke', 'snover', 'abomasnow', 'weavile', 'magnezone', 'lickilicky', 'rhyperior', 'tangrowth', 'electivire', 'magmortar', 'togekiss', 'yanmega', 'leafeon', 'glaceon', 'gliscor', 'mamoswine', 'porygon-z', 'gallade', 'probopass', 'dusknoir', 'froslass', 'rotom', 'uxie', 'mesprit', 'azelf', 'dialga', 'palkia', 'heatran', 'regigigas', 'giratina', 'cresselia', 'phione', 'manaphy', 'darkrai', 'shaymin', 'arceus', 'victini', 'snivy', 'servine', 'serperior', 'tepig', 'pignite', 'emboar', 'oshawott', 'dewott', 'samurott', 'patrat', 'watchog', 'lillipup', 'herdier', 'stoutland', 'purrloin', 'liepard', 'pansage', 'simisage', 'pansear', 'simisear', 'panpour', 'simipour', 'munna', 'musharna', 'pidove', 'tranquill', 'unfezant', 'blitzle', 'zebstrika', 'roggenrola', 'boldore', 'gigalith', 'woobat', 'swoobat', 'drilbur', 'excadrill', 'audino', 'timburr', 'gurdurr', 'conkeldurr', 'tympole', 'palpitoad', 'seismitoad', 'throh', 'sawk', 'sewaddle', 'swadloon', 'leavanny', 'venipede', 'whirlipede', 'scolipede', 'cottonee', 'whimsicott', 'petilil', 'lilligant', 'basculin', 'sandile', 'krokorok', 'krookodile', 'darumaka', 'darmanitan', 'maractus', 'dwebble', 'crustle', 'scraggy', 'scrafty', 'sigilyph', 'yamask', 'cofagrigus', 'tirtouga', 'carracosta', 'archen', 'archeops', 'trubbish', 'garbodor', 'zorua', 'zoroark', 'minccino', 'cinccino', 'gothita', 'gothorita', 'gothitelle', 'solosis', 'duosion', 'reuniclus', 'ducklett', 'swanna', 'vanillite', 'vanillish', 'vanilluxe', 'deerling', 'sawsbuck', 'emolga', 'karrablast', 'escavalier', 'foongus', 'amoonguss', 'frillish', 'jellicent', 'alomomola', 'joltik', 'galvantula', 'ferroseed', 'ferrothorn', 'klink', 'klang', 'klinklang', 'tynamo', 'eelektrik', 'eelektross', 'elgyem', 'beheeyem', 'litwick', 'lampent', 'chandelure', 'axew', 'fraxure', 'haxorus', 'cubchoo', 'beartic', 'cryogonal', 'shelmet', 'accelgor', 'stunfisk', 'mienfoo', 'mienshao', 'druddigon', 'golett', 'golurk', 'pawniard', 'bisharp', 'bouffalant', 'rufflet', 'braviary', 'vullaby', 'mandibuzz', 'heatmor', 'durant', 'deino', 'zweilous', 'hydreigon', 'larvesta', 'volcarona', 'cobalion', 'terrakion', 'virizion', 'tornadus', 'thundurus', 'reshiram', 'zekrom', 'landorus', 'kyurem', 'keldeo', 'meloetta', 'genesect', 'chespin', 'quilladin', 'chesnaught', 'fennekin', 'braixen', 'delphox', 'froakie', 'frogadier', 'greninja', 'bunnelby', 'diggersby', 'fletchling', 'fletchinder', 'talonflame', 'scatterbug', 'spewpa', 'vivillon', 'litleo', 'pyroar', 'flabebe', 'floette', 'florges', 'skiddo', 'gogoat', 'pancham', 'pangoro', 'furfrou', 'espurr', 'meowstic', 'honedge', 'doublade', 'aegislash', 'spritzee', 'aromatisse', 'swirlix', 'slurpuff', 'inkay', 'malamar', 'binacle', 'barbaracle', 'skrelp', 'dragalge', 'clauncher', 'clawitzer', 'helioptile', 'heliolisk', 'tyrunt', 'tyrantrum', 'amaura', 'aurorus', 'sylveon', 'hawlucha', 'dedenne', 'carbink', 'goomy', 'sliggoo', 'goodra', 'klefki', 'phantump', 'trevenant', 'pumpkaboo', 'gourgeist', 'bergmite', 'avalugg', 'noibat', 'noivern', 'xerneas', 'yveltal', 'zygarde', 'diancie', 'hoopa', 'volcanion', 'rowlet', 'dartrix', 'decidueye', 'litten', 'torracat', 'incineroar', 'popplio', 'brionne', 'primarina', 'pikipek', 'trumbeak', 'toucannon', 'yungoos', 'gumshoos', 'grubbin', 'charjabug', 'vikavolt', 'crabrawler', 'crabominable', 'oricorio', 'cutiefly', 'ribombee', 'rockruff', 'lycanroc', 'wishiwashi', 'mareanie', 'toxapex', 'mudbray', 'mudsdale', 'dewpider', 'araquanid', 'fomantis', 'lurantis', 'morelull', 'shiinotic', 'salandit', 'salazzle', 'stufful', 'bewear', 'bounsweet', 'steenee', 'tsareena', 'comfey', 'oranguru', 'passimian', 'wimpod', 'golisopod', 'sandygast', 'palossand', 'pyukumuku', 'type-null', 'silvally', 'minior', 'komala', 'turtonator', 'togedemaru', 'mimikyu', 'bruxish', 'drampa', 'dhelmise', 'jangmo-o', 'hakamo-o', 'kommo-o', 'tapu-koko', 'tapu-lele', 'tapu-bulu', 'tapu-fini', 'cosmog', 'cosmoem', 'solgaleo', 'lunala', 'nihilego', 'buzzwole', 'pheromosa', 'xurkitree', 'celesteela', 'kartana', 'guzzlord', 'necrozma', 'magearna', 'marshadow', 'poipole', 'naganadel', 'stakataka', 'blacephalon', 'zeraora', 'meltan', 'melmetal', 'grookey', 'thwackey', 'rillaboom', 'scorbunny', 'raboot', 'cinderace', 'sobble', 'drizzile', 'inteleon', 'skwovet', 'greedent', 'rookidee', 'corvisquire', 'corviknight', 'blipbug', 'dottler', 'orbeetle', 'nickit', 'thievul', 'gossifleur', 'eldegoss', 'wooloo', 'dubwool', 'chewtle', 'drednaw', 'yamper', 'boltund', 'rolycoly', 'carkol', 'coalossal', 'applin', 'flapple', 'appletun', 'silicobra', 'sandaconda', 'cramorant', 'arrokuda', 'barraskewda', 'toxel', 'toxtricity', 'sizzlipede', 'centiskorch', 'clobbopus', 'grapploct', 'sinistea', 'polteageist', 'hatenna', 'hattrem', 'hatterene', 'impidimp', 'morgrem', 'grimmsnarl', 'obstagoon', 'perrserker', 'cursola', 'sirfetchd', 'mr-rime', 'runerigus', 'milcery', 'alcremie', 'falinks', 'pincurchin', 'snom', 'frosmoth', 'stonjourner', 'eiscue', 'indeedee', 'morpeko', 'cufant', 'copperajah', 'dracozolt', 'arctozolt', 'dracovish', 'arctovish', 'duraludon', 'dreepy', 'drakloak', 'dragapult', 'zacian', 'zamazenta', 'eternatus']\n"
     ]
    }
   ],
   "source": [
    "# Etape 3 : récupérer la liste des noms de pokémon\n",
    "\n",
    "liste_pokemon = []\n",
    "\n",
    "for pokemon in page.findAll('span', {'class': 'infocard-lg-img'}) :\n",
    "    pokemon = pokemon.find('a').get('href').replace(\"/pokedex/\",'')\n",
    "    liste_pokemon.append(pokemon)\n",
    "print(liste_pokemon)"
   ]
  },
  {
   "cell_type": "code",
   "execution_count": 28,
   "metadata": {},
   "outputs": [],
   "source": [
    "# Etape 4 : aller chercher mes Pokemon individuellement afin deremplir les 4 tableaux.\n",
    "# En partant de l'url :\n",
    "# https://pokemondb.net/pokedex/bulbasaur <<< lien commun à tous + nom pokemon\n",
    "\n",
    "def get_page(pokemon_name):\n",
    "    url_pokémons = 'http://pokemondb.net/pokedex/'+ pokemon_name    \n",
    "    url_pok = urllib.request.Request(url_pokémons, headers={'User-Agent': 'Mozilla/5.0'})\n",
    "    html = urllib.request.urlopen(url_pok).read()\n",
    "    return bs4.BeautifulSoup(html, \"lxml\")  "
   ]
  },
  {
   "cell_type": "markdown",
   "metadata": {},
   "source": [
    "$$\n",
    "\\begin{array}{rr} \\hline\n",
    "Balise  & \\text{Description} \\\\ \\hline\n",
    "< table> & \\text{Tableau} \\\\\n",
    "< caption>& \\text{Titre du tableau} \\\\\n",
    "< tr> & \\text{Ligne de tableau} \\\\\n",
    "< th> & \\text{Cellule d'en-tête}\\\\\n",
    "< td> & \\text{Cellule} \\\\\n",
    "< thead> & \\text{Section de l'en-tête du tableau} \\\\\n",
    "< tbody> & \\text{Section du corps du tableau} \\\\\n",
    "< tfoot> & \\text{Section du pied du tableau} \\\\\n",
    "\\end{array}\n",
    "$$"
   ]
  },
  {
   "cell_type": "code",
   "execution_count": 29,
   "metadata": {},
   "outputs": [],
   "source": [
    "# Etape 5 : Créer un tableau Pokédex data\n",
    "\n",
    "def Pokedex_data(pokemon_name):\n",
    "    page = get_page(pokemon_name) #fonction d'appel de mon pokemon \n",
    "    data = collections.defaultdict() #empêche les erreurs de clé . Toute clé qui n'existe pas obtiendra la valeur renvoyée par défaut.\n",
    "    \n",
    "    \n",
    "    for table in page.findAll('table', { 'class' : \"vitals-table\"})[0:4]  : #tableau\n",
    "        tableau = table.find('tbody') #sections du corps du tableau\n",
    "        for lignes in tableau.findChildren(['tr']) : #ligne tableau (sous-titres + valeurs)\n",
    "            if len(lignes) > 1 : \n",
    "                cellules = lignes.findChild('th').getText() #cellules des \"titres\"\n",
    "                cellules_valeurs = lignes.findChild('td').getText() #cellule des valeurs correspondant aux titres\n",
    "                cellules_valeurs = cellules_valeurs.replace('\\t','').replace('\\n',' ')\n",
    "                data[cellules] = cellules_valeurs\n",
    "                data['name'] = pokemon_name                \n",
    "    return dict(data)\n",
    "\n",
    "\n"
   ]
  },
  {
   "cell_type": "code",
   "execution_count": 30,
   "metadata": {},
   "outputs": [
    {
     "name": "stdout",
     "output_type": "stream",
     "text": [
      "0 bulbasaur\n",
      "1 ivysaur\n",
      "2 venusaur\n",
      "3 charmander\n",
      "4 charmeleon\n",
      "5 charizard\n",
      "6 squirtle\n",
      "7 wartortle\n",
      "8 blastoise\n",
      "9 caterpie\n",
      "10 metapod\n",
      "11 butterfree\n"
     ]
    },
    {
     "data": {
      "text/html": [
       "<div>\n",
       "<style scoped>\n",
       "    .dataframe tbody tr th:only-of-type {\n",
       "        vertical-align: middle;\n",
       "    }\n",
       "\n",
       "    .dataframe tbody tr th {\n",
       "        vertical-align: top;\n",
       "    }\n",
       "\n",
       "    .dataframe thead th {\n",
       "        text-align: right;\n",
       "    }\n",
       "</style>\n",
       "<table border=\"1\" class=\"dataframe\">\n",
       "  <thead>\n",
       "    <tr style=\"text-align: right;\">\n",
       "      <th></th>\n",
       "      <th>National №</th>\n",
       "      <th>name</th>\n",
       "      <th>Type</th>\n",
       "      <th>Species</th>\n",
       "      <th>Height</th>\n",
       "      <th>Weight</th>\n",
       "      <th>Abilities</th>\n",
       "      <th>Local №</th>\n",
       "      <th>EV yield</th>\n",
       "      <th>Catch rate</th>\n",
       "      <th>...</th>\n",
       "      <th>Growth Rate</th>\n",
       "      <th>Egg Groups</th>\n",
       "      <th>Gender</th>\n",
       "      <th>Egg cycles</th>\n",
       "      <th>HP</th>\n",
       "      <th>Attack</th>\n",
       "      <th>Defense</th>\n",
       "      <th>Sp. Atk</th>\n",
       "      <th>Sp. Def</th>\n",
       "      <th>Speed</th>\n",
       "    </tr>\n",
       "  </thead>\n",
       "  <tbody>\n",
       "    <tr>\n",
       "      <td>0</td>\n",
       "      <td>001</td>\n",
       "      <td>bulbasaur</td>\n",
       "      <td>Grass Poison</td>\n",
       "      <td>Seed Pokémon</td>\n",
       "      <td>0.7 m (2′04″)</td>\n",
       "      <td>6.9 kg (15.2 lbs)</td>\n",
       "      <td>1. OvergrowChlorophyll (hidden ability)</td>\n",
       "      <td>001 (Red/Blue/Yellow)226 (Gold/Silver/Crystal)...</td>\n",
       "      <td>1 Special Attack</td>\n",
       "      <td>45 (5.9% with PokéBall, full HP)</td>\n",
       "      <td>...</td>\n",
       "      <td>Medium Slow</td>\n",
       "      <td>Grass, Monster</td>\n",
       "      <td>87.5% male, 12.5% female</td>\n",
       "      <td>20 (4,884–5,140 steps)</td>\n",
       "      <td>45</td>\n",
       "      <td>49</td>\n",
       "      <td>49</td>\n",
       "      <td>65</td>\n",
       "      <td>65</td>\n",
       "      <td>45</td>\n",
       "    </tr>\n",
       "    <tr>\n",
       "      <td>1</td>\n",
       "      <td>002</td>\n",
       "      <td>ivysaur</td>\n",
       "      <td>Grass Poison</td>\n",
       "      <td>Seed Pokémon</td>\n",
       "      <td>1.0 m (3′03″)</td>\n",
       "      <td>13.0 kg (28.7 lbs)</td>\n",
       "      <td>1. OvergrowChlorophyll (hidden ability)</td>\n",
       "      <td>002 (Red/Blue/Yellow)227 (Gold/Silver/Crystal)...</td>\n",
       "      <td>1 Special Attack, 1 Special Defense</td>\n",
       "      <td>45 (5.9% with PokéBall, full HP)</td>\n",
       "      <td>...</td>\n",
       "      <td>Medium Slow</td>\n",
       "      <td>Grass, Monster</td>\n",
       "      <td>87.5% male, 12.5% female</td>\n",
       "      <td>20 (4,884–5,140 steps)</td>\n",
       "      <td>60</td>\n",
       "      <td>62</td>\n",
       "      <td>63</td>\n",
       "      <td>80</td>\n",
       "      <td>80</td>\n",
       "      <td>60</td>\n",
       "    </tr>\n",
       "    <tr>\n",
       "      <td>2</td>\n",
       "      <td>003</td>\n",
       "      <td>venusaur</td>\n",
       "      <td>Grass Poison</td>\n",
       "      <td>Seed Pokémon</td>\n",
       "      <td>2.0 m (6′07″)</td>\n",
       "      <td>100.0 kg (220.5 lbs)</td>\n",
       "      <td>1. OvergrowChlorophyll (hidden ability)</td>\n",
       "      <td>003 (Red/Blue/Yellow)228 (Gold/Silver/Crystal)...</td>\n",
       "      <td>2 Special Attack, 1 Special Defense</td>\n",
       "      <td>45 (5.9% with PokéBall, full HP)</td>\n",
       "      <td>...</td>\n",
       "      <td>Medium Slow</td>\n",
       "      <td>Grass, Monster</td>\n",
       "      <td>87.5% male, 12.5% female</td>\n",
       "      <td>20 (4,884–5,140 steps)</td>\n",
       "      <td>80</td>\n",
       "      <td>82</td>\n",
       "      <td>83</td>\n",
       "      <td>100</td>\n",
       "      <td>100</td>\n",
       "      <td>80</td>\n",
       "    </tr>\n",
       "    <tr>\n",
       "      <td>3</td>\n",
       "      <td>004</td>\n",
       "      <td>charmander</td>\n",
       "      <td>Fire</td>\n",
       "      <td>Lizard Pokémon</td>\n",
       "      <td>0.6 m (2′00″)</td>\n",
       "      <td>8.5 kg (18.7 lbs)</td>\n",
       "      <td>1. BlazeSolar Power (hidden ability)</td>\n",
       "      <td>004 (Red/Blue/Yellow)229 (Gold/Silver/Crystal)...</td>\n",
       "      <td>1 Speed</td>\n",
       "      <td>45 (5.9% with PokéBall, full HP)</td>\n",
       "      <td>...</td>\n",
       "      <td>Medium Slow</td>\n",
       "      <td>Dragon, Monster</td>\n",
       "      <td>87.5% male, 12.5% female</td>\n",
       "      <td>20 (4,884–5,140 steps)</td>\n",
       "      <td>39</td>\n",
       "      <td>52</td>\n",
       "      <td>43</td>\n",
       "      <td>60</td>\n",
       "      <td>50</td>\n",
       "      <td>65</td>\n",
       "    </tr>\n",
       "    <tr>\n",
       "      <td>4</td>\n",
       "      <td>005</td>\n",
       "      <td>charmeleon</td>\n",
       "      <td>Fire</td>\n",
       "      <td>Flame Pokémon</td>\n",
       "      <td>1.1 m (3′07″)</td>\n",
       "      <td>19.0 kg (41.9 lbs)</td>\n",
       "      <td>1. BlazeSolar Power (hidden ability)</td>\n",
       "      <td>005 (Red/Blue/Yellow)230 (Gold/Silver/Crystal)...</td>\n",
       "      <td>1 Special Attack, 1 Speed</td>\n",
       "      <td>45 (5.9% with PokéBall, full HP)</td>\n",
       "      <td>...</td>\n",
       "      <td>Medium Slow</td>\n",
       "      <td>Dragon, Monster</td>\n",
       "      <td>87.5% male, 12.5% female</td>\n",
       "      <td>20 (4,884–5,140 steps)</td>\n",
       "      <td>58</td>\n",
       "      <td>64</td>\n",
       "      <td>58</td>\n",
       "      <td>80</td>\n",
       "      <td>65</td>\n",
       "      <td>80</td>\n",
       "    </tr>\n",
       "  </tbody>\n",
       "</table>\n",
       "<p>5 rows × 22 columns</p>\n",
       "</div>"
      ],
      "text/plain": [
       "  National №        name            Type         Species         Height  \\\n",
       "0        001   bulbasaur   Grass Poison     Seed Pokémon  0.7 m (2′04″)   \n",
       "1        002     ivysaur   Grass Poison     Seed Pokémon  1.0 m (3′03″)   \n",
       "2        003    venusaur   Grass Poison     Seed Pokémon  2.0 m (6′07″)   \n",
       "3        004  charmander           Fire   Lizard Pokémon  0.6 m (2′00″)   \n",
       "4        005  charmeleon           Fire    Flame Pokémon  1.1 m (3′07″)   \n",
       "\n",
       "                 Weight                                Abilities  \\\n",
       "0     6.9 kg (15.2 lbs)  1. OvergrowChlorophyll (hidden ability)   \n",
       "1    13.0 kg (28.7 lbs)  1. OvergrowChlorophyll (hidden ability)   \n",
       "2  100.0 kg (220.5 lbs)  1. OvergrowChlorophyll (hidden ability)   \n",
       "3     8.5 kg (18.7 lbs)     1. BlazeSolar Power (hidden ability)   \n",
       "4    19.0 kg (41.9 lbs)     1. BlazeSolar Power (hidden ability)   \n",
       "\n",
       "                                             Local №  \\\n",
       "0  001 (Red/Blue/Yellow)226 (Gold/Silver/Crystal)...   \n",
       "1  002 (Red/Blue/Yellow)227 (Gold/Silver/Crystal)...   \n",
       "2  003 (Red/Blue/Yellow)228 (Gold/Silver/Crystal)...   \n",
       "3  004 (Red/Blue/Yellow)229 (Gold/Silver/Crystal)...   \n",
       "4  005 (Red/Blue/Yellow)230 (Gold/Silver/Crystal)...   \n",
       "\n",
       "                                EV yield                        Catch rate  \\\n",
       "0                      1 Special Attack   45 (5.9% with PokéBall, full HP)   \n",
       "1   1 Special Attack, 1 Special Defense   45 (5.9% with PokéBall, full HP)   \n",
       "2   2 Special Attack, 1 Special Defense   45 (5.9% with PokéBall, full HP)   \n",
       "3                               1 Speed   45 (5.9% with PokéBall, full HP)   \n",
       "4             1 Special Attack, 1 Speed   45 (5.9% with PokéBall, full HP)   \n",
       "\n",
       "   ...  Growth Rate         Egg Groups                    Gender  \\\n",
       "0  ...  Medium Slow    Grass, Monster   87.5% male, 12.5% female   \n",
       "1  ...  Medium Slow    Grass, Monster   87.5% male, 12.5% female   \n",
       "2  ...  Medium Slow    Grass, Monster   87.5% male, 12.5% female   \n",
       "3  ...  Medium Slow   Dragon, Monster   87.5% male, 12.5% female   \n",
       "4  ...  Medium Slow   Dragon, Monster   87.5% male, 12.5% female   \n",
       "\n",
       "                Egg cycles  HP Attack Defense Sp. Atk Sp. Def Speed  \n",
       "0  20 (4,884–5,140 steps)   45     49      49      65      65    45  \n",
       "1  20 (4,884–5,140 steps)   60     62      63      80      80    60  \n",
       "2  20 (4,884–5,140 steps)   80     82      83     100     100    80  \n",
       "3  20 (4,884–5,140 steps)   39     52      43      60      50    65  \n",
       "4  20 (4,884–5,140 steps)   58     64      58      80      65    80  \n",
       "\n",
       "[5 rows x 22 columns]"
      ]
     },
     "execution_count": 30,
     "metadata": {},
     "output_type": "execute_result"
    }
   ],
   "source": [
    "items = []\n",
    "for e, pokemon in enumerate(liste_pokemon) :\n",
    "    print(e, pokemon)\n",
    "    item = Pokedex_data(pokemon)\n",
    "    items.append(item)\n",
    "    if e > 10:\n",
    "        break\n",
    "df = pd.DataFrame(items)\n",
    "df.head()"
   ]
  },
  {
   "cell_type": "code",
   "execution_count": 31,
   "metadata": {},
   "outputs": [
    {
     "data": {
      "text/html": [
       "<div>\n",
       "<style scoped>\n",
       "    .dataframe tbody tr th:only-of-type {\n",
       "        vertical-align: middle;\n",
       "    }\n",
       "\n",
       "    .dataframe tbody tr th {\n",
       "        vertical-align: top;\n",
       "    }\n",
       "\n",
       "    .dataframe thead th {\n",
       "        text-align: right;\n",
       "    }\n",
       "</style>\n",
       "<table border=\"1\" class=\"dataframe\">\n",
       "  <thead>\n",
       "    <tr style=\"text-align: right;\">\n",
       "      <th></th>\n",
       "      <th>name</th>\n",
       "      <th>National №</th>\n",
       "      <th>Base Exp.</th>\n",
       "    </tr>\n",
       "  </thead>\n",
       "  <tbody>\n",
       "    <tr>\n",
       "      <td>0</td>\n",
       "      <td>bulbasaur</td>\n",
       "      <td>001</td>\n",
       "      <td>64</td>\n",
       "    </tr>\n",
       "    <tr>\n",
       "      <td>1</td>\n",
       "      <td>ivysaur</td>\n",
       "      <td>002</td>\n",
       "      <td>142</td>\n",
       "    </tr>\n",
       "    <tr>\n",
       "      <td>2</td>\n",
       "      <td>venusaur</td>\n",
       "      <td>003</td>\n",
       "      <td>236</td>\n",
       "    </tr>\n",
       "    <tr>\n",
       "      <td>3</td>\n",
       "      <td>charmander</td>\n",
       "      <td>004</td>\n",
       "      <td>62</td>\n",
       "    </tr>\n",
       "    <tr>\n",
       "      <td>4</td>\n",
       "      <td>charmeleon</td>\n",
       "      <td>005</td>\n",
       "      <td>142</td>\n",
       "    </tr>\n",
       "  </tbody>\n",
       "</table>\n",
       "</div>"
      ],
      "text/plain": [
       "         name National № Base Exp.\n",
       "0   bulbasaur        001        64\n",
       "1     ivysaur        002       142\n",
       "2    venusaur        003       236\n",
       "3  charmander        004        62\n",
       "4  charmeleon        005       142"
      ]
     },
     "execution_count": 31,
     "metadata": {},
     "output_type": "execute_result"
    }
   ],
   "source": [
    "dfok = df[[\"name\", \"National №\", \"Base Exp.\"]]\n",
    "dfok.head()"
   ]
  },
  {
   "cell_type": "code",
   "execution_count": 32,
   "metadata": {},
   "outputs": [],
   "source": [
    "#df2 = df.cumsum(axis = 'columns')"
   ]
  },
  {
   "cell_type": "code",
   "execution_count": 33,
   "metadata": {},
   "outputs": [],
   "source": [
    "#df2"
   ]
  },
  {
   "cell_type": "code",
   "execution_count": 34,
   "metadata": {},
   "outputs": [],
   "source": [
    "#df.append(df.sum(numeric_only=True), ignore_index=True).head()\n",
    "#df.append(df.sum(numeric_only=True), ignore_index=True).rename('Total')"
   ]
  },
  {
   "cell_type": "code",
   "execution_count": 35,
   "metadata": {},
   "outputs": [],
   "source": [
    "#import numpy as np\n",
    "#total = df.apply(np.sum)\n",
    "#total['HP','Attack','Defense','Sp. Atk', 'Sp. Def','Speed'] = 'tot'\n",
    "#df.append(pd.DataFrame(total.values, index=total.keys()).T, ignore_index=True).head(2)"
   ]
  },
  {
   "cell_type": "code",
   "execution_count": 36,
   "metadata": {},
   "outputs": [
    {
     "data": {
      "text/html": [
       "<div>\n",
       "<style scoped>\n",
       "    .dataframe tbody tr th:only-of-type {\n",
       "        vertical-align: middle;\n",
       "    }\n",
       "\n",
       "    .dataframe tbody tr th {\n",
       "        vertical-align: top;\n",
       "    }\n",
       "\n",
       "    .dataframe thead th {\n",
       "        text-align: right;\n",
       "    }\n",
       "</style>\n",
       "<table border=\"1\" class=\"dataframe\">\n",
       "  <thead>\n",
       "    <tr style=\"text-align: right;\">\n",
       "      <th></th>\n",
       "      <th>HP</th>\n",
       "      <th>Attack</th>\n",
       "      <th>Defense</th>\n",
       "      <th>Sp. Atk</th>\n",
       "      <th>Sp. Def</th>\n",
       "      <th>Speed</th>\n",
       "    </tr>\n",
       "  </thead>\n",
       "  <tbody>\n",
       "    <tr>\n",
       "      <td>0</td>\n",
       "      <td>45</td>\n",
       "      <td>49</td>\n",
       "      <td>49</td>\n",
       "      <td>65</td>\n",
       "      <td>65</td>\n",
       "      <td>45</td>\n",
       "    </tr>\n",
       "    <tr>\n",
       "      <td>1</td>\n",
       "      <td>60</td>\n",
       "      <td>62</td>\n",
       "      <td>63</td>\n",
       "      <td>80</td>\n",
       "      <td>80</td>\n",
       "      <td>60</td>\n",
       "    </tr>\n",
       "    <tr>\n",
       "      <td>2</td>\n",
       "      <td>80</td>\n",
       "      <td>82</td>\n",
       "      <td>83</td>\n",
       "      <td>100</td>\n",
       "      <td>100</td>\n",
       "      <td>80</td>\n",
       "    </tr>\n",
       "    <tr>\n",
       "      <td>3</td>\n",
       "      <td>39</td>\n",
       "      <td>52</td>\n",
       "      <td>43</td>\n",
       "      <td>60</td>\n",
       "      <td>50</td>\n",
       "      <td>65</td>\n",
       "    </tr>\n",
       "    <tr>\n",
       "      <td>4</td>\n",
       "      <td>58</td>\n",
       "      <td>64</td>\n",
       "      <td>58</td>\n",
       "      <td>80</td>\n",
       "      <td>65</td>\n",
       "      <td>80</td>\n",
       "    </tr>\n",
       "  </tbody>\n",
       "</table>\n",
       "</div>"
      ],
      "text/plain": [
       "   HP Attack Defense Sp. Atk Sp. Def Speed\n",
       "0  45     49      49      65      65    45\n",
       "1  60     62      63      80      80    60\n",
       "2  80     82      83     100     100    80\n",
       "3  39     52      43      60      50    65\n",
       "4  58     64      58      80      65    80"
      ]
     },
     "execution_count": 36,
     "metadata": {},
     "output_type": "execute_result"
    }
   ],
   "source": [
    "dftotal = df[['HP','Attack','Defense','Sp. Atk', 'Sp. Def','Speed']]\n",
    "dftotal.head()"
   ]
  },
  {
   "cell_type": "code",
   "execution_count": 37,
   "metadata": {},
   "outputs": [
    {
     "data": {
      "text/plain": [
       "(12, 6)"
      ]
     },
     "execution_count": 37,
     "metadata": {},
     "output_type": "execute_result"
    }
   ],
   "source": [
    "np.shape(dftotal)"
   ]
  },
  {
   "cell_type": "code",
   "execution_count": 38,
   "metadata": {},
   "outputs": [
    {
     "data": {
      "text/plain": [
       "HP         object\n",
       "Attack     object\n",
       "Defense    object\n",
       "Sp. Atk    object\n",
       "Sp. Def    object\n",
       "Speed      object\n",
       "dtype: object"
      ]
     },
     "execution_count": 38,
     "metadata": {},
     "output_type": "execute_result"
    }
   ],
   "source": [
    "dftotal.dtypes"
   ]
  },
  {
   "cell_type": "code",
   "execution_count": 39,
   "metadata": {},
   "outputs": [
    {
     "data": {
      "text/plain": [
       "str"
      ]
     },
     "execution_count": 39,
     "metadata": {},
     "output_type": "execute_result"
    }
   ],
   "source": [
    "type(dftotal[\"HP\"][0])"
   ]
  },
  {
   "cell_type": "code",
   "execution_count": 40,
   "metadata": {},
   "outputs": [
    {
     "data": {
      "text/plain": [
       "str"
      ]
     },
     "execution_count": 40,
     "metadata": {},
     "output_type": "execute_result"
    }
   ],
   "source": [
    "type(dftotal[\"Attack\"][0])"
   ]
  },
  {
   "cell_type": "code",
   "execution_count": 41,
   "metadata": {},
   "outputs": [
    {
     "data": {
      "text/plain": [
       "str"
      ]
     },
     "execution_count": 41,
     "metadata": {},
     "output_type": "execute_result"
    }
   ],
   "source": [
    "type(dftotal[\"Sp. Atk\"][0])"
   ]
  },
  {
   "cell_type": "code",
   "execution_count": 42,
   "metadata": {},
   "outputs": [
    {
     "data": {
      "text/plain": [
       "HP         object\n",
       "Attack     object\n",
       "Defense    object\n",
       "Sp. Atk    object\n",
       "Sp. Def    object\n",
       "Speed      object\n",
       "dtype: object"
      ]
     },
     "execution_count": 42,
     "metadata": {},
     "output_type": "execute_result"
    }
   ],
   "source": [
    "dftotal.dtypes"
   ]
  },
  {
   "cell_type": "code",
   "execution_count": 75,
   "metadata": {},
   "outputs": [
    {
     "name": "stdout",
     "output_type": "stream",
     "text": [
      "    HP Attack Defense Sp. Atk Sp. Def Speed\n",
      "0   45     49      49      65      65    45\n",
      "1   60     62      63      80      80    60\n",
      "2   80     82      83     100     100    80\n",
      "3   39     52      43      60      50    65\n",
      "4   58     64      58      80      65    80\n",
      "5   78     84      78     109      85   100\n",
      "6   44     48      65      50      64    43\n",
      "7   59     63      80      65      80    58\n",
      "8   79     83     100      85     105    78\n",
      "9   45     30      35      20      20    45\n",
      "10  50     20      55      25      25    30\n",
      "11  60     45      50      90      80    70\n"
     ]
    },
    {
     "ename": "KeyError",
     "evalue": "'object'",
     "output_type": "error",
     "traceback": [
      "\u001b[1;31m---------------------------------------------------------------------------\u001b[0m",
      "\u001b[1;31mTypeError\u001b[0m                                 Traceback (most recent call last)",
      "\u001b[1;32m~\\Anaconda3\\lib\\site-packages\\pandas\\core\\indexes\\base.py\u001b[0m in \u001b[0;36mget_value\u001b[1;34m(self, series, key)\u001b[0m\n\u001b[0;32m   4735\u001b[0m             \u001b[1;32mtry\u001b[0m\u001b[1;33m:\u001b[0m\u001b[1;33m\u001b[0m\u001b[1;33m\u001b[0m\u001b[0m\n\u001b[1;32m-> 4736\u001b[1;33m                 \u001b[1;32mreturn\u001b[0m \u001b[0mlibindex\u001b[0m\u001b[1;33m.\u001b[0m\u001b[0mget_value_box\u001b[0m\u001b[1;33m(\u001b[0m\u001b[0ms\u001b[0m\u001b[1;33m,\u001b[0m \u001b[0mkey\u001b[0m\u001b[1;33m)\u001b[0m\u001b[1;33m\u001b[0m\u001b[1;33m\u001b[0m\u001b[0m\n\u001b[0m\u001b[0;32m   4737\u001b[0m             \u001b[1;32mexcept\u001b[0m \u001b[0mIndexError\u001b[0m\u001b[1;33m:\u001b[0m\u001b[1;33m\u001b[0m\u001b[1;33m\u001b[0m\u001b[0m\n",
      "\u001b[1;32mpandas\\_libs\\index.pyx\u001b[0m in \u001b[0;36mpandas._libs.index.get_value_box\u001b[1;34m()\u001b[0m\n",
      "\u001b[1;32mpandas\\_libs\\index.pyx\u001b[0m in \u001b[0;36mpandas._libs.index.get_value_at\u001b[1;34m()\u001b[0m\n",
      "\u001b[1;32mpandas\\_libs\\util.pxd\u001b[0m in \u001b[0;36mpandas._libs.util.get_value_at\u001b[1;34m()\u001b[0m\n",
      "\u001b[1;32mpandas\\_libs\\util.pxd\u001b[0m in \u001b[0;36mpandas._libs.util.validate_indexer\u001b[1;34m()\u001b[0m\n",
      "\u001b[1;31mTypeError\u001b[0m: 'str' object cannot be interpreted as an integer",
      "\nDuring handling of the above exception, another exception occurred:\n",
      "\u001b[1;31mKeyError\u001b[0m                                  Traceback (most recent call last)",
      "\u001b[1;32m<ipython-input-75-4d9d8e151bae>\u001b[0m in \u001b[0;36m<module>\u001b[1;34m\u001b[0m\n\u001b[0;32m      7\u001b[0m \u001b[1;33m\u001b[0m\u001b[0m\n\u001b[0;32m      8\u001b[0m \u001b[1;32mfor\u001b[0m \u001b[0mi\u001b[0m\u001b[1;33m,\u001b[0m \u001b[0mrow\u001b[0m \u001b[1;32min\u001b[0m \u001b[0mcolTypes\u001b[0m\u001b[1;33m.\u001b[0m\u001b[0miterrows\u001b[0m\u001b[1;33m(\u001b[0m\u001b[1;33m)\u001b[0m\u001b[1;33m:\u001b[0m  \u001b[1;31m# i: dataframe index; row: chaque ligne (row) au format series\u001b[0m\u001b[1;33m\u001b[0m\u001b[1;33m\u001b[0m\u001b[0m\n\u001b[1;32m----> 9\u001b[1;33m     \u001b[1;32mif\u001b[0m \u001b[0mrow\u001b[0m\u001b[1;33m[\u001b[0m\u001b[1;34m'object'\u001b[0m\u001b[1;33m]\u001b[0m\u001b[1;33m==\u001b[0m\u001b[1;34m\"categorical\"\u001b[0m\u001b[1;33m:\u001b[0m\u001b[1;33m\u001b[0m\u001b[1;33m\u001b[0m\u001b[0m\n\u001b[0m\u001b[0;32m     10\u001b[0m         \u001b[0mdftotal\u001b[0m\u001b[1;33m[\u001b[0m\u001b[0mrow\u001b[0m\u001b[1;33m[\u001b[0m\u001b[1;34m'HP'\u001b[0m\u001b[1;33m]\u001b[0m\u001b[1;33m]\u001b[0m\u001b[1;33m=\u001b[0m\u001b[0mdftotala\u001b[0m\u001b[1;33m[\u001b[0m\u001b[0mrow\u001b[0m\u001b[1;33m[\u001b[0m\u001b[1;34m'feature'\u001b[0m\u001b[1;33m]\u001b[0m\u001b[1;33m]\u001b[0m\u001b[1;33m.\u001b[0m\u001b[0mastype\u001b[0m\u001b[1;33m(\u001b[0m\u001b[0mnp\u001b[0m\u001b[1;33m.\u001b[0m\u001b[0mobject\u001b[0m\u001b[1;33m)\u001b[0m\u001b[1;33m\u001b[0m\u001b[1;33m\u001b[0m\u001b[0m\n\u001b[0;32m     11\u001b[0m     \u001b[1;32melif\u001b[0m \u001b[0mrow\u001b[0m\u001b[1;33m[\u001b[0m\u001b[1;34m'object'\u001b[0m\u001b[1;33m]\u001b[0m\u001b[1;33m==\u001b[0m\u001b[1;34m\"continuous\"\u001b[0m\u001b[1;33m:\u001b[0m\u001b[1;33m\u001b[0m\u001b[1;33m\u001b[0m\u001b[0m\n",
      "\u001b[1;32m~\\Anaconda3\\lib\\site-packages\\pandas\\core\\series.py\u001b[0m in \u001b[0;36m__getitem__\u001b[1;34m(self, key)\u001b[0m\n\u001b[0;32m   1066\u001b[0m         \u001b[0mkey\u001b[0m \u001b[1;33m=\u001b[0m \u001b[0mcom\u001b[0m\u001b[1;33m.\u001b[0m\u001b[0mapply_if_callable\u001b[0m\u001b[1;33m(\u001b[0m\u001b[0mkey\u001b[0m\u001b[1;33m,\u001b[0m \u001b[0mself\u001b[0m\u001b[1;33m)\u001b[0m\u001b[1;33m\u001b[0m\u001b[1;33m\u001b[0m\u001b[0m\n\u001b[0;32m   1067\u001b[0m         \u001b[1;32mtry\u001b[0m\u001b[1;33m:\u001b[0m\u001b[1;33m\u001b[0m\u001b[1;33m\u001b[0m\u001b[0m\n\u001b[1;32m-> 1068\u001b[1;33m             \u001b[0mresult\u001b[0m \u001b[1;33m=\u001b[0m \u001b[0mself\u001b[0m\u001b[1;33m.\u001b[0m\u001b[0mindex\u001b[0m\u001b[1;33m.\u001b[0m\u001b[0mget_value\u001b[0m\u001b[1;33m(\u001b[0m\u001b[0mself\u001b[0m\u001b[1;33m,\u001b[0m \u001b[0mkey\u001b[0m\u001b[1;33m)\u001b[0m\u001b[1;33m\u001b[0m\u001b[1;33m\u001b[0m\u001b[0m\n\u001b[0m\u001b[0;32m   1069\u001b[0m \u001b[1;33m\u001b[0m\u001b[0m\n\u001b[0;32m   1070\u001b[0m             \u001b[1;32mif\u001b[0m \u001b[1;32mnot\u001b[0m \u001b[0mis_scalar\u001b[0m\u001b[1;33m(\u001b[0m\u001b[0mresult\u001b[0m\u001b[1;33m)\u001b[0m\u001b[1;33m:\u001b[0m\u001b[1;33m\u001b[0m\u001b[1;33m\u001b[0m\u001b[0m\n",
      "\u001b[1;32m~\\Anaconda3\\lib\\site-packages\\pandas\\core\\indexes\\base.py\u001b[0m in \u001b[0;36mget_value\u001b[1;34m(self, series, key)\u001b[0m\n\u001b[0;32m   4742\u001b[0m                     \u001b[1;32mraise\u001b[0m \u001b[0mInvalidIndexError\u001b[0m\u001b[1;33m(\u001b[0m\u001b[0mkey\u001b[0m\u001b[1;33m)\u001b[0m\u001b[1;33m\u001b[0m\u001b[1;33m\u001b[0m\u001b[0m\n\u001b[0;32m   4743\u001b[0m                 \u001b[1;32melse\u001b[0m\u001b[1;33m:\u001b[0m\u001b[1;33m\u001b[0m\u001b[1;33m\u001b[0m\u001b[0m\n\u001b[1;32m-> 4744\u001b[1;33m                     \u001b[1;32mraise\u001b[0m \u001b[0me1\u001b[0m\u001b[1;33m\u001b[0m\u001b[1;33m\u001b[0m\u001b[0m\n\u001b[0m\u001b[0;32m   4745\u001b[0m             \u001b[1;32mexcept\u001b[0m \u001b[0mException\u001b[0m\u001b[1;33m:\u001b[0m  \u001b[1;31m# pragma: no cover\u001b[0m\u001b[1;33m\u001b[0m\u001b[1;33m\u001b[0m\u001b[0m\n\u001b[0;32m   4746\u001b[0m                 \u001b[1;32mraise\u001b[0m \u001b[0me1\u001b[0m\u001b[1;33m\u001b[0m\u001b[1;33m\u001b[0m\u001b[0m\n",
      "\u001b[1;32m~\\Anaconda3\\lib\\site-packages\\pandas\\core\\indexes\\base.py\u001b[0m in \u001b[0;36mget_value\u001b[1;34m(self, series, key)\u001b[0m\n\u001b[0;32m   4728\u001b[0m         \u001b[0mk\u001b[0m \u001b[1;33m=\u001b[0m \u001b[0mself\u001b[0m\u001b[1;33m.\u001b[0m\u001b[0m_convert_scalar_indexer\u001b[0m\u001b[1;33m(\u001b[0m\u001b[0mk\u001b[0m\u001b[1;33m,\u001b[0m \u001b[0mkind\u001b[0m\u001b[1;33m=\u001b[0m\u001b[1;34m\"getitem\"\u001b[0m\u001b[1;33m)\u001b[0m\u001b[1;33m\u001b[0m\u001b[1;33m\u001b[0m\u001b[0m\n\u001b[0;32m   4729\u001b[0m         \u001b[1;32mtry\u001b[0m\u001b[1;33m:\u001b[0m\u001b[1;33m\u001b[0m\u001b[1;33m\u001b[0m\u001b[0m\n\u001b[1;32m-> 4730\u001b[1;33m             \u001b[1;32mreturn\u001b[0m \u001b[0mself\u001b[0m\u001b[1;33m.\u001b[0m\u001b[0m_engine\u001b[0m\u001b[1;33m.\u001b[0m\u001b[0mget_value\u001b[0m\u001b[1;33m(\u001b[0m\u001b[0ms\u001b[0m\u001b[1;33m,\u001b[0m \u001b[0mk\u001b[0m\u001b[1;33m,\u001b[0m \u001b[0mtz\u001b[0m\u001b[1;33m=\u001b[0m\u001b[0mgetattr\u001b[0m\u001b[1;33m(\u001b[0m\u001b[0mseries\u001b[0m\u001b[1;33m.\u001b[0m\u001b[0mdtype\u001b[0m\u001b[1;33m,\u001b[0m \u001b[1;34m\"tz\"\u001b[0m\u001b[1;33m,\u001b[0m \u001b[1;32mNone\u001b[0m\u001b[1;33m)\u001b[0m\u001b[1;33m)\u001b[0m\u001b[1;33m\u001b[0m\u001b[1;33m\u001b[0m\u001b[0m\n\u001b[0m\u001b[0;32m   4731\u001b[0m         \u001b[1;32mexcept\u001b[0m \u001b[0mKeyError\u001b[0m \u001b[1;32mas\u001b[0m \u001b[0me1\u001b[0m\u001b[1;33m:\u001b[0m\u001b[1;33m\u001b[0m\u001b[1;33m\u001b[0m\u001b[0m\n\u001b[0;32m   4732\u001b[0m             \u001b[1;32mif\u001b[0m \u001b[0mlen\u001b[0m\u001b[1;33m(\u001b[0m\u001b[0mself\u001b[0m\u001b[1;33m)\u001b[0m \u001b[1;33m>\u001b[0m \u001b[1;36m0\u001b[0m \u001b[1;32mand\u001b[0m \u001b[1;33m(\u001b[0m\u001b[0mself\u001b[0m\u001b[1;33m.\u001b[0m\u001b[0mholds_integer\u001b[0m\u001b[1;33m(\u001b[0m\u001b[1;33m)\u001b[0m \u001b[1;32mor\u001b[0m \u001b[0mself\u001b[0m\u001b[1;33m.\u001b[0m\u001b[0mis_boolean\u001b[0m\u001b[1;33m(\u001b[0m\u001b[1;33m)\u001b[0m\u001b[1;33m)\u001b[0m\u001b[1;33m:\u001b[0m\u001b[1;33m\u001b[0m\u001b[1;33m\u001b[0m\u001b[0m\n",
      "\u001b[1;32mpandas\\_libs\\index.pyx\u001b[0m in \u001b[0;36mpandas._libs.index.IndexEngine.get_value\u001b[1;34m()\u001b[0m\n",
      "\u001b[1;32mpandas\\_libs\\index.pyx\u001b[0m in \u001b[0;36mpandas._libs.index.IndexEngine.get_value\u001b[1;34m()\u001b[0m\n",
      "\u001b[1;32mpandas\\_libs\\index.pyx\u001b[0m in \u001b[0;36mpandas._libs.index.IndexEngine.get_loc\u001b[1;34m()\u001b[0m\n",
      "\u001b[1;32mpandas\\_libs\\hashtable_class_helper.pxi\u001b[0m in \u001b[0;36mpandas._libs.hashtable.PyObjectHashTable.get_item\u001b[1;34m()\u001b[0m\n",
      "\u001b[1;32mpandas\\_libs\\hashtable_class_helper.pxi\u001b[0m in \u001b[0;36mpandas._libs.hashtable.PyObjectHashTable.get_item\u001b[1;34m()\u001b[0m\n",
      "\u001b[1;31mKeyError\u001b[0m: 'object'"
     ]
    }
   ],
   "source": [
    "# Lecture du fichier:\n",
    "colTypes = dftotal\n",
    "print(colTypes)\n",
    "\n",
    "# Itérer à travers chaque ligne et assigner le type de variable\n",
    "# Remarque: astype est utilisé pour assigner des types\n",
    "\n",
    "for i, row in colTypes.iterrows():  # i: dataframe index; row: chaque ligne (row) au format series\n",
    "    if row['object']==\"categorical\":\n",
    "        dftotal[row['HP']]=dftotala[row['feature']].astype(np.object)\n",
    "    elif row['object']==\"continuous\":\n",
    "        dftotal[row['HP']]=dftotal[row['feature']].astype(np.float)\n",
    "print(dftotal.dtypes)"
   ]
  },
  {
   "cell_type": "code",
   "execution_count": null,
   "metadata": {},
   "outputs": [],
   "source": [
    "dftotal.dtypes"
   ]
  },
  {
   "cell_type": "code",
   "execution_count": 44,
   "metadata": {},
   "outputs": [
    {
     "data": {
      "text/plain": [
       "str"
      ]
     },
     "execution_count": 44,
     "metadata": {},
     "output_type": "execute_result"
    }
   ],
   "source": [
    "type(dftotal[\"HP\"][0])"
   ]
  },
  {
   "cell_type": "raw",
   "metadata": {},
   "source": [
    "#calcul somme ligne du dftotal pour avoir la colonne \"total\"\n",
    "\n",
    "\n",
    "import numpy as np\n",
    "import pandas as pd\n",
    "\n",
    "\n",
    "#dftotal.loc['Column_Total']= dftotal.sum( axis=0)\n",
    "dftotal.loc[:,'Row_Total'] = dftotal.sum( axis=1)\n",
    "\n",
    "dftotal"
   ]
  },
  {
   "cell_type": "raw",
   "metadata": {},
   "source": [
    "exp_pokemons1 =[]\n",
    "for pokemon in page.findAll('div', {'class': 'grid-col span-md-12 span-lg-10'}) :\n",
    "    for i in pokemon.findChildren('div',{'class':'resp-scroll'}):\n",
    "        for x in i.findChildren('td',{'class':'cell-total'}):\n",
    "            print(x)\n",
    "            expression = re.compile(\"([0-9]?[0-9]?[0-9])\")\n",
    "            res = expression.findall(str(x))\n",
    "\n",
    "            exp_pokemons1.append(res)\n",
    "exp_pokemons1 "
   ]
  },
  {
   "cell_type": "raw",
   "metadata": {},
   "source": [
    "url_pokémons = urllib.request.Request('http://pokemondb.net/pokedex/national',\n",
    "                             headers={'User-Agent': 'Mozilla/5.0'})\n",
    "html = urllib.request.urlopen(url_pokémons).read()\n",
    "\n",
    "\n",
    "\n",
    "import urllib\n",
    "import bs4\n",
    "\n",
    "# Etape 1 : se connecter à la page wikipedia et obtenir le code source\n",
    "\n",
    "url_total = urllib.request.Request(\"https://pokemondb.net/pokedex/all\",\n",
    "                                   headers={'User-Agent': 'Mozilla/5.0'})\n",
    "request_text2 = urllib.request.urlopen(url_total).read()\n",
    "    \n",
    "from urllib import request\n",
    "\n",
    "\n",
    "print(request_text2[:1000])  "
   ]
  },
  {
   "cell_type": "raw",
   "metadata": {},
   "source": [
    "# Etape 2 : utiliser le package BeautifulSoup\n",
    "# qui \"comprend\" les balises contenues dans la chaine de caractères renvoyée par la fonction request\n",
    "\n",
    "page2 = bs4.BeautifulSoup(request_text2, \"lxml\")\n",
    "\n",
    "\n",
    "#print(page2)"
   ]
  },
  {
   "cell_type": "raw",
   "metadata": {},
   "source": [
    "#### condition sur les éléments que doit avoir la ligne >>>> BIEN \n",
    "for item in page.find('table', {'class' : 'sortwrap'}).findAll({'a'})[0:5] : \n",
    "    if item.get(\"title\") :\n",
    "        print(item)"
   ]
  },
  {
   "cell_type": "markdown",
   "metadata": {},
   "source": [
    "2) Nous aimerions que vous récupériez également les images de chacun des pokémons et que vous les enregistriez dans un dossier  (indice : utilisez les modules request et [shutil](https://docs.python.org/3/library/shutil.html))\n",
    "_pour cette question ci, il faut que vous cherchiez de vous même certains éléments, tout n'est pas présent dans le TD_."
   ]
  },
  {
   "cell_type": "code",
   "execution_count": 65,
   "metadata": {},
   "outputs": [
    {
     "name": "stdout",
     "output_type": "stream",
     "text": [
      "0 bulbasaur\n",
      "1 ivysaur\n",
      "2 venusaur\n",
      "3 charmander\n",
      "4 charmeleon\n",
      "5 charizard\n",
      "6 squirtle\n",
      "7 wartortle\n",
      "8 blastoise\n",
      "9 caterpie\n",
      "10 metapod\n",
      "11 butterfree\n",
      "12 weedle\n",
      "13 kakuna\n",
      "14 beedrill\n",
      "15 pidgey\n",
      "16 pidgeotto\n",
      "17 pidgeot\n",
      "18 rattata\n",
      "19 raticate\n",
      "20 spearow\n",
      "21 fearow\n",
      "22 ekans\n",
      "23 arbok\n",
      "24 pikachu\n",
      "25 raichu\n",
      "26 sandshrew\n",
      "27 sandslash\n",
      "28 nidoran-f\n",
      "29 nidorina\n",
      "30 nidoqueen\n",
      "31 nidoran-m\n",
      "32 nidorino\n",
      "33 nidoking\n",
      "34 clefairy\n",
      "35 clefable\n",
      "36 vulpix\n",
      "37 ninetales\n",
      "38 jigglypuff\n",
      "39 wigglytuff\n",
      "40 zubat\n",
      "41 golbat\n",
      "42 oddish\n",
      "43 gloom\n",
      "44 vileplume\n",
      "45 paras\n",
      "46 parasect\n",
      "47 venonat\n",
      "48 venomoth\n",
      "49 diglett\n",
      "50 dugtrio\n",
      "51 meowth\n",
      "52 persian\n",
      "53 psyduck\n",
      "54 golduck\n",
      "55 mankey\n",
      "56 primeape\n",
      "57 growlithe\n",
      "58 arcanine\n",
      "59 poliwag\n",
      "60 poliwhirl\n",
      "61 poliwrath\n",
      "62 abra\n",
      "63 kadabra\n",
      "64 alakazam\n",
      "65 machop\n",
      "66 machoke\n",
      "67 machamp\n",
      "68 bellsprout\n",
      "69 weepinbell\n",
      "70 victreebel\n",
      "71 tentacool\n",
      "72 tentacruel\n",
      "73 geodude\n",
      "74 graveler\n",
      "75 golem\n",
      "76 ponyta\n",
      "77 rapidash\n",
      "78 slowpoke\n",
      "79 slowbro\n",
      "80 magnemite\n",
      "81 magneton\n",
      "82 farfetchd\n",
      "83 doduo\n",
      "84 dodrio\n",
      "85 seel\n",
      "86 dewgong\n",
      "87 grimer\n",
      "88 muk\n",
      "89 shellder\n",
      "90 cloyster\n",
      "91 gastly\n",
      "92 haunter\n",
      "93 gengar\n",
      "94 onix\n",
      "95 drowzee\n",
      "96 hypno\n",
      "97 krabby\n",
      "98 kingler\n",
      "99 voltorb\n",
      "100 electrode\n",
      "101 exeggcute\n"
     ]
    }
   ],
   "source": [
    "import shutil\n",
    "import requests\n",
    "\n",
    "\n",
    "for e, pokemon in enumerate(liste_pokemon) :\n",
    "    print(e,pokemon)\n",
    "    url = \"https://img.pokemondb.net/artwork/{}.jpg\".format(pokemon)\n",
    "    response = requests.get(url, stream=True)\n",
    "    # avec l'option stream, on ne télécharge pas l'objet de l'url\n",
    "    with open('{}.jpg'.format(pokemon), 'wb') as out_file:\n",
    "        shutil.copyfileobj(response.raw, out_file)\n",
    "    if e > 100:\n",
    "        break"
   ]
  },
  {
   "cell_type": "code",
   "execution_count": 66,
   "metadata": {},
   "outputs": [
    {
     "data": {
      "text/plain": [
       "['abra.jpg',\n",
       " 'alakazam.jpg',\n",
       " 'arbok.jpg',\n",
       " 'arcanine.jpg',\n",
       " 'beedrill.jpg',\n",
       " 'bellsprout.jpg',\n",
       " 'blastoise.jpg',\n",
       " 'bulbasaur.jpg',\n",
       " 'butterfree.jpg',\n",
       " 'caterpie.jpg',\n",
       " 'charizard.jpg',\n",
       " 'charmander.jpg',\n",
       " 'charmeleon.jpg',\n",
       " 'clefable.jpg',\n",
       " 'clefairy.jpg',\n",
       " 'cloyster.jpg',\n",
       " 'dewgong.jpg',\n",
       " 'diglett.jpg',\n",
       " 'dodrio.jpg',\n",
       " 'doduo.jpg',\n",
       " 'drowzee.jpg',\n",
       " 'dugtrio.jpg',\n",
       " 'ekans.jpg',\n",
       " 'electrode.jpg',\n",
       " 'exeggcute.jpg',\n",
       " 'farfetchd.jpg',\n",
       " 'fearow.jpg',\n",
       " 'gastly.jpg',\n",
       " 'gengar.jpg',\n",
       " 'geodude.jpg',\n",
       " 'gloom.jpg',\n",
       " 'golbat.jpg',\n",
       " 'golduck.jpg',\n",
       " 'golem.jpg',\n",
       " 'graveler.jpg',\n",
       " 'grimer.jpg',\n",
       " 'growlithe.jpg',\n",
       " 'haunter.jpg',\n",
       " 'hypno.jpg',\n",
       " 'ivysaur.jpg',\n",
       " 'jigglypuff.jpg',\n",
       " 'kadabra.jpg',\n",
       " 'kakuna.jpg',\n",
       " 'kingler.jpg',\n",
       " 'krabby.jpg',\n",
       " 'machamp.jpg',\n",
       " 'machoke.jpg',\n",
       " 'machop.jpg',\n",
       " 'magnemite.jpg',\n",
       " 'magneton.jpg',\n",
       " 'mankey.jpg',\n",
       " 'meowth.jpg',\n",
       " 'metapod.jpg',\n",
       " 'muk.jpg',\n",
       " 'nidoking.jpg',\n",
       " 'nidoqueen.jpg',\n",
       " 'nidoran-f.jpg',\n",
       " 'nidoran-m.jpg',\n",
       " 'nidorina.jpg',\n",
       " 'nidorino.jpg',\n",
       " 'ninetales.jpg',\n",
       " 'oddish.jpg',\n",
       " 'onix.jpg',\n",
       " 'paras.jpg',\n",
       " 'parasect.jpg',\n",
       " 'persian.jpg',\n",
       " 'pidgeot.jpg',\n",
       " 'pidgeotto.jpg',\n",
       " 'pidgey.jpg',\n",
       " 'pikachu.jpg',\n",
       " 'poliwag.jpg',\n",
       " 'poliwhirl.jpg',\n",
       " 'poliwrath.jpg',\n",
       " 'ponyta.jpg',\n",
       " 'primeape.jpg',\n",
       " 'psyduck.jpg',\n",
       " 'raichu.jpg',\n",
       " 'rapidash.jpg',\n",
       " 'raticate.jpg',\n",
       " 'rattata.jpg',\n",
       " 'sandshrew.jpg',\n",
       " 'sandslash.jpg',\n",
       " 'seel.jpg',\n",
       " 'shellder.jpg',\n",
       " 'slowbro.jpg',\n",
       " 'slowpoke.jpg',\n",
       " 'spearow.jpg',\n",
       " 'squirtle.jpg',\n",
       " 'tentacool.jpg',\n",
       " 'tentacruel.jpg',\n",
       " 'venomoth.jpg',\n",
       " 'venonat.jpg',\n",
       " 'venusaur.jpg',\n",
       " 'victreebel.jpg',\n",
       " 'vileplume.jpg',\n",
       " 'voltorb.jpg',\n",
       " 'vulpix.jpg',\n",
       " 'wartortle.jpg',\n",
       " 'weedle.jpg',\n",
       " 'weepinbell.jpg']"
      ]
     },
     "execution_count": 66,
     "metadata": {},
     "output_type": "execute_result"
    }
   ],
   "source": [
    "import os\n",
    "names = [name for name in os.listdir('.') if '.jpg' in name]\n",
    "names[:100]"
   ]
  },
  {
   "cell_type": "code",
   "execution_count": 74,
   "metadata": {},
   "outputs": [
    {
     "data": {
      "image/png": "[encoded data removed]",
      "text/plain": [
       "<Figure size 864x288 with 3 Axes>"
      ]
     },
     "metadata": {
      "needs_background": "light"
     },
     "output_type": "display_data"
    }
   ],
   "source": [
    "import matplotlib.pyplot as plt\n",
    "import skimage.io as imio\n",
    "\n",
    "fig, ax = plt.subplots(1, 3, figsize=(12,4))\n",
    "for i, name in enumerate(names[:ax.shape[0]]):\n",
    "    img = imio.imread(name)\n",
    "    ax[i].imshow(img)\n",
    "    ax[i].get_xaxis().set_visible(False)\n",
    "    ax[i].get_yaxis().set_visible(False)"
   ]
  },
  {
   "cell_type": "code",
   "execution_count": null,
   "metadata": {},
   "outputs": [],
   "source": []
  }
 ],
 "metadata": {
  "colab": {
   "name": "td2a_eco_Travailler_du_texte_les_expressions_regulieres.ipynb",
   "provenance": [],
   "toc_visible": true
  },
  "kernelspec": {
   "display_name": "Python 3",
   "language": "python",
   "name": "python3"
  },
  "language_info": {
   "codemirror_mode": {
    "name": "ipython",
    "version": 3
   },
   "file_extension": ".py",
   "mimetype": "text/x-python",
   "name": "python",
   "nbconvert_exporter": "python",
   "pygments_lexer": "ipython3",
   "version": "3.7.4"
  }
 },
 "nbformat": 4,
 "nbformat_minor": 4
}
